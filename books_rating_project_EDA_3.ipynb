{
 "cells": [
  {
   "cell_type": "code",
   "execution_count": 1,
   "id": "497959b0",
   "metadata": {},
   "outputs": [],
   "source": [
    "import os\n",
    "import pandas as pd\n",
    "import numpy as np\n",
    "import math"
   ]
  },
  {
   "cell_type": "code",
   "execution_count": 17,
   "id": "c488a310",
   "metadata": {},
   "outputs": [],
   "source": [
    "from sklearn.model_selection import train_test_split\n",
    "from sklearn.linear_model import LogisticRegression\n",
    "\n",
    "from sklearn.metrics import multilabel_confusion_matrix"
   ]
  },
  {
   "cell_type": "code",
   "execution_count": 18,
   "id": "36550cf4",
   "metadata": {},
   "outputs": [],
   "source": [
    "import matplotlib.pyplot as plt\n",
    "from sklearn.metrics import ConfusionMatrixDisplay\n",
    "from sklearn.ensemble import RandomForestClassifier"
   ]
  },
  {
   "cell_type": "code",
   "execution_count": null,
   "id": "b3ec15e0",
   "metadata": {},
   "outputs": [],
   "source": [
    "from sklearn.ensemble import RandomForestRegressor"
   ]
  },
  {
   "cell_type": "code",
   "execution_count": null,
   "id": "897ddc43",
   "metadata": {},
   "outputs": [],
   "source": []
  },
  {
   "cell_type": "code",
   "execution_count": 19,
   "id": "00ec122f",
   "metadata": {},
   "outputs": [],
   "source": [
    "from sklearn.model_selection import cross_val_score"
   ]
  },
  {
   "cell_type": "code",
   "execution_count": null,
   "id": "d0b5b1dc",
   "metadata": {},
   "outputs": [],
   "source": [
    "from sklearn.feature_extraction.text import HashingVectorizer"
   ]
  },
  {
   "cell_type": "code",
   "execution_count": null,
   "id": "b84e0637",
   "metadata": {},
   "outputs": [],
   "source": [
    "from sklearn.metrics import precision_recall_fscore_support"
   ]
  },
  {
   "cell_type": "markdown",
   "id": "7b35e86a",
   "metadata": {},
   "source": [
    "###### List of files in the project directory for future reference"
   ]
  },
  {
   "cell_type": "code",
   "execution_count": 2,
   "id": "5269f546",
   "metadata": {},
   "outputs": [
    {
     "data": {
      "text/plain": [
       "['.DS_Store',\n",
       " '.git',\n",
       " '.github',\n",
       " '.ipynb_checkpoints',\n",
       " 'Books_ratings_R_version',\n",
       " 'books_rating_project_EDA_3.ipynb',\n",
       " 'books_rating_project_EDA_Cleaning_1.ipynb',\n",
       " 'books_rating_project_EDA_Cleaning_2.ipynb',\n",
       " 'data',\n",
       " 'Project_Description_ML_2023.docx.pdf',\n",
       " 'Python_labs_project.ipynb',\n",
       " 'README.md',\n",
       " 'requirements.txt']"
      ]
     },
     "execution_count": 2,
     "metadata": {},
     "output_type": "execute_result"
    }
   ],
   "source": [
    "os.listdir()"
   ]
  },
  {
   "cell_type": "markdown",
   "id": "1d30e7cb",
   "metadata": {},
   "source": [
    "###### Data is kept seprate from the main project folder. Listing the data files that are available"
   ]
  },
  {
   "cell_type": "code",
   "execution_count": 3,
   "id": "49fa4b78",
   "metadata": {},
   "outputs": [
    {
     "data": {
      "text/plain": [
       "['books.csv',\n",
       " 'cleaned_books.csv',\n",
       " 'uncleaned_books.csv',\n",
       " 'uncleaned_books.csv_bad_lines.txt',\n",
       " 'working_books.csv']"
      ]
     },
     "execution_count": 3,
     "metadata": {},
     "output_type": "execute_result"
    }
   ],
   "source": [
    "os.listdir('data')"
   ]
  },
  {
   "cell_type": "markdown",
   "id": "b3421b88",
   "metadata": {},
   "source": [
    "###### For this part of the project, we will be working with the cleaned_books.csv (cleaned in earlier notebooks Cleaning 1 and 2. Future suggestions for cleaning will be updated in EDA_cleaning files so that the final working copy will always be cleaned_books.csv"
   ]
  },
  {
   "cell_type": "code",
   "execution_count": 5,
   "id": "b4390985",
   "metadata": {},
   "outputs": [],
   "source": [
    "folder = 'data/'\n",
    "f_ratings = 'cleaned_books.csv'\n",
    "ratings_path = folder + f_ratings"
   ]
  },
  {
   "cell_type": "code",
   "execution_count": 6,
   "id": "eccf3fe2",
   "metadata": {},
   "outputs": [],
   "source": [
    "###### Note to self: potentially use this as a further cleaning file and end with a cleaner \n",
    "###### file of actual feature to be used in the model"
   ]
  },
  {
   "cell_type": "code",
   "execution_count": 7,
   "id": "6ed5c9ac",
   "metadata": {},
   "outputs": [
    {
     "data": {
      "text/html": [
       "<div>\n",
       "<style scoped>\n",
       "    .dataframe tbody tr th:only-of-type {\n",
       "        vertical-align: middle;\n",
       "    }\n",
       "\n",
       "    .dataframe tbody tr th {\n",
       "        vertical-align: top;\n",
       "    }\n",
       "\n",
       "    .dataframe thead th {\n",
       "        text-align: right;\n",
       "    }\n",
       "</style>\n",
       "<table border=\"1\" class=\"dataframe\">\n",
       "  <thead>\n",
       "    <tr style=\"text-align: right;\">\n",
       "      <th></th>\n",
       "      <th>bookID</th>\n",
       "      <th>title</th>\n",
       "      <th>authors</th>\n",
       "      <th>isbn</th>\n",
       "      <th>isbn13</th>\n",
       "      <th>language_code</th>\n",
       "      <th>num_pages</th>\n",
       "      <th>ratings_count</th>\n",
       "      <th>text_reviews_count</th>\n",
       "      <th>publication_date</th>\n",
       "      <th>publisher</th>\n",
       "      <th>average_rating</th>\n",
       "    </tr>\n",
       "  </thead>\n",
       "  <tbody>\n",
       "    <tr>\n",
       "      <th>0</th>\n",
       "      <td>1</td>\n",
       "      <td>Harry Potter and the Half-Blood Prince (Harry ...</td>\n",
       "      <td>J.K. Rowling/Mary GrandPré</td>\n",
       "      <td>0439785960</td>\n",
       "      <td>9780439785969</td>\n",
       "      <td>eng</td>\n",
       "      <td>652</td>\n",
       "      <td>2095690</td>\n",
       "      <td>27591</td>\n",
       "      <td>2006-09-16</td>\n",
       "      <td>Scholastic Inc.</td>\n",
       "      <td>4.57</td>\n",
       "    </tr>\n",
       "    <tr>\n",
       "      <th>1</th>\n",
       "      <td>2</td>\n",
       "      <td>Harry Potter and the Order of the Phoenix (Har...</td>\n",
       "      <td>J.K. Rowling/Mary GrandPré</td>\n",
       "      <td>0439358078</td>\n",
       "      <td>9780439358071</td>\n",
       "      <td>eng</td>\n",
       "      <td>870</td>\n",
       "      <td>2153167</td>\n",
       "      <td>29221</td>\n",
       "      <td>2004-09-01</td>\n",
       "      <td>Scholastic Inc.</td>\n",
       "      <td>4.49</td>\n",
       "    </tr>\n",
       "    <tr>\n",
       "      <th>2</th>\n",
       "      <td>4</td>\n",
       "      <td>Harry Potter and the Chamber of Secrets (Harry...</td>\n",
       "      <td>J.K. Rowling</td>\n",
       "      <td>0439554896</td>\n",
       "      <td>9780439554893</td>\n",
       "      <td>eng</td>\n",
       "      <td>352</td>\n",
       "      <td>6333</td>\n",
       "      <td>244</td>\n",
       "      <td>2003-11-01</td>\n",
       "      <td>Scholastic</td>\n",
       "      <td>4.42</td>\n",
       "    </tr>\n",
       "    <tr>\n",
       "      <th>3</th>\n",
       "      <td>5</td>\n",
       "      <td>Harry Potter and the Prisoner of Azkaban (Harr...</td>\n",
       "      <td>J.K. Rowling/Mary GrandPré</td>\n",
       "      <td>043965548X</td>\n",
       "      <td>9780439655484</td>\n",
       "      <td>eng</td>\n",
       "      <td>435</td>\n",
       "      <td>2339585</td>\n",
       "      <td>36325</td>\n",
       "      <td>2004-05-01</td>\n",
       "      <td>Scholastic Inc.</td>\n",
       "      <td>4.56</td>\n",
       "    </tr>\n",
       "    <tr>\n",
       "      <th>4</th>\n",
       "      <td>8</td>\n",
       "      <td>Harry Potter Boxed Set  Books 1-5 (Harry Potte...</td>\n",
       "      <td>J.K. Rowling/Mary GrandPré</td>\n",
       "      <td>0439682584</td>\n",
       "      <td>9780439682589</td>\n",
       "      <td>eng</td>\n",
       "      <td>2690</td>\n",
       "      <td>41428</td>\n",
       "      <td>164</td>\n",
       "      <td>2004-09-13</td>\n",
       "      <td>Scholastic</td>\n",
       "      <td>4.78</td>\n",
       "    </tr>\n",
       "  </tbody>\n",
       "</table>\n",
       "</div>"
      ],
      "text/plain": [
       "   bookID                                              title  \\\n",
       "0       1  Harry Potter and the Half-Blood Prince (Harry ...   \n",
       "1       2  Harry Potter and the Order of the Phoenix (Har...   \n",
       "2       4  Harry Potter and the Chamber of Secrets (Harry...   \n",
       "3       5  Harry Potter and the Prisoner of Azkaban (Harr...   \n",
       "4       8  Harry Potter Boxed Set  Books 1-5 (Harry Potte...   \n",
       "\n",
       "                      authors        isbn         isbn13 language_code  \\\n",
       "0  J.K. Rowling/Mary GrandPré  0439785960  9780439785969           eng   \n",
       "1  J.K. Rowling/Mary GrandPré  0439358078  9780439358071           eng   \n",
       "2                J.K. Rowling  0439554896  9780439554893           eng   \n",
       "3  J.K. Rowling/Mary GrandPré  043965548X  9780439655484           eng   \n",
       "4  J.K. Rowling/Mary GrandPré  0439682584  9780439682589           eng   \n",
       "\n",
       "     num_pages  ratings_count  text_reviews_count publication_date  \\\n",
       "0          652        2095690               27591       2006-09-16   \n",
       "1          870        2153167               29221       2004-09-01   \n",
       "2          352           6333                 244       2003-11-01   \n",
       "3          435        2339585               36325       2004-05-01   \n",
       "4         2690          41428                 164       2004-09-13   \n",
       "\n",
       "         publisher  average_rating  \n",
       "0  Scholastic Inc.            4.57  \n",
       "1  Scholastic Inc.            4.49  \n",
       "2       Scholastic            4.42  \n",
       "3  Scholastic Inc.            4.56  \n",
       "4       Scholastic            4.78  "
      ]
     },
     "execution_count": 7,
     "metadata": {},
     "output_type": "execute_result"
    }
   ],
   "source": [
    "df_ratings = pd.read_csv(ratings_path)\n",
    "df_ratings.head()"
   ]
  },
  {
   "cell_type": "markdown",
   "id": "66c8e084",
   "metadata": {},
   "source": [
    "###### Looking at the columns and looking ahead, we can safely guess we can drop the bookID column from consideration as a feature. We might be able to do something interesting with the title, if we were to do some extra nlp processing on the title, but that is beyond the scope of this iteration of the project. We might be able to make use of the author(s). There is currently some debate as to what affect the author of the book will have on the rating. isbn and isbn13 at first glance do not provide any information and will not be used in the current inquiry (as a side note, if we were to take the time to parse the isbn numbers, they actually provide interesting infromation such as the publisher, langauge published in, issuing agengy of the publication code, etc. but, much like the NLP work needed to parse the title, the parsing of isbn codes is beyond the scope of the current project. We might be able to do some work with language, ratings_count and text_reviews count and will be keeping those for the time being. publication date code be an interesting feature, but we would need more information (such as snapshots in time from publication date, whether a book is a reprint of a classic, if a new introduction from another author boosted popularity and therefore perception and sentiment, etc) so we will not be working with publication date during this project. Publisher could have something to do with average rating (again thinking along the lines of how marketing affects percepton of a book, or the cover of a book, etc)\n"
   ]
  },
  {
   "cell_type": "code",
   "execution_count": 15,
   "id": "86fc7b1b",
   "metadata": {},
   "outputs": [
    {
     "data": {
      "text/plain": [
       "['bookID',\n",
       " 'title',\n",
       " 'authors',\n",
       " 'isbn',\n",
       " 'isbn13',\n",
       " 'language_code',\n",
       " '  num_pages',\n",
       " 'ratings_count',\n",
       " 'text_reviews_count',\n",
       " 'publication_date',\n",
       " 'publisher',\n",
       " 'average_rating']"
      ]
     },
     "execution_count": 15,
     "metadata": {},
     "output_type": "execute_result"
    }
   ],
   "source": [
    "###### Giving a list of the columns as they appear, both as a nice visual, and because sometimes, showing the list will actually\n",
    "###### show hidden spaces in column names that might cause problems later *** note to self-clean up column names in future\n",
    "###### iterations of EDA data cleaning\n",
    "list(df_ratings.columns)"
   ]
  },
  {
   "cell_type": "code",
   "execution_count": 16,
   "id": "8aa2bab1",
   "metadata": {},
   "outputs": [],
   "source": [
    "####### Creating a variable to store our working columns. Tried the difference trick used below, but it changed the \n",
    "####### ordering of the columns\n",
    "keep_cols = ['authors', 'language_code', '  num_pages', 'ratings_count', 'text_reviews_count', 'publisher', 'average_rating']"
   ]
  },
  {
   "cell_type": "code",
   "execution_count": 17,
   "id": "89fc4576",
   "metadata": {},
   "outputs": [
    {
     "data": {
      "text/html": [
       "<div>\n",
       "<style scoped>\n",
       "    .dataframe tbody tr th:only-of-type {\n",
       "        vertical-align: middle;\n",
       "    }\n",
       "\n",
       "    .dataframe tbody tr th {\n",
       "        vertical-align: top;\n",
       "    }\n",
       "\n",
       "    .dataframe thead th {\n",
       "        text-align: right;\n",
       "    }\n",
       "</style>\n",
       "<table border=\"1\" class=\"dataframe\">\n",
       "  <thead>\n",
       "    <tr style=\"text-align: right;\">\n",
       "      <th></th>\n",
       "      <th>authors</th>\n",
       "      <th>language_code</th>\n",
       "      <th>num_pages</th>\n",
       "      <th>ratings_count</th>\n",
       "      <th>text_reviews_count</th>\n",
       "      <th>publisher</th>\n",
       "      <th>average_rating</th>\n",
       "    </tr>\n",
       "  </thead>\n",
       "  <tbody>\n",
       "    <tr>\n",
       "      <th>0</th>\n",
       "      <td>J.K. Rowling/Mary GrandPré</td>\n",
       "      <td>eng</td>\n",
       "      <td>652</td>\n",
       "      <td>2095690</td>\n",
       "      <td>27591</td>\n",
       "      <td>Scholastic Inc.</td>\n",
       "      <td>4.57</td>\n",
       "    </tr>\n",
       "    <tr>\n",
       "      <th>1</th>\n",
       "      <td>J.K. Rowling/Mary GrandPré</td>\n",
       "      <td>eng</td>\n",
       "      <td>870</td>\n",
       "      <td>2153167</td>\n",
       "      <td>29221</td>\n",
       "      <td>Scholastic Inc.</td>\n",
       "      <td>4.49</td>\n",
       "    </tr>\n",
       "    <tr>\n",
       "      <th>2</th>\n",
       "      <td>J.K. Rowling</td>\n",
       "      <td>eng</td>\n",
       "      <td>352</td>\n",
       "      <td>6333</td>\n",
       "      <td>244</td>\n",
       "      <td>Scholastic</td>\n",
       "      <td>4.42</td>\n",
       "    </tr>\n",
       "    <tr>\n",
       "      <th>3</th>\n",
       "      <td>J.K. Rowling/Mary GrandPré</td>\n",
       "      <td>eng</td>\n",
       "      <td>435</td>\n",
       "      <td>2339585</td>\n",
       "      <td>36325</td>\n",
       "      <td>Scholastic Inc.</td>\n",
       "      <td>4.56</td>\n",
       "    </tr>\n",
       "    <tr>\n",
       "      <th>4</th>\n",
       "      <td>J.K. Rowling/Mary GrandPré</td>\n",
       "      <td>eng</td>\n",
       "      <td>2690</td>\n",
       "      <td>41428</td>\n",
       "      <td>164</td>\n",
       "      <td>Scholastic</td>\n",
       "      <td>4.78</td>\n",
       "    </tr>\n",
       "  </tbody>\n",
       "</table>\n",
       "</div>"
      ],
      "text/plain": [
       "                      authors language_code    num_pages  ratings_count  \\\n",
       "0  J.K. Rowling/Mary GrandPré           eng          652        2095690   \n",
       "1  J.K. Rowling/Mary GrandPré           eng          870        2153167   \n",
       "2                J.K. Rowling           eng          352           6333   \n",
       "3  J.K. Rowling/Mary GrandPré           eng          435        2339585   \n",
       "4  J.K. Rowling/Mary GrandPré           eng         2690          41428   \n",
       "\n",
       "   text_reviews_count        publisher  average_rating  \n",
       "0               27591  Scholastic Inc.            4.57  \n",
       "1               29221  Scholastic Inc.            4.49  \n",
       "2                 244       Scholastic            4.42  \n",
       "3               36325  Scholastic Inc.            4.56  \n",
       "4                 164       Scholastic            4.78  "
      ]
     },
     "execution_count": 17,
     "metadata": {},
     "output_type": "execute_result"
    }
   ],
   "source": [
    "df_ratings_keep = df_ratings[keep_cols]\n",
    "df_ratings_keep.head()"
   ]
  },
  {
   "cell_type": "code",
   "execution_count": 10,
   "id": "4d3ad7d9",
   "metadata": {},
   "outputs": [],
   "source": [
    "def round_to_increment_25(number):\n",
    "    '''Return the string version of the target rounded in .25% increments'''\n",
    "    rounded_number = round(number / 0.25) * 0.25\n",
    "    if 1 <= rounded_number <= 5:\n",
    "        return str(rounded_number)\n",
    "    else:\n",
    "        if rounded_number > 5:\n",
    "            return str(5.0)\n",
    "        else:\n",
    "            return str(0)"
   ]
  },
  {
   "cell_type": "code",
   "execution_count": 18,
   "id": "5bcafb07",
   "metadata": {},
   "outputs": [],
   "source": [
    "def round_to_increment_5(number):\n",
    "    '''Return the string version of the target rounded in .5% increments'''\n",
    "    rounded_number = round(number / 0.5) * 0.5\n",
    "    if 1 <= rounded_number <= 5:\n",
    "        return str(rounded_number)\n",
    "    else:\n",
    "        if rounded_number > 5:\n",
    "            return str(5.0)\n",
    "        else:\n",
    "            return str(0)\n",
    "        \n",
    "#### ***Note to self: consider changing these functions to return as floats, and then use astype to change to strings to more\n",
    "####    easily switch between log reg problem to classification problem"
   ]
  },
  {
   "cell_type": "code",
   "execution_count": 15,
   "id": "a8c8d671",
   "metadata": {},
   "outputs": [
    {
     "name": "stderr",
     "output_type": "stream",
     "text": [
      "C:\\Users\\joesa\\AppData\\Local\\Temp\\ipykernel_28060\\1862204744.py:1: SettingWithCopyWarning: \n",
      "A value is trying to be set on a copy of a slice from a DataFrame.\n",
      "Try using .loc[row_indexer,col_indexer] = value instead\n",
      "\n",
      "See the caveats in the documentation: https://pandas.pydata.org/pandas-docs/stable/user_guide/indexing.html#returning-a-view-versus-a-copy\n",
      "  df_ratings_keep['target_1'] = df_ratings_keep['average_rating'].round(decimals=1)\n"
     ]
    }
   ],
   "source": [
    "df_ratings_keep['target_1'] = df_ratings_keep['average_rating'].round(decimals=1)"
   ]
  },
  {
   "cell_type": "code",
   "execution_count": 12,
   "id": "e4b8baa2",
   "metadata": {},
   "outputs": [
    {
     "name": "stderr",
     "output_type": "stream",
     "text": [
      "C:\\Users\\joesa\\AppData\\Local\\Temp\\ipykernel_28060\\957174791.py:1: SettingWithCopyWarning: \n",
      "A value is trying to be set on a copy of a slice from a DataFrame.\n",
      "Try using .loc[row_indexer,col_indexer] = value instead\n",
      "\n",
      "See the caveats in the documentation: https://pandas.pydata.org/pandas-docs/stable/user_guide/indexing.html#returning-a-view-versus-a-copy\n",
      "  df_ratings_keep['target_buckets_25'] = df_ratings_keep['average_rating'].apply(round_to_increment_25)\n"
     ]
    }
   ],
   "source": [
    "df_ratings_keep['target_buckets_25'] = df_ratings_keep['average_rating'].apply(round_to_increment_25)"
   ]
  },
  {
   "cell_type": "code",
   "execution_count": 13,
   "id": "d4f4da87",
   "metadata": {},
   "outputs": [
    {
     "name": "stderr",
     "output_type": "stream",
     "text": [
      "C:\\Users\\joesa\\AppData\\Local\\Temp\\ipykernel_28060\\2907294488.py:1: SettingWithCopyWarning: \n",
      "A value is trying to be set on a copy of a slice from a DataFrame.\n",
      "Try using .loc[row_indexer,col_indexer] = value instead\n",
      "\n",
      "See the caveats in the documentation: https://pandas.pydata.org/pandas-docs/stable/user_guide/indexing.html#returning-a-view-versus-a-copy\n",
      "  df_ratings_keep['target_buckets_5'] = df_ratings_keep['average_rating'].apply(round_to_increment_5)\n"
     ]
    }
   ],
   "source": [
    "df_ratings_keep['target_buckets_5'] = df_ratings_keep['average_rating'].apply(round_to_increment_5)"
   ]
  },
  {
   "cell_type": "code",
   "execution_count": 14,
   "id": "a2b6083f",
   "metadata": {},
   "outputs": [
    {
     "name": "stderr",
     "output_type": "stream",
     "text": [
      "C:\\Users\\joesa\\AppData\\Local\\Temp\\ipykernel_28060\\2535471935.py:1: SettingWithCopyWarning: \n",
      "A value is trying to be set on a copy of a slice from a DataFrame.\n",
      "Try using .loc[row_indexer,col_indexer] = value instead\n",
      "\n",
      "See the caveats in the documentation: https://pandas.pydata.org/pandas-docs/stable/user_guide/indexing.html#returning-a-view-versus-a-copy\n",
      "  df_ratings_keep['target_whole'] = df_ratings_keep['average_rating'].round(decimals=0)\n"
     ]
    }
   ],
   "source": [
    "df_ratings_keep['target_whole'] = df_ratings_keep['average_rating'].round(decimals=0)"
   ]
  },
  {
   "cell_type": "code",
   "execution_count": 16,
   "id": "6e32a4f0",
   "metadata": {},
   "outputs": [
    {
     "data": {
      "text/html": [
       "<div>\n",
       "<style scoped>\n",
       "    .dataframe tbody tr th:only-of-type {\n",
       "        vertical-align: middle;\n",
       "    }\n",
       "\n",
       "    .dataframe tbody tr th {\n",
       "        vertical-align: top;\n",
       "    }\n",
       "\n",
       "    .dataframe thead th {\n",
       "        text-align: right;\n",
       "    }\n",
       "</style>\n",
       "<table border=\"1\" class=\"dataframe\">\n",
       "  <thead>\n",
       "    <tr style=\"text-align: right;\">\n",
       "      <th></th>\n",
       "      <th>authors</th>\n",
       "      <th>language_code</th>\n",
       "      <th>num_pages</th>\n",
       "      <th>ratings_count</th>\n",
       "      <th>text_reviews_count</th>\n",
       "      <th>publisher</th>\n",
       "      <th>average_rating</th>\n",
       "      <th>target_buckets_25</th>\n",
       "      <th>target_buckets_5</th>\n",
       "      <th>target_whole</th>\n",
       "      <th>target_1</th>\n",
       "    </tr>\n",
       "  </thead>\n",
       "  <tbody>\n",
       "    <tr>\n",
       "      <th>0</th>\n",
       "      <td>J.K. Rowling/Mary GrandPré</td>\n",
       "      <td>eng</td>\n",
       "      <td>652</td>\n",
       "      <td>2095690</td>\n",
       "      <td>27591</td>\n",
       "      <td>Scholastic Inc.</td>\n",
       "      <td>4.57</td>\n",
       "      <td>4.5</td>\n",
       "      <td>4.5</td>\n",
       "      <td>5.0</td>\n",
       "      <td>4.6</td>\n",
       "    </tr>\n",
       "    <tr>\n",
       "      <th>1</th>\n",
       "      <td>J.K. Rowling/Mary GrandPré</td>\n",
       "      <td>eng</td>\n",
       "      <td>870</td>\n",
       "      <td>2153167</td>\n",
       "      <td>29221</td>\n",
       "      <td>Scholastic Inc.</td>\n",
       "      <td>4.49</td>\n",
       "      <td>4.5</td>\n",
       "      <td>4.5</td>\n",
       "      <td>4.0</td>\n",
       "      <td>4.5</td>\n",
       "    </tr>\n",
       "    <tr>\n",
       "      <th>2</th>\n",
       "      <td>J.K. Rowling</td>\n",
       "      <td>eng</td>\n",
       "      <td>352</td>\n",
       "      <td>6333</td>\n",
       "      <td>244</td>\n",
       "      <td>Scholastic</td>\n",
       "      <td>4.42</td>\n",
       "      <td>4.5</td>\n",
       "      <td>4.5</td>\n",
       "      <td>4.0</td>\n",
       "      <td>4.4</td>\n",
       "    </tr>\n",
       "    <tr>\n",
       "      <th>3</th>\n",
       "      <td>J.K. Rowling/Mary GrandPré</td>\n",
       "      <td>eng</td>\n",
       "      <td>435</td>\n",
       "      <td>2339585</td>\n",
       "      <td>36325</td>\n",
       "      <td>Scholastic Inc.</td>\n",
       "      <td>4.56</td>\n",
       "      <td>4.5</td>\n",
       "      <td>4.5</td>\n",
       "      <td>5.0</td>\n",
       "      <td>4.6</td>\n",
       "    </tr>\n",
       "    <tr>\n",
       "      <th>4</th>\n",
       "      <td>J.K. Rowling/Mary GrandPré</td>\n",
       "      <td>eng</td>\n",
       "      <td>2690</td>\n",
       "      <td>41428</td>\n",
       "      <td>164</td>\n",
       "      <td>Scholastic</td>\n",
       "      <td>4.78</td>\n",
       "      <td>4.75</td>\n",
       "      <td>5.0</td>\n",
       "      <td>5.0</td>\n",
       "      <td>4.8</td>\n",
       "    </tr>\n",
       "  </tbody>\n",
       "</table>\n",
       "</div>"
      ],
      "text/plain": [
       "                      authors language_code    num_pages  ratings_count  \\\n",
       "0  J.K. Rowling/Mary GrandPré           eng          652        2095690   \n",
       "1  J.K. Rowling/Mary GrandPré           eng          870        2153167   \n",
       "2                J.K. Rowling           eng          352           6333   \n",
       "3  J.K. Rowling/Mary GrandPré           eng          435        2339585   \n",
       "4  J.K. Rowling/Mary GrandPré           eng         2690          41428   \n",
       "\n",
       "   text_reviews_count        publisher  average_rating target_buckets_25  \\\n",
       "0               27591  Scholastic Inc.            4.57               4.5   \n",
       "1               29221  Scholastic Inc.            4.49               4.5   \n",
       "2                 244       Scholastic            4.42               4.5   \n",
       "3               36325  Scholastic Inc.            4.56               4.5   \n",
       "4                 164       Scholastic            4.78              4.75   \n",
       "\n",
       "  target_buckets_5  target_whole  target_1  \n",
       "0              4.5           5.0       4.6  \n",
       "1              4.5           4.0       4.5  \n",
       "2              4.5           4.0       4.4  \n",
       "3              4.5           5.0       4.6  \n",
       "4              5.0           5.0       4.8  "
      ]
     },
     "execution_count": 16,
     "metadata": {},
     "output_type": "execute_result"
    }
   ],
   "source": [
    "df_ratings_keep.head()"
   ]
  },
  {
   "cell_type": "markdown",
   "id": "9cae4a79",
   "metadata": {},
   "source": [
    "# Testing with .25 buckets"
   ]
  },
  {
   "cell_type": "code",
   "execution_count": 35,
   "id": "d16a850f",
   "metadata": {},
   "outputs": [],
   "source": [
    "keep_cols = ['  num_pages', 'ratings_count', 'text_reviews_count', 'target_buckets_25']"
   ]
  },
  {
   "cell_type": "code",
   "execution_count": 36,
   "id": "11983248",
   "metadata": {},
   "outputs": [],
   "source": [
    "df_ratings_25 = df_ratings_keep[keep_cols]"
   ]
  },
  {
   "cell_type": "code",
   "execution_count": 37,
   "id": "7c005a23",
   "metadata": {},
   "outputs": [],
   "source": [
    "lbls = df_ratings_25['target_buckets_25'].unique()"
   ]
  },
  {
   "cell_type": "code",
   "execution_count": 38,
   "id": "61b3f3dd",
   "metadata": {},
   "outputs": [
    {
     "data": {
      "text/plain": [
       "1.75       1\n",
       "2.25       1\n",
       "1.0        2\n",
       "2.0        6\n",
       "2.5        7\n",
       "5.0       24\n",
       "0         26\n",
       "2.75      29\n",
       "4.75      41\n",
       "3.0       68\n",
       "3.25     248\n",
       "4.5      524\n",
       "3.5     1022\n",
       "4.25    2336\n",
       "3.75    2792\n",
       "4.0     4000\n",
       "Name: target_buckets_25, dtype: int64"
      ]
     },
     "execution_count": 38,
     "metadata": {},
     "output_type": "execute_result"
    }
   ],
   "source": [
    "df_ratings_25['target_buckets_25'].value_counts(ascending=True)"
   ]
  },
  {
   "cell_type": "code",
   "execution_count": null,
   "id": "7e8a6c66",
   "metadata": {},
   "outputs": [],
   "source": []
  },
  {
   "cell_type": "code",
   "execution_count": 39,
   "id": "a2703e0f",
   "metadata": {},
   "outputs": [
    {
     "data": {
      "text/plain": [
       "array(['4.5', '4.75', '3.75', '4.25', '3.5', '4.0', '3.25', '3.0', '0',\n",
       "       '2.75', '5.0', '2.0', '2.5', '1.0', '1.75', '2.25'], dtype=object)"
      ]
     },
     "execution_count": 39,
     "metadata": {},
     "output_type": "execute_result"
    }
   ],
   "source": [
    "lbls"
   ]
  },
  {
   "cell_type": "code",
   "execution_count": 40,
   "id": "216166bd",
   "metadata": {},
   "outputs": [],
   "source": [
    "df_ratings_25_numeric = df_ratings_25[keep_cols]"
   ]
  },
  {
   "cell_type": "code",
   "execution_count": 41,
   "id": "206dfceb",
   "metadata": {},
   "outputs": [
    {
     "data": {
      "text/html": [
       "<div>\n",
       "<style scoped>\n",
       "    .dataframe tbody tr th:only-of-type {\n",
       "        vertical-align: middle;\n",
       "    }\n",
       "\n",
       "    .dataframe tbody tr th {\n",
       "        vertical-align: top;\n",
       "    }\n",
       "\n",
       "    .dataframe thead th {\n",
       "        text-align: right;\n",
       "    }\n",
       "</style>\n",
       "<table border=\"1\" class=\"dataframe\">\n",
       "  <thead>\n",
       "    <tr style=\"text-align: right;\">\n",
       "      <th></th>\n",
       "      <th>num_pages</th>\n",
       "      <th>ratings_count</th>\n",
       "      <th>text_reviews_count</th>\n",
       "      <th>target_buckets_25</th>\n",
       "    </tr>\n",
       "  </thead>\n",
       "  <tbody>\n",
       "    <tr>\n",
       "      <th>0</th>\n",
       "      <td>652</td>\n",
       "      <td>2095690</td>\n",
       "      <td>27591</td>\n",
       "      <td>4.5</td>\n",
       "    </tr>\n",
       "    <tr>\n",
       "      <th>1</th>\n",
       "      <td>870</td>\n",
       "      <td>2153167</td>\n",
       "      <td>29221</td>\n",
       "      <td>4.5</td>\n",
       "    </tr>\n",
       "    <tr>\n",
       "      <th>2</th>\n",
       "      <td>352</td>\n",
       "      <td>6333</td>\n",
       "      <td>244</td>\n",
       "      <td>4.5</td>\n",
       "    </tr>\n",
       "    <tr>\n",
       "      <th>3</th>\n",
       "      <td>435</td>\n",
       "      <td>2339585</td>\n",
       "      <td>36325</td>\n",
       "      <td>4.5</td>\n",
       "    </tr>\n",
       "    <tr>\n",
       "      <th>4</th>\n",
       "      <td>2690</td>\n",
       "      <td>41428</td>\n",
       "      <td>164</td>\n",
       "      <td>4.75</td>\n",
       "    </tr>\n",
       "  </tbody>\n",
       "</table>\n",
       "</div>"
      ],
      "text/plain": [
       "     num_pages  ratings_count  text_reviews_count target_buckets_25\n",
       "0          652        2095690               27591               4.5\n",
       "1          870        2153167               29221               4.5\n",
       "2          352           6333                 244               4.5\n",
       "3          435        2339585               36325               4.5\n",
       "4         2690          41428                 164              4.75"
      ]
     },
     "execution_count": 41,
     "metadata": {},
     "output_type": "execute_result"
    }
   ],
   "source": [
    "df_ratings_25_numeric.head()"
   ]
  },
  {
   "cell_type": "code",
   "execution_count": 42,
   "id": "03c6845d",
   "metadata": {},
   "outputs": [],
   "source": [
    "y = df_ratings_25_numeric['target_buckets_25']\n",
    "x = df_ratings_25_numeric[df_ratings_25_numeric.columns.difference(['target_buckets_25'])]"
   ]
  },
  {
   "cell_type": "code",
   "execution_count": 43,
   "id": "5f9a526c",
   "metadata": {},
   "outputs": [],
   "source": [
    "x_train, x_test, y_train, y_test = train_test_split(x, y, test_size=0.3, random_state=42)"
   ]
  },
  {
   "cell_type": "code",
   "execution_count": 44,
   "id": "42bfd356",
   "metadata": {},
   "outputs": [],
   "source": [
    "logreg = LogisticRegression(random_state=0, multi_class='ovr', solver = 'liblinear')"
   ]
  },
  {
   "cell_type": "code",
   "execution_count": 45,
   "id": "4f29dd85",
   "metadata": {},
   "outputs": [
    {
     "data": {
      "text/html": [
       "<style>#sk-container-id-1 {color: black;background-color: white;}#sk-container-id-1 pre{padding: 0;}#sk-container-id-1 div.sk-toggleable {background-color: white;}#sk-container-id-1 label.sk-toggleable__label {cursor: pointer;display: block;width: 100%;margin-bottom: 0;padding: 0.3em;box-sizing: border-box;text-align: center;}#sk-container-id-1 label.sk-toggleable__label-arrow:before {content: \"▸\";float: left;margin-right: 0.25em;color: #696969;}#sk-container-id-1 label.sk-toggleable__label-arrow:hover:before {color: black;}#sk-container-id-1 div.sk-estimator:hover label.sk-toggleable__label-arrow:before {color: black;}#sk-container-id-1 div.sk-toggleable__content {max-height: 0;max-width: 0;overflow: hidden;text-align: left;background-color: #f0f8ff;}#sk-container-id-1 div.sk-toggleable__content pre {margin: 0.2em;color: black;border-radius: 0.25em;background-color: #f0f8ff;}#sk-container-id-1 input.sk-toggleable__control:checked~div.sk-toggleable__content {max-height: 200px;max-width: 100%;overflow: auto;}#sk-container-id-1 input.sk-toggleable__control:checked~label.sk-toggleable__label-arrow:before {content: \"▾\";}#sk-container-id-1 div.sk-estimator input.sk-toggleable__control:checked~label.sk-toggleable__label {background-color: #d4ebff;}#sk-container-id-1 div.sk-label input.sk-toggleable__control:checked~label.sk-toggleable__label {background-color: #d4ebff;}#sk-container-id-1 input.sk-hidden--visually {border: 0;clip: rect(1px 1px 1px 1px);clip: rect(1px, 1px, 1px, 1px);height: 1px;margin: -1px;overflow: hidden;padding: 0;position: absolute;width: 1px;}#sk-container-id-1 div.sk-estimator {font-family: monospace;background-color: #f0f8ff;border: 1px dotted black;border-radius: 0.25em;box-sizing: border-box;margin-bottom: 0.5em;}#sk-container-id-1 div.sk-estimator:hover {background-color: #d4ebff;}#sk-container-id-1 div.sk-parallel-item::after {content: \"\";width: 100%;border-bottom: 1px solid gray;flex-grow: 1;}#sk-container-id-1 div.sk-label:hover label.sk-toggleable__label {background-color: #d4ebff;}#sk-container-id-1 div.sk-serial::before {content: \"\";position: absolute;border-left: 1px solid gray;box-sizing: border-box;top: 0;bottom: 0;left: 50%;z-index: 0;}#sk-container-id-1 div.sk-serial {display: flex;flex-direction: column;align-items: center;background-color: white;padding-right: 0.2em;padding-left: 0.2em;position: relative;}#sk-container-id-1 div.sk-item {position: relative;z-index: 1;}#sk-container-id-1 div.sk-parallel {display: flex;align-items: stretch;justify-content: center;background-color: white;position: relative;}#sk-container-id-1 div.sk-item::before, #sk-container-id-1 div.sk-parallel-item::before {content: \"\";position: absolute;border-left: 1px solid gray;box-sizing: border-box;top: 0;bottom: 0;left: 50%;z-index: -1;}#sk-container-id-1 div.sk-parallel-item {display: flex;flex-direction: column;z-index: 1;position: relative;background-color: white;}#sk-container-id-1 div.sk-parallel-item:first-child::after {align-self: flex-end;width: 50%;}#sk-container-id-1 div.sk-parallel-item:last-child::after {align-self: flex-start;width: 50%;}#sk-container-id-1 div.sk-parallel-item:only-child::after {width: 0;}#sk-container-id-1 div.sk-dashed-wrapped {border: 1px dashed gray;margin: 0 0.4em 0.5em 0.4em;box-sizing: border-box;padding-bottom: 0.4em;background-color: white;}#sk-container-id-1 div.sk-label label {font-family: monospace;font-weight: bold;display: inline-block;line-height: 1.2em;}#sk-container-id-1 div.sk-label-container {text-align: center;}#sk-container-id-1 div.sk-container {/* jupyter's `normalize.less` sets `[hidden] { display: none; }` but bootstrap.min.css set `[hidden] { display: none !important; }` so we also need the `!important` here to be able to override the default hidden behavior on the sphinx rendered scikit-learn.org. See: https://github.com/scikit-learn/scikit-learn/issues/21755 */display: inline-block !important;position: relative;}#sk-container-id-1 div.sk-text-repr-fallback {display: none;}</style><div id=\"sk-container-id-1\" class=\"sk-top-container\"><div class=\"sk-text-repr-fallback\"><pre>LogisticRegression(multi_class=&#x27;ovr&#x27;, random_state=0, solver=&#x27;liblinear&#x27;)</pre><b>In a Jupyter environment, please rerun this cell to show the HTML representation or trust the notebook. <br />On GitHub, the HTML representation is unable to render, please try loading this page with nbviewer.org.</b></div><div class=\"sk-container\" hidden><div class=\"sk-item\"><div class=\"sk-estimator sk-toggleable\"><input class=\"sk-toggleable__control sk-hidden--visually\" id=\"sk-estimator-id-1\" type=\"checkbox\" checked><label for=\"sk-estimator-id-1\" class=\"sk-toggleable__label sk-toggleable__label-arrow\">LogisticRegression</label><div class=\"sk-toggleable__content\"><pre>LogisticRegression(multi_class=&#x27;ovr&#x27;, random_state=0, solver=&#x27;liblinear&#x27;)</pre></div></div></div></div></div>"
      ],
      "text/plain": [
       "LogisticRegression(multi_class='ovr', random_state=0, solver='liblinear')"
      ]
     },
     "execution_count": 45,
     "metadata": {},
     "output_type": "execute_result"
    }
   ],
   "source": [
    "logreg.fit(x_train, y_train)"
   ]
  },
  {
   "cell_type": "code",
   "execution_count": 46,
   "id": "a6dc35dd",
   "metadata": {},
   "outputs": [],
   "source": [
    "predictions = logreg.predict(x_test)"
   ]
  },
  {
   "cell_type": "code",
   "execution_count": 47,
   "id": "b4ba11f6",
   "metadata": {},
   "outputs": [],
   "source": [
    "score = logreg.score(x_test, y_test)"
   ]
  },
  {
   "cell_type": "code",
   "execution_count": 48,
   "id": "340fca6b",
   "metadata": {},
   "outputs": [
    {
     "data": {
      "text/plain": [
       "0.3641808924827793"
      ]
     },
     "execution_count": 48,
     "metadata": {},
     "output_type": "execute_result"
    }
   ],
   "source": [
    "score"
   ]
  },
  {
   "cell_type": "code",
   "execution_count": 49,
   "id": "646a2598",
   "metadata": {},
   "outputs": [],
   "source": [
    "cm = multilabel_confusion_matrix(y_test, predictions)"
   ]
  },
  {
   "cell_type": "code",
   "execution_count": 50,
   "id": "084f920f",
   "metadata": {},
   "outputs": [
    {
     "data": {
      "text/plain": [
       "array([[[3334,    0],\n",
       "        [   5,    0]],\n",
       "\n",
       "       [[3338,    0],\n",
       "        [   1,    0]],\n",
       "\n",
       "       [[3337,    0],\n",
       "        [   2,    0]],\n",
       "\n",
       "       [[3332,    0],\n",
       "        [   7,    0]],\n",
       "\n",
       "       [[3319,    0],\n",
       "        [  20,    0]],\n",
       "\n",
       "       [[3271,    0],\n",
       "        [  68,    0]],\n",
       "\n",
       "       [[3022,    0],\n",
       "        [ 317,    0]],\n",
       "\n",
       "       [[2478,    0],\n",
       "        [ 861,    0]],\n",
       "\n",
       "       [[  82, 2055],\n",
       "        [  24, 1178]],\n",
       "\n",
       "       [[2594,   66],\n",
       "        [ 642,   37]],\n",
       "\n",
       "       [[3185,    0],\n",
       "        [ 154,    0]],\n",
       "\n",
       "       [[3323,    2],\n",
       "        [  13,    1]],\n",
       "\n",
       "       [[3330,    0],\n",
       "        [   9,    0]]], dtype=int64)"
      ]
     },
     "execution_count": 50,
     "metadata": {},
     "output_type": "execute_result"
    }
   ],
   "source": [
    "cm"
   ]
  },
  {
   "cell_type": "code",
   "execution_count": 51,
   "id": "d51f122c",
   "metadata": {},
   "outputs": [
    {
     "data": {
      "image/png": "[encoded data removed]",
      "text/plain": [
       "<Figure size 640x480 with 2 Axes>"
      ]
     },
     "metadata": {},
     "output_type": "display_data"
    }
   ],
   "source": [
    "disp = ConfusionMatrixDisplay.from_predictions(y_test,\n",
    "                   predictions)\n",
    "\n"
   ]
  },
  {
   "cell_type": "code",
   "execution_count": 52,
   "id": "da07bea8",
   "metadata": {},
   "outputs": [],
   "source": [
    "clf = RandomForestClassifier(n_estimators=100)"
   ]
  },
  {
   "cell_type": "code",
   "execution_count": 53,
   "id": "41724167",
   "metadata": {},
   "outputs": [
    {
     "name": "stderr",
     "output_type": "stream",
     "text": [
      "C:\\Anaconda3\\envs\\env_book_project\\lib\\site-packages\\sklearn\\model_selection\\_split.py:700: UserWarning: The least populated class in y has only 1 members, which is less than n_splits=5.\n",
      "  warnings.warn(\n"
     ]
    }
   ],
   "source": [
    "scores = cross_val_score(clf, x_train, y_train, cv = 5)"
   ]
  },
  {
   "cell_type": "code",
   "execution_count": 54,
   "id": "c78d758b",
   "metadata": {},
   "outputs": [
    {
     "data": {
      "text/plain": [
       "array([0.32092426, 0.33247754, 0.31835687, 0.30892742, 0.32048812])"
      ]
     },
     "execution_count": 54,
     "metadata": {},
     "output_type": "execute_result"
    }
   ],
   "source": [
    "scores"
   ]
  },
  {
   "cell_type": "code",
   "execution_count": 61,
   "id": "27601e2d",
   "metadata": {},
   "outputs": [
    {
     "data": {
      "text/html": [
       "<style>#sk-container-id-3 {color: black;background-color: white;}#sk-container-id-3 pre{padding: 0;}#sk-container-id-3 div.sk-toggleable {background-color: white;}#sk-container-id-3 label.sk-toggleable__label {cursor: pointer;display: block;width: 100%;margin-bottom: 0;padding: 0.3em;box-sizing: border-box;text-align: center;}#sk-container-id-3 label.sk-toggleable__label-arrow:before {content: \"▸\";float: left;margin-right: 0.25em;color: #696969;}#sk-container-id-3 label.sk-toggleable__label-arrow:hover:before {color: black;}#sk-container-id-3 div.sk-estimator:hover label.sk-toggleable__label-arrow:before {color: black;}#sk-container-id-3 div.sk-toggleable__content {max-height: 0;max-width: 0;overflow: hidden;text-align: left;background-color: #f0f8ff;}#sk-container-id-3 div.sk-toggleable__content pre {margin: 0.2em;color: black;border-radius: 0.25em;background-color: #f0f8ff;}#sk-container-id-3 input.sk-toggleable__control:checked~div.sk-toggleable__content {max-height: 200px;max-width: 100%;overflow: auto;}#sk-container-id-3 input.sk-toggleable__control:checked~label.sk-toggleable__label-arrow:before {content: \"▾\";}#sk-container-id-3 div.sk-estimator input.sk-toggleable__control:checked~label.sk-toggleable__label {background-color: #d4ebff;}#sk-container-id-3 div.sk-label input.sk-toggleable__control:checked~label.sk-toggleable__label {background-color: #d4ebff;}#sk-container-id-3 input.sk-hidden--visually {border: 0;clip: rect(1px 1px 1px 1px);clip: rect(1px, 1px, 1px, 1px);height: 1px;margin: -1px;overflow: hidden;padding: 0;position: absolute;width: 1px;}#sk-container-id-3 div.sk-estimator {font-family: monospace;background-color: #f0f8ff;border: 1px dotted black;border-radius: 0.25em;box-sizing: border-box;margin-bottom: 0.5em;}#sk-container-id-3 div.sk-estimator:hover {background-color: #d4ebff;}#sk-container-id-3 div.sk-parallel-item::after {content: \"\";width: 100%;border-bottom: 1px solid gray;flex-grow: 1;}#sk-container-id-3 div.sk-label:hover label.sk-toggleable__label {background-color: #d4ebff;}#sk-container-id-3 div.sk-serial::before {content: \"\";position: absolute;border-left: 1px solid gray;box-sizing: border-box;top: 0;bottom: 0;left: 50%;z-index: 0;}#sk-container-id-3 div.sk-serial {display: flex;flex-direction: column;align-items: center;background-color: white;padding-right: 0.2em;padding-left: 0.2em;position: relative;}#sk-container-id-3 div.sk-item {position: relative;z-index: 1;}#sk-container-id-3 div.sk-parallel {display: flex;align-items: stretch;justify-content: center;background-color: white;position: relative;}#sk-container-id-3 div.sk-item::before, #sk-container-id-3 div.sk-parallel-item::before {content: \"\";position: absolute;border-left: 1px solid gray;box-sizing: border-box;top: 0;bottom: 0;left: 50%;z-index: -1;}#sk-container-id-3 div.sk-parallel-item {display: flex;flex-direction: column;z-index: 1;position: relative;background-color: white;}#sk-container-id-3 div.sk-parallel-item:first-child::after {align-self: flex-end;width: 50%;}#sk-container-id-3 div.sk-parallel-item:last-child::after {align-self: flex-start;width: 50%;}#sk-container-id-3 div.sk-parallel-item:only-child::after {width: 0;}#sk-container-id-3 div.sk-dashed-wrapped {border: 1px dashed gray;margin: 0 0.4em 0.5em 0.4em;box-sizing: border-box;padding-bottom: 0.4em;background-color: white;}#sk-container-id-3 div.sk-label label {font-family: monospace;font-weight: bold;display: inline-block;line-height: 1.2em;}#sk-container-id-3 div.sk-label-container {text-align: center;}#sk-container-id-3 div.sk-container {/* jupyter's `normalize.less` sets `[hidden] { display: none; }` but bootstrap.min.css set `[hidden] { display: none !important; }` so we also need the `!important` here to be able to override the default hidden behavior on the sphinx rendered scikit-learn.org. See: https://github.com/scikit-learn/scikit-learn/issues/21755 */display: inline-block !important;position: relative;}#sk-container-id-3 div.sk-text-repr-fallback {display: none;}</style><div id=\"sk-container-id-3\" class=\"sk-top-container\"><div class=\"sk-text-repr-fallback\"><pre>RandomForestClassifier()</pre><b>In a Jupyter environment, please rerun this cell to show the HTML representation or trust the notebook. <br />On GitHub, the HTML representation is unable to render, please try loading this page with nbviewer.org.</b></div><div class=\"sk-container\" hidden><div class=\"sk-item\"><div class=\"sk-estimator sk-toggleable\"><input class=\"sk-toggleable__control sk-hidden--visually\" id=\"sk-estimator-id-3\" type=\"checkbox\" checked><label for=\"sk-estimator-id-3\" class=\"sk-toggleable__label sk-toggleable__label-arrow\">RandomForestClassifier</label><div class=\"sk-toggleable__content\"><pre>RandomForestClassifier()</pre></div></div></div></div></div>"
      ],
      "text/plain": [
       "RandomForestClassifier()"
      ]
     },
     "execution_count": 61,
     "metadata": {},
     "output_type": "execute_result"
    }
   ],
   "source": [
    "clf.fit(x_train, y_train)"
   ]
  },
  {
   "cell_type": "code",
   "execution_count": 62,
   "id": "8ffa40da",
   "metadata": {},
   "outputs": [],
   "source": [
    "predictions = clf.predict(x_test)"
   ]
  },
  {
   "cell_type": "code",
   "execution_count": 65,
   "id": "177fc8f4",
   "metadata": {},
   "outputs": [
    {
     "data": {
      "image/png": "[encoded data removed]",
      "text/plain": [
       "<Figure size 640x480 with 2 Axes>"
      ]
     },
     "metadata": {},
     "output_type": "display_data"
    }
   ],
   "source": [
    "disp = ConfusionMatrixDisplay.from_predictions(y_test,\n",
    "                   predictions)\n"
   ]
  },
  {
   "cell_type": "code",
   "execution_count": null,
   "id": "408765da",
   "metadata": {},
   "outputs": [],
   "source": []
  },
  {
   "cell_type": "code",
   "execution_count": null,
   "id": "518773b0",
   "metadata": {},
   "outputs": [],
   "source": []
  },
  {
   "cell_type": "code",
   "execution_count": null,
   "id": "df6a8995",
   "metadata": {},
   "outputs": [],
   "source": []
  },
  {
   "cell_type": "markdown",
   "id": "25df9b82",
   "metadata": {},
   "source": [
    "# Testing with .5 buckets"
   ]
  },
  {
   "cell_type": "code",
   "execution_count": null,
   "id": "3ffe69ab",
   "metadata": {},
   "outputs": [],
   "source": [
    "keep_cols = ['authors', 'language_code', '  num_pages', 'ratings_count', 'text_reviews_count', 'publisher', 'target_buckets_5']"
   ]
  },
  {
   "cell_type": "code",
   "execution_count": null,
   "id": "b8c4978e",
   "metadata": {},
   "outputs": [],
   "source": [
    "df_ratings_5 = df_ratings_keep[keep_cols]"
   ]
  },
  {
   "cell_type": "code",
   "execution_count": null,
   "id": "4f86a416",
   "metadata": {},
   "outputs": [],
   "source": [
    "df_ratings_5_numeric = df_ratings_5[['  num_pages', 'ratings_count', 'text_reviews_count', 'target_buckets_5']]"
   ]
  },
  {
   "cell_type": "code",
   "execution_count": null,
   "id": "7672bb22",
   "metadata": {},
   "outputs": [],
   "source": [
    "df_ratings_5_numeric = df_ratings_5[['ratings_count', 'text_reviews_count', 'target_buckets_5']]"
   ]
  },
  {
   "cell_type": "code",
   "execution_count": null,
   "id": "435d7951",
   "metadata": {},
   "outputs": [],
   "source": [
    "y = df_ratings_5_numeric['target_buckets_5']\n",
    "x = df_ratings_5_numeric[df_ratings_5_numeric.columns.difference(['target_buckets_5'])]"
   ]
  },
  {
   "cell_type": "code",
   "execution_count": null,
   "id": "c63b6be8",
   "metadata": {},
   "outputs": [],
   "source": [
    "x_train, x_test, y_train, y_test = train_test_split(x, y, test_size=0.3, random_state=42)"
   ]
  },
  {
   "cell_type": "code",
   "execution_count": null,
   "id": "f65c9241",
   "metadata": {},
   "outputs": [],
   "source": [
    "logreg = LogisticRegression(random_state=0, multi_class='ovr', solver = 'liblinear')"
   ]
  },
  {
   "cell_type": "code",
   "execution_count": null,
   "id": "65f32741",
   "metadata": {},
   "outputs": [],
   "source": [
    "logreg.fit(x_train, y_train)"
   ]
  },
  {
   "cell_type": "code",
   "execution_count": null,
   "id": "895f6a7d",
   "metadata": {},
   "outputs": [],
   "source": [
    "predictions = logreg.predict(x_test)"
   ]
  },
  {
   "cell_type": "code",
   "execution_count": null,
   "id": "00f7a81b",
   "metadata": {},
   "outputs": [],
   "source": [
    "score = logreg.score(x_test, y_test)"
   ]
  },
  {
   "cell_type": "code",
   "execution_count": null,
   "id": "93dd5d2f",
   "metadata": {},
   "outputs": [],
   "source": [
    "score"
   ]
  },
  {
   "cell_type": "code",
   "execution_count": null,
   "id": "444e64ca",
   "metadata": {},
   "outputs": [],
   "source": [
    "disp = ConfusionMatrixDisplay.from_predictions(y_test,\n",
    "                   predictions)\n"
   ]
  },
  {
   "cell_type": "code",
   "execution_count": null,
   "id": "8b4e5fd0",
   "metadata": {},
   "outputs": [],
   "source": [
    "clf = RandomForestClassifier(n_estimators=100)"
   ]
  },
  {
   "cell_type": "code",
   "execution_count": null,
   "id": "a004a3ee",
   "metadata": {},
   "outputs": [],
   "source": [
    "scores = cross_val_score(clf, x_train, y_train, cv = 5)"
   ]
  },
  {
   "cell_type": "code",
   "execution_count": null,
   "id": "d6ec360d",
   "metadata": {},
   "outputs": [],
   "source": [
    "scores"
   ]
  },
  {
   "cell_type": "code",
   "execution_count": null,
   "id": "2ad8a18f",
   "metadata": {},
   "outputs": [],
   "source": []
  },
  {
   "cell_type": "markdown",
   "id": "31ec2562",
   "metadata": {},
   "source": [
    "# Testing with whole numbers"
   ]
  },
  {
   "cell_type": "code",
   "execution_count": null,
   "id": "00ab9331",
   "metadata": {},
   "outputs": [],
   "source": [
    "keep_cols = ['  num_pages', 'ratings_count', 'text_reviews_count', 'target_whole']"
   ]
  },
  {
   "cell_type": "code",
   "execution_count": null,
   "id": "39d49302",
   "metadata": {},
   "outputs": [],
   "source": [
    "df_ratings_whole = df_ratings_keep[keep_cols]"
   ]
  },
  {
   "cell_type": "code",
   "execution_count": null,
   "id": "acc9ff4f",
   "metadata": {},
   "outputs": [],
   "source": [
    "y = df_ratings_whole['target_whole']\n",
    "x = df_ratings_whole[df_ratings_whole.columns.difference(['target_whole'])]"
   ]
  },
  {
   "cell_type": "code",
   "execution_count": null,
   "id": "4e41c793",
   "metadata": {},
   "outputs": [],
   "source": [
    "x_train, x_test, y_train, y_test = train_test_split(x, y, test_size=0.3, random_state=42)"
   ]
  },
  {
   "cell_type": "code",
   "execution_count": null,
   "id": "0044015b",
   "metadata": {},
   "outputs": [],
   "source": [
    "clf = RandomForestClassifier(n_estimators=100)"
   ]
  },
  {
   "cell_type": "code",
   "execution_count": null,
   "id": "c6f03f53",
   "metadata": {},
   "outputs": [],
   "source": [
    "scores = cross_val_score(clf, x_train, y_train, cv = 5)"
   ]
  },
  {
   "cell_type": "code",
   "execution_count": null,
   "id": "3cc6aa3a",
   "metadata": {},
   "outputs": [],
   "source": [
    "scores"
   ]
  },
  {
   "cell_type": "code",
   "execution_count": null,
   "id": "3f795ddd",
   "metadata": {},
   "outputs": [],
   "source": [
    "clf.fit(x_train, y_train)"
   ]
  },
  {
   "cell_type": "code",
   "execution_count": null,
   "id": "3fe65637",
   "metadata": {},
   "outputs": [],
   "source": [
    "y_pred = clf.predict(x_test)"
   ]
  },
  {
   "cell_type": "code",
   "execution_count": null,
   "id": "32223c35",
   "metadata": {},
   "outputs": [],
   "source": [
    "disp = ConfusionMatrixDisplay.from_predictions(y_test,\n",
    "                   y_pred)\n"
   ]
  },
  {
   "cell_type": "code",
   "execution_count": null,
   "id": "1b7d658a",
   "metadata": {},
   "outputs": [],
   "source": [
    "clf.feature_importances_"
   ]
  },
  {
   "cell_type": "code",
   "execution_count": null,
   "id": "d84849fa",
   "metadata": {},
   "outputs": [],
   "source": [
    "clf.feature_names_in_"
   ]
  },
  {
   "cell_type": "code",
   "execution_count": null,
   "id": "ad37c510",
   "metadata": {},
   "outputs": [],
   "source": []
  },
  {
   "cell_type": "code",
   "execution_count": null,
   "id": "d30cc5ab",
   "metadata": {},
   "outputs": [],
   "source": []
  },
  {
   "cell_type": "code",
   "execution_count": null,
   "id": "24cf2d32",
   "metadata": {},
   "outputs": [],
   "source": []
  },
  {
   "cell_type": "code",
   "execution_count": null,
   "id": "c6b7adb3",
   "metadata": {},
   "outputs": [],
   "source": []
  },
  {
   "cell_type": "code",
   "execution_count": null,
   "id": "11b9cc4a",
   "metadata": {},
   "outputs": [],
   "source": []
  },
  {
   "cell_type": "code",
   "execution_count": null,
   "id": "6adc5b7e",
   "metadata": {},
   "outputs": [],
   "source": []
  },
  {
   "cell_type": "code",
   "execution_count": null,
   "id": "72ed78b8",
   "metadata": {},
   "outputs": [],
   "source": []
  },
  {
   "cell_type": "code",
   "execution_count": null,
   "id": "6c53ceaa",
   "metadata": {},
   "outputs": [],
   "source": []
  },
  {
   "cell_type": "code",
   "execution_count": null,
   "id": "5b7b7c96",
   "metadata": {},
   "outputs": [],
   "source": []
  },
  {
   "cell_type": "code",
   "execution_count": null,
   "id": "419c74d6",
   "metadata": {},
   "outputs": [],
   "source": []
  },
  {
   "cell_type": "code",
   "execution_count": null,
   "id": "1608108a",
   "metadata": {},
   "outputs": [],
   "source": []
  },
  {
   "cell_type": "code",
   "execution_count": null,
   "id": "da14f7a1",
   "metadata": {},
   "outputs": [],
   "source": [
    "vectorizer_auth =HashingVectorizer(n_features=1000)"
   ]
  },
  {
   "cell_type": "code",
   "execution_count": null,
   "id": "9f8bbd30",
   "metadata": {},
   "outputs": [],
   "source": [
    "vectorizer_pub = HashingVectorizer(n_features=1000)"
   ]
  },
  {
   "cell_type": "code",
   "execution_count": null,
   "id": "794537a1",
   "metadata": {},
   "outputs": [],
   "source": [
    "vectorizer_lang = HashingVectorizer(n_features=1000)"
   ]
  },
  {
   "cell_type": "code",
   "execution_count": null,
   "id": "c39b78d7",
   "metadata": {},
   "outputs": [],
   "source": [
    "auths_transform = vectorizer.transform(auths)"
   ]
  },
  {
   "cell_type": "code",
   "execution_count": null,
   "id": "1cd039ae",
   "metadata": {},
   "outputs": [],
   "source": [
    "auths_transform_dense = auths_transform.toarray()"
   ]
  },
  {
   "cell_type": "code",
   "execution_count": null,
   "id": "1278b0af",
   "metadata": {},
   "outputs": [],
   "source": [
    "df_ratings_keep.head()"
   ]
  },
  {
   "cell_type": "code",
   "execution_count": null,
   "id": "5ad76d79",
   "metadata": {},
   "outputs": [],
   "source": [
    "keep_cols = ['authors', 'language_code', '  num_pages', 'ratings_count', 'text_reviews_count', 'publisher', 'target_1']"
   ]
  },
  {
   "cell_type": "code",
   "execution_count": null,
   "id": "561f234b",
   "metadata": {},
   "outputs": [],
   "source": [
    "## keep_cols = ['ratings_count', 'text_reviews_count', 'target_buckets_5']"
   ]
  },
  {
   "cell_type": "code",
   "execution_count": null,
   "id": "1584dd09",
   "metadata": {},
   "outputs": [],
   "source": [
    "df_ratings_5 = df_ratings_keep[keep_cols]"
   ]
  },
  {
   "cell_type": "code",
   "execution_count": null,
   "id": "07c6127a",
   "metadata": {},
   "outputs": [],
   "source": [
    "y = df_ratings_5['target_buckets_5']\n",
    "x = df_ratings_5[df_ratings_5.columns.difference(['target_buckets_5'])]"
   ]
  },
  {
   "cell_type": "code",
   "execution_count": null,
   "id": "677e19dd",
   "metadata": {},
   "outputs": [],
   "source": [
    "x_train, x_test, y_train, y_test = train_test_split(x, y, test_size=0.3, random_state=42)"
   ]
  },
  {
   "cell_type": "code",
   "execution_count": null,
   "id": "ae96028b",
   "metadata": {},
   "outputs": [],
   "source": [
    "auths_train = x_train['authors']\n",
    "langs_train = x_train['language_code']\n",
    "pubs_train = x_train['publisher']"
   ]
  },
  {
   "cell_type": "code",
   "execution_count": null,
   "id": "a7ec38d6",
   "metadata": {},
   "outputs": [],
   "source": [
    "auths_trans_train = vectorizer_auth.transform(auths_train)\n",
    "auths_train_arr = auths_trans_train.toarray()\n",
    "\n",
    "pubs_trans_train = vectorizer_pub.transform(pubs_train)\n",
    "pubs_train_arr = pubs_trans_train.toarray()\n",
    "\n",
    "langs_trans_ = vectorizer_lang.transform(langs_train)\n",
    "langs_train_arr = langs_trans_.toarray()"
   ]
  },
  {
   "cell_type": "code",
   "execution_count": null,
   "id": "1836ff63",
   "metadata": {},
   "outputs": [],
   "source": []
  },
  {
   "cell_type": "code",
   "execution_count": null,
   "id": "f72a3b77",
   "metadata": {},
   "outputs": [],
   "source": []
  },
  {
   "cell_type": "code",
   "execution_count": null,
   "id": "65aa9a63",
   "metadata": {},
   "outputs": [],
   "source": [
    "cols = ['  num_pages', 'ratings_count', 'text_reviews_count']"
   ]
  },
  {
   "cell_type": "code",
   "execution_count": null,
   "id": "8e44b54e",
   "metadata": {},
   "outputs": [],
   "source": [
    "cols = ['ratings_count', 'text_reviews_count']"
   ]
  },
  {
   "cell_type": "code",
   "execution_count": null,
   "id": "0eae0dbf",
   "metadata": {},
   "outputs": [],
   "source": [
    "train_feats = np.concatenate([auths_train_arr, pubs_train_arr, \n",
    "                        langs_train_arr, x_train[cols].values], axis = 1)"
   ]
  },
  {
   "cell_type": "code",
   "execution_count": null,
   "id": "f76b7523",
   "metadata": {},
   "outputs": [],
   "source": [
    "feats = np.concatenate([auths_train_arr,\n",
    "                        langs_train_arr, x_train[cols].values], axis = 1)"
   ]
  },
  {
   "cell_type": "code",
   "execution_count": null,
   "id": "19ec7a69",
   "metadata": {},
   "outputs": [],
   "source": [
    "feats = np.concatenate([auths_train_arr, x_train[cols].values], axis = 1)"
   ]
  },
  {
   "cell_type": "code",
   "execution_count": null,
   "id": "4f93cca6",
   "metadata": {},
   "outputs": [],
   "source": [
    "clf = RandomForestClassifier(n_estimators=100)"
   ]
  },
  {
   "cell_type": "code",
   "execution_count": null,
   "id": "29222dcc",
   "metadata": {},
   "outputs": [],
   "source": [
    "scores = cross_val_score(clf, feats, y_train, cv = 5)"
   ]
  },
  {
   "cell_type": "code",
   "execution_count": null,
   "id": "630cf15b",
   "metadata": {},
   "outputs": [],
   "source": [
    "scores"
   ]
  },
  {
   "cell_type": "code",
   "execution_count": null,
   "id": "a42113c9",
   "metadata": {},
   "outputs": [],
   "source": [
    "scores"
   ]
  },
  {
   "cell_type": "code",
   "execution_count": null,
   "id": "795eab52",
   "metadata": {},
   "outputs": [],
   "source": [
    "scores"
   ]
  },
  {
   "cell_type": "code",
   "execution_count": null,
   "id": "6ab9e68a",
   "metadata": {},
   "outputs": [],
   "source": [
    "scores"
   ]
  },
  {
   "cell_type": "code",
   "execution_count": null,
   "id": "ee376758",
   "metadata": {},
   "outputs": [],
   "source": [
    "scores"
   ]
  },
  {
   "cell_type": "code",
   "execution_count": null,
   "id": "c1dce31f",
   "metadata": {},
   "outputs": [],
   "source": [
    "scores"
   ]
  },
  {
   "cell_type": "code",
   "execution_count": null,
   "id": "b98785b0",
   "metadata": {},
   "outputs": [],
   "source": [
    "auths_test = x_test['authors']\n",
    "langs_test = x_test['language_code']\n",
    "pubs_test = x_test['publisher']"
   ]
  },
  {
   "cell_type": "code",
   "execution_count": null,
   "id": "2055ccf7",
   "metadata": {},
   "outputs": [],
   "source": [
    "auths_trans_test = vectorizer_auth.transform(auths_test)\n",
    "auths_test_arr = auths_trans_test.toarray()\n",
    "\n",
    "pubs_trans_test = vectorizer_pub.transform(pubs_test)\n",
    "pubs_test_arr = pubs_trans_test.toarray()\n",
    "\n",
    "langs_trans_test = vectorizer_lang.transform(langs_test)\n",
    "langs_test_arr = langs_trans_test.toarray()"
   ]
  },
  {
   "cell_type": "code",
   "execution_count": null,
   "id": "c328f1a1",
   "metadata": {},
   "outputs": [],
   "source": [
    "clf.fit(train_feats, y_train)"
   ]
  },
  {
   "cell_type": "code",
   "execution_count": null,
   "id": "d75c8b4c",
   "metadata": {},
   "outputs": [],
   "source": [
    "test_feats = train_feats = np.concatenate([auths_test_arr, pubs_test_arr, \n",
    "                        langs_test_arr, x_test[cols].values], axis = 1)"
   ]
  },
  {
   "cell_type": "code",
   "execution_count": null,
   "id": "cf930d14",
   "metadata": {},
   "outputs": [],
   "source": [
    "y_pred = clf.predict(test_feats)"
   ]
  },
  {
   "cell_type": "code",
   "execution_count": null,
   "id": "a8b56176",
   "metadata": {},
   "outputs": [],
   "source": [
    "disp = ConfusionMatrixDisplay.from_predictions(y_test,\n",
    "                   y_pred)"
   ]
  },
  {
   "cell_type": "code",
   "execution_count": null,
   "id": "9ea8a1ed",
   "metadata": {},
   "outputs": [],
   "source": [
    "clf.feature_importances_"
   ]
  },
  {
   "cell_type": "code",
   "execution_count": null,
   "id": "5939e759",
   "metadata": {},
   "outputs": [],
   "source": [
    "clf.score(test_feats, y_test)"
   ]
  },
  {
   "cell_type": "code",
   "execution_count": null,
   "id": "313ca9c0",
   "metadata": {},
   "outputs": [],
   "source": [
    "?? precision_recall_fscore_support"
   ]
  },
  {
   "cell_type": "code",
   "execution_count": null,
   "id": "ba069b58",
   "metadata": {},
   "outputs": [],
   "source": [
    "precision, recall, f1_score, _ = precision_recall_fscore_support(y_test, y_pred, zero_division=0)"
   ]
  },
  {
   "cell_type": "code",
   "execution_count": null,
   "id": "6b1e04f5",
   "metadata": {},
   "outputs": [],
   "source": [
    "f1_score"
   ]
  },
  {
   "cell_type": "code",
   "execution_count": null,
   "id": "132a3e6c",
   "metadata": {},
   "outputs": [],
   "source": [
    "recall"
   ]
  },
  {
   "cell_type": "code",
   "execution_count": null,
   "id": "7a044f56",
   "metadata": {},
   "outputs": [],
   "source": [
    "precision"
   ]
  },
  {
   "cell_type": "code",
   "execution_count": null,
   "id": "6f964f7d",
   "metadata": {},
   "outputs": [],
   "source": [
    "_"
   ]
  },
  {
   "cell_type": "code",
   "execution_count": null,
   "id": "0c13ad89",
   "metadata": {},
   "outputs": [],
   "source": []
  },
  {
   "cell_type": "code",
   "execution_count": null,
   "id": "3359da23",
   "metadata": {},
   "outputs": [],
   "source": [
    "keep_cols = ['authors', 'language_code', '  num_pages', 'ratings_count', 'text_reviews_count', 'publisher', 'target_1']"
   ]
  },
  {
   "cell_type": "code",
   "execution_count": null,
   "id": "7962d05a",
   "metadata": {},
   "outputs": [],
   "source": [
    "df_ratings_1 = df_ratings_keep[keep_cols]"
   ]
  },
  {
   "cell_type": "code",
   "execution_count": null,
   "id": "44a0b3eb",
   "metadata": {},
   "outputs": [],
   "source": [
    "y = df_ratings_1['target_1']\n",
    "x = df_ratings_1[df_ratings_1.columns.difference(['target_1'])]"
   ]
  },
  {
   "cell_type": "code",
   "execution_count": null,
   "id": "c2e44e4f",
   "metadata": {},
   "outputs": [],
   "source": [
    "x_train, x_test, y_train, y_test = train_test_split(x, y, test_size=0.3, random_state=42)"
   ]
  },
  {
   "cell_type": "code",
   "execution_count": null,
   "id": "2668a381",
   "metadata": {},
   "outputs": [],
   "source": [
    "auths_train = x_train['authors']\n",
    "langs_train = x_train['language_code']\n",
    "pubs_train = x_train['publisher']"
   ]
  },
  {
   "cell_type": "code",
   "execution_count": null,
   "id": "88d6945f",
   "metadata": {},
   "outputs": [],
   "source": [
    "auths_trans_train = vectorizer_auth.transform(auths_train)\n",
    "auths_train_arr = auths_trans_train.toarray()\n",
    "\n",
    "pubs_trans_train = vectorizer_pub.transform(pubs_train)\n",
    "pubs_train_arr = pubs_trans_train.toarray()\n",
    "\n",
    "langs_trans_ = vectorizer_lang.transform(langs_train)\n",
    "langs_train_arr = langs_trans_.toarray()"
   ]
  },
  {
   "cell_type": "code",
   "execution_count": null,
   "id": "eb387a36",
   "metadata": {},
   "outputs": [],
   "source": [
    "auths_trans_test = vectorizer_auth.transform(auths_test)\n",
    "auths_test_arr = auths_trans_test.toarray()\n",
    "\n",
    "pubs_trans_test = vectorizer_pub.transform(pubs_test)\n",
    "pubs_test_arr = pubs_trans_test.toarray()\n",
    "\n",
    "langs_trans_test = vectorizer_lang.transform(langs_test)\n",
    "langs_test_arr = langs_trans_test.toarray()"
   ]
  },
  {
   "cell_type": "code",
   "execution_count": null,
   "id": "285c4071",
   "metadata": {},
   "outputs": [],
   "source": [
    "cols = ['  num_pages', 'ratings_count', 'text_reviews_count']"
   ]
  },
  {
   "cell_type": "code",
   "execution_count": null,
   "id": "367511c6",
   "metadata": {},
   "outputs": [],
   "source": [
    "train_feats = np.concatenate([auths_train_arr, pubs_train_arr, \n",
    "                        langs_train_arr, x_train[cols].values], axis = 1)"
   ]
  },
  {
   "cell_type": "code",
   "execution_count": null,
   "id": "03efc83b",
   "metadata": {},
   "outputs": [],
   "source": [
    "test_feats = train_feats = np.concatenate([auths_test_arr, pubs_test_arr, \n",
    "                        langs_test_arr, x_test[cols].values], axis = 1)"
   ]
  },
  {
   "cell_type": "code",
   "execution_count": null,
   "id": "946e9b74",
   "metadata": {},
   "outputs": [],
   "source": [
    "regr = RandomForestRegressor(max_depth=2, random_state=42)"
   ]
  },
  {
   "cell_type": "code",
   "execution_count": null,
   "id": "5f899513",
   "metadata": {},
   "outputs": [],
   "source": [
    "reg_sccores = cross_val_score(regr, train_feats, y_train, cv = 5)"
   ]
  },
  {
   "cell_type": "code",
   "execution_count": null,
   "id": "f736828b",
   "metadata": {},
   "outputs": [],
   "source": [
    "reg_sccores"
   ]
  },
  {
   "cell_type": "code",
   "execution_count": null,
   "id": "3e4c4d3c",
   "metadata": {},
   "outputs": [],
   "source": [
    "y_train = y_train.astype(str)"
   ]
  },
  {
   "cell_type": "code",
   "execution_count": null,
   "id": "51123072",
   "metadata": {},
   "outputs": [],
   "source": [
    "y_test = y_test.astype(str)"
   ]
  },
  {
   "cell_type": "code",
   "execution_count": null,
   "id": "97d3a2fc",
   "metadata": {},
   "outputs": [],
   "source": [
    "clf = RandomForestClassifier(n_estimators=100)"
   ]
  },
  {
   "cell_type": "code",
   "execution_count": null,
   "id": "3b857923",
   "metadata": {},
   "outputs": [],
   "source": [
    "scores = cross_val_score(clf, train_feats, y_train, cv = 5)"
   ]
  },
  {
   "cell_type": "code",
   "execution_count": null,
   "id": "4fda6b34",
   "metadata": {},
   "outputs": [],
   "source": [
    "scores"
   ]
  },
  {
   "cell_type": "code",
   "execution_count": null,
   "id": "f69fbdf2",
   "metadata": {},
   "outputs": [],
   "source": [
    "clf.fit(train_feats, y_train)"
   ]
  },
  {
   "cell_type": "code",
   "execution_count": null,
   "id": "3146b717",
   "metadata": {},
   "outputs": [],
   "source": [
    "y_pred = clf.predict(test_feats)"
   ]
  },
  {
   "cell_type": "code",
   "execution_count": null,
   "id": "4bf624ce",
   "metadata": {},
   "outputs": [],
   "source": [
    "disp = ConfusionMatrixDisplay.from_predictions(y_test,\n",
    "                   y_pred)"
   ]
  },
  {
   "cell_type": "code",
   "execution_count": null,
   "id": "9148b210",
   "metadata": {},
   "outputs": [],
   "source": []
  },
  {
   "cell_type": "code",
   "execution_count": 23,
   "id": "aff1a91c",
   "metadata": {},
   "outputs": [],
   "source": [
    "keep_cols = ['authors', 'language_code', '  num_pages', 'ratings_count', 'text_reviews_count', 'publisher', 'target_buckets_25']"
   ]
  },
  {
   "cell_type": "code",
   "execution_count": null,
   "id": "3bc7ae82",
   "metadata": {},
   "outputs": [],
   "source": [
    "#### Experimenting with another bucketing system (terrible, below average, avarage, above avarage, excelent)\n",
    "\n",
    "bins = [0, 0.25, 0.5, 0.75, 1.0, 1.25, 1.5, 1.75, 2.0, 2.25, 2.5, 2.75, \n",
    "        3.0, 3.25, 3.5, 3.75, 4.0, 4.25, 4.5, 4.75, 5.0]\n",
    "\n",
    "df_ratings['average_rating'].plot.hist(bins=bins)\n",
    "\n",
    "ratings_stats = df_ratings_keep['average_rating'].describe()\n",
    "\n",
    "ratings_mean = ratings_stats['mean']\n",
    "ratings_std = ratings_stats['std']\n",
    "\n",
    "ratings_mean - ratings_std\n",
    "\n",
    "ratings_mean + ratings_std\n",
    "\n",
    "df_ratings_keep['target_1'].value_counts()"
   ]
  }
 ],
 "metadata": {
  "kernelspec": {
   "display_name": "Python 3 (ipykernel)",
   "language": "python",
   "name": "python3"
  },
  "language_info": {
   "codemirror_mode": {
    "name": "ipython",
    "version": 3
   },
   "file_extension": ".py",
   "mimetype": "text/x-python",
   "name": "python",
   "nbconvert_exporter": "python",
   "pygments_lexer": "ipython3",
   "version": "3.10.9"
  }
 },
 "nbformat": 4,
 "nbformat_minor": 5
}
