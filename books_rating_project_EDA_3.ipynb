{
 "cells": [
  {
   "cell_type": "code",
   "execution_count": 1,
   "id": "497959b0",
   "metadata": {},
   "outputs": [],
   "source": [
    "import os\n",
    "import pandas as pd\n",
    "import math"
   ]
  },
  {
   "cell_type": "code",
   "execution_count": 2,
   "id": "5269f546",
   "metadata": {},
   "outputs": [
    {
     "data": {
      "text/plain": [
       "['.DS_Store',\n",
       " '.git',\n",
       " '.github',\n",
       " '.ipynb_checkpoints',\n",
       " 'Books_ratings_R_version',\n",
       " 'books_rating_project_EDA_3.ipynb',\n",
       " 'books_rating_project_EDA_Cleaning_1.ipynb',\n",
       " 'books_rating_project_EDA_Cleaning_2.ipynb',\n",
       " 'data',\n",
       " 'Project_Description_ML_2023.docx.pdf',\n",
       " 'Python_labs_project.ipynb',\n",
       " 'README.md',\n",
       " 'requirements.txt']"
      ]
     },
     "execution_count": 2,
     "metadata": {},
     "output_type": "execute_result"
    }
   ],
   "source": [
    "os.listdir()"
   ]
  },
  {
   "cell_type": "code",
   "execution_count": 3,
   "id": "49fa4b78",
   "metadata": {},
   "outputs": [
    {
     "data": {
      "text/plain": [
       "['books.csv',\n",
       " 'cleaned_books.csv',\n",
       " 'uncleaned_books.csv',\n",
       " 'uncleaned_books.csv_bad_lines.txt',\n",
       " 'working_books.csv']"
      ]
     },
     "execution_count": 3,
     "metadata": {},
     "output_type": "execute_result"
    }
   ],
   "source": [
    "os.listdir('data')"
   ]
  },
  {
   "cell_type": "code",
   "execution_count": 4,
   "id": "b4390985",
   "metadata": {},
   "outputs": [],
   "source": [
    "folder = 'data/'\n",
    "f_ratings = 'cleaned_books.csv'\n",
    "ratings_path = folder + f_ratings"
   ]
  },
  {
   "cell_type": "code",
   "execution_count": 5,
   "id": "6ed5c9ac",
   "metadata": {},
   "outputs": [
    {
     "data": {
      "text/html": [
       "<div>\n",
       "<style scoped>\n",
       "    .dataframe tbody tr th:only-of-type {\n",
       "        vertical-align: middle;\n",
       "    }\n",
       "\n",
       "    .dataframe tbody tr th {\n",
       "        vertical-align: top;\n",
       "    }\n",
       "\n",
       "    .dataframe thead th {\n",
       "        text-align: right;\n",
       "    }\n",
       "</style>\n",
       "<table border=\"1\" class=\"dataframe\">\n",
       "  <thead>\n",
       "    <tr style=\"text-align: right;\">\n",
       "      <th></th>\n",
       "      <th>bookID</th>\n",
       "      <th>title</th>\n",
       "      <th>authors</th>\n",
       "      <th>isbn</th>\n",
       "      <th>isbn13</th>\n",
       "      <th>language_code</th>\n",
       "      <th>num_pages</th>\n",
       "      <th>ratings_count</th>\n",
       "      <th>text_reviews_count</th>\n",
       "      <th>publication_date</th>\n",
       "      <th>publisher</th>\n",
       "      <th>average_rating</th>\n",
       "    </tr>\n",
       "  </thead>\n",
       "  <tbody>\n",
       "    <tr>\n",
       "      <th>0</th>\n",
       "      <td>1</td>\n",
       "      <td>Harry Potter and the Half-Blood Prince (Harry ...</td>\n",
       "      <td>J.K. Rowling/Mary GrandPré</td>\n",
       "      <td>0439785960</td>\n",
       "      <td>9780439785969</td>\n",
       "      <td>eng</td>\n",
       "      <td>652</td>\n",
       "      <td>2095690</td>\n",
       "      <td>27591</td>\n",
       "      <td>2006-09-16</td>\n",
       "      <td>Scholastic Inc.</td>\n",
       "      <td>4.57</td>\n",
       "    </tr>\n",
       "    <tr>\n",
       "      <th>1</th>\n",
       "      <td>2</td>\n",
       "      <td>Harry Potter and the Order of the Phoenix (Har...</td>\n",
       "      <td>J.K. Rowling/Mary GrandPré</td>\n",
       "      <td>0439358078</td>\n",
       "      <td>9780439358071</td>\n",
       "      <td>eng</td>\n",
       "      <td>870</td>\n",
       "      <td>2153167</td>\n",
       "      <td>29221</td>\n",
       "      <td>2004-09-01</td>\n",
       "      <td>Scholastic Inc.</td>\n",
       "      <td>4.49</td>\n",
       "    </tr>\n",
       "    <tr>\n",
       "      <th>2</th>\n",
       "      <td>4</td>\n",
       "      <td>Harry Potter and the Chamber of Secrets (Harry...</td>\n",
       "      <td>J.K. Rowling</td>\n",
       "      <td>0439554896</td>\n",
       "      <td>9780439554893</td>\n",
       "      <td>eng</td>\n",
       "      <td>352</td>\n",
       "      <td>6333</td>\n",
       "      <td>244</td>\n",
       "      <td>2003-11-01</td>\n",
       "      <td>Scholastic</td>\n",
       "      <td>4.42</td>\n",
       "    </tr>\n",
       "    <tr>\n",
       "      <th>3</th>\n",
       "      <td>5</td>\n",
       "      <td>Harry Potter and the Prisoner of Azkaban (Harr...</td>\n",
       "      <td>J.K. Rowling/Mary GrandPré</td>\n",
       "      <td>043965548X</td>\n",
       "      <td>9780439655484</td>\n",
       "      <td>eng</td>\n",
       "      <td>435</td>\n",
       "      <td>2339585</td>\n",
       "      <td>36325</td>\n",
       "      <td>2004-05-01</td>\n",
       "      <td>Scholastic Inc.</td>\n",
       "      <td>4.56</td>\n",
       "    </tr>\n",
       "    <tr>\n",
       "      <th>4</th>\n",
       "      <td>8</td>\n",
       "      <td>Harry Potter Boxed Set  Books 1-5 (Harry Potte...</td>\n",
       "      <td>J.K. Rowling/Mary GrandPré</td>\n",
       "      <td>0439682584</td>\n",
       "      <td>9780439682589</td>\n",
       "      <td>eng</td>\n",
       "      <td>2690</td>\n",
       "      <td>41428</td>\n",
       "      <td>164</td>\n",
       "      <td>2004-09-13</td>\n",
       "      <td>Scholastic</td>\n",
       "      <td>4.78</td>\n",
       "    </tr>\n",
       "  </tbody>\n",
       "</table>\n",
       "</div>"
      ],
      "text/plain": [
       "   bookID                                              title  \\\n",
       "0       1  Harry Potter and the Half-Blood Prince (Harry ...   \n",
       "1       2  Harry Potter and the Order of the Phoenix (Har...   \n",
       "2       4  Harry Potter and the Chamber of Secrets (Harry...   \n",
       "3       5  Harry Potter and the Prisoner of Azkaban (Harr...   \n",
       "4       8  Harry Potter Boxed Set  Books 1-5 (Harry Potte...   \n",
       "\n",
       "                      authors        isbn         isbn13 language_code  \\\n",
       "0  J.K. Rowling/Mary GrandPré  0439785960  9780439785969           eng   \n",
       "1  J.K. Rowling/Mary GrandPré  0439358078  9780439358071           eng   \n",
       "2                J.K. Rowling  0439554896  9780439554893           eng   \n",
       "3  J.K. Rowling/Mary GrandPré  043965548X  9780439655484           eng   \n",
       "4  J.K. Rowling/Mary GrandPré  0439682584  9780439682589           eng   \n",
       "\n",
       "     num_pages  ratings_count  text_reviews_count publication_date  \\\n",
       "0          652        2095690               27591       2006-09-16   \n",
       "1          870        2153167               29221       2004-09-01   \n",
       "2          352           6333                 244       2003-11-01   \n",
       "3          435        2339585               36325       2004-05-01   \n",
       "4         2690          41428                 164       2004-09-13   \n",
       "\n",
       "         publisher  average_rating  \n",
       "0  Scholastic Inc.            4.57  \n",
       "1  Scholastic Inc.            4.49  \n",
       "2       Scholastic            4.42  \n",
       "3  Scholastic Inc.            4.56  \n",
       "4       Scholastic            4.78  "
      ]
     },
     "execution_count": 5,
     "metadata": {},
     "output_type": "execute_result"
    }
   ],
   "source": [
    "df_ratings = pd.read_csv(ratings_path)\n",
    "df_ratings.head()"
   ]
  },
  {
   "cell_type": "code",
   "execution_count": 6,
   "id": "d743677b",
   "metadata": {},
   "outputs": [
    {
     "data": {
      "text/plain": [
       "2292"
      ]
     },
     "execution_count": 6,
     "metadata": {},
     "output_type": "execute_result"
    }
   ],
   "source": [
    "len(df_ratings['publisher'].unique())"
   ]
  },
  {
   "cell_type": "code",
   "execution_count": 7,
   "id": "86fc7b1b",
   "metadata": {},
   "outputs": [
    {
     "data": {
      "text/plain": [
       "['bookID',\n",
       " 'title',\n",
       " 'authors',\n",
       " 'isbn',\n",
       " 'isbn13',\n",
       " 'language_code',\n",
       " '  num_pages',\n",
       " 'ratings_count',\n",
       " 'text_reviews_count',\n",
       " 'publication_date',\n",
       " 'publisher',\n",
       " 'average_rating']"
      ]
     },
     "execution_count": 7,
     "metadata": {},
     "output_type": "execute_result"
    }
   ],
   "source": [
    "list(df_ratings.columns)"
   ]
  },
  {
   "cell_type": "code",
   "execution_count": 8,
   "id": "8aa2bab1",
   "metadata": {},
   "outputs": [],
   "source": [
    "keep_cols = ['authors', 'language_code', '  num_pages', 'ratings_count', 'text_reviews_count', 'publisher', 'average_rating']"
   ]
  },
  {
   "cell_type": "code",
   "execution_count": 9,
   "id": "89fc4576",
   "metadata": {},
   "outputs": [],
   "source": [
    "df_ratings_keep = df_ratings[keep_cols]"
   ]
  },
  {
   "cell_type": "code",
   "execution_count": 10,
   "id": "ebdb2907",
   "metadata": {},
   "outputs": [],
   "source": [
    "def custom_round(num: float)->float:\n",
    "    floor = float(math.floor(num))\n",
    "    f_split = floor + .33\n",
    "    s_split = floor + .66\n",
    "\n",
    "    if num >= s_split:\n",
    "        return str(floor + 1.0)\n",
    "    if num >= f_split and num < s_split:\n",
    "        return str(floor + .5)\n",
    "    \n",
    "    return str(floor)"
   ]
  },
  {
   "cell_type": "code",
   "execution_count": 11,
   "id": "e4b8baa2",
   "metadata": {},
   "outputs": [
    {
     "name": "stderr",
     "output_type": "stream",
     "text": [
      "C:\\Users\\joesa\\AppData\\Local\\Temp\\ipykernel_27528\\819842606.py:1: SettingWithCopyWarning: \n",
      "A value is trying to be set on a copy of a slice from a DataFrame.\n",
      "Try using .loc[row_indexer,col_indexer] = value instead\n",
      "\n",
      "See the caveats in the documentation: https://pandas.pydata.org/pandas-docs/stable/user_guide/indexing.html#returning-a-view-versus-a-copy\n",
      "  df_ratings_keep['target_buckets'] = df_ratings_keep['average_rating'].apply(custom_round)\n"
     ]
    }
   ],
   "source": [
    "df_ratings_keep['target_buckets'] = df_ratings_keep['average_rating'].apply(custom_round)"
   ]
  },
  {
   "cell_type": "code",
   "execution_count": 12,
   "id": "6e32a4f0",
   "metadata": {},
   "outputs": [
    {
     "data": {
      "text/html": [
       "<div>\n",
       "<style scoped>\n",
       "    .dataframe tbody tr th:only-of-type {\n",
       "        vertical-align: middle;\n",
       "    }\n",
       "\n",
       "    .dataframe tbody tr th {\n",
       "        vertical-align: top;\n",
       "    }\n",
       "\n",
       "    .dataframe thead th {\n",
       "        text-align: right;\n",
       "    }\n",
       "</style>\n",
       "<table border=\"1\" class=\"dataframe\">\n",
       "  <thead>\n",
       "    <tr style=\"text-align: right;\">\n",
       "      <th></th>\n",
       "      <th>authors</th>\n",
       "      <th>language_code</th>\n",
       "      <th>num_pages</th>\n",
       "      <th>ratings_count</th>\n",
       "      <th>text_reviews_count</th>\n",
       "      <th>publisher</th>\n",
       "      <th>average_rating</th>\n",
       "      <th>target_buckets</th>\n",
       "    </tr>\n",
       "  </thead>\n",
       "  <tbody>\n",
       "    <tr>\n",
       "      <th>0</th>\n",
       "      <td>J.K. Rowling/Mary GrandPré</td>\n",
       "      <td>eng</td>\n",
       "      <td>652</td>\n",
       "      <td>2095690</td>\n",
       "      <td>27591</td>\n",
       "      <td>Scholastic Inc.</td>\n",
       "      <td>4.57</td>\n",
       "      <td>4.5</td>\n",
       "    </tr>\n",
       "    <tr>\n",
       "      <th>1</th>\n",
       "      <td>J.K. Rowling/Mary GrandPré</td>\n",
       "      <td>eng</td>\n",
       "      <td>870</td>\n",
       "      <td>2153167</td>\n",
       "      <td>29221</td>\n",
       "      <td>Scholastic Inc.</td>\n",
       "      <td>4.49</td>\n",
       "      <td>4.5</td>\n",
       "    </tr>\n",
       "    <tr>\n",
       "      <th>2</th>\n",
       "      <td>J.K. Rowling</td>\n",
       "      <td>eng</td>\n",
       "      <td>352</td>\n",
       "      <td>6333</td>\n",
       "      <td>244</td>\n",
       "      <td>Scholastic</td>\n",
       "      <td>4.42</td>\n",
       "      <td>4.5</td>\n",
       "    </tr>\n",
       "    <tr>\n",
       "      <th>3</th>\n",
       "      <td>J.K. Rowling/Mary GrandPré</td>\n",
       "      <td>eng</td>\n",
       "      <td>435</td>\n",
       "      <td>2339585</td>\n",
       "      <td>36325</td>\n",
       "      <td>Scholastic Inc.</td>\n",
       "      <td>4.56</td>\n",
       "      <td>4.5</td>\n",
       "    </tr>\n",
       "    <tr>\n",
       "      <th>4</th>\n",
       "      <td>J.K. Rowling/Mary GrandPré</td>\n",
       "      <td>eng</td>\n",
       "      <td>2690</td>\n",
       "      <td>41428</td>\n",
       "      <td>164</td>\n",
       "      <td>Scholastic</td>\n",
       "      <td>4.78</td>\n",
       "      <td>5.0</td>\n",
       "    </tr>\n",
       "  </tbody>\n",
       "</table>\n",
       "</div>"
      ],
      "text/plain": [
       "                      authors language_code    num_pages  ratings_count  \\\n",
       "0  J.K. Rowling/Mary GrandPré           eng          652        2095690   \n",
       "1  J.K. Rowling/Mary GrandPré           eng          870        2153167   \n",
       "2                J.K. Rowling           eng          352           6333   \n",
       "3  J.K. Rowling/Mary GrandPré           eng          435        2339585   \n",
       "4  J.K. Rowling/Mary GrandPré           eng         2690          41428   \n",
       "\n",
       "   text_reviews_count        publisher  average_rating target_buckets  \n",
       "0               27591  Scholastic Inc.            4.57            4.5  \n",
       "1               29221  Scholastic Inc.            4.49            4.5  \n",
       "2                 244       Scholastic            4.42            4.5  \n",
       "3               36325  Scholastic Inc.            4.56            4.5  \n",
       "4                 164       Scholastic            4.78            5.0  "
      ]
     },
     "execution_count": 12,
     "metadata": {},
     "output_type": "execute_result"
    }
   ],
   "source": [
    "df_ratings_keep.head()"
   ]
  },
  {
   "cell_type": "code",
   "execution_count": 13,
   "id": "3ffe69ab",
   "metadata": {},
   "outputs": [],
   "source": [
    "keep_cols = ['authors', 'language_code', '  num_pages', 'ratings_count', 'text_reviews_count', 'publisher', 'target_buckets']"
   ]
  },
  {
   "cell_type": "code",
   "execution_count": 14,
   "id": "948d7ae8",
   "metadata": {},
   "outputs": [],
   "source": [
    "df_ratings_keep = df_ratings_keep[keep_cols]"
   ]
  },
  {
   "cell_type": "markdown",
   "id": "71c63b35",
   "metadata": {},
   "source": [
    "# Please disregard the cells below this line. They provide an ok proof of concept, but are most likely not the correct way to set up the problem"
   ]
  },
  {
   "cell_type": "code",
   "execution_count": 15,
   "id": "c488a310",
   "metadata": {},
   "outputs": [],
   "source": [
    "from sklearn.model_selection import train_test_split\n",
    "from sklearn.linear_model import LogisticRegression\n",
    "from sklearn.preprocessing import OneHotEncoder\n",
    "from sklearn.compose import make_column_transformer\n",
    "import time"
   ]
  },
  {
   "cell_type": "code",
   "execution_count": 16,
   "id": "f666678d",
   "metadata": {},
   "outputs": [],
   "source": [
    "y = df_ratings_keep['target_buckets']\n",
    "x = df_ratings_keep[df_ratings_keep.columns.difference(['target_buckets'])]"
   ]
  },
  {
   "cell_type": "code",
   "execution_count": 17,
   "id": "ae984289",
   "metadata": {},
   "outputs": [],
   "source": [
    "x_train, x_test, y_train, y_test = train_test_split(x, y, test_size=0.3, random_state=42)"
   ]
  },
  {
   "cell_type": "code",
   "execution_count": 18,
   "id": "13050c5f",
   "metadata": {},
   "outputs": [],
   "source": [
    "transformer = make_column_transformer(\n",
    "             (OneHotEncoder(handle_unknown='ignore'), ['authors', 'language_code', 'publisher']),\n",
    "              remainder='passthrough')"
   ]
  },
  {
   "cell_type": "code",
   "execution_count": 19,
   "id": "f004bc97",
   "metadata": {},
   "outputs": [],
   "source": [
    "?? transformer.fit"
   ]
  },
  {
   "cell_type": "code",
   "execution_count": null,
   "id": "ec4e1272",
   "metadata": {},
   "outputs": [],
   "source": [
    "transformed_train = transformer.fit_transform(x_train)"
   ]
  },
  {
   "cell_type": "code",
   "execution_count": null,
   "id": "c0abdd6a",
   "metadata": {},
   "outputs": [],
   "source": [
    "transformed_test = transformer.fit_transform(x_test)"
   ]
  },
  {
   "cell_type": "code",
   "execution_count": null,
   "id": "d21aea48",
   "metadata": {},
   "outputs": [],
   "source": [
    "## data_one_hot_sparse = pd.get_dummies(df_ratings_keep, columns=['authors', 'language_code', 'publisher'], sparse=True)"
   ]
  },
  {
   "cell_type": "code",
   "execution_count": null,
   "id": "1cfc0bbd",
   "metadata": {},
   "outputs": [],
   "source": [
    "## data_one_hot_sparse"
   ]
  },
  {
   "cell_type": "code",
   "execution_count": null,
   "id": "63fb2c11",
   "metadata": {},
   "outputs": [],
   "source": []
  },
  {
   "cell_type": "code",
   "execution_count": null,
   "id": "212c94b2",
   "metadata": {},
   "outputs": [],
   "source": [
    "logreg = LogisticRegression(random_state=0, multi_class='ovr', solver = 'liblinear')"
   ]
  },
  {
   "cell_type": "code",
   "execution_count": null,
   "id": "af618173",
   "metadata": {},
   "outputs": [],
   "source": [
    "logreg.fit(transformed_train, y_train)"
   ]
  },
  {
   "cell_type": "code",
   "execution_count": null,
   "id": "d42f42af",
   "metadata": {},
   "outputs": [],
   "source": [
    "predictions = logreg.predict(transformed_test)"
   ]
  },
  {
   "cell_type": "code",
   "execution_count": null,
   "id": "c281d2fe",
   "metadata": {},
   "outputs": [],
   "source": [
    "score = logreg.score(x_test, y_test)"
   ]
  },
  {
   "cell_type": "code",
   "execution_count": null,
   "id": "02fa1b59",
   "metadata": {},
   "outputs": [],
   "source": [
    "score"
   ]
  },
  {
   "cell_type": "code",
   "execution_count": null,
   "id": "ee6b0b95",
   "metadata": {},
   "outputs": [],
   "source": [
    "duration_train"
   ]
  },
  {
   "cell_type": "code",
   "execution_count": null,
   "id": "6e1b03a6",
   "metadata": {},
   "outputs": [],
   "source": [
    "model.score(x, y)"
   ]
  },
  {
   "cell_type": "code",
   "execution_count": null,
   "id": "00ec122f",
   "metadata": {},
   "outputs": [],
   "source": [
    "from sklearn.ensemble import RandomForestClassifier"
   ]
  },
  {
   "cell_type": "code",
   "execution_count": null,
   "id": "e845df94",
   "metadata": {},
   "outputs": [],
   "source": [
    "clf = RandomForestClassifier(n_estimators=100)"
   ]
  },
  {
   "cell_type": "code",
   "execution_count": null,
   "id": "a6ff3827",
   "metadata": {},
   "outputs": [],
   "source": [
    "clf.fit(x_train, y_train)"
   ]
  },
  {
   "cell_type": "code",
   "execution_count": null,
   "id": "0dca2350",
   "metadata": {},
   "outputs": [],
   "source": [
    "y_pred=clf.predict(x_test_oh)"
   ]
  },
  {
   "cell_type": "code",
   "execution_count": null,
   "id": "90336b55",
   "metadata": {},
   "outputs": [],
   "source": [
    "from sklearn import metrics"
   ]
  },
  {
   "cell_type": "code",
   "execution_count": null,
   "id": "e5afd026",
   "metadata": {},
   "outputs": [],
   "source": [
    "print('accuracy:', metrics.accuracy_score(y_test, y_pred))"
   ]
  },
  {
   "cell_type": "code",
   "execution_count": null,
   "id": "d2062534",
   "metadata": {},
   "outputs": [],
   "source": [
    "keep_cols = ['  num_pages', 'ratings_count', 'text_reviews_count', 'target_buckets']"
   ]
  },
  {
   "cell_type": "code",
   "execution_count": null,
   "id": "4f2091be",
   "metadata": {},
   "outputs": [],
   "source": [
    "df_non_cat = df_ratings_keep[keep_cols]"
   ]
  },
  {
   "cell_type": "code",
   "execution_count": null,
   "id": "b5e8b87e",
   "metadata": {},
   "outputs": [],
   "source": [
    "y = df_non_cat['target_buckets']\n",
    "x = df_non_cat[df_non_cat.columns.difference(['target_buckets'])]"
   ]
  },
  {
   "cell_type": "code",
   "execution_count": null,
   "id": "00208b10",
   "metadata": {},
   "outputs": [],
   "source": [
    "x_train, x_test, y_train, y_test = train_test_split(x, y, test_size=0.3, random_state=42)"
   ]
  },
  {
   "cell_type": "code",
   "execution_count": null,
   "id": "f3802af1",
   "metadata": {},
   "outputs": [],
   "source": [
    "clf = RandomForestClassifier(n_estimators=100)"
   ]
  },
  {
   "cell_type": "code",
   "execution_count": null,
   "id": "cc7002c2",
   "metadata": {},
   "outputs": [],
   "source": [
    "clf.fit(x_train, y_train)"
   ]
  },
  {
   "cell_type": "code",
   "execution_count": null,
   "id": "9d1d84f0",
   "metadata": {},
   "outputs": [],
   "source": [
    "y_pred=clf.predict(x_test)"
   ]
  },
  {
   "cell_type": "code",
   "execution_count": null,
   "id": "f3b3c9b9",
   "metadata": {},
   "outputs": [],
   "source": [
    "print('accuracy:', metrics.accuracy_score(y_test, y_pred))"
   ]
  },
  {
   "cell_type": "code",
   "execution_count": null,
   "id": "ab34ba40",
   "metadata": {},
   "outputs": [],
   "source": [
    "keep_cols = ['authors','  num_pages', 'ratings_count', 'text_reviews_count', 'target_buckets']"
   ]
  },
  {
   "cell_type": "code",
   "execution_count": null,
   "id": "4d5680f5",
   "metadata": {},
   "outputs": [],
   "source": [
    "df_auth = df_ratings_keep[keep_cols]"
   ]
  },
  {
   "cell_type": "code",
   "execution_count": null,
   "id": "3165e107",
   "metadata": {},
   "outputs": [],
   "source": [
    "data_one_hot_authors = pd.get_dummies(df_auth, columns=['authors'], sparse=True)"
   ]
  },
  {
   "cell_type": "code",
   "execution_count": null,
   "id": "d318fbf4",
   "metadata": {},
   "outputs": [],
   "source": [
    "y = data_one_hot_authors['target_buckets']\n",
    "x = data_one_hot_authors[data_one_hot_authors.columns.difference(['target_buckets'])]"
   ]
  },
  {
   "cell_type": "code",
   "execution_count": null,
   "id": "4f3b72d2",
   "metadata": {},
   "outputs": [],
   "source": [
    "x_train, x_test, y_train, y_test = train_test_split(x, y, test_size=0.3, random_state=42)"
   ]
  },
  {
   "cell_type": "code",
   "execution_count": null,
   "id": "208f658a",
   "metadata": {},
   "outputs": [],
   "source": [
    "clf = RandomForestClassifier(n_estimators=100)"
   ]
  },
  {
   "cell_type": "code",
   "execution_count": null,
   "id": "98956356",
   "metadata": {},
   "outputs": [],
   "source": [
    "clf.fit(x_train, y_train)"
   ]
  },
  {
   "cell_type": "code",
   "execution_count": null,
   "id": "fe5e5ef6",
   "metadata": {},
   "outputs": [],
   "source": [
    "y_pred=clf.predict(x_test)"
   ]
  },
  {
   "cell_type": "code",
   "execution_count": null,
   "id": "26778fd9",
   "metadata": {},
   "outputs": [],
   "source": [
    "print('accuracy:', metrics.accuracy_score(y_test, y_pred))"
   ]
  },
  {
   "cell_type": "code",
   "execution_count": null,
   "id": "f5c70eb3",
   "metadata": {},
   "outputs": [],
   "source": []
  },
  {
   "cell_type": "code",
   "execution_count": null,
   "id": "0f6a9d43",
   "metadata": {},
   "outputs": [],
   "source": []
  },
  {
   "cell_type": "code",
   "execution_count": null,
   "id": "42eb69e8",
   "metadata": {},
   "outputs": [],
   "source": []
  },
  {
   "cell_type": "code",
   "execution_count": null,
   "id": "7600b40c",
   "metadata": {},
   "outputs": [],
   "source": []
  },
  {
   "cell_type": "code",
   "execution_count": null,
   "id": "95617a14",
   "metadata": {},
   "outputs": [],
   "source": []
  },
  {
   "cell_type": "code",
   "execution_count": null,
   "id": "babbb237",
   "metadata": {},
   "outputs": [],
   "source": []
  },
  {
   "cell_type": "code",
   "execution_count": null,
   "id": "a36c94ac",
   "metadata": {},
   "outputs": [],
   "source": []
  },
  {
   "cell_type": "code",
   "execution_count": null,
   "id": "b53db244",
   "metadata": {},
   "outputs": [],
   "source": []
  },
  {
   "cell_type": "code",
   "execution_count": null,
   "id": "502e7f15",
   "metadata": {},
   "outputs": [],
   "source": []
  },
  {
   "cell_type": "code",
   "execution_count": null,
   "id": "d15de6c0",
   "metadata": {},
   "outputs": [],
   "source": []
  },
  {
   "cell_type": "code",
   "execution_count": null,
   "id": "f3faffb1",
   "metadata": {},
   "outputs": [],
   "source": []
  },
  {
   "cell_type": "code",
   "execution_count": null,
   "id": "d0a4001a",
   "metadata": {},
   "outputs": [],
   "source": []
  },
  {
   "cell_type": "code",
   "execution_count": null,
   "id": "c964380e",
   "metadata": {},
   "outputs": [],
   "source": []
  },
  {
   "cell_type": "code",
   "execution_count": null,
   "id": "cb9af6f3",
   "metadata": {},
   "outputs": [],
   "source": []
  },
  {
   "cell_type": "code",
   "execution_count": null,
   "id": "66904f7f",
   "metadata": {},
   "outputs": [],
   "source": [
    "df_ratings.info()"
   ]
  },
  {
   "cell_type": "code",
   "execution_count": null,
   "id": "852a0201",
   "metadata": {},
   "outputs": [],
   "source": []
  },
  {
   "cell_type": "code",
   "execution_count": null,
   "id": "646b5713",
   "metadata": {},
   "outputs": [],
   "source": [
    "df_ratings.describe()"
   ]
  },
  {
   "cell_type": "code",
   "execution_count": null,
   "id": "12388649",
   "metadata": {},
   "outputs": [],
   "source": [
    "df_ratings.describe(include=object)"
   ]
  },
  {
   "cell_type": "code",
   "execution_count": null,
   "id": "aa06e845",
   "metadata": {},
   "outputs": [],
   "source": [
    "df_ratings.corr()"
   ]
  },
  {
   "cell_type": "code",
   "execution_count": null,
   "id": "06eed501",
   "metadata": {},
   "outputs": [],
   "source": [
    "?? df_ratings.corr"
   ]
  },
  {
   "cell_type": "code",
   "execution_count": null,
   "id": "ad001f96",
   "metadata": {},
   "outputs": [],
   "source": [
    "df_ratings = df_ratings.astype({'bookID': str, 'isbn13': str})"
   ]
  },
  {
   "cell_type": "code",
   "execution_count": null,
   "id": "3621fc9a",
   "metadata": {},
   "outputs": [],
   "source": [
    "df_ratings['publication_date'] = pd.to_datetime(df_ratings['publication_date'])"
   ]
  },
  {
   "cell_type": "code",
   "execution_count": null,
   "id": "fd96d90d",
   "metadata": {},
   "outputs": [],
   "source": [
    "df_ratings.info()"
   ]
  },
  {
   "cell_type": "code",
   "execution_count": null,
   "id": "99b58743",
   "metadata": {},
   "outputs": [],
   "source": [
    "df_ratings.corr()"
   ]
  },
  {
   "cell_type": "code",
   "execution_count": null,
   "id": "f8ed1735",
   "metadata": {},
   "outputs": [],
   "source": [
    "df_ratings['target_rating'] = df_ratings['average_rating'].apply(custom_round)"
   ]
  },
  {
   "cell_type": "code",
   "execution_count": null,
   "id": "58aa8438",
   "metadata": {},
   "outputs": [],
   "source": [
    "df_ratings.head()"
   ]
  },
  {
   "cell_type": "code",
   "execution_count": null,
   "id": "1394d0bc",
   "metadata": {},
   "outputs": [],
   "source": [
    "?? pd.get_dummies"
   ]
  },
  {
   "cell_type": "code",
   "execution_count": null,
   "id": "6d81a260",
   "metadata": {},
   "outputs": [],
   "source": [
    "df_new = df_ratings['authors'].str.get_dummies(sep=\"/\")"
   ]
  },
  {
   "cell_type": "code",
   "execution_count": null,
   "id": "65738939",
   "metadata": {},
   "outputs": [],
   "source": [
    "df_new = pd.get_dummies(df_new['language_code'])"
   ]
  },
  {
   "cell_type": "code",
   "execution_count": null,
   "id": "0a9729e4",
   "metadata": {},
   "outputs": [],
   "source": [
    "pd.get_dummies(df_ratings['publisher'])"
   ]
  },
  {
   "cell_type": "code",
   "execution_count": null,
   "id": "4cc3cca9",
   "metadata": {},
   "outputs": [],
   "source": [
    "x = 3.3\n",
    "y = 3.4\n",
    "z = 3.7"
   ]
  },
  {
   "cell_type": "code",
   "execution_count": null,
   "id": "be223643",
   "metadata": {},
   "outputs": [],
   "source": []
  },
  {
   "cell_type": "code",
   "execution_count": null,
   "id": "25209769",
   "metadata": {},
   "outputs": [],
   "source": [
    "custom_round(x)"
   ]
  },
  {
   "cell_type": "code",
   "execution_count": null,
   "id": "36ebe9b6",
   "metadata": {},
   "outputs": [],
   "source": [
    "custom_round(y)"
   ]
  },
  {
   "cell_type": "code",
   "execution_count": null,
   "id": "374d21c6",
   "metadata": {},
   "outputs": [],
   "source": [
    "custom_round(z)"
   ]
  },
  {
   "cell_type": "code",
   "execution_count": null,
   "id": "c3843f71",
   "metadata": {},
   "outputs": [],
   "source": []
  }
 ],
 "metadata": {
  "kernelspec": {
   "display_name": "Python 3 (ipykernel)",
   "language": "python",
   "name": "python3"
  },
  "language_info": {
   "codemirror_mode": {
    "name": "ipython",
    "version": 3
   },
   "file_extension": ".py",
   "mimetype": "text/x-python",
   "name": "python",
   "nbconvert_exporter": "python",
   "pygments_lexer": "ipython3",
   "version": "3.10.9"
  }
 },
 "nbformat": 4,
 "nbformat_minor": 5
}
