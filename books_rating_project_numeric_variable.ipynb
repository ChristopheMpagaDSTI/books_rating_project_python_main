{
 "cells": [
  {
   "cell_type": "code",
   "execution_count": 1,
   "metadata": {},
   "outputs": [],
   "source": [
    "import pandas as pd\n",
    "import numpy as np\n",
    "import seaborn as sns\n",
    "import matplotlib as plt\n",
    "import plotly as ply\n",
    "import sklearn as skl\n",
    "import datetime as dt \n",
    "import math\n",
    "\n",
    "from sklearn.model_selection import train_test_split\n",
    "from sklearn import linear_model\n",
    "from sklearn.ensemble import RandomForestRegressor \n",
    "from sklearn.model_selection import cross_val_score\n",
    "from sklearn.neural_network import MLPClassifier"
   ]
  },
  {
   "cell_type": "code",
   "execution_count": 2,
   "metadata": {},
   "outputs": [],
   "source": [
    "# load data \n",
    "df = pd.read_csv(\"books.csv\")"
   ]
  },
  {
   "attachments": {},
   "cell_type": "markdown",
   "metadata": {},
   "source": [
    "# data processing"
   ]
  },
  {
   "cell_type": "code",
   "execution_count": 3,
   "metadata": {},
   "outputs": [],
   "source": [
    "# num_pages space canceled\n",
    "df = df.rename(columns= {\"  num_pages\": \"num_pages\"})"
   ]
  },
  {
   "cell_type": "code",
   "execution_count": 8,
   "metadata": {},
   "outputs": [],
   "source": [
    "# English dummies\n",
    "df['english'] = np.where(df['language_code'].str[0:2] == 'en', 1, 0)"
   ]
  },
  {
   "cell_type": "code",
   "execution_count": 9,
   "metadata": {},
   "outputs": [
    {
     "data": {
      "text/plain": [
       "['bookID',\n",
       " 'title',\n",
       " 'authors',\n",
       " 'average_rating',\n",
       " 'isbn',\n",
       " 'isbn13',\n",
       " 'language_code',\n",
       " 'num_pages',\n",
       " 'ratings_count',\n",
       " 'text_reviews_count',\n",
       " 'publication_date',\n",
       " 'publisher',\n",
       " 'english']"
      ]
     },
     "execution_count": 9,
     "metadata": {},
     "output_type": "execute_result"
    }
   ],
   "source": [
    "cols_adjust = df.columns.tolist()\n",
    "cols_adjust"
   ]
  },
  {
   "cell_type": "code",
   "execution_count": 10,
   "metadata": {},
   "outputs": [
    {
     "data": {
      "text/html": [
       "<div>\n",
       "<style scoped>\n",
       "    .dataframe tbody tr th:only-of-type {\n",
       "        vertical-align: middle;\n",
       "    }\n",
       "\n",
       "    .dataframe tbody tr th {\n",
       "        vertical-align: top;\n",
       "    }\n",
       "\n",
       "    .dataframe thead th {\n",
       "        text-align: right;\n",
       "    }\n",
       "</style>\n",
       "<table border=\"1\" class=\"dataframe\">\n",
       "  <thead>\n",
       "    <tr style=\"text-align: right;\">\n",
       "      <th></th>\n",
       "      <th>bookID</th>\n",
       "      <th>title</th>\n",
       "      <th>authors</th>\n",
       "      <th>average_rating</th>\n",
       "      <th>isbn</th>\n",
       "      <th>isbn13</th>\n",
       "      <th>language_code</th>\n",
       "      <th>num_pages</th>\n",
       "      <th>ratings_count</th>\n",
       "      <th>text_reviews_count</th>\n",
       "      <th>publication_date</th>\n",
       "      <th>publisher</th>\n",
       "      <th>english</th>\n",
       "    </tr>\n",
       "  </thead>\n",
       "  <tbody>\n",
       "    <tr>\n",
       "      <th>0</th>\n",
       "      <td>1</td>\n",
       "      <td>Harry Potter and the Half-Blood Prince (Harry ...</td>\n",
       "      <td>J.K. Rowling/Mary GrandPré</td>\n",
       "      <td>4.57</td>\n",
       "      <td>0439785960</td>\n",
       "      <td>9780439785969</td>\n",
       "      <td>eng</td>\n",
       "      <td>652</td>\n",
       "      <td>2095690</td>\n",
       "      <td>27591</td>\n",
       "      <td>9/16/2006</td>\n",
       "      <td>Scholastic Inc.</td>\n",
       "      <td>1</td>\n",
       "    </tr>\n",
       "    <tr>\n",
       "      <th>1</th>\n",
       "      <td>2</td>\n",
       "      <td>Harry Potter and the Order of the Phoenix (Har...</td>\n",
       "      <td>J.K. Rowling/Mary GrandPré</td>\n",
       "      <td>4.49</td>\n",
       "      <td>0439358078</td>\n",
       "      <td>9780439358071</td>\n",
       "      <td>eng</td>\n",
       "      <td>870</td>\n",
       "      <td>2153167</td>\n",
       "      <td>29221</td>\n",
       "      <td>9/1/2004</td>\n",
       "      <td>Scholastic Inc.</td>\n",
       "      <td>1</td>\n",
       "    </tr>\n",
       "  </tbody>\n",
       "</table>\n",
       "</div>"
      ],
      "text/plain": [
       "   bookID                                              title  \\\n",
       "0       1  Harry Potter and the Half-Blood Prince (Harry ...   \n",
       "1       2  Harry Potter and the Order of the Phoenix (Har...   \n",
       "\n",
       "                      authors  average_rating        isbn         isbn13  \\\n",
       "0  J.K. Rowling/Mary GrandPré            4.57  0439785960  9780439785969   \n",
       "1  J.K. Rowling/Mary GrandPré            4.49  0439358078  9780439358071   \n",
       "\n",
       "  language_code  num_pages  ratings_count  text_reviews_count  \\\n",
       "0           eng        652        2095690               27591   \n",
       "1           eng        870        2153167               29221   \n",
       "\n",
       "  publication_date        publisher  english  \n",
       "0        9/16/2006  Scholastic Inc.        1  \n",
       "1         9/1/2004  Scholastic Inc.        1  "
      ]
     },
     "execution_count": 10,
     "metadata": {},
     "output_type": "execute_result"
    }
   ],
   "source": [
    "df.head(2)"
   ]
  },
  {
   "attachments": {},
   "cell_type": "markdown",
   "metadata": {},
   "source": [
    "# setting up R-squared and RMSE indices"
   ]
  },
  {
   "cell_type": "code",
   "execution_count": 22,
   "metadata": {},
   "outputs": [],
   "source": [
    "def model_cross_val(models={}, X_test=None, y_test=None, cv=None, scoring=()):\n",
    "    scoring_method = ('r2', 'neg_root_mean_squared_error')\n",
    "\n",
    "    table = {\"r2\": [], \"neg_root_mean_squared_error\": []}\n",
    "\n",
    "    for mod in models:\n",
    "        for sco in scoring_method:\n",
    "            score = cross_val_score(models[mod], X_test, y_test, cv=cv, scoring=sco).mean()\n",
    "            if sco == 'r2':\n",
    "                table[sco].append(score)\n",
    "            else:\n",
    "                table[sco].append(abs(score))\n",
    "\n",
    "    print(\n",
    "        pd.DataFrame(data = table, index = models, columns=table.keys())\n",
    "        .sort_values(by=list(table.keys())[0], ascending=False)\n",
    "    )"
   ]
  },
  {
   "attachments": {},
   "cell_type": "markdown",
   "metadata": {},
   "source": [
    "# setting up model selecting generator function"
   ]
  },
  {
   "cell_type": "code",
   "execution_count": 29,
   "metadata": {},
   "outputs": [],
   "source": [
    "def model_selecting_generator(df=None):\n",
    "    train0, test = train_test_split(df, test_size=20, random_state=42)\n",
    "\n",
    "    # split train0 in train and valid\n",
    "    train, valid = train_test_split(train0, test_size=40, random_state=42)\n",
    "\n",
    "    # subsetting\n",
    "    # train0\n",
    "    X_train0 = train0.drop(\"average_rating\", axis = 1)\n",
    "    y_train0 = train0.average_rating\n",
    "\n",
    "    # train\n",
    "    X_train = train.drop(\"average_rating\", axis = 1)\n",
    "    y_train = train.average_rating\n",
    "\n",
    "    # valid\n",
    "    X_valid = valid.drop(\"average_rating\", axis = 1)\n",
    "    y_valid = valid.average_rating\n",
    "\n",
    "    # test\n",
    "    X_test = test.drop(\"average_rating\", axis = 1)\n",
    "    y_test = test.average_rating\n",
    "\n",
    "\n",
    "    ## model selection process\n",
    "    # Linear Regression\n",
    "    reg = linear_model.LinearRegression()\n",
    "    reg.fit(X_train, y_train)\n",
    "\n",
    "    # ridge model\n",
    "    reg_ridge = linear_model.Ridge(alpha=0.01)\n",
    "    reg_ridge.fit(X_train,y_train)\n",
    "\n",
    "    # ridge CV\n",
    "    reg_ridge_CV = linear_model.RidgeCV(alphas=[0.001,0.01,0.1,1,10],cv=5)\n",
    "    reg_ridge_CV.fit(X_train0,y_train0)\n",
    "\n",
    "    # lasso model\n",
    "    reg_lasso = linear_model.Lasso(alpha=0.5)\n",
    "    reg_lasso.fit(X_train,y_train)\n",
    "\n",
    "    # random forest\n",
    "    rf = RandomForestRegressor(n_estimators = 100, random_state = 42)\n",
    "    rf.fit(X_train, y_train)\n",
    "\n",
    "    ## R2 + RMSE table\n",
    "    models = {\n",
    "        'linear reg': reg, \n",
    "        'ridge model': reg_ridge,\n",
    "        'lasso model': reg_lasso,\n",
    "        'ridge CV': reg_ridge_CV,\n",
    "        'random forest': rf\n",
    "    }\n",
    "\n",
    "    return model_cross_val(models, X_test, y_test, cv=10)"
   ]
  },
  {
   "attachments": {},
   "cell_type": "markdown",
   "metadata": {},
   "source": [
    "# index of data frames - part 2"
   ]
  },
  {
   "cell_type": "code",
   "execution_count": 40,
   "metadata": {},
   "outputs": [],
   "source": [
    "df2_0 = df[['average_rating', 'num_pages', 'text_reviews_count', 'ratings_count']]\n",
    "df2_1 = df[['average_rating', 'num_pages', 'text_reviews_count']]\n",
    "df2_2 = df[['average_rating', 'num_pages', 'ratings_count']]\n",
    "df2_3 = df[['average_rating', 'ratings_count', 'text_reviews_count']]\n",
    "df2_4 = df[['average_rating', 'num_pages']]\n",
    "df2_5 = df[['average_rating', 'text_reviews_count']]\n",
    "df2_6 = df[['average_rating', 'ratings_count']]\n",
    "\n",
    "df2_10 = df[['average_rating', 'num_pages', 'text_reviews_count', 'ratings_count', 'english']]\n",
    "df2_11 = df[['average_rating', 'num_pages', 'text_reviews_count', 'english']]\n",
    "df2_12 = df[['average_rating', 'ratings_count', 'num_pages', 'english']]\n",
    "df2_13 = df[['average_rating', 'ratings_count', 'text_reviews_count', 'english']]\n",
    "df2_14 = df[['average_rating', 'num_pages', 'english']]\n",
    "df2_15 = df[['average_rating', 'text_reviews_count', 'english']]\n",
    "df2_16 = df[['average_rating', 'ratings_count', 'english']]"
   ]
  },
  {
   "cell_type": "code",
   "execution_count": 49,
   "metadata": {},
   "outputs": [
    {
     "name": "stdout",
     "output_type": "stream",
     "text": [
      "                     r2  neg_root_mean_squared_error\n",
      "lasso model   -1.368071                     0.169600\n",
      "ridge CV      -2.063746                     0.181474\n",
      "ridge model   -2.066523                     0.181517\n",
      "linear reg    -2.066526                     0.181517\n",
      "random forest -4.580882                     0.184104\n"
     ]
    }
   ],
   "source": [
    "model_selecting_generator(df2_0) # 'num_pages', 'text_reviews_count', 'ratings_count'"
   ]
  },
  {
   "cell_type": "code",
   "execution_count": 39,
   "metadata": {},
   "outputs": [
    {
     "name": "stdout",
     "output_type": "stream",
     "text": [
      "                     r2  neg_root_mean_squared_error\n",
      "random forest -1.610271                     0.166806\n",
      "lasso model   -2.502406                     0.180121\n",
      "ridge CV      -2.591104                     0.181346\n",
      "ridge model   -2.591114                     0.181346\n",
      "linear reg    -2.591114                     0.181346\n"
     ]
    }
   ],
   "source": [
    "model_selecting_generator(df2_1) # 'num_pages', 'text_reviews_count'"
   ]
  },
  {
   "cell_type": "code",
   "execution_count": 31,
   "metadata": {},
   "outputs": [
    {
     "name": "stdout",
     "output_type": "stream",
     "text": [
      "                     r2  neg_root_mean_squared_error\n",
      "linear reg    -2.613689                     0.180322\n",
      "ridge model   -2.613689                     0.180322\n",
      "ridge CV      -2.613691                     0.180322\n",
      "lasso model   -2.622429                     0.180983\n",
      "random forest -6.087708                     0.192125\n"
     ]
    }
   ],
   "source": [
    "model_selecting_generator(df2_2) # 'num_pages', 'ratings_count'"
   ]
  },
  {
   "cell_type": "code",
   "execution_count": 32,
   "metadata": {},
   "outputs": [
    {
     "name": "stdout",
     "output_type": "stream",
     "text": [
      "                     r2  neg_root_mean_squared_error\n",
      "lasso model   -1.327372                     0.172451\n",
      "ridge CV      -2.269475                     0.185311\n",
      "ridge model   -2.273257                     0.185362\n",
      "linear reg    -2.273261                     0.185363\n",
      "random forest -8.370762                     0.216634\n"
     ]
    }
   ],
   "source": [
    "model_selecting_generator(df2_3) # 'ratings_count', 'text_reviews_count'"
   ]
  },
  {
   "cell_type": "code",
   "execution_count": 33,
   "metadata": {},
   "outputs": [
    {
     "name": "stdout",
     "output_type": "stream",
     "text": [
      "                     r2  neg_root_mean_squared_error\n",
      "lasso model   -1.902108                     0.168400\n",
      "ridge CV      -1.924998                     0.168308\n",
      "ridge model   -1.925007                     0.168308\n",
      "linear reg    -1.925007                     0.168308\n",
      "random forest -5.498188                     0.210366\n"
     ]
    }
   ],
   "source": [
    "model_selecting_generator(df2_4) # 'num_pages'"
   ]
  },
  {
   "cell_type": "code",
   "execution_count": 34,
   "metadata": {},
   "outputs": [
    {
     "name": "stdout",
     "output_type": "stream",
     "text": [
      "                     r2  neg_root_mean_squared_error\n",
      "lasso model   -3.106730                     0.199547\n",
      "ridge CV      -3.231326                     0.201672\n",
      "ridge model   -3.231354                     0.201672\n",
      "linear reg    -3.231354                     0.201672\n",
      "random forest -7.967233                     0.211748\n"
     ]
    }
   ],
   "source": [
    "model_selecting_generator(df2_5) # 'text_reviews_count'"
   ]
  },
  {
   "cell_type": "code",
   "execution_count": 35,
   "metadata": {},
   "outputs": [
    {
     "name": "stdout",
     "output_type": "stream",
     "text": [
      "                     r2  neg_root_mean_squared_error\n",
      "lasso model   -3.055845                     0.196249\n",
      "ridge CV      -3.059901                     0.196359\n",
      "ridge model   -3.059901                     0.196359\n",
      "linear reg    -3.059901                     0.196359\n",
      "random forest -5.305446                     0.211069\n"
     ]
    }
   ],
   "source": [
    "model_selecting_generator(df2_6) # 'ratings_count'"
   ]
  },
  {
   "cell_type": "code",
   "execution_count": 41,
   "metadata": {},
   "outputs": [
    {
     "name": "stdout",
     "output_type": "stream",
     "text": [
      "                     r2  neg_root_mean_squared_error\n",
      "lasso model   -1.368071                     0.169600\n",
      "ridge model   -3.422697                     0.178487\n",
      "linear reg    -3.434876                     0.178518\n",
      "ridge CV      -3.482528                     0.179340\n",
      "random forest -4.609585                     0.180090\n"
     ]
    }
   ],
   "source": [
    "model_selecting_generator(df2_10) # 'num_pages', 'text_reviews_count', 'ratings_count', 'english'"
   ]
  },
  {
   "cell_type": "code",
   "execution_count": 42,
   "metadata": {},
   "outputs": [
    {
     "name": "stdout",
     "output_type": "stream",
     "text": [
      "                     r2  neg_root_mean_squared_error\n",
      "random forest -2.259819                     0.172226\n",
      "lasso model   -2.502406                     0.180121\n",
      "ridge CV      -2.888840                     0.175594\n",
      "ridge model   -4.392116                     0.178037\n",
      "linear reg    -4.405216                     0.178066\n"
     ]
    }
   ],
   "source": [
    "model_selecting_generator(df2_11) # 'num_pages', 'text_reviews_count', 'english'"
   ]
  },
  {
   "cell_type": "code",
   "execution_count": 43,
   "metadata": {},
   "outputs": [
    {
     "name": "stdout",
     "output_type": "stream",
     "text": [
      "                     r2  neg_root_mean_squared_error\n",
      "lasso model   -2.622480                     0.180983\n",
      "ridge CV      -2.966749                     0.179707\n",
      "ridge model   -4.242889                     0.176619\n",
      "linear reg    -4.255240                     0.176644\n",
      "random forest -5.930726                     0.184772\n"
     ]
    }
   ],
   "source": [
    "model_selecting_generator(df2_12) # 'ratings_count', 'num_pages', 'english'"
   ]
  },
  {
   "cell_type": "code",
   "execution_count": 44,
   "metadata": {},
   "outputs": [
    {
     "name": "stdout",
     "output_type": "stream",
     "text": [
      "                     r2  neg_root_mean_squared_error\n",
      "lasso model   -1.327372                     0.172451\n",
      "ridge model   -3.005581                     0.177017\n",
      "linear reg    -3.013765                     0.177008\n",
      "ridge CV      -3.366750                     0.183778\n",
      "random forest -8.076784                     0.214455\n"
     ]
    }
   ],
   "source": [
    "model_selecting_generator(df2_13) # 'ratings_count', 'text_reviews_count', 'english'"
   ]
  },
  {
   "cell_type": "code",
   "execution_count": 45,
   "metadata": {},
   "outputs": [
    {
     "name": "stdout",
     "output_type": "stream",
     "text": [
      "                     r2  neg_root_mean_squared_error\n",
      "lasso model   -1.902108                     0.168400\n",
      "ridge CV      -2.056476                     0.165841\n",
      "ridge model   -3.337234                     0.162727\n",
      "linear reg    -3.348148                     0.162740\n",
      "random forest -6.381610                     0.194501\n"
     ]
    }
   ],
   "source": [
    "model_selecting_generator(df2_14) # 'num_pages', 'english'"
   ]
  },
  {
   "cell_type": "code",
   "execution_count": 46,
   "metadata": {},
   "outputs": [
    {
     "name": "stdout",
     "output_type": "stream",
     "text": [
      "                     r2  neg_root_mean_squared_error\n",
      "lasso model   -3.106730                     0.199547\n",
      "ridge CV      -3.362473                     0.194362\n",
      "ridge model   -4.674702                     0.193726\n",
      "linear reg    -4.685481                     0.193729\n",
      "random forest -8.243794                     0.215569\n"
     ]
    }
   ],
   "source": [
    "model_selecting_generator(df2_15) # 'text_reviews_count', 'english'"
   ]
  },
  {
   "cell_type": "code",
   "execution_count": 48,
   "metadata": {},
   "outputs": [
    {
     "name": "stdout",
     "output_type": "stream",
     "text": [
      "                     r2  neg_root_mean_squared_error\n",
      "lasso model   -3.055845                     0.196249\n",
      "ridge CV      -3.212549                     0.192624\n",
      "ridge model   -4.285479                     0.186940\n",
      "linear reg    -4.295301                     0.186936\n",
      "random forest -5.300748                     0.206228\n"
     ]
    }
   ],
   "source": [
    "model_selecting_generator(df2_16) # 'ratings_count', 'english'"
   ]
  }
 ],
 "metadata": {
  "kernelspec": {
   "display_name": "env_pylab",
   "language": "python",
   "name": "python3"
  },
  "language_info": {
   "codemirror_mode": {
    "name": "ipython",
    "version": 3
   },
   "file_extension": ".py",
   "mimetype": "text/x-python",
   "name": "python",
   "nbconvert_exporter": "python",
   "pygments_lexer": "ipython3",
   "version": "3.9.13"
  },
  "orig_nbformat": 4
 },
 "nbformat": 4,
 "nbformat_minor": 2
}
