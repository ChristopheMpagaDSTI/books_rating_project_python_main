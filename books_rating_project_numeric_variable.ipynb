{
 "cells": [
  {
   "cell_type": "code",
   "execution_count": 109,
   "metadata": {},
   "outputs": [],
   "source": [
    "import pandas as pd\n",
    "import numpy as np\n",
    "import seaborn as sns\n",
    "import matplotlib as plt\n",
    "import plotly as ply\n",
    "import sklearn as skl\n",
    "import datetime as dt \n",
    "import math\n",
    "import random\n",
    "\n",
    "from sklearn.model_selection import train_test_split\n",
    "from sklearn import linear_model\n",
    "from sklearn.ensemble import RandomForestRegressor, RandomForestClassifier, GradientBoostingRegressor\n",
    "from sklearn.model_selection import cross_val_score\n",
    "from sklearn.model_selection import RandomizedSearchCV\n",
    "from sklearn.neural_network import MLPClassifier\n",
    "from sklearn.svm import SVC, SVR, LinearSVR\n",
    "from sklearn.linear_model import SGDRegressor"
   ]
  },
  {
   "cell_type": "code",
   "execution_count": 6,
   "metadata": {},
   "outputs": [],
   "source": [
    "# load data \n",
    "df = pd.read_csv(\"books.csv\")"
   ]
  },
  {
   "cell_type": "markdown",
   "metadata": {},
   "source": [
    "# 1. data processing\n",
    "- 'num_pages' spaces eliminated\n",
    "- insert 'english' dummy feature, generated from 'language_code', represents by english or other languages"
   ]
  },
  {
   "cell_type": "code",
   "execution_count": 7,
   "metadata": {},
   "outputs": [],
   "source": [
    "# num_pages space canceled\n",
    "df = df.rename(columns= {\"  num_pages\": \"num_pages\"})"
   ]
  },
  {
   "cell_type": "code",
   "execution_count": 8,
   "metadata": {},
   "outputs": [],
   "source": [
    "# English dummies\n",
    "df['english'] = np.where(df['language_code'].str[0:2] == 'en', 1, 0)"
   ]
  },
  {
   "cell_type": "code",
   "execution_count": 9,
   "metadata": {},
   "outputs": [
    {
     "data": {
      "text/plain": [
       "['bookID',\n",
       " 'title',\n",
       " 'authors',\n",
       " 'average_rating',\n",
       " 'isbn',\n",
       " 'isbn13',\n",
       " 'language_code',\n",
       " 'num_pages',\n",
       " 'ratings_count',\n",
       " 'text_reviews_count',\n",
       " 'publication_date',\n",
       " 'publisher',\n",
       " 'english']"
      ]
     },
     "execution_count": 9,
     "metadata": {},
     "output_type": "execute_result"
    }
   ],
   "source": [
    "cols_adjust = df.columns.tolist()\n",
    "cols_adjust"
   ]
  },
  {
   "cell_type": "code",
   "execution_count": 10,
   "metadata": {},
   "outputs": [
    {
     "name": "stderr",
     "output_type": "stream",
     "text": [
      "/var/folders/dz/3jfgccdn52ggwvy9spwly7y00000gn/T/ipykernel_23970/682619250.py:1: UserWarning: \n",
      "\n",
      "`distplot` is a deprecated function and will be removed in seaborn v0.14.0.\n",
      "\n",
      "Please adapt your code to use either `displot` (a figure-level function with\n",
      "similar flexibility) or `histplot` (an axes-level function for histograms).\n",
      "\n",
      "For a guide to updating your code to use the new functions, please see\n",
      "https://gist.github.com/mwaskom/de44147ed2974457ad6372750bbe5751\n",
      "\n",
      "  sns.distplot(df['average_rating'],bins=20, color='red')\n"
     ]
    },
    {
     "ename": "AttributeError",
     "evalue": "module 'matplotlib' has no attribute 'title'",
     "output_type": "error",
     "traceback": [
      "\u001b[0;31m---------------------------------------------------------------------------\u001b[0m",
      "\u001b[0;31mAttributeError\u001b[0m                            Traceback (most recent call last)",
      "Cell \u001b[0;32mIn[10], line 2\u001b[0m\n\u001b[1;32m      1\u001b[0m sns\u001b[39m.\u001b[39mdistplot(df[\u001b[39m'\u001b[39m\u001b[39maverage_rating\u001b[39m\u001b[39m'\u001b[39m],bins\u001b[39m=\u001b[39m\u001b[39m20\u001b[39m, color\u001b[39m=\u001b[39m\u001b[39m'\u001b[39m\u001b[39mred\u001b[39m\u001b[39m'\u001b[39m)\n\u001b[0;32m----> 2\u001b[0m plt\u001b[39m.\u001b[39;49mtitle(\u001b[39m'\u001b[39m\u001b[39mDistribution of Average Ratings\u001b[39m\u001b[39m'\u001b[39m)\n\u001b[1;32m      3\u001b[0m plt\u001b[39m.\u001b[39mxlabel(\u001b[39m'\u001b[39m\u001b[39mAverage Rating\u001b[39m\u001b[39m'\u001b[39m)\n\u001b[1;32m      4\u001b[0m plt\u001b[39m.\u001b[39mshow()\n",
      "File \u001b[0;32m~/conda/envs/env_pylab/lib/python3.9/site-packages/matplotlib/_api/__init__.py:224\u001b[0m, in \u001b[0;36mcaching_module_getattr.<locals>.__getattr__\u001b[0;34m(name)\u001b[0m\n\u001b[1;32m    222\u001b[0m \u001b[39mif\u001b[39;00m name \u001b[39min\u001b[39;00m props:\n\u001b[1;32m    223\u001b[0m     \u001b[39mreturn\u001b[39;00m props[name]\u001b[39m.\u001b[39m\u001b[39m__get__\u001b[39m(instance)\n\u001b[0;32m--> 224\u001b[0m \u001b[39mraise\u001b[39;00m \u001b[39mAttributeError\u001b[39;00m(\n\u001b[1;32m    225\u001b[0m     \u001b[39mf\u001b[39m\u001b[39m\"\u001b[39m\u001b[39mmodule \u001b[39m\u001b[39m{\u001b[39;00m\u001b[39mcls\u001b[39m\u001b[39m.\u001b[39m\u001b[39m__module__\u001b[39m\u001b[39m!r}\u001b[39;00m\u001b[39m has no attribute \u001b[39m\u001b[39m{\u001b[39;00mname\u001b[39m!r}\u001b[39;00m\u001b[39m\"\u001b[39m)\n",
      "\u001b[0;31mAttributeError\u001b[0m: module 'matplotlib' has no attribute 'title'"
     ]
    },
    {
     "data": {
      "image/png": "[encoded data removed]",
      "text/plain": [
       "<Figure size 640x480 with 1 Axes>"
      ]
     },
     "metadata": {},
     "output_type": "display_data"
    }
   ],
   "source": [
    "sns.distplot(df['average_rating'],bins=20, color='red')\n",
    "plt.title('Distribution of Average Ratings')\n",
    "plt.xlabel('Average Rating')\n",
    "plt.show()"
   ]
  },
  {
   "cell_type": "markdown",
   "metadata": {},
   "source": [
    "# 2. round the value of 'average_rating' into quartile and decile \n",
    "### 2.1. generate two functions"
   ]
  },
  {
   "cell_type": "code",
   "execution_count": 11,
   "metadata": {},
   "outputs": [],
   "source": [
    "# having discrete number of ratings \n",
    "def round_to_increment_25(number):\n",
    "    '''Return the string version of the target rounded in .25% increments'''\n",
    "    rounded_number = round(number / 0.25) * 0.25\n",
    "    if 3.5 <= rounded_number and rounded_number <= 4.5:\n",
    "        return str(rounded_number)\n",
    "    else:\n",
    "        if rounded_number > 4.5:\n",
    "            return str(4.5)\n",
    "        else:\n",
    "            return str(1)\n",
    "        \n",
    "def round_to_increment_10(number):\n",
    "    '''Return the string version of the target rounded in .1% increments'''\n",
    "    rounded_number = round(number, 1)\n",
    "    if 3.5 <= rounded_number and rounded_number <= 4.5:\n",
    "        return str(rounded_number)\n",
    "    else:\n",
    "        if rounded_number > 4.5:\n",
    "            return str(4.5)\n",
    "        else:\n",
    "            return str(1)"
   ]
  },
  {
   "cell_type": "markdown",
   "metadata": {},
   "source": [
    "### 2.2. duplicate 2 dfs to adopt the changes"
   ]
  },
  {
   "cell_type": "code",
   "execution_count": 12,
   "metadata": {},
   "outputs": [
    {
     "data": {
      "text/plain": [
       "4.00    219\n",
       "3.96    195\n",
       "4.02    178\n",
       "3.94    176\n",
       "4.07    172\n",
       "       ... \n",
       "4.91      1\n",
       "3.10      1\n",
       "3.03      1\n",
       "2.99      1\n",
       "2.33      1\n",
       "Name: average_rating, Length: 209, dtype: int64"
      ]
     },
     "execution_count": 12,
     "metadata": {},
     "output_type": "execute_result"
    }
   ],
   "source": [
    "# original distribution of 'average_rating'\n",
    "df['average_rating'].value_counts()"
   ]
  },
  {
   "cell_type": "code",
   "execution_count": 13,
   "metadata": {},
   "outputs": [],
   "source": [
    "df_a = df.copy()\n",
    "df_b = df.copy()"
   ]
  },
  {
   "cell_type": "code",
   "execution_count": 14,
   "metadata": {},
   "outputs": [],
   "source": [
    "df_a['average_rating'] = df_a['average_rating'].apply(round_to_increment_25) # [1, 3.5, 3.75, 4, 4.25, 4.5]\n"
   ]
  },
  {
   "cell_type": "code",
   "execution_count": 15,
   "metadata": {},
   "outputs": [],
   "source": [
    "df_b['average_rating'] = df_b['average_rating'].apply(round_to_increment_10) # [1, 3.5, 3.6, 3.7, 3.8, 3.9, 4.0, 4.1, 4.2, 4.3, 4.4, 4.5]"
   ]
  },
  {
   "cell_type": "code",
   "execution_count": 16,
   "metadata": {},
   "outputs": [
    {
     "data": {
      "text/plain": [
       "4.0     4000\n",
       "3.75    2792\n",
       "4.25    2336\n",
       "3.5     1022\n",
       "4.5      589\n",
       "1        388\n",
       "Name: average_rating, dtype: int64"
      ]
     },
     "execution_count": 16,
     "metadata": {},
     "output_type": "execute_result"
    }
   ],
   "source": [
    "df_a['average_rating'].value_counts()"
   ]
  },
  {
   "cell_type": "code",
   "execution_count": 17,
   "metadata": {},
   "outputs": [
    {
     "data": {
      "text/plain": [
       "4.0    1824\n",
       "3.9    1573\n",
       "3.8    1329\n",
       "4.1    1318\n",
       "4.2    1249\n",
       "3.7     826\n",
       "4.3     704\n",
       "3.6     609\n",
       "1       578\n",
       "3.5     428\n",
       "4.4     355\n",
       "4.5     334\n",
       "Name: average_rating, dtype: int64"
      ]
     },
     "execution_count": 17,
     "metadata": {},
     "output_type": "execute_result"
    }
   ],
   "source": [
    "df_b['average_rating'].value_counts()"
   ]
  },
  {
   "cell_type": "markdown",
   "metadata": {},
   "source": [
    "# 3. model testing preparation\n",
    "### 3.1. setting up R-squared and RMSE indices generating function"
   ]
  },
  {
   "cell_type": "code",
   "execution_count": 18,
   "metadata": {},
   "outputs": [],
   "source": [
    "def model_cross_val(models={}, X_test=None, y_test=None, cv=None, scoring=()):\n",
    "    scoring_method = ('r2', 'neg_root_mean_squared_error')\n",
    "\n",
    "    table = {\"r2\": [], \"neg_root_mean_squared_error\": []}\n",
    "\n",
    "    for mod in models:\n",
    "        for sco in scoring_method:\n",
    "            score = cross_val_score(models[mod], X_test, y_test, cv=cv, scoring=sco).mean()\n",
    "            if sco == 'r2':\n",
    "                table[sco].append(score)\n",
    "            else:\n",
    "                table[sco].append(abs(score))\n",
    "\n",
    "    print(\n",
    "        pd.DataFrame(data = table, index = models, columns=table.keys())\n",
    "        .sort_values(by=list(table.keys())[0], ascending=False)\n",
    "    )"
   ]
  },
  {
   "cell_type": "markdown",
   "metadata": {},
   "source": [
    "### 3.2. setting up model selecting generator function"
   ]
  },
  {
   "cell_type": "code",
   "execution_count": 121,
   "metadata": {},
   "outputs": [],
   "source": [
    "def model_selecting_generator(df=None):\n",
    "    train0, test = train_test_split(df, test_size=20, random_state=42)\n",
    "\n",
    "    # split train0 in train and valid\n",
    "    train, valid = train_test_split(train0, test_size=40, random_state=42)\n",
    "\n",
    "    # subsetting\n",
    "    # train0\n",
    "    X_train0 = train0.drop(\"average_rating\", axis = 1)\n",
    "    y_train0 = train0.average_rating\n",
    "\n",
    "    # train\n",
    "    X_train = train.drop(\"average_rating\", axis = 1)\n",
    "    y_train = train.average_rating\n",
    "\n",
    "    # valid\n",
    "    X_valid = valid.drop(\"average_rating\", axis = 1)\n",
    "    y_valid = valid.average_rating\n",
    "\n",
    "    # test\n",
    "    X_test = test.drop(\"average_rating\", axis = 1)\n",
    "    y_test = test.average_rating\n",
    "\n",
    "\n",
    "    ## model selection process\n",
    "    # Linear Regression\n",
    "    reg = linear_model.LinearRegression()\n",
    "    reg.fit(X_train, y_train)\n",
    "\n",
    "    # ridge model\n",
    "    reg_ridge = linear_model.Ridge(alpha=0.01)\n",
    "    reg_ridge.fit(X_train,y_train)\n",
    "\n",
    "    # ridge CV\n",
    "    reg_ridge_CV = linear_model.RidgeCV(alphas=[0.001,0.01,0.1,1,10],cv=5)\n",
    "    reg_ridge_CV.fit(X_train0,y_train0)\n",
    "\n",
    "    # lasso model\n",
    "    reg_lasso = linear_model.Lasso(alpha=0.5)\n",
    "    reg_lasso.fit(X_train,y_train)\n",
    "\n",
    "    # random forest\n",
    "    rfr = RandomForestRegressor(n_estimators = 100, random_state = 42)\n",
    "    rfr.fit(X_train, y_train)\n",
    "\n",
    "    # Support Vector Regression\n",
    "    svr = SVR(C=1.0, epsilon=0.2)\n",
    "    svr.fit(X_train, y_train)\n",
    "\n",
    "    # Stochastic Gradient Descent Regressor\n",
    "    sgdr = SGDRegressor(max_iter=1000, tol=1e-3)\n",
    "\n",
    "    # Gradient BoostingRegressor\n",
    "    gbm = GradientBoostingRegressor(random_state=42)\n",
    "\n",
    "\n",
    "    # random forest classifier\n",
    "    #rfc = RandomForestClassifier(max_depth=3, random_state=42)\n",
    "    #rfc.fit(X)\n",
    "\n",
    "    ## R2 + RMSE table\n",
    "    models = {\n",
    "        'linear reg': reg, \n",
    "        'ridge model': reg_ridge,\n",
    "        'lasso model': reg_lasso,\n",
    "        'ridge CV': reg_ridge_CV,\n",
    "        'random forest': rfr,\n",
    "        'support vector': svr,\n",
    "        'SGDRegressor': sgdr,\n",
    "        #'linearSVR': lsvr,\n",
    "        'gradient b': gbm\n",
    "    }\n",
    "\n",
    "    return model_cross_val(models, X_test, y_test, cv=10)"
   ]
  },
  {
   "attachments": {},
   "cell_type": "markdown",
   "metadata": {},
   "source": [
    "### 3.3. setting data frame input automates"
   ]
  },
  {
   "cell_type": "code",
   "execution_count": 20,
   "metadata": {},
   "outputs": [],
   "source": [
    "'''def many_df(df_list):\n",
    "    for i in range(len(df_list)):\n",
    "        print(df_list[i].columns.tolist())\n",
    "        model_selecting_generator(df_list[i])\n",
    "        print(\"--- \\n\")\n",
    "'''"
   ]
  },
  {
   "cell_type": "code",
   "execution_count": 51,
   "metadata": {},
   "outputs": [],
   "source": [
    "def many_df(df_list):\n",
    "    for i in df_list:\n",
    "        print(f\"{i}: {df_list[i].columns.tolist()} \\n\")\n",
    "        model_selecting_generator(df_list[i])\n",
    "        print(\"--- \\n\")"
   ]
  },
  {
   "attachments": {},
   "cell_type": "markdown",
   "metadata": {},
   "source": [
    "### 3.4. index of data frames - part 2"
   ]
  },
  {
   "cell_type": "code",
   "execution_count": 99,
   "metadata": {},
   "outputs": [],
   "source": [
    "# 4.1. feature engineering: none\n",
    "df2_0 = df[['average_rating', 'num_pages', 'text_reviews_count', 'ratings_count']]\n",
    "\n",
    "df2_1 = df[['average_rating', 'num_pages', 'text_reviews_count']]\n",
    "df2_2 = df[['average_rating', 'num_pages', 'ratings_count']]\n",
    "df2_3 = df[['average_rating', 'ratings_count', 'text_reviews_count']]\n",
    "\n",
    "df2_4 = df[['average_rating', 'num_pages']]\n",
    "df2_5 = df[['average_rating', 'text_reviews_count']]\n",
    "df2_6 = df[['average_rating', 'ratings_count']]\n",
    "#df2_x = [df2_0, df2_1, df2_2, df2_3, df2_4, df2_5, df2_6]\n",
    "df2_x = {\"df2_0\": df2_0, \"df2_1\": df2_1, \"df2_2\":df2_2, \"df2_3\":df2_3, \"df2_4\":df2_4, \"df2_5\":df2_5, \"df2_6\":df2_6}\n",
    "\n",
    "\n",
    "# 4.2. feature engineering: english dummies\n",
    "df2_10 = df[['average_rating', 'num_pages', 'text_reviews_count', 'ratings_count', 'english']]\n",
    "\n",
    "df2_11 = df[['average_rating', 'num_pages', 'text_reviews_count', 'english']]\n",
    "df2_12 = df[['average_rating', 'ratings_count', 'num_pages', 'english']]\n",
    "df2_13 = df[['average_rating', 'ratings_count', 'text_reviews_count', 'english']]\n",
    "\n",
    "df2_14 = df[['average_rating', 'num_pages', 'english']]\n",
    "df2_15 = df[['average_rating', 'text_reviews_count', 'english']]\n",
    "df2_16 = df[['average_rating', 'ratings_count', 'english']]\n",
    "#df2_1x = [df2_10, df2_11, df2_12, df2_13, df2_14, df2_15, df2_16]\n",
    "df2_1x = {\"df2_10\":df2_10, \"df2_11\":df2_11, \"df2_12\":df2_12, \"df2_13\":df2_13, \"df2_14\":df2_14, \"df2_15\":df2_15, \"df2_16\":df2_16}\n",
    "\n",
    "\n",
    "# 4.3. feature engineering: quartile 'average_rating'\n",
    "df3_0 = df_a[['average_rating', 'num_pages', 'text_reviews_count', 'ratings_count']]\n",
    "\n",
    "df3_1 = df_a[['average_rating', 'num_pages', 'text_reviews_count']]\n",
    "df3_2 = df_a[['average_rating', 'num_pages', 'ratings_count']]\n",
    "df3_3 = df_a[['average_rating', 'ratings_count', 'text_reviews_count']]\n",
    "\n",
    "df3_4 = df_a[['average_rating', 'num_pages']]\n",
    "df3_5 = df_a[['average_rating', 'text_reviews_count']]\n",
    "df3_6 = df_a[['average_rating', 'ratings_count']]\n",
    "#df3_x = [df3_0, df3_1, df3_2, df3_3, df3_4, df3_5, df3_6]\n",
    "df3_x = {\"df3_0\":df3_0, \"df3_1\":df3_1, \"df3_2\":df3_2, \"df3_3\":df3_3, \"df3_4\":df3_4, \"df3_5\":df3_5, \"df3_6\":df3_6}\n",
    "\n",
    "\n",
    "# 4.4. feature engineering: english dummies, quartile 'average_rating'\n",
    "df3_10 = df_a[['average_rating', 'num_pages', 'text_reviews_count', 'ratings_count', 'english']]\n",
    "\n",
    "df3_11 = df_a[['average_rating', 'num_pages', 'text_reviews_count', 'english']]\n",
    "df3_12 = df_a[['average_rating', 'ratings_count', 'num_pages', 'english']]\n",
    "df3_13 = df_a[['average_rating', 'ratings_count', 'text_reviews_count', 'english']]\n",
    "\n",
    "df3_14 = df_a[['average_rating', 'num_pages', 'english']]\n",
    "df3_15 = df_a[['average_rating', 'text_reviews_count', 'english']]\n",
    "df3_16 = df_a[['average_rating', 'ratings_count', 'english']]\n",
    "#df3_1x = [df3_10, df3_11, df3_12, df3_13, df3_14, df3_15, df3_16]\n",
    "df3_1x = {\"df3_10\":df3_10, \"df3_11\":df3_11, \"df3_12\":df3_12, \"df3_13\":df3_13, \"df3_14\":df3_14, \"df3_15\":df3_15, \"df3_16\":df3_16}\n",
    "\n",
    "\n",
    "# 4.5. feature engineering: decile 'average_rating'\n",
    "df4_0 = df_b[['average_rating', 'num_pages', 'text_reviews_count', 'ratings_count']]\n",
    "\n",
    "df4_1 = df_b[['average_rating', 'num_pages', 'text_reviews_count']]\n",
    "df4_2 = df_b[['average_rating', 'num_pages', 'ratings_count']]\n",
    "df4_3 = df_b[['average_rating', 'ratings_count', 'text_reviews_count']]\n",
    "\n",
    "df4_4 = df_b[['average_rating', 'num_pages']]\n",
    "df4_5 = df_b[['average_rating', 'text_reviews_count']]\n",
    "df4_6 = df_b[['average_rating', 'ratings_count']]\n",
    "#df4_x = [df4_0, df4_1, df4_2, df4_3, df4_4, df4_5, df4_6]\n",
    "df4_x = {\"df4_0\":df4_0, \"df4_1\":df4_1, \"df4_2\":df4_2, \"df4_3\":df4_3, \"df4_4\":df4_4, \"df4_5\":df4_5, \"df4_6\":df4_6}\n",
    "\n",
    "\n",
    "# 4.6. feature engineering: english dummies, decile 'average_rating'\n",
    "df4_10 = df_b[['average_rating', 'num_pages', 'text_reviews_count', 'ratings_count', 'english']]\n",
    "\n",
    "df4_11 = df_b[['average_rating', 'num_pages', 'text_reviews_count', 'english']]\n",
    "df4_12 = df_b[['average_rating', 'ratings_count', 'num_pages', 'english']]\n",
    "df4_13 = df_b[['average_rating', 'ratings_count', 'text_reviews_count', 'english']]\n",
    "\n",
    "df4_14 = df_b[['average_rating', 'num_pages', 'english']]\n",
    "df4_15 = df_b[['average_rating', 'text_reviews_count', 'english']]\n",
    "df4_16 = df_b[['average_rating', 'ratings_count', 'english']]\n",
    "#df4_1x = [df4_10, df4_11, df4_12, df4_13, df4_14, df4_15, df4_16]\n",
    "df4_1x = {\"df4_10\":df4_10, \"df4_11\":df4_11, \"df4_12\":df4_12, \"df4_13\":df4_13, \"df4_14\":df4_14, \"df4_15\":df4_15, \"df4_16\":df4_16}\n",
    "\n"
   ]
  },
  {
   "cell_type": "markdown",
   "metadata": {},
   "source": [
    "# 4. model testing - numeric variables"
   ]
  },
  {
   "cell_type": "markdown",
   "metadata": {},
   "source": [
    "### 4.1. feature engineering: none\n",
    "df2_0 - df2_6"
   ]
  },
  {
   "cell_type": "code",
   "execution_count": 122,
   "metadata": {},
   "outputs": [
    {
     "name": "stdout",
     "output_type": "stream",
     "text": [
      "df2_0: ['average_rating', 'num_pages', 'text_reviews_count', 'ratings_count'] \n",
      "\n",
      "                          r2  neg_root_mean_squared_error\n",
      "lasso model    -1.368071e+00                 1.695997e-01\n",
      "support vector -1.448790e+00                 1.784014e-01\n",
      "ridge CV       -2.063746e+00                 1.814740e-01\n",
      "ridge model    -2.066523e+00                 1.815173e-01\n",
      "linear reg     -2.066526e+00                 1.815174e-01\n",
      "gradient b     -2.960260e+00                 1.805301e-01\n",
      "random forest  -4.580882e+00                 1.841039e-01\n",
      "SGDRegressor   -1.530296e+37                 8.377784e+16\n",
      "--- \n",
      "\n",
      "df2_1: ['average_rating', 'num_pages', 'text_reviews_count'] \n",
      "\n",
      "                          r2  neg_root_mean_squared_error\n",
      "random forest  -1.610271e+00                 1.668059e-01\n",
      "support vector -2.301561e+00                 1.891379e-01\n",
      "lasso model    -2.502406e+00                 1.801207e-01\n",
      "ridge CV       -2.591104e+00                 1.813462e-01\n",
      "ridge model    -2.591114e+00                 1.813465e-01\n",
      "linear reg     -2.591114e+00                 1.813465e-01\n",
      "gradient b     -4.658833e+00                 1.780168e-01\n",
      "SGDRegressor   -1.432265e+31                 2.903190e+14\n",
      "--- \n",
      "\n",
      "df2_2: ['average_rating', 'num_pages', 'ratings_count'] \n",
      "\n",
      "                          r2  neg_root_mean_squared_error\n",
      "support vector -1.459879e+00                 1.784274e-01\n",
      "linear reg     -2.613689e+00                 1.803222e-01\n",
      "ridge model    -2.613689e+00                 1.803222e-01\n",
      "ridge CV       -2.613691e+00                 1.803224e-01\n",
      "lasso model    -2.622429e+00                 1.809830e-01\n",
      "gradient b     -4.623564e+00                 2.011832e-01\n",
      "random forest  -6.087708e+00                 1.921249e-01\n",
      "SGDRegressor   -6.398373e+37                 5.277210e+16\n",
      "--- \n",
      "\n",
      "df2_3: ['average_rating', 'ratings_count', 'text_reviews_count'] \n",
      "\n",
      "                          r2  neg_root_mean_squared_error\n",
      "lasso model    -1.327372e+00                 1.724512e-01\n",
      "support vector -1.451117e+00                 1.781186e-01\n",
      "ridge CV       -2.269475e+00                 1.853111e-01\n",
      "ridge model    -2.273257e+00                 1.853625e-01\n",
      "linear reg     -2.273261e+00                 1.853625e-01\n",
      "gradient b     -7.127940e+00                 2.478321e-01\n",
      "random forest  -8.370762e+00                 2.166335e-01\n",
      "SGDRegressor   -8.444045e+36                 8.437942e+16\n",
      "--- \n",
      "\n",
      "df2_4: ['average_rating', 'num_pages'] \n",
      "\n",
      "                          r2  neg_root_mean_squared_error\n",
      "lasso model    -1.902108e+00                 1.683999e-01\n",
      "ridge CV       -1.924998e+00                 1.683082e-01\n",
      "ridge model    -1.925007e+00                 1.683082e-01\n",
      "linear reg     -1.925007e+00                 1.683082e-01\n",
      "support vector -2.839285e+00                 2.099989e-01\n",
      "random forest  -5.498188e+00                 2.103656e-01\n",
      "gradient b     -7.107629e+00                 2.321791e-01\n",
      "SGDRegressor   -3.349574e+30                 1.005555e+14\n",
      "--- \n",
      "\n",
      "df2_5: ['average_rating', 'text_reviews_count'] \n",
      "\n",
      "                          r2  neg_root_mean_squared_error\n",
      "support vector -2.496157e+00                 1.760069e-01\n",
      "lasso model    -3.106730e+00                 1.995465e-01\n",
      "ridge CV       -3.231326e+00                 2.016717e-01\n",
      "ridge model    -3.231354e+00                 2.016723e-01\n",
      "linear reg     -3.231354e+00                 2.016723e-01\n",
      "random forest  -7.967233e+00                 2.117479e-01\n",
      "gradient b     -1.154902e+01                 2.425677e-01\n",
      "SGDRegressor   -1.808045e+32                 1.850510e+14\n",
      "--- \n",
      "\n",
      "df2_6: ['average_rating', 'ratings_count'] \n",
      "\n",
      "                          r2  neg_root_mean_squared_error\n",
      "support vector -1.477497e+00                 1.781268e-01\n",
      "lasso model    -3.055845e+00                 1.962485e-01\n",
      "ridge CV       -3.059901e+00                 1.963588e-01\n",
      "ridge model    -3.059901e+00                 1.963588e-01\n",
      "linear reg     -3.059901e+00                 1.963588e-01\n",
      "random forest  -5.305446e+00                 2.110689e-01\n",
      "gradient b     -5.587516e+00                 2.279183e-01\n",
      "SGDRegressor   -4.648566e+37                 9.194432e+16\n",
      "--- \n",
      "\n"
     ]
    }
   ],
   "source": [
    "many_df(df2_x)"
   ]
  },
  {
   "cell_type": "code",
   "execution_count": null,
   "metadata": {},
   "outputs": [],
   "source": []
  },
  {
   "cell_type": "markdown",
   "metadata": {},
   "source": [
    "### 4.2. feature engineering: english dummies\n",
    "df2_10 - df2_16"
   ]
  },
  {
   "cell_type": "code",
   "execution_count": 123,
   "metadata": {},
   "outputs": [
    {
     "name": "stdout",
     "output_type": "stream",
     "text": [
      "df2_10: ['average_rating', 'num_pages', 'text_reviews_count', 'ratings_count', 'english'] \n",
      "\n",
      "                          r2  neg_root_mean_squared_error\n",
      "lasso model    -1.368071e+00                 1.695997e-01\n",
      "support vector -1.442117e+00                 1.783968e-01\n",
      "gradient b     -2.421711e+00                 1.766635e-01\n",
      "ridge model    -3.422697e+00                 1.784875e-01\n",
      "linear reg     -3.434876e+00                 1.785184e-01\n",
      "ridge CV       -3.482528e+00                 1.793402e-01\n",
      "random forest  -4.609585e+00                 1.800898e-01\n",
      "SGDRegressor   -5.008880e+37                 6.133390e+16\n",
      "--- \n",
      "\n",
      "df2_11: ['average_rating', 'num_pages', 'text_reviews_count', 'english'] \n",
      "\n",
      "                          r2  neg_root_mean_squared_error\n",
      "support vector -2.257741e+00                 1.888020e-01\n",
      "random forest  -2.259819e+00                 1.722258e-01\n",
      "lasso model    -2.502406e+00                 1.801207e-01\n",
      "ridge CV       -2.888840e+00                 1.755939e-01\n",
      "gradient b     -3.931036e+00                 1.739239e-01\n",
      "ridge model    -4.392116e+00                 1.780365e-01\n",
      "linear reg     -4.405216e+00                 1.780664e-01\n",
      "SGDRegressor   -7.857105e+31                 4.056852e+14\n",
      "--- \n",
      "\n",
      "df2_12: ['average_rating', 'ratings_count', 'num_pages', 'english'] \n",
      "\n",
      "                          r2  neg_root_mean_squared_error\n",
      "support vector -1.447224e+00                 1.784191e-01\n",
      "lasso model    -2.622480e+00                 1.809835e-01\n",
      "ridge CV       -2.966749e+00                 1.797069e-01\n",
      "ridge model    -4.242889e+00                 1.766190e-01\n",
      "linear reg     -4.255240e+00                 1.766439e-01\n",
      "gradient b     -4.717719e+00                 2.013831e-01\n",
      "random forest  -5.930726e+00                 1.847719e-01\n",
      "SGDRegressor   -1.628368e+36                 7.564042e+16\n",
      "--- \n",
      "\n",
      "df2_13: ['average_rating', 'ratings_count', 'text_reviews_count', 'english'] \n",
      "\n",
      "                          r2  neg_root_mean_squared_error\n",
      "lasso model    -1.327372e+00                 1.724512e-01\n",
      "support vector -1.441300e+00                 1.781226e-01\n",
      "ridge model    -3.005581e+00                 1.770170e-01\n",
      "linear reg     -3.013765e+00                 1.770085e-01\n",
      "ridge CV       -3.366750e+00                 1.837779e-01\n",
      "gradient b     -5.841631e+00                 2.437401e-01\n",
      "random forest  -8.076784e+00                 2.144548e-01\n",
      "SGDRegressor   -2.418552e+35                 5.502714e+16\n",
      "--- \n",
      "\n",
      "df2_14: ['average_rating', 'num_pages', 'english'] \n",
      "\n",
      "                          r2  neg_root_mean_squared_error\n",
      "lasso model    -1.902108e+00                 1.683999e-01\n",
      "ridge CV       -2.056476e+00                 1.658407e-01\n",
      "support vector -2.259000e+00                 1.952461e-01\n",
      "ridge model    -3.337234e+00                 1.627270e-01\n",
      "linear reg     -3.348148e+00                 1.627398e-01\n",
      "random forest  -6.381610e+00                 1.945008e-01\n",
      "gradient b     -6.990283e+00                 1.982754e-01\n",
      "SGDRegressor   -5.361549e+30                 1.809955e+14\n",
      "--- \n",
      "\n",
      "df2_15: ['average_rating', 'text_reviews_count', 'english'] \n",
      "\n",
      "                          r2  neg_root_mean_squared_error\n",
      "support vector -2.271925e+00                 1.757399e-01\n",
      "lasso model    -3.106730e+00                 1.995465e-01\n",
      "ridge CV       -3.362473e+00                 1.943622e-01\n",
      "ridge model    -4.674702e+00                 1.937257e-01\n",
      "linear reg     -4.685481e+00                 1.937293e-01\n",
      "random forest  -8.243794e+00                 2.155693e-01\n",
      "gradient b     -1.190735e+01                 2.501517e-01\n",
      "SGDRegressor   -1.393110e+32                 1.854338e+14\n",
      "--- \n",
      "\n",
      "df2_16: ['average_rating', 'ratings_count', 'english'] \n",
      "\n",
      "                          r2  neg_root_mean_squared_error\n",
      "support vector -1.449083e+00                 1.781422e-01\n",
      "lasso model    -3.055845e+00                 1.962485e-01\n",
      "ridge CV       -3.212549e+00                 1.926238e-01\n",
      "ridge model    -4.285479e+00                 1.869400e-01\n",
      "linear reg     -4.295301e+00                 1.869356e-01\n",
      "random forest  -5.300748e+00                 2.062285e-01\n",
      "gradient b     -5.624513e+00                 2.263099e-01\n",
      "SGDRegressor   -2.054621e+36                 5.854622e+16\n",
      "--- \n",
      "\n"
     ]
    }
   ],
   "source": [
    "many_df(df2_1x)"
   ]
  },
  {
   "cell_type": "code",
   "execution_count": null,
   "metadata": {},
   "outputs": [],
   "source": []
  },
  {
   "cell_type": "markdown",
   "metadata": {},
   "source": [
    "### 4.3. feature engineering: quartile 'average_rating'\n",
    "df3_0 - df3_6"
   ]
  },
  {
   "cell_type": "code",
   "execution_count": 124,
   "metadata": {},
   "outputs": [
    {
     "name": "stdout",
     "output_type": "stream",
     "text": [
      "df3_0: ['average_rating', 'num_pages', 'text_reviews_count', 'ratings_count'] \n",
      "\n",
      "                          r2  neg_root_mean_squared_error\n",
      "lasso model     8.364807e-04                 1.819325e-01\n",
      "random forest  -4.573778e-02                 1.805654e-01\n",
      "ridge CV       -5.268561e-02                 1.940288e-01\n",
      "ridge model    -5.297264e-02                 1.940738e-01\n",
      "linear reg     -5.297293e-02                 1.940739e-01\n",
      "gradient b     -9.357883e-02                 1.844203e-01\n",
      "support vector -2.981423e-01                 1.890094e-01\n",
      "SGDRegressor   -1.684460e+35                 7.601923e+16\n",
      "--- \n",
      "\n",
      "df3_1: ['average_rating', 'num_pages', 'text_reviews_count'] \n",
      "\n",
      "                          r2  neg_root_mean_squared_error\n",
      "random forest   9.627722e-02                 1.734976e-01\n",
      "lasso model    -1.449951e-03                 1.752102e-01\n",
      "ridge CV       -4.228350e-03                 1.759073e-01\n",
      "ridge model    -4.230062e-03                 1.759075e-01\n",
      "linear reg     -4.230062e-03                 1.759075e-01\n",
      "support vector -1.995906e-01                 1.840563e-01\n",
      "gradient b     -2.202495e-01                 1.720815e-01\n",
      "SGDRegressor   -3.621986e+30                 2.167663e+14\n",
      "--- \n",
      "\n",
      "df3_2: ['average_rating', 'num_pages', 'ratings_count'] \n",
      "\n",
      "                          r2  neg_root_mean_squared_error\n",
      "ridge CV        1.147927e-02                 1.742658e-01\n",
      "linear reg      1.147860e-02                 1.742659e-01\n",
      "ridge model     1.147859e-02                 1.742659e-01\n",
      "lasso model     6.307290e-03                 1.747507e-01\n",
      "gradient b     -1.732917e-01                 1.726671e-01\n",
      "random forest  -1.939761e-01                 1.870353e-01\n",
      "support vector -2.973122e-01                 1.889424e-01\n",
      "SGDRegressor   -5.695672e+34                 1.979935e+16\n",
      "--- \n",
      "\n",
      "df3_3: ['average_rating', 'ratings_count', 'text_reviews_count'] \n",
      "\n",
      "                          r2  neg_root_mean_squared_error\n",
      "support vector -3.151254e-01                 1.896649e-01\n",
      "lasso model    -3.316391e-01                 2.007167e-01\n",
      "ridge CV       -3.796256e-01                 2.147836e-01\n",
      "ridge model    -3.799829e-01                 2.148313e-01\n",
      "linear reg     -3.799833e-01                 2.148314e-01\n",
      "random forest  -3.890244e-01                 2.200834e-01\n",
      "gradient b     -6.961225e-01                 2.479144e-01\n",
      "SGDRegressor   -7.130717e+33                 6.363319e+16\n",
      "--- \n",
      "\n",
      "df3_4: ['average_rating', 'num_pages'] \n",
      "\n",
      "                          r2  neg_root_mean_squared_error\n",
      "lasso model     2.964300e-02                 1.690545e-01\n",
      "ridge model     2.918274e-02                 1.689532e-01\n",
      "linear reg      2.918274e-02                 1.689532e-01\n",
      "ridge CV        2.918224e-02                 1.689531e-01\n",
      "support vector -4.181190e-01                 2.035250e-01\n",
      "random forest  -4.710541e-01                 1.952849e-01\n",
      "gradient b     -1.040880e+00                 1.982150e-01\n",
      "SGDRegressor   -4.797611e+29                 2.782249e+14\n",
      "--- \n",
      "\n",
      "df3_5: ['average_rating', 'text_reviews_count'] \n",
      "\n",
      "                          r2  neg_root_mean_squared_error\n",
      "support vector -3.215669e-01                 1.918306e-01\n",
      "lasso model    -4.804395e-01                 2.044318e-01\n",
      "ridge CV       -4.912403e-01                 2.063141e-01\n",
      "ridge model    -4.912420e-01                 2.063144e-01\n",
      "linear reg     -4.912420e-01                 2.063144e-01\n",
      "random forest  -7.090623e-01                 2.279975e-01\n",
      "gradient b     -1.459153e+00                 2.721577e-01\n",
      "SGDRegressor   -1.023451e+30                 2.145618e+14\n",
      "--- \n",
      "\n",
      "df3_6: ['average_rating', 'ratings_count'] \n",
      "\n",
      "                          r2  neg_root_mean_squared_error\n",
      "support vector -3.149517e-01                 1.897095e-01\n",
      "lasso model    -4.294801e-01                 1.982282e-01\n",
      "ridge CV       -4.299337e-01                 1.983144e-01\n",
      "ridge model    -4.299337e-01                 1.983144e-01\n",
      "linear reg     -4.299337e-01                 1.983144e-01\n",
      "random forest  -5.444239e-01                 2.205885e-01\n",
      "gradient b     -7.287065e-01                 2.344701e-01\n",
      "SGDRegressor   -2.895564e+35                 7.206352e+16\n",
      "--- \n",
      "\n"
     ]
    }
   ],
   "source": [
    "many_df(df3_x)"
   ]
  },
  {
   "cell_type": "code",
   "execution_count": null,
   "metadata": {},
   "outputs": [],
   "source": []
  },
  {
   "cell_type": "markdown",
   "metadata": {},
   "source": [
    "### 4.4. feature engineering: english dummies, quartile 'average_rating'\n",
    "df3_10 - df3_16"
   ]
  },
  {
   "cell_type": "code",
   "execution_count": 125,
   "metadata": {},
   "outputs": [
    {
     "name": "stdout",
     "output_type": "stream",
     "text": [
      "df3_10: ['average_rating', 'num_pages', 'text_reviews_count', 'ratings_count', 'english'] \n",
      "\n",
      "                          r2  neg_root_mean_squared_error\n",
      "lasso model     8.364807e-04                 1.819325e-01\n",
      "random forest  -6.502778e-03                 1.787029e-01\n",
      "gradient b     -1.257123e-01                 1.839947e-01\n",
      "ridge model    -2.509949e-01                 1.841413e-01\n",
      "linear reg     -2.545171e-01                 1.841553e-01\n",
      "ridge CV       -2.894274e-01                 2.005368e-01\n",
      "support vector -2.986847e-01                 1.890551e-01\n",
      "SGDRegressor   -1.641320e+34                 1.968894e+16\n",
      "--- \n",
      "\n",
      "df3_11: ['average_rating', 'num_pages', 'text_reviews_count', 'english'] \n",
      "\n",
      "                          r2  neg_root_mean_squared_error\n",
      "random forest   1.137311e-01                 1.696126e-01\n",
      "lasso model    -1.449951e-03                 1.752102e-01\n",
      "ridge CV       -1.335956e-01                 1.708715e-01\n",
      "ridge model    -1.862172e-01                 1.727131e-01\n",
      "support vector -1.889392e-01                 1.835929e-01\n",
      "linear reg     -1.899622e-01                 1.727633e-01\n",
      "gradient b     -2.615610e-01                 1.816970e-01\n",
      "SGDRegressor   -2.094577e+30                 1.905601e+14\n",
      "--- \n",
      "\n",
      "df3_12: ['average_rating', 'ratings_count', 'num_pages', 'english'] \n",
      "\n",
      "                          r2  neg_root_mean_squared_error\n",
      "lasso model     6.303792e-03                 1.747511e-01\n",
      "ridge CV       -9.221246e-02                 1.675221e-01\n",
      "random forest  -1.484789e-01                 1.812031e-01\n",
      "ridge model    -1.849578e-01                 1.711336e-01\n",
      "linear reg     -1.887236e-01                 1.711804e-01\n",
      "support vector -2.983450e-01                 1.890292e-01\n",
      "gradient b     -4.237574e-01                 1.807846e-01\n",
      "SGDRegressor   -4.924333e+33                 4.546282e+16\n",
      "--- \n",
      "\n",
      "df3_13: ['average_rating', 'ratings_count', 'text_reviews_count', 'english'] \n",
      "\n",
      "                          r2  neg_root_mean_squared_error\n",
      "support vector -3.151663e-01                 1.896417e-01\n",
      "lasso model    -3.316391e-01                 2.007167e-01\n",
      "random forest  -3.471811e-01                 2.178227e-01\n",
      "ridge model    -4.979925e-01                 1.969780e-01\n",
      "linear reg     -5.004380e-01                 1.969582e-01\n",
      "ridge CV       -5.713254e-01                 2.138480e-01\n",
      "gradient b     -8.478011e-01                 2.483452e-01\n",
      "SGDRegressor   -5.596934e+33                 5.063383e+16\n",
      "--- \n",
      "\n",
      "df3_14: ['average_rating', 'num_pages', 'english'] \n",
      "\n",
      "                          r2  neg_root_mean_squared_error\n",
      "lasso model     2.964300e-02                 1.690545e-01\n",
      "ridge model    -9.601880e-02                 1.632407e-01\n",
      "linear reg     -9.911521e-02                 1.632617e-01\n",
      "ridge CV       -1.342461e-01                 1.648498e-01\n",
      "random forest  -1.816539e-01                 1.820942e-01\n",
      "support vector -2.721282e-01                 1.892318e-01\n",
      "gradient b     -5.002658e-01                 1.741355e-01\n",
      "SGDRegressor   -2.604494e+30                 1.599974e+14\n",
      "--- \n",
      "\n",
      "df3_15: ['average_rating', 'text_reviews_count', 'english'] \n",
      "\n",
      "                          r2  neg_root_mean_squared_error\n",
      "support vector -3.318992e-01                 1.919001e-01\n",
      "lasso model    -4.804395e-01                 2.044318e-01\n",
      "ridge CV       -5.405799e-01                 1.950179e-01\n",
      "ridge model    -5.731165e-01                 1.943732e-01\n",
      "linear reg     -5.757734e-01                 1.943919e-01\n",
      "random forest  -8.082679e-01                 2.305792e-01\n",
      "gradient b     -1.575313e+00                 2.749475e-01\n",
      "SGDRegressor   -2.862302e+29                 2.595024e+14\n",
      "--- \n",
      "\n",
      "df3_16: ['average_rating', 'ratings_count', 'english'] \n",
      "\n",
      "                          r2  neg_root_mean_squared_error\n",
      "support vector -3.150690e-01                 1.896406e-01\n",
      "lasso model    -4.294801e-01                 1.982282e-01\n",
      "ridge CV       -4.855053e-01                 1.869729e-01\n",
      "ridge model    -5.144807e-01                 1.857113e-01\n",
      "linear reg     -5.171046e-01                 1.857253e-01\n",
      "random forest  -5.298089e-01                 2.167282e-01\n",
      "gradient b     -6.722341e-01                 2.297280e-01\n",
      "SGDRegressor   -9.940490e+34                 5.896351e+16\n",
      "--- \n",
      "\n"
     ]
    }
   ],
   "source": [
    "many_df(df3_1x)"
   ]
  },
  {
   "cell_type": "markdown",
   "metadata": {},
   "source": []
  },
  {
   "cell_type": "markdown",
   "metadata": {},
   "source": [
    "### 4.5. feature engineering: decile 'average_rating'\n",
    "df4_0 - df4_6"
   ]
  },
  {
   "cell_type": "code",
   "execution_count": 126,
   "metadata": {},
   "outputs": [
    {
     "name": "stdout",
     "output_type": "stream",
     "text": [
      "df4_0: ['average_rating', 'num_pages', 'text_reviews_count', 'ratings_count'] \n",
      "\n",
      "                          r2  neg_root_mean_squared_error\n",
      "lasso model    -7.090926e-01                 1.727187e-01\n",
      "support vector -8.587433e-01                 1.805538e-01\n",
      "ridge CV       -9.090063e-01                 1.835152e-01\n",
      "ridge model    -9.100095e-01                 1.835605e-01\n",
      "linear reg     -9.100105e-01                 1.835606e-01\n",
      "gradient b     -1.161759e+00                 1.849439e-01\n",
      "random forest  -2.260407e+00                 1.917911e-01\n",
      "SGDRegressor   -1.518858e+37                 4.201214e+16\n",
      "--- \n",
      "\n",
      "df4_1: ['average_rating', 'num_pages', 'text_reviews_count'] \n",
      "\n",
      "                          r2  neg_root_mean_squared_error\n",
      "random forest  -6.645608e-01                 1.669132e-01\n",
      "gradient b     -1.193185e+00                 1.642203e-01\n",
      "lasso model    -1.251133e+00                 1.860161e-01\n",
      "ridge CV       -1.287192e+00                 1.872567e-01\n",
      "ridge model    -1.287198e+00                 1.872570e-01\n",
      "linear reg     -1.287198e+00                 1.872570e-01\n",
      "support vector -1.425295e+00                 1.967711e-01\n",
      "SGDRegressor   -5.122446e+30                 2.677433e+14\n",
      "--- \n",
      "\n",
      "df4_2: ['average_rating', 'num_pages', 'ratings_count'] \n",
      "\n",
      "                          r2  neg_root_mean_squared_error\n",
      "support vector -8.638795e-01                 1.805724e-01\n",
      "linear reg     -1.299269e+00                 1.870377e-01\n",
      "ridge model    -1.299269e+00                 1.870377e-01\n",
      "ridge CV       -1.299271e+00                 1.870378e-01\n",
      "lasso model    -1.306546e+00                 1.878297e-01\n",
      "gradient b     -2.988974e+00                 2.093056e-01\n",
      "random forest  -3.524592e+00                 1.980684e-01\n",
      "SGDRegressor   -1.631444e+37                 8.499329e+16\n",
      "--- \n",
      "\n",
      "df4_3: ['average_rating', 'ratings_count', 'text_reviews_count'] \n",
      "\n",
      "                          r2  neg_root_mean_squared_error\n",
      "lasso model    -7.335196e-01                 1.757531e-01\n",
      "support vector -8.481394e-01                 1.807701e-01\n",
      "ridge CV       -1.013918e+00                 1.878235e-01\n",
      "ridge model    -1.015259e+00                 1.878776e-01\n",
      "linear reg     -1.015260e+00                 1.878777e-01\n",
      "random forest  -3.240379e+00                 2.208504e-01\n",
      "gradient b     -3.467074e+00                 2.536608e-01\n",
      "SGDRegressor   -4.305881e+35                 6.672308e+16\n",
      "--- \n",
      "\n",
      "df4_4: ['average_rating', 'num_pages'] \n",
      "\n",
      "                          r2  neg_root_mean_squared_error\n",
      "lasso model    -1.002661e+00                 1.727728e-01\n",
      "ridge model    -1.010547e+00                 1.725449e-01\n",
      "linear reg     -1.010547e+00                 1.725449e-01\n",
      "ridge CV       -1.010547e+00                 1.725449e-01\n",
      "support vector -1.432258e+00                 2.043111e-01\n",
      "random forest  -3.510805e+00                 2.170114e-01\n",
      "gradient b     -4.548709e+00                 2.380309e-01\n",
      "SGDRegressor   -7.282554e+30                 1.862740e+14\n",
      "--- \n",
      "\n",
      "df4_5: ['average_rating', 'text_reviews_count'] \n",
      "\n",
      "                          r2  neg_root_mean_squared_error\n",
      "support vector -1.242761e+00                 1.764787e-01\n",
      "lasso model    -1.649735e+00                 2.098407e-01\n",
      "ridge CV       -1.702383e+00                 2.120524e-01\n",
      "ridge model    -1.702396e+00                 2.120531e-01\n",
      "linear reg     -1.702396e+00                 2.120531e-01\n",
      "random forest  -2.976853e+00                 2.155006e-01\n",
      "gradient b     -4.458724e+00                 2.468107e-01\n",
      "SGDRegressor   -5.728456e+31                 1.009866e+14\n",
      "--- \n",
      "\n",
      "df4_6: ['average_rating', 'ratings_count'] \n",
      "\n",
      "                          r2  neg_root_mean_squared_error\n",
      "support vector -8.585785e-01                 1.807623e-01\n",
      "lasso model    -1.615431e+00                 2.068488e-01\n",
      "ridge CV       -1.617443e+00                 2.069661e-01\n",
      "ridge model    -1.617443e+00                 2.069661e-01\n",
      "linear reg     -1.617443e+00                 2.069661e-01\n",
      "random forest  -3.045596e+00                 2.188017e-01\n",
      "gradient b     -3.195951e+00                 2.339085e-01\n",
      "SGDRegressor   -1.829588e+35                 1.210395e+17\n",
      "--- \n",
      "\n"
     ]
    }
   ],
   "source": [
    "many_df(df4_x)"
   ]
  },
  {
   "cell_type": "code",
   "execution_count": null,
   "metadata": {},
   "outputs": [],
   "source": []
  },
  {
   "cell_type": "markdown",
   "metadata": {},
   "source": [
    "### 4.6. feature engineering: english dummies, decile 'average_rating'\n",
    "df4_10 - df4_16"
   ]
  },
  {
   "cell_type": "code",
   "execution_count": 127,
   "metadata": {},
   "outputs": [
    {
     "name": "stdout",
     "output_type": "stream",
     "text": [
      "df4_10: ['average_rating', 'num_pages', 'text_reviews_count', 'ratings_count', 'english'] \n",
      "\n",
      "                          r2  neg_root_mean_squared_error\n",
      "lasso model    -7.090926e-01                 1.727187e-01\n",
      "support vector -8.557520e-01                 1.805583e-01\n",
      "gradient b     -1.227470e+00                 1.855232e-01\n",
      "ridge CV       -1.828784e+00                 1.840503e-01\n",
      "ridge model    -1.971790e+00                 1.856299e-01\n",
      "linear reg     -1.980606e+00                 1.856833e-01\n",
      "random forest  -2.109921e+00                 1.854364e-01\n",
      "SGDRegressor   -6.890447e+35                 8.411802e+16\n",
      "--- \n",
      "\n",
      "df4_11: ['average_rating', 'num_pages', 'text_reviews_count', 'english'] \n",
      "\n",
      "                          r2  neg_root_mean_squared_error\n",
      "random forest  -8.987417e-01                 1.695685e-01\n",
      "lasso model    -1.251133e+00                 1.860161e-01\n",
      "support vector -1.409687e+00                 1.952221e-01\n",
      "ridge CV       -1.429753e+00                 1.829450e-01\n",
      "gradient b     -1.500320e+00                 1.582751e-01\n",
      "ridge model    -2.478949e+00                 1.888575e-01\n",
      "linear reg     -2.488458e+00                 1.889091e-01\n",
      "SGDRegressor   -8.951076e+30                 3.124897e+14\n",
      "--- \n",
      "\n",
      "df4_12: ['average_rating', 'ratings_count', 'num_pages', 'english'] \n",
      "\n",
      "                          r2  neg_root_mean_squared_error\n",
      "support vector -8.581774e-01                 1.805816e-01\n",
      "lasso model    -1.306566e+00                 1.878303e-01\n",
      "ridge CV       -1.647349e+00                 1.877297e-01\n",
      "gradient b     -2.279371e+00                 2.091757e-01\n",
      "ridge model    -2.445822e+00                 1.879690e-01\n",
      "linear reg     -2.455117e+00                 1.880147e-01\n",
      "random forest  -3.509062e+00                 1.937469e-01\n",
      "SGDRegressor   -1.696990e+37                 3.162978e+16\n",
      "--- \n",
      "\n",
      "df4_13: ['average_rating', 'ratings_count', 'text_reviews_count', 'english'] \n",
      "\n",
      "                          r2  neg_root_mean_squared_error\n",
      "lasso model    -7.335196e-01                 1.757531e-01\n",
      "support vector -8.443195e-01                 1.807810e-01\n",
      "ridge model    -1.724071e+00                 1.839222e-01\n",
      "linear reg     -1.730413e+00                 1.839321e-01\n",
      "ridge CV       -1.772785e+00                 1.880397e-01\n",
      "random forest  -3.171732e+00                 2.199285e-01\n",
      "gradient b     -3.356340e+00                 2.512325e-01\n",
      "SGDRegressor   -8.041607e+35                 7.926862e+16\n",
      "--- \n",
      "\n",
      "df4_14: ['average_rating', 'num_pages', 'english'] \n",
      "\n",
      "                          r2  neg_root_mean_squared_error\n",
      "lasso model    -1.002661e+00                 1.727728e-01\n",
      "ridge CV       -1.374641e+00                 1.769594e-01\n",
      "support vector -1.617776e+00                 2.046385e-01\n",
      "ridge model    -2.013434e+00                 1.714353e-01\n",
      "linear reg     -2.021727e+00                 1.714681e-01\n",
      "random forest  -3.912232e+00                 2.033068e-01\n",
      "gradient b     -4.555004e+00                 2.112742e-01\n",
      "SGDRegressor   -2.819946e+30                 1.714525e+14\n",
      "--- \n",
      "\n",
      "df4_15: ['average_rating', 'text_reviews_count', 'english'] \n",
      "\n",
      "                          r2  neg_root_mean_squared_error\n",
      "support vector -1.147926e+00                 1.760880e-01\n",
      "lasso model    -1.649735e+00                 2.098407e-01\n",
      "ridge CV       -1.973697e+00                 2.103086e-01\n",
      "ridge model    -2.654465e+00                 2.081306e-01\n",
      "linear reg     -2.662185e+00                 2.081522e-01\n",
      "random forest  -3.224859e+00                 2.199381e-01\n",
      "gradient b     -4.916771e+00                 2.576910e-01\n",
      "SGDRegressor   -5.817869e+31                 1.172083e+14\n",
      "--- \n",
      "\n",
      "df4_16: ['average_rating', 'ratings_count', 'english'] \n",
      "\n",
      "                          r2  neg_root_mean_squared_error\n",
      "support vector -8.474213e-01                 1.807978e-01\n",
      "lasso model    -1.615431e+00                 2.068488e-01\n",
      "ridge CV       -1.843084e+00                 2.044911e-01\n",
      "ridge model    -2.495591e+00                 2.015086e-01\n",
      "linear reg     -2.502966e+00                 2.015224e-01\n",
      "random forest  -3.065059e+00                 2.141157e-01\n",
      "gradient b     -3.165547e+00                 2.319039e-01\n",
      "SGDRegressor   -7.278545e+34                 2.809074e+16\n",
      "--- \n",
      "\n"
     ]
    }
   ],
   "source": [
    "many_df(df4_1x)"
   ]
  },
  {
   "attachments": {},
   "cell_type": "markdown",
   "metadata": {},
   "source": [
    "# 5. hyperparameter\n",
    "in the above result table we could see that adopting df3_11 (['average_rating', 'num_pages', 'text_reviews_count', 'english']) in Random Forest model owns the best model performance with the r2 value being 0.11 and RMSE value 0.169."
   ]
  },
  {
   "attachments": {},
   "cell_type": "markdown",
   "metadata": {},
   "source": [
    "df3_11: ['average_rating', 'num_pages', 'text_reviews_count', 'english'] \n",
    "\n",
    "                     r2  neg_root_mean_squared_error\n",
    "random forest  0.113731                     0.169613\n",
    "lasso model   -0.001450                     0.175210\n",
    "ridge CV      -0.133596                     0.170872\n",
    "ridge model   -0.186217                     0.172713\n",
    "linear reg    -0.189962                     0.172763"
   ]
  },
  {
   "attachments": {},
   "cell_type": "markdown",
   "metadata": {},
   "source": [
    "df3_4: ['average_rating', 'num_pages'] \n",
    "\n",
    "                     r2  neg_root_mean_squared_error\n",
    "lasso model    0.029643                     0.169054\n",
    "ridge model    0.029183                     0.168953\n",
    "linear reg     0.029183                     0.168953\n",
    "ridge CV       0.029182                     0.168953\n",
    "random forest -0.471054                     0.195285"
   ]
  },
  {
   "attachments": {},
   "cell_type": "markdown",
   "metadata": {},
   "source": [
    "### 5.1 setting up random parameters grid - random forest"
   ]
  },
  {
   "cell_type": "code",
   "execution_count": 84,
   "metadata": {},
   "outputs": [],
   "source": [
    "# Number of trees in random forest\n",
    "n_estimators = [int(x) for x in np.linspace(start = 100, stop = 1000, num = 10)]\n",
    "\n",
    "# Number of features to consider at every split\n",
    "max_features = ['auto', 'sqrt']\n",
    "\n",
    "# Maximum number of levels in tree\n",
    "max_depth = [int(x) for x in np.linspace(10, 150, num = 15)]\n",
    "max_depth.append(None)\n",
    "\n",
    "# Minimum number of samples required to split a node\n",
    "min_samples_split = [2, 5, 10]\n",
    "\n",
    "# Minimum number of samples required at each leaf node\n",
    "min_samples_leaf = [1, 2, 4]\n",
    "\n",
    "# Method of selecting samples for training each tree\n",
    "bootstrap = [True, False]"
   ]
  },
  {
   "cell_type": "code",
   "execution_count": 128,
   "metadata": {},
   "outputs": [],
   "source": [
    "# Create the random grid\n",
    "random_grid_1 = {'n_estimators': n_estimators,\n",
    "               'max_features': max_features,\n",
    "               'max_depth': max_depth,\n",
    "               'min_samples_split': min_samples_split,\n",
    "               'min_samples_leaf': min_samples_leaf,\n",
    "               'bootstrap': bootstrap}"
   ]
  },
  {
   "cell_type": "code",
   "execution_count": 92,
   "metadata": {},
   "outputs": [],
   "source": [
    "# random grid for 2 parameters\n",
    "random_grid_2 = {'n_estimators': n_estimators,\n",
    "               'max_depth': max_depth,\n",
    "               'bootstrap': bootstrap}"
   ]
  },
  {
   "attachments": {},
   "cell_type": "markdown",
   "metadata": {},
   "source": [
    "### 5.2 setting up hyperparameter tuning function - random forest"
   ]
  },
  {
   "cell_type": "code",
   "execution_count": 87,
   "metadata": {},
   "outputs": [],
   "source": [
    "def hyper_tune_rf(df=None, rand_grid=None):\n",
    "    train0, test = train_test_split(df, test_size=20, random_state=42)\n",
    "\n",
    "    # split train0 in train and valid\n",
    "    train, valid = train_test_split(train0, test_size=40, random_state=42)\n",
    "\n",
    "    # subsetting\n",
    "    # train0\n",
    "    X_train0 = train0.drop(\"average_rating\", axis = 1)\n",
    "    y_train0 = train0.average_rating\n",
    "\n",
    "    # train\n",
    "    X_train = train.drop(\"average_rating\", axis = 1)\n",
    "    y_train = train.average_rating\n",
    "\n",
    "    # valid\n",
    "    X_valid = valid.drop(\"average_rating\", axis = 1)\n",
    "    y_valid = valid.average_rating\n",
    "\n",
    "    # test\n",
    "    X_test = test.drop(\"average_rating\", axis = 1)\n",
    "    y_test = test.average_rating\n",
    "\n",
    "\n",
    "    # Use the random grid to search for best hyperparameters\n",
    "    # First create the base model to tune\n",
    "    rf = RandomForestRegressor()\n",
    "    # Random search of parameters, using 3 fold cross validation, \n",
    "    # search across 100 different combinations, and use all available cores\n",
    "    rf_random = RandomizedSearchCV(estimator = rf, param_distributions = rand_grid, n_iter = 100, cv = 3, verbose=2, random_state=42, n_jobs = -1)\n",
    "    # Fit the random search model\n",
    "    rf_random.fit(X_train, y_train)\n",
    "        \n",
    "    return rf_random.best_params_"
   ]
  },
  {
   "attachments": {},
   "cell_type": "markdown",
   "metadata": {},
   "source": [
    "### 5.3 adopting at the best df: df_11"
   ]
  },
  {
   "cell_type": "code",
   "execution_count": 129,
   "metadata": {},
   "outputs": [
    {
     "name": "stdout",
     "output_type": "stream",
     "text": [
      "Fitting 3 folds for each of 100 candidates, totalling 300 fits\n"
     ]
    },
    {
     "name": "stderr",
     "output_type": "stream",
     "text": [
      "/Users/m22/conda/envs/env_pylab/lib/python3.9/site-packages/sklearn/ensemble/_forest.py:413: FutureWarning: `max_features='auto'` has been deprecated in 1.1 and will be removed in 1.3. To keep the past behaviour, explicitly set `max_features=1.0` or remove this parameter as it is also the default value for RandomForestRegressors and ExtraTreesRegressors.\n",
      "  warn(\n",
      "/Users/m22/conda/envs/env_pylab/lib/python3.9/site-packages/sklearn/ensemble/_forest.py:413: FutureWarning: `max_features='auto'` has been deprecated in 1.1 and will be removed in 1.3. To keep the past behaviour, explicitly set `max_features=1.0` or remove this parameter as it is also the default value for RandomForestRegressors and ExtraTreesRegressors.\n",
      "  warn(\n",
      "/Users/m22/conda/envs/env_pylab/lib/python3.9/site-packages/sklearn/ensemble/_forest.py:413: FutureWarning: `max_features='auto'` has been deprecated in 1.1 and will be removed in 1.3. To keep the past behaviour, explicitly set `max_features=1.0` or remove this parameter as it is also the default value for RandomForestRegressors and ExtraTreesRegressors.\n",
      "  warn(\n",
      "/Users/m22/conda/envs/env_pylab/lib/python3.9/site-packages/sklearn/ensemble/_forest.py:413: FutureWarning: `max_features='auto'` has been deprecated in 1.1 and will be removed in 1.3. To keep the past behaviour, explicitly set `max_features=1.0` or remove this parameter as it is also the default value for RandomForestRegressors and ExtraTreesRegressors.\n",
      "  warn(\n",
      "/Users/m22/conda/envs/env_pylab/lib/python3.9/site-packages/sklearn/ensemble/_forest.py:413: FutureWarning: `max_features='auto'` has been deprecated in 1.1 and will be removed in 1.3. To keep the past behaviour, explicitly set `max_features=1.0` or remove this parameter as it is also the default value for RandomForestRegressors and ExtraTreesRegressors.\n",
      "  warn(\n",
      "/Users/m22/conda/envs/env_pylab/lib/python3.9/site-packages/sklearn/ensemble/_forest.py:413: FutureWarning: `max_features='auto'` has been deprecated in 1.1 and will be removed in 1.3. To keep the past behaviour, explicitly set `max_features=1.0` or remove this parameter as it is also the default value for RandomForestRegressors and ExtraTreesRegressors.\n",
      "  warn(\n",
      "/Users/m22/conda/envs/env_pylab/lib/python3.9/site-packages/sklearn/ensemble/_forest.py:413: FutureWarning: `max_features='auto'` has been deprecated in 1.1 and will be removed in 1.3. To keep the past behaviour, explicitly set `max_features=1.0` or remove this parameter as it is also the default value for RandomForestRegressors and ExtraTreesRegressors.\n",
      "  warn(\n",
      "/Users/m22/conda/envs/env_pylab/lib/python3.9/site-packages/sklearn/ensemble/_forest.py:413: FutureWarning: `max_features='auto'` has been deprecated in 1.1 and will be removed in 1.3. To keep the past behaviour, explicitly set `max_features=1.0` or remove this parameter as it is also the default value for RandomForestRegressors and ExtraTreesRegressors.\n",
      "  warn(\n"
     ]
    },
    {
     "name": "stdout",
     "output_type": "stream",
     "text": [
      "[CV] END bootstrap=False, max_depth=130, max_features=auto, min_samples_leaf=1, min_samples_split=10, n_estimators=100; total time=   1.8s\n",
      "[CV] END bootstrap=False, max_depth=130, max_features=auto, min_samples_leaf=1, min_samples_split=10, n_estimators=100; total time=   1.8s\n",
      "[CV] END bootstrap=False, max_depth=130, max_features=auto, min_samples_leaf=1, min_samples_split=10, n_estimators=100; total time=   1.9s\n"
     ]
    },
    {
     "name": "stderr",
     "output_type": "stream",
     "text": [
      "/Users/m22/conda/envs/env_pylab/lib/python3.9/site-packages/sklearn/ensemble/_forest.py:413: FutureWarning: `max_features='auto'` has been deprecated in 1.1 and will be removed in 1.3. To keep the past behaviour, explicitly set `max_features=1.0` or remove this parameter as it is also the default value for RandomForestRegressors and ExtraTreesRegressors.\n",
      "  warn(\n"
     ]
    },
    {
     "name": "stdout",
     "output_type": "stream",
     "text": [
      "[CV] END bootstrap=False, max_depth=90, max_features=auto, min_samples_leaf=4, min_samples_split=2, n_estimators=300; total time=   5.1s\n",
      "[CV] END bootstrap=False, max_depth=90, max_features=auto, min_samples_leaf=4, min_samples_split=2, n_estimators=300; total time=   5.2s\n"
     ]
    },
    {
     "name": "stderr",
     "output_type": "stream",
     "text": [
      "/Users/m22/conda/envs/env_pylab/lib/python3.9/site-packages/sklearn/ensemble/_forest.py:413: FutureWarning: `max_features='auto'` has been deprecated in 1.1 and will be removed in 1.3. To keep the past behaviour, explicitly set `max_features=1.0` or remove this parameter as it is also the default value for RandomForestRegressors and ExtraTreesRegressors.\n",
      "  warn(\n"
     ]
    },
    {
     "name": "stdout",
     "output_type": "stream",
     "text": [
      "[CV] END bootstrap=False, max_depth=90, max_features=auto, min_samples_leaf=4, min_samples_split=2, n_estimators=300; total time=   5.6s\n"
     ]
    },
    {
     "name": "stderr",
     "output_type": "stream",
     "text": [
      "/Users/m22/conda/envs/env_pylab/lib/python3.9/site-packages/sklearn/ensemble/_forest.py:413: FutureWarning: `max_features='auto'` has been deprecated in 1.1 and will be removed in 1.3. To keep the past behaviour, explicitly set `max_features=1.0` or remove this parameter as it is also the default value for RandomForestRegressors and ExtraTreesRegressors.\n",
      "  warn(\n"
     ]
    },
    {
     "name": "stdout",
     "output_type": "stream",
     "text": [
      "[CV] END bootstrap=False, max_depth=110, max_features=sqrt, min_samples_leaf=2, min_samples_split=5, n_estimators=400; total time=   4.2s\n"
     ]
    },
    {
     "name": "stderr",
     "output_type": "stream",
     "text": [
      "/Users/m22/conda/envs/env_pylab/lib/python3.9/site-packages/sklearn/ensemble/_forest.py:413: FutureWarning: `max_features='auto'` has been deprecated in 1.1 and will be removed in 1.3. To keep the past behaviour, explicitly set `max_features=1.0` or remove this parameter as it is also the default value for RandomForestRegressors and ExtraTreesRegressors.\n",
      "  warn(\n"
     ]
    },
    {
     "name": "stdout",
     "output_type": "stream",
     "text": [
      "[CV] END bootstrap=False, max_depth=110, max_features=sqrt, min_samples_leaf=2, min_samples_split=5, n_estimators=400; total time=   4.6s\n"
     ]
    },
    {
     "name": "stderr",
     "output_type": "stream",
     "text": [
      "/Users/m22/conda/envs/env_pylab/lib/python3.9/site-packages/sklearn/ensemble/_forest.py:413: FutureWarning: `max_features='auto'` has been deprecated in 1.1 and will be removed in 1.3. To keep the past behaviour, explicitly set `max_features=1.0` or remove this parameter as it is also the default value for RandomForestRegressors and ExtraTreesRegressors.\n",
      "  warn(\n"
     ]
    },
    {
     "name": "stdout",
     "output_type": "stream",
     "text": [
      "[CV] END bootstrap=True, max_depth=70, max_features=auto, min_samples_leaf=1, min_samples_split=10, n_estimators=200; total time=   2.4s\n"
     ]
    },
    {
     "name": "stderr",
     "output_type": "stream",
     "text": [
      "/Users/m22/conda/envs/env_pylab/lib/python3.9/site-packages/sklearn/ensemble/_forest.py:413: FutureWarning: `max_features='auto'` has been deprecated in 1.1 and will be removed in 1.3. To keep the past behaviour, explicitly set `max_features=1.0` or remove this parameter as it is also the default value for RandomForestRegressors and ExtraTreesRegressors.\n",
      "  warn(\n"
     ]
    },
    {
     "name": "stdout",
     "output_type": "stream",
     "text": [
      "[CV] END bootstrap=True, max_depth=130, max_features=auto, min_samples_leaf=1, min_samples_split=10, n_estimators=800; total time=   9.5s\n",
      "[CV] END bootstrap=False, max_depth=110, max_features=sqrt, min_samples_leaf=2, min_samples_split=5, n_estimators=400; total time=   4.4s\n",
      "[CV] END bootstrap=True, max_depth=130, max_features=auto, min_samples_leaf=1, min_samples_split=10, n_estimators=800; total time=   9.6s\n"
     ]
    },
    {
     "name": "stderr",
     "output_type": "stream",
     "text": [
      "/Users/m22/conda/envs/env_pylab/lib/python3.9/site-packages/sklearn/ensemble/_forest.py:413: FutureWarning: `max_features='auto'` has been deprecated in 1.1 and will be removed in 1.3. To keep the past behaviour, explicitly set `max_features=1.0` or remove this parameter as it is also the default value for RandomForestRegressors and ExtraTreesRegressors.\n",
      "  warn(\n",
      "/Users/m22/conda/envs/env_pylab/lib/python3.9/site-packages/sklearn/ensemble/_forest.py:413: FutureWarning: `max_features='auto'` has been deprecated in 1.1 and will be removed in 1.3. To keep the past behaviour, explicitly set `max_features=1.0` or remove this parameter as it is also the default value for RandomForestRegressors and ExtraTreesRegressors.\n",
      "  warn(\n",
      "/Users/m22/conda/envs/env_pylab/lib/python3.9/site-packages/sklearn/ensemble/_forest.py:413: FutureWarning: `max_features='auto'` has been deprecated in 1.1 and will be removed in 1.3. To keep the past behaviour, explicitly set `max_features=1.0` or remove this parameter as it is also the default value for RandomForestRegressors and ExtraTreesRegressors.\n",
      "  warn(\n"
     ]
    },
    {
     "name": "stdout",
     "output_type": "stream",
     "text": [
      "[CV] END bootstrap=True, max_depth=130, max_features=auto, min_samples_leaf=2, min_samples_split=10, n_estimators=100; total time=   1.1s\n",
      "[CV] END bootstrap=True, max_depth=130, max_features=auto, min_samples_leaf=2, min_samples_split=10, n_estimators=100; total time=   1.0s\n"
     ]
    },
    {
     "name": "stderr",
     "output_type": "stream",
     "text": [
      "/Users/m22/conda/envs/env_pylab/lib/python3.9/site-packages/sklearn/ensemble/_forest.py:413: FutureWarning: `max_features='auto'` has been deprecated in 1.1 and will be removed in 1.3. To keep the past behaviour, explicitly set `max_features=1.0` or remove this parameter as it is also the default value for RandomForestRegressors and ExtraTreesRegressors.\n",
      "  warn(\n",
      "/Users/m22/conda/envs/env_pylab/lib/python3.9/site-packages/sklearn/ensemble/_forest.py:413: FutureWarning: `max_features='auto'` has been deprecated in 1.1 and will be removed in 1.3. To keep the past behaviour, explicitly set `max_features=1.0` or remove this parameter as it is also the default value for RandomForestRegressors and ExtraTreesRegressors.\n",
      "  warn(\n"
     ]
    },
    {
     "name": "stdout",
     "output_type": "stream",
     "text": [
      "[CV] END bootstrap=True, max_depth=70, max_features=auto, min_samples_leaf=1, min_samples_split=10, n_estimators=200; total time=   2.3s\n"
     ]
    },
    {
     "name": "stderr",
     "output_type": "stream",
     "text": [
      "/Users/m22/conda/envs/env_pylab/lib/python3.9/site-packages/sklearn/ensemble/_forest.py:413: FutureWarning: `max_features='auto'` has been deprecated in 1.1 and will be removed in 1.3. To keep the past behaviour, explicitly set `max_features=1.0` or remove this parameter as it is also the default value for RandomForestRegressors and ExtraTreesRegressors.\n",
      "  warn(\n"
     ]
    },
    {
     "name": "stdout",
     "output_type": "stream",
     "text": [
      "[CV] END bootstrap=True, max_depth=130, max_features=auto, min_samples_leaf=1, min_samples_split=10, n_estimators=800; total time=   9.7s\n"
     ]
    },
    {
     "name": "stderr",
     "output_type": "stream",
     "text": [
      "/Users/m22/conda/envs/env_pylab/lib/python3.9/site-packages/sklearn/ensemble/_forest.py:413: FutureWarning: `max_features='auto'` has been deprecated in 1.1 and will be removed in 1.3. To keep the past behaviour, explicitly set `max_features=1.0` or remove this parameter as it is also the default value for RandomForestRegressors and ExtraTreesRegressors.\n",
      "  warn(\n"
     ]
    },
    {
     "name": "stdout",
     "output_type": "stream",
     "text": [
      "[CV] END bootstrap=True, max_depth=70, max_features=auto, min_samples_leaf=1, min_samples_split=10, n_estimators=200; total time=   2.3s\n",
      "[CV] END bootstrap=True, max_depth=130, max_features=auto, min_samples_leaf=2, min_samples_split=10, n_estimators=100; total time=   1.2s\n",
      "[CV] END bootstrap=False, max_depth=40, max_features=sqrt, min_samples_leaf=1, min_samples_split=5, n_estimators=500; total time=   4.7s\n",
      "[CV] END bootstrap=False, max_depth=40, max_features=sqrt, min_samples_leaf=1, min_samples_split=5, n_estimators=500; total time=   4.9s\n"
     ]
    },
    {
     "name": "stderr",
     "output_type": "stream",
     "text": [
      "/Users/m22/conda/envs/env_pylab/lib/python3.9/site-packages/sklearn/ensemble/_forest.py:413: FutureWarning: `max_features='auto'` has been deprecated in 1.1 and will be removed in 1.3. To keep the past behaviour, explicitly set `max_features=1.0` or remove this parameter as it is also the default value for RandomForestRegressors and ExtraTreesRegressors.\n",
      "  warn(\n"
     ]
    },
    {
     "name": "stdout",
     "output_type": "stream",
     "text": [
      "[CV] END bootstrap=False, max_depth=140, max_features=auto, min_samples_leaf=4, min_samples_split=5, n_estimators=900; total time=  14.6s\n"
     ]
    },
    {
     "name": "stderr",
     "output_type": "stream",
     "text": [
      "/Users/m22/conda/envs/env_pylab/lib/python3.9/site-packages/sklearn/ensemble/_forest.py:413: FutureWarning: `max_features='auto'` has been deprecated in 1.1 and will be removed in 1.3. To keep the past behaviour, explicitly set `max_features=1.0` or remove this parameter as it is also the default value for RandomForestRegressors and ExtraTreesRegressors.\n",
      "  warn(\n"
     ]
    },
    {
     "name": "stdout",
     "output_type": "stream",
     "text": [
      "[CV] END bootstrap=False, max_depth=140, max_features=auto, min_samples_leaf=4, min_samples_split=5, n_estimators=900; total time=  14.1s\n",
      "[CV] END bootstrap=False, max_depth=140, max_features=auto, min_samples_leaf=4, min_samples_split=5, n_estimators=900; total time=  14.7s\n"
     ]
    },
    {
     "name": "stderr",
     "output_type": "stream",
     "text": [
      "/Users/m22/conda/envs/env_pylab/lib/python3.9/site-packages/sklearn/ensemble/_forest.py:413: FutureWarning: `max_features='auto'` has been deprecated in 1.1 and will be removed in 1.3. To keep the past behaviour, explicitly set `max_features=1.0` or remove this parameter as it is also the default value for RandomForestRegressors and ExtraTreesRegressors.\n",
      "  warn(\n"
     ]
    },
    {
     "name": "stdout",
     "output_type": "stream",
     "text": [
      "[CV] END bootstrap=False, max_depth=150, max_features=auto, min_samples_leaf=4, min_samples_split=2, n_estimators=300; total time=   4.3s\n",
      "[CV] END bootstrap=False, max_depth=40, max_features=sqrt, min_samples_leaf=1, min_samples_split=5, n_estimators=500; total time=   4.9s\n",
      "[CV] END bootstrap=True, max_depth=140, max_features=sqrt, min_samples_leaf=2, min_samples_split=2, n_estimators=300; total time=   1.9s\n"
     ]
    },
    {
     "name": "stderr",
     "output_type": "stream",
     "text": [
      "/Users/m22/conda/envs/env_pylab/lib/python3.9/site-packages/sklearn/ensemble/_forest.py:413: FutureWarning: `max_features='auto'` has been deprecated in 1.1 and will be removed in 1.3. To keep the past behaviour, explicitly set `max_features=1.0` or remove this parameter as it is also the default value for RandomForestRegressors and ExtraTreesRegressors.\n",
      "  warn(\n"
     ]
    },
    {
     "name": "stdout",
     "output_type": "stream",
     "text": [
      "[CV] END bootstrap=True, max_depth=140, max_features=sqrt, min_samples_leaf=2, min_samples_split=2, n_estimators=300; total time=   1.8s\n"
     ]
    },
    {
     "name": "stderr",
     "output_type": "stream",
     "text": [
      "/Users/m22/conda/envs/env_pylab/lib/python3.9/site-packages/sklearn/ensemble/_forest.py:413: FutureWarning: `max_features='auto'` has been deprecated in 1.1 and will be removed in 1.3. To keep the past behaviour, explicitly set `max_features=1.0` or remove this parameter as it is also the default value for RandomForestRegressors and ExtraTreesRegressors.\n",
      "  warn(\n"
     ]
    },
    {
     "name": "stdout",
     "output_type": "stream",
     "text": [
      "[CV] END bootstrap=True, max_depth=140, max_features=sqrt, min_samples_leaf=2, min_samples_split=2, n_estimators=300; total time=   1.8s\n"
     ]
    },
    {
     "name": "stderr",
     "output_type": "stream",
     "text": [
      "/Users/m22/conda/envs/env_pylab/lib/python3.9/site-packages/sklearn/ensemble/_forest.py:413: FutureWarning: `max_features='auto'` has been deprecated in 1.1 and will be removed in 1.3. To keep the past behaviour, explicitly set `max_features=1.0` or remove this parameter as it is also the default value for RandomForestRegressors and ExtraTreesRegressors.\n",
      "  warn(\n"
     ]
    },
    {
     "name": "stdout",
     "output_type": "stream",
     "text": [
      "[CV] END bootstrap=False, max_depth=60, max_features=auto, min_samples_leaf=1, min_samples_split=10, n_estimators=800; total time=  12.9s\n",
      "[CV] END bootstrap=False, max_depth=60, max_features=auto, min_samples_leaf=1, min_samples_split=10, n_estimators=800; total time=  12.4s\n",
      "[CV] END bootstrap=False, max_depth=60, max_features=auto, min_samples_leaf=1, min_samples_split=10, n_estimators=800; total time=  13.3s\n",
      "[CV] END bootstrap=False, max_depth=150, max_features=auto, min_samples_leaf=4, min_samples_split=2, n_estimators=300; total time=   4.6s\n",
      "[CV] END bootstrap=False, max_depth=150, max_features=auto, min_samples_leaf=4, min_samples_split=2, n_estimators=300; total time=   4.5s\n"
     ]
    },
    {
     "name": "stderr",
     "output_type": "stream",
     "text": [
      "/Users/m22/conda/envs/env_pylab/lib/python3.9/site-packages/sklearn/ensemble/_forest.py:413: FutureWarning: `max_features='auto'` has been deprecated in 1.1 and will be removed in 1.3. To keep the past behaviour, explicitly set `max_features=1.0` or remove this parameter as it is also the default value for RandomForestRegressors and ExtraTreesRegressors.\n",
      "  warn(\n",
      "/Users/m22/conda/envs/env_pylab/lib/python3.9/site-packages/sklearn/ensemble/_forest.py:413: FutureWarning: `max_features='auto'` has been deprecated in 1.1 and will be removed in 1.3. To keep the past behaviour, explicitly set `max_features=1.0` or remove this parameter as it is also the default value for RandomForestRegressors and ExtraTreesRegressors.\n",
      "  warn(\n"
     ]
    },
    {
     "name": "stdout",
     "output_type": "stream",
     "text": [
      "[CV] END bootstrap=False, max_depth=100, max_features=sqrt, min_samples_leaf=2, min_samples_split=2, n_estimators=300; total time=   2.8s\n"
     ]
    },
    {
     "name": "stderr",
     "output_type": "stream",
     "text": [
      "/Users/m22/conda/envs/env_pylab/lib/python3.9/site-packages/sklearn/ensemble/_forest.py:413: FutureWarning: `max_features='auto'` has been deprecated in 1.1 and will be removed in 1.3. To keep the past behaviour, explicitly set `max_features=1.0` or remove this parameter as it is also the default value for RandomForestRegressors and ExtraTreesRegressors.\n",
      "  warn(\n"
     ]
    },
    {
     "name": "stdout",
     "output_type": "stream",
     "text": [
      "[CV] END bootstrap=False, max_depth=100, max_features=sqrt, min_samples_leaf=2, min_samples_split=2, n_estimators=300; total time=   2.7s\n",
      "[CV] END bootstrap=True, max_depth=140, max_features=auto, min_samples_leaf=1, min_samples_split=10, n_estimators=500; total time=   5.0s\n",
      "[CV] END bootstrap=False, max_depth=100, max_features=sqrt, min_samples_leaf=2, min_samples_split=2, n_estimators=300; total time=   2.7s\n",
      "[CV] END bootstrap=True, max_depth=10, max_features=sqrt, min_samples_leaf=2, min_samples_split=5, n_estimators=300; total time=   1.3s\n",
      "[CV] END bootstrap=True, max_depth=140, max_features=auto, min_samples_leaf=1, min_samples_split=10, n_estimators=500; total time=   5.2s\n",
      "[CV] END bootstrap=True, max_depth=10, max_features=sqrt, min_samples_leaf=2, min_samples_split=5, n_estimators=300; total time=   1.1s\n",
      "[CV] END bootstrap=True, max_depth=10, max_features=sqrt, min_samples_leaf=2, min_samples_split=5, n_estimators=300; total time=   1.1s\n"
     ]
    },
    {
     "name": "stderr",
     "output_type": "stream",
     "text": [
      "/Users/m22/conda/envs/env_pylab/lib/python3.9/site-packages/sklearn/ensemble/_forest.py:413: FutureWarning: `max_features='auto'` has been deprecated in 1.1 and will be removed in 1.3. To keep the past behaviour, explicitly set `max_features=1.0` or remove this parameter as it is also the default value for RandomForestRegressors and ExtraTreesRegressors.\n",
      "  warn(\n",
      "/Users/m22/conda/envs/env_pylab/lib/python3.9/site-packages/sklearn/ensemble/_forest.py:413: FutureWarning: `max_features='auto'` has been deprecated in 1.1 and will be removed in 1.3. To keep the past behaviour, explicitly set `max_features=1.0` or remove this parameter as it is also the default value for RandomForestRegressors and ExtraTreesRegressors.\n",
      "  warn(\n"
     ]
    },
    {
     "name": "stdout",
     "output_type": "stream",
     "text": [
      "[CV] END bootstrap=True, max_depth=140, max_features=auto, min_samples_leaf=1, min_samples_split=10, n_estimators=500; total time=   5.2s\n",
      "[CV] END bootstrap=True, max_depth=100, max_features=sqrt, min_samples_leaf=1, min_samples_split=2, n_estimators=900; total time=   6.2s\n",
      "[CV] END bootstrap=True, max_depth=90, max_features=auto, min_samples_leaf=2, min_samples_split=10, n_estimators=1000; total time=   9.8s\n",
      "[CV] END bootstrap=True, max_depth=90, max_features=auto, min_samples_leaf=2, min_samples_split=10, n_estimators=1000; total time=   9.7s\n"
     ]
    },
    {
     "name": "stderr",
     "output_type": "stream",
     "text": [
      "/Users/m22/conda/envs/env_pylab/lib/python3.9/site-packages/sklearn/ensemble/_forest.py:413: FutureWarning: `max_features='auto'` has been deprecated in 1.1 and will be removed in 1.3. To keep the past behaviour, explicitly set `max_features=1.0` or remove this parameter as it is also the default value for RandomForestRegressors and ExtraTreesRegressors.\n",
      "  warn(\n",
      "/Users/m22/conda/envs/env_pylab/lib/python3.9/site-packages/joblib/externals/loky/process_executor.py:700: UserWarning: A worker stopped while some jobs were given to the executor. This can be caused by a too short worker timeout or by a memory leak.\n",
      "  warnings.warn(\n"
     ]
    },
    {
     "name": "stdout",
     "output_type": "stream",
     "text": [
      "[CV] END bootstrap=True, max_depth=100, max_features=sqrt, min_samples_leaf=1, min_samples_split=2, n_estimators=900; total time=   6.4s\n",
      "[CV] END bootstrap=True, max_depth=100, max_features=sqrt, min_samples_leaf=1, min_samples_split=2, n_estimators=900; total time=   6.4s\n",
      "[CV] END bootstrap=True, max_depth=110, max_features=auto, min_samples_leaf=2, min_samples_split=2, n_estimators=600; total time=   6.4s\n",
      "[CV] END bootstrap=True, max_depth=110, max_features=auto, min_samples_leaf=2, min_samples_split=2, n_estimators=600; total time=   6.3s\n"
     ]
    },
    {
     "name": "stderr",
     "output_type": "stream",
     "text": [
      "/Users/m22/conda/envs/env_pylab/lib/python3.9/site-packages/sklearn/ensemble/_forest.py:413: FutureWarning: `max_features='auto'` has been deprecated in 1.1 and will be removed in 1.3. To keep the past behaviour, explicitly set `max_features=1.0` or remove this parameter as it is also the default value for RandomForestRegressors and ExtraTreesRegressors.\n",
      "  warn(\n"
     ]
    },
    {
     "name": "stdout",
     "output_type": "stream",
     "text": [
      "[CV] END bootstrap=True, max_depth=30, max_features=sqrt, min_samples_leaf=4, min_samples_split=10, n_estimators=100; total time=   0.6s\n"
     ]
    },
    {
     "name": "stderr",
     "output_type": "stream",
     "text": [
      "/Users/m22/conda/envs/env_pylab/lib/python3.9/site-packages/sklearn/ensemble/_forest.py:413: FutureWarning: `max_features='auto'` has been deprecated in 1.1 and will be removed in 1.3. To keep the past behaviour, explicitly set `max_features=1.0` or remove this parameter as it is also the default value for RandomForestRegressors and ExtraTreesRegressors.\n",
      "  warn(\n"
     ]
    },
    {
     "name": "stdout",
     "output_type": "stream",
     "text": [
      "[CV] END bootstrap=True, max_depth=30, max_features=sqrt, min_samples_leaf=4, min_samples_split=10, n_estimators=100; total time=   0.6s\n"
     ]
    },
    {
     "name": "stderr",
     "output_type": "stream",
     "text": [
      "/Users/m22/conda/envs/env_pylab/lib/python3.9/site-packages/sklearn/ensemble/_forest.py:413: FutureWarning: `max_features='auto'` has been deprecated in 1.1 and will be removed in 1.3. To keep the past behaviour, explicitly set `max_features=1.0` or remove this parameter as it is also the default value for RandomForestRegressors and ExtraTreesRegressors.\n",
      "  warn(\n"
     ]
    },
    {
     "name": "stdout",
     "output_type": "stream",
     "text": [
      "[CV] END bootstrap=True, max_depth=30, max_features=sqrt, min_samples_leaf=4, min_samples_split=10, n_estimators=100; total time=   0.5s\n",
      "[CV] END bootstrap=True, max_depth=90, max_features=auto, min_samples_leaf=2, min_samples_split=10, n_estimators=1000; total time=   9.8s\n"
     ]
    },
    {
     "name": "stderr",
     "output_type": "stream",
     "text": [
      "/Users/m22/conda/envs/env_pylab/lib/python3.9/site-packages/sklearn/ensemble/_forest.py:413: FutureWarning: `max_features='auto'` has been deprecated in 1.1 and will be removed in 1.3. To keep the past behaviour, explicitly set `max_features=1.0` or remove this parameter as it is also the default value for RandomForestRegressors and ExtraTreesRegressors.\n",
      "  warn(\n"
     ]
    },
    {
     "name": "stdout",
     "output_type": "stream",
     "text": [
      "[CV] END bootstrap=True, max_depth=10, max_features=sqrt, min_samples_leaf=4, min_samples_split=2, n_estimators=800; total time=   3.1s\n"
     ]
    },
    {
     "name": "stderr",
     "output_type": "stream",
     "text": [
      "/Users/m22/conda/envs/env_pylab/lib/python3.9/site-packages/sklearn/ensemble/_forest.py:413: FutureWarning: `max_features='auto'` has been deprecated in 1.1 and will be removed in 1.3. To keep the past behaviour, explicitly set `max_features=1.0` or remove this parameter as it is also the default value for RandomForestRegressors and ExtraTreesRegressors.\n",
      "  warn(\n"
     ]
    },
    {
     "name": "stdout",
     "output_type": "stream",
     "text": [
      "[CV] END bootstrap=True, max_depth=10, max_features=sqrt, min_samples_leaf=4, min_samples_split=2, n_estimators=800; total time=   3.0s\n",
      "[CV] END bootstrap=True, max_depth=10, max_features=sqrt, min_samples_leaf=4, min_samples_split=2, n_estimators=800; total time=   3.1s\n"
     ]
    },
    {
     "name": "stderr",
     "output_type": "stream",
     "text": [
      "/Users/m22/conda/envs/env_pylab/lib/python3.9/site-packages/sklearn/ensemble/_forest.py:413: FutureWarning: `max_features='auto'` has been deprecated in 1.1 and will be removed in 1.3. To keep the past behaviour, explicitly set `max_features=1.0` or remove this parameter as it is also the default value for RandomForestRegressors and ExtraTreesRegressors.\n",
      "  warn(\n",
      "/Users/m22/conda/envs/env_pylab/lib/python3.9/site-packages/sklearn/ensemble/_forest.py:413: FutureWarning: `max_features='auto'` has been deprecated in 1.1 and will be removed in 1.3. To keep the past behaviour, explicitly set `max_features=1.0` or remove this parameter as it is also the default value for RandomForestRegressors and ExtraTreesRegressors.\n",
      "  warn(\n"
     ]
    },
    {
     "name": "stdout",
     "output_type": "stream",
     "text": [
      "[CV] END bootstrap=True, max_depth=110, max_features=auto, min_samples_leaf=2, min_samples_split=2, n_estimators=600; total time=   6.2s\n"
     ]
    },
    {
     "name": "stderr",
     "output_type": "stream",
     "text": [
      "/Users/m22/conda/envs/env_pylab/lib/python3.9/site-packages/sklearn/ensemble/_forest.py:413: FutureWarning: `max_features='auto'` has been deprecated in 1.1 and will be removed in 1.3. To keep the past behaviour, explicitly set `max_features=1.0` or remove this parameter as it is also the default value for RandomForestRegressors and ExtraTreesRegressors.\n",
      "  warn(\n"
     ]
    },
    {
     "name": "stdout",
     "output_type": "stream",
     "text": [
      "[CV] END bootstrap=True, max_depth=150, max_features=auto, min_samples_leaf=4, min_samples_split=5, n_estimators=700; total time=   6.7s\n",
      "[CV] END bootstrap=True, max_depth=150, max_features=auto, min_samples_leaf=4, min_samples_split=5, n_estimators=700; total time=   6.6s\n"
     ]
    },
    {
     "name": "stderr",
     "output_type": "stream",
     "text": [
      "/Users/m22/conda/envs/env_pylab/lib/python3.9/site-packages/sklearn/ensemble/_forest.py:413: FutureWarning: `max_features='auto'` has been deprecated in 1.1 and will be removed in 1.3. To keep the past behaviour, explicitly set `max_features=1.0` or remove this parameter as it is also the default value for RandomForestRegressors and ExtraTreesRegressors.\n",
      "  warn(\n"
     ]
    },
    {
     "name": "stdout",
     "output_type": "stream",
     "text": [
      "[CV] END bootstrap=True, max_depth=150, max_features=auto, min_samples_leaf=4, min_samples_split=5, n_estimators=700; total time=   6.6s\n",
      "[CV] END bootstrap=True, max_depth=110, max_features=auto, min_samples_leaf=2, min_samples_split=5, n_estimators=500; total time=   5.2s\n",
      "[CV] END bootstrap=True, max_depth=10, max_features=sqrt, min_samples_leaf=4, min_samples_split=10, n_estimators=800; total time=   3.0s\n"
     ]
    },
    {
     "name": "stderr",
     "output_type": "stream",
     "text": [
      "/Users/m22/conda/envs/env_pylab/lib/python3.9/site-packages/sklearn/ensemble/_forest.py:413: FutureWarning: `max_features='auto'` has been deprecated in 1.1 and will be removed in 1.3. To keep the past behaviour, explicitly set `max_features=1.0` or remove this parameter as it is also the default value for RandomForestRegressors and ExtraTreesRegressors.\n",
      "  warn(\n"
     ]
    },
    {
     "name": "stdout",
     "output_type": "stream",
     "text": [
      "[CV] END bootstrap=True, max_depth=10, max_features=sqrt, min_samples_leaf=4, min_samples_split=10, n_estimators=800; total time=   3.1s\n"
     ]
    },
    {
     "name": "stderr",
     "output_type": "stream",
     "text": [
      "/Users/m22/conda/envs/env_pylab/lib/python3.9/site-packages/sklearn/ensemble/_forest.py:413: FutureWarning: `max_features='auto'` has been deprecated in 1.1 and will be removed in 1.3. To keep the past behaviour, explicitly set `max_features=1.0` or remove this parameter as it is also the default value for RandomForestRegressors and ExtraTreesRegressors.\n",
      "  warn(\n"
     ]
    },
    {
     "name": "stdout",
     "output_type": "stream",
     "text": [
      "[CV] END bootstrap=True, max_depth=110, max_features=auto, min_samples_leaf=2, min_samples_split=5, n_estimators=500; total time=   5.0s\n"
     ]
    },
    {
     "name": "stderr",
     "output_type": "stream",
     "text": [
      "/Users/m22/conda/envs/env_pylab/lib/python3.9/site-packages/sklearn/ensemble/_forest.py:413: FutureWarning: `max_features='auto'` has been deprecated in 1.1 and will be removed in 1.3. To keep the past behaviour, explicitly set `max_features=1.0` or remove this parameter as it is also the default value for RandomForestRegressors and ExtraTreesRegressors.\n",
      "  warn(\n"
     ]
    },
    {
     "name": "stdout",
     "output_type": "stream",
     "text": [
      "[CV] END bootstrap=True, max_depth=110, max_features=auto, min_samples_leaf=2, min_samples_split=5, n_estimators=500; total time=   5.3s\n"
     ]
    },
    {
     "name": "stderr",
     "output_type": "stream",
     "text": [
      "/Users/m22/conda/envs/env_pylab/lib/python3.9/site-packages/sklearn/ensemble/_forest.py:413: FutureWarning: `max_features='auto'` has been deprecated in 1.1 and will be removed in 1.3. To keep the past behaviour, explicitly set `max_features=1.0` or remove this parameter as it is also the default value for RandomForestRegressors and ExtraTreesRegressors.\n",
      "  warn(\n"
     ]
    },
    {
     "name": "stdout",
     "output_type": "stream",
     "text": [
      "[CV] END bootstrap=True, max_depth=10, max_features=sqrt, min_samples_leaf=4, min_samples_split=10, n_estimators=800; total time=   3.1s\n"
     ]
    },
    {
     "name": "stderr",
     "output_type": "stream",
     "text": [
      "/Users/m22/conda/envs/env_pylab/lib/python3.9/site-packages/sklearn/ensemble/_forest.py:413: FutureWarning: `max_features='auto'` has been deprecated in 1.1 and will be removed in 1.3. To keep the past behaviour, explicitly set `max_features=1.0` or remove this parameter as it is also the default value for RandomForestRegressors and ExtraTreesRegressors.\n",
      "  warn(\n"
     ]
    },
    {
     "name": "stdout",
     "output_type": "stream",
     "text": [
      "[CV] END bootstrap=False, max_depth=None, max_features=auto, min_samples_leaf=2, min_samples_split=5, n_estimators=1000; total time=  16.2s\n"
     ]
    },
    {
     "name": "stderr",
     "output_type": "stream",
     "text": [
      "/Users/m22/conda/envs/env_pylab/lib/python3.9/site-packages/sklearn/ensemble/_forest.py:413: FutureWarning: `max_features='auto'` has been deprecated in 1.1 and will be removed in 1.3. To keep the past behaviour, explicitly set `max_features=1.0` or remove this parameter as it is also the default value for RandomForestRegressors and ExtraTreesRegressors.\n",
      "  warn(\n"
     ]
    },
    {
     "name": "stdout",
     "output_type": "stream",
     "text": [
      "[CV] END bootstrap=False, max_depth=None, max_features=auto, min_samples_leaf=2, min_samples_split=5, n_estimators=1000; total time=  16.1s\n",
      "[CV] END bootstrap=False, max_depth=None, max_features=auto, min_samples_leaf=2, min_samples_split=5, n_estimators=1000; total time=  17.1s\n",
      "[CV] END bootstrap=False, max_depth=100, max_features=auto, min_samples_leaf=1, min_samples_split=2, n_estimators=700; total time=  12.6s\n",
      "[CV] END bootstrap=True, max_depth=150, max_features=sqrt, min_samples_leaf=1, min_samples_split=2, n_estimators=200; total time=   1.3s\n",
      "[CV] END bootstrap=True, max_depth=150, max_features=sqrt, min_samples_leaf=1, min_samples_split=2, n_estimators=200; total time=   1.4s\n"
     ]
    },
    {
     "name": "stderr",
     "output_type": "stream",
     "text": [
      "/Users/m22/conda/envs/env_pylab/lib/python3.9/site-packages/sklearn/ensemble/_forest.py:413: FutureWarning: `max_features='auto'` has been deprecated in 1.1 and will be removed in 1.3. To keep the past behaviour, explicitly set `max_features=1.0` or remove this parameter as it is also the default value for RandomForestRegressors and ExtraTreesRegressors.\n",
      "  warn(\n",
      "/Users/m22/conda/envs/env_pylab/lib/python3.9/site-packages/sklearn/ensemble/_forest.py:413: FutureWarning: `max_features='auto'` has been deprecated in 1.1 and will be removed in 1.3. To keep the past behaviour, explicitly set `max_features=1.0` or remove this parameter as it is also the default value for RandomForestRegressors and ExtraTreesRegressors.\n",
      "  warn(\n"
     ]
    },
    {
     "name": "stdout",
     "output_type": "stream",
     "text": [
      "[CV] END bootstrap=False, max_depth=100, max_features=auto, min_samples_leaf=1, min_samples_split=2, n_estimators=700; total time=  12.6s\n",
      "[CV] END bootstrap=False, max_depth=100, max_features=auto, min_samples_leaf=1, min_samples_split=2, n_estimators=700; total time=  13.0s\n",
      "[CV] END bootstrap=True, max_depth=150, max_features=sqrt, min_samples_leaf=1, min_samples_split=2, n_estimators=200; total time=   1.2s\n"
     ]
    },
    {
     "name": "stderr",
     "output_type": "stream",
     "text": [
      "/Users/m22/conda/envs/env_pylab/lib/python3.9/site-packages/sklearn/ensemble/_forest.py:413: FutureWarning: `max_features='auto'` has been deprecated in 1.1 and will be removed in 1.3. To keep the past behaviour, explicitly set `max_features=1.0` or remove this parameter as it is also the default value for RandomForestRegressors and ExtraTreesRegressors.\n",
      "  warn(\n",
      "/Users/m22/conda/envs/env_pylab/lib/python3.9/site-packages/sklearn/ensemble/_forest.py:413: FutureWarning: `max_features='auto'` has been deprecated in 1.1 and will be removed in 1.3. To keep the past behaviour, explicitly set `max_features=1.0` or remove this parameter as it is also the default value for RandomForestRegressors and ExtraTreesRegressors.\n",
      "  warn(\n",
      "/Users/m22/conda/envs/env_pylab/lib/python3.9/site-packages/sklearn/ensemble/_forest.py:413: FutureWarning: `max_features='auto'` has been deprecated in 1.1 and will be removed in 1.3. To keep the past behaviour, explicitly set `max_features=1.0` or remove this parameter as it is also the default value for RandomForestRegressors and ExtraTreesRegressors.\n",
      "  warn(\n"
     ]
    },
    {
     "name": "stdout",
     "output_type": "stream",
     "text": [
      "[CV] END bootstrap=True, max_depth=110, max_features=auto, min_samples_leaf=4, min_samples_split=5, n_estimators=200; total time=   2.3s\n",
      "[CV] END bootstrap=True, max_depth=110, max_features=auto, min_samples_leaf=4, min_samples_split=5, n_estimators=200; total time=   2.1s\n"
     ]
    },
    {
     "name": "stderr",
     "output_type": "stream",
     "text": [
      "/Users/m22/conda/envs/env_pylab/lib/python3.9/site-packages/sklearn/ensemble/_forest.py:413: FutureWarning: `max_features='auto'` has been deprecated in 1.1 and will be removed in 1.3. To keep the past behaviour, explicitly set `max_features=1.0` or remove this parameter as it is also the default value for RandomForestRegressors and ExtraTreesRegressors.\n",
      "  warn(\n",
      "/Users/m22/conda/envs/env_pylab/lib/python3.9/site-packages/sklearn/ensemble/_forest.py:413: FutureWarning: `max_features='auto'` has been deprecated in 1.1 and will be removed in 1.3. To keep the past behaviour, explicitly set `max_features=1.0` or remove this parameter as it is also the default value for RandomForestRegressors and ExtraTreesRegressors.\n",
      "  warn(\n"
     ]
    },
    {
     "name": "stdout",
     "output_type": "stream",
     "text": [
      "[CV] END bootstrap=True, max_depth=110, max_features=auto, min_samples_leaf=4, min_samples_split=5, n_estimators=200; total time=   2.1s\n"
     ]
    },
    {
     "name": "stderr",
     "output_type": "stream",
     "text": [
      "/Users/m22/conda/envs/env_pylab/lib/python3.9/site-packages/sklearn/ensemble/_forest.py:413: FutureWarning: `max_features='auto'` has been deprecated in 1.1 and will be removed in 1.3. To keep the past behaviour, explicitly set `max_features=1.0` or remove this parameter as it is also the default value for RandomForestRegressors and ExtraTreesRegressors.\n",
      "  warn(\n"
     ]
    },
    {
     "name": "stdout",
     "output_type": "stream",
     "text": [
      "[CV] END bootstrap=False, max_depth=90, max_features=auto, min_samples_leaf=2, min_samples_split=2, n_estimators=900; total time=  15.5s\n"
     ]
    },
    {
     "name": "stderr",
     "output_type": "stream",
     "text": [
      "/Users/m22/conda/envs/env_pylab/lib/python3.9/site-packages/sklearn/ensemble/_forest.py:413: FutureWarning: `max_features='auto'` has been deprecated in 1.1 and will be removed in 1.3. To keep the past behaviour, explicitly set `max_features=1.0` or remove this parameter as it is also the default value for RandomForestRegressors and ExtraTreesRegressors.\n",
      "  warn(\n"
     ]
    },
    {
     "name": "stdout",
     "output_type": "stream",
     "text": [
      "[CV] END bootstrap=False, max_depth=90, max_features=auto, min_samples_leaf=2, min_samples_split=2, n_estimators=900; total time=  15.8s\n",
      "[CV] END bootstrap=True, max_depth=10, max_features=sqrt, min_samples_leaf=1, min_samples_split=5, n_estimators=200; total time=   0.7s\n",
      "[CV] END bootstrap=True, max_depth=10, max_features=sqrt, min_samples_leaf=1, min_samples_split=5, n_estimators=200; total time=   0.8s\n",
      "[CV] END bootstrap=True, max_depth=10, max_features=sqrt, min_samples_leaf=1, min_samples_split=5, n_estimators=200; total time=   0.9s\n"
     ]
    },
    {
     "name": "stderr",
     "output_type": "stream",
     "text": [
      "/Users/m22/conda/envs/env_pylab/lib/python3.9/site-packages/sklearn/ensemble/_forest.py:413: FutureWarning: `max_features='auto'` has been deprecated in 1.1 and will be removed in 1.3. To keep the past behaviour, explicitly set `max_features=1.0` or remove this parameter as it is also the default value for RandomForestRegressors and ExtraTreesRegressors.\n",
      "  warn(\n"
     ]
    },
    {
     "name": "stdout",
     "output_type": "stream",
     "text": [
      "[CV] END bootstrap=False, max_depth=90, max_features=auto, min_samples_leaf=2, min_samples_split=2, n_estimators=900; total time=  14.5s\n"
     ]
    },
    {
     "name": "stderr",
     "output_type": "stream",
     "text": [
      "/Users/m22/conda/envs/env_pylab/lib/python3.9/site-packages/sklearn/ensemble/_forest.py:413: FutureWarning: `max_features='auto'` has been deprecated in 1.1 and will be removed in 1.3. To keep the past behaviour, explicitly set `max_features=1.0` or remove this parameter as it is also the default value for RandomForestRegressors and ExtraTreesRegressors.\n",
      "  warn(\n"
     ]
    },
    {
     "name": "stdout",
     "output_type": "stream",
     "text": [
      "[CV] END bootstrap=False, max_depth=10, max_features=auto, min_samples_leaf=1, min_samples_split=10, n_estimators=1000; total time=   9.0s\n"
     ]
    },
    {
     "name": "stderr",
     "output_type": "stream",
     "text": [
      "/Users/m22/conda/envs/env_pylab/lib/python3.9/site-packages/sklearn/ensemble/_forest.py:413: FutureWarning: `max_features='auto'` has been deprecated in 1.1 and will be removed in 1.3. To keep the past behaviour, explicitly set `max_features=1.0` or remove this parameter as it is also the default value for RandomForestRegressors and ExtraTreesRegressors.\n",
      "  warn(\n"
     ]
    },
    {
     "name": "stdout",
     "output_type": "stream",
     "text": [
      "[CV] END bootstrap=False, max_depth=10, max_features=auto, min_samples_leaf=1, min_samples_split=10, n_estimators=1000; total time=   9.2s\n"
     ]
    },
    {
     "name": "stderr",
     "output_type": "stream",
     "text": [
      "/Users/m22/conda/envs/env_pylab/lib/python3.9/site-packages/sklearn/ensemble/_forest.py:413: FutureWarning: `max_features='auto'` has been deprecated in 1.1 and will be removed in 1.3. To keep the past behaviour, explicitly set `max_features=1.0` or remove this parameter as it is also the default value for RandomForestRegressors and ExtraTreesRegressors.\n",
      "  warn(\n"
     ]
    },
    {
     "name": "stdout",
     "output_type": "stream",
     "text": [
      "[CV] END bootstrap=True, max_depth=None, max_features=auto, min_samples_leaf=2, min_samples_split=10, n_estimators=100; total time=   1.0s\n"
     ]
    },
    {
     "name": "stderr",
     "output_type": "stream",
     "text": [
      "/Users/m22/conda/envs/env_pylab/lib/python3.9/site-packages/sklearn/ensemble/_forest.py:413: FutureWarning: `max_features='auto'` has been deprecated in 1.1 and will be removed in 1.3. To keep the past behaviour, explicitly set `max_features=1.0` or remove this parameter as it is also the default value for RandomForestRegressors and ExtraTreesRegressors.\n",
      "  warn(\n"
     ]
    },
    {
     "name": "stdout",
     "output_type": "stream",
     "text": [
      "[CV] END bootstrap=False, max_depth=10, max_features=auto, min_samples_leaf=1, min_samples_split=10, n_estimators=1000; total time=   8.9s\n"
     ]
    },
    {
     "name": "stderr",
     "output_type": "stream",
     "text": [
      "/Users/m22/conda/envs/env_pylab/lib/python3.9/site-packages/sklearn/ensemble/_forest.py:413: FutureWarning: `max_features='auto'` has been deprecated in 1.1 and will be removed in 1.3. To keep the past behaviour, explicitly set `max_features=1.0` or remove this parameter as it is also the default value for RandomForestRegressors and ExtraTreesRegressors.\n",
      "  warn(\n"
     ]
    },
    {
     "name": "stdout",
     "output_type": "stream",
     "text": [
      "[CV] END bootstrap=True, max_depth=140, max_features=auto, min_samples_leaf=2, min_samples_split=5, n_estimators=500; total time=   5.1s\n",
      "[CV] END bootstrap=True, max_depth=None, max_features=auto, min_samples_leaf=2, min_samples_split=10, n_estimators=100; total time=   1.1s\n"
     ]
    },
    {
     "name": "stderr",
     "output_type": "stream",
     "text": [
      "/Users/m22/conda/envs/env_pylab/lib/python3.9/site-packages/sklearn/ensemble/_forest.py:413: FutureWarning: `max_features='auto'` has been deprecated in 1.1 and will be removed in 1.3. To keep the past behaviour, explicitly set `max_features=1.0` or remove this parameter as it is also the default value for RandomForestRegressors and ExtraTreesRegressors.\n",
      "  warn(\n",
      "/Users/m22/conda/envs/env_pylab/lib/python3.9/site-packages/sklearn/ensemble/_forest.py:413: FutureWarning: `max_features='auto'` has been deprecated in 1.1 and will be removed in 1.3. To keep the past behaviour, explicitly set `max_features=1.0` or remove this parameter as it is also the default value for RandomForestRegressors and ExtraTreesRegressors.\n",
      "  warn(\n"
     ]
    },
    {
     "name": "stdout",
     "output_type": "stream",
     "text": [
      "[CV] END bootstrap=False, max_depth=130, max_features=auto, min_samples_leaf=1, min_samples_split=2, n_estimators=700; total time=  12.7s\n",
      "[CV] END bootstrap=True, max_depth=None, max_features=auto, min_samples_leaf=2, min_samples_split=10, n_estimators=100; total time=   1.0s\n",
      "[CV] END bootstrap=False, max_depth=130, max_features=auto, min_samples_leaf=1, min_samples_split=2, n_estimators=700; total time=  13.0s\n"
     ]
    },
    {
     "name": "stderr",
     "output_type": "stream",
     "text": [
      "/Users/m22/conda/envs/env_pylab/lib/python3.9/site-packages/sklearn/ensemble/_forest.py:413: FutureWarning: `max_features='auto'` has been deprecated in 1.1 and will be removed in 1.3. To keep the past behaviour, explicitly set `max_features=1.0` or remove this parameter as it is also the default value for RandomForestRegressors and ExtraTreesRegressors.\n",
      "  warn(\n",
      "/Users/m22/conda/envs/env_pylab/lib/python3.9/site-packages/sklearn/ensemble/_forest.py:413: FutureWarning: `max_features='auto'` has been deprecated in 1.1 and will be removed in 1.3. To keep the past behaviour, explicitly set `max_features=1.0` or remove this parameter as it is also the default value for RandomForestRegressors and ExtraTreesRegressors.\n",
      "  warn(\n",
      "/Users/m22/conda/envs/env_pylab/lib/python3.9/site-packages/sklearn/ensemble/_forest.py:413: FutureWarning: `max_features='auto'` has been deprecated in 1.1 and will be removed in 1.3. To keep the past behaviour, explicitly set `max_features=1.0` or remove this parameter as it is also the default value for RandomForestRegressors and ExtraTreesRegressors.\n",
      "  warn(\n"
     ]
    },
    {
     "name": "stdout",
     "output_type": "stream",
     "text": [
      "[CV] END bootstrap=False, max_depth=130, max_features=auto, min_samples_leaf=1, min_samples_split=2, n_estimators=700; total time=  12.5s\n",
      "[CV] END bootstrap=True, max_depth=140, max_features=auto, min_samples_leaf=2, min_samples_split=5, n_estimators=500; total time=   5.2s\n"
     ]
    },
    {
     "name": "stderr",
     "output_type": "stream",
     "text": [
      "/Users/m22/conda/envs/env_pylab/lib/python3.9/site-packages/sklearn/ensemble/_forest.py:413: FutureWarning: `max_features='auto'` has been deprecated in 1.1 and will be removed in 1.3. To keep the past behaviour, explicitly set `max_features=1.0` or remove this parameter as it is also the default value for RandomForestRegressors and ExtraTreesRegressors.\n",
      "  warn(\n",
      "/Users/m22/conda/envs/env_pylab/lib/python3.9/site-packages/sklearn/ensemble/_forest.py:413: FutureWarning: `max_features='auto'` has been deprecated in 1.1 and will be removed in 1.3. To keep the past behaviour, explicitly set `max_features=1.0` or remove this parameter as it is also the default value for RandomForestRegressors and ExtraTreesRegressors.\n",
      "  warn(\n"
     ]
    },
    {
     "name": "stdout",
     "output_type": "stream",
     "text": [
      "[CV] END bootstrap=True, max_depth=140, max_features=auto, min_samples_leaf=2, min_samples_split=5, n_estimators=500; total time=   5.4s\n"
     ]
    },
    {
     "name": "stderr",
     "output_type": "stream",
     "text": [
      "/Users/m22/conda/envs/env_pylab/lib/python3.9/site-packages/sklearn/ensemble/_forest.py:413: FutureWarning: `max_features='auto'` has been deprecated in 1.1 and will be removed in 1.3. To keep the past behaviour, explicitly set `max_features=1.0` or remove this parameter as it is also the default value for RandomForestRegressors and ExtraTreesRegressors.\n",
      "  warn(\n"
     ]
    },
    {
     "name": "stdout",
     "output_type": "stream",
     "text": [
      "[CV] END bootstrap=True, max_depth=None, max_features=auto, min_samples_leaf=4, min_samples_split=5, n_estimators=200; total time=   1.8s\n"
     ]
    },
    {
     "name": "stderr",
     "output_type": "stream",
     "text": [
      "/Users/m22/conda/envs/env_pylab/lib/python3.9/site-packages/sklearn/ensemble/_forest.py:413: FutureWarning: `max_features='auto'` has been deprecated in 1.1 and will be removed in 1.3. To keep the past behaviour, explicitly set `max_features=1.0` or remove this parameter as it is also the default value for RandomForestRegressors and ExtraTreesRegressors.\n",
      "  warn(\n"
     ]
    },
    {
     "name": "stdout",
     "output_type": "stream",
     "text": [
      "[CV] END bootstrap=True, max_depth=None, max_features=auto, min_samples_leaf=4, min_samples_split=5, n_estimators=200; total time=   1.8s\n",
      "[CV] END bootstrap=True, max_depth=30, max_features=auto, min_samples_leaf=1, min_samples_split=5, n_estimators=400; total time=   4.4s\n",
      "[CV] END bootstrap=True, max_depth=30, max_features=auto, min_samples_leaf=1, min_samples_split=5, n_estimators=400; total time=   4.3s\n",
      "[CV] END bootstrap=True, max_depth=None, max_features=auto, min_samples_leaf=4, min_samples_split=5, n_estimators=200; total time=   1.8s\n"
     ]
    },
    {
     "name": "stderr",
     "output_type": "stream",
     "text": [
      "/Users/m22/conda/envs/env_pylab/lib/python3.9/site-packages/sklearn/ensemble/_forest.py:413: FutureWarning: `max_features='auto'` has been deprecated in 1.1 and will be removed in 1.3. To keep the past behaviour, explicitly set `max_features=1.0` or remove this parameter as it is also the default value for RandomForestRegressors and ExtraTreesRegressors.\n",
      "  warn(\n"
     ]
    },
    {
     "name": "stdout",
     "output_type": "stream",
     "text": [
      "[CV] END bootstrap=True, max_depth=30, max_features=auto, min_samples_leaf=1, min_samples_split=5, n_estimators=400; total time=   4.2s\n"
     ]
    },
    {
     "name": "stderr",
     "output_type": "stream",
     "text": [
      "/Users/m22/conda/envs/env_pylab/lib/python3.9/site-packages/sklearn/ensemble/_forest.py:413: FutureWarning: `max_features='auto'` has been deprecated in 1.1 and will be removed in 1.3. To keep the past behaviour, explicitly set `max_features=1.0` or remove this parameter as it is also the default value for RandomForestRegressors and ExtraTreesRegressors.\n",
      "  warn(\n"
     ]
    },
    {
     "name": "stdout",
     "output_type": "stream",
     "text": [
      "[CV] END bootstrap=False, max_depth=80, max_features=sqrt, min_samples_leaf=1, min_samples_split=10, n_estimators=800; total time=   6.8s\n"
     ]
    },
    {
     "name": "stderr",
     "output_type": "stream",
     "text": [
      "/Users/m22/conda/envs/env_pylab/lib/python3.9/site-packages/sklearn/ensemble/_forest.py:413: FutureWarning: `max_features='auto'` has been deprecated in 1.1 and will be removed in 1.3. To keep the past behaviour, explicitly set `max_features=1.0` or remove this parameter as it is also the default value for RandomForestRegressors and ExtraTreesRegressors.\n",
      "  warn(\n"
     ]
    },
    {
     "name": "stdout",
     "output_type": "stream",
     "text": [
      "[CV] END bootstrap=False, max_depth=80, max_features=sqrt, min_samples_leaf=1, min_samples_split=10, n_estimators=800; total time=   7.0s\n",
      "[CV] END bootstrap=True, max_depth=40, max_features=auto, min_samples_leaf=4, min_samples_split=10, n_estimators=700; total time=   6.2s\n"
     ]
    },
    {
     "name": "stderr",
     "output_type": "stream",
     "text": [
      "/Users/m22/conda/envs/env_pylab/lib/python3.9/site-packages/sklearn/ensemble/_forest.py:413: FutureWarning: `max_features='auto'` has been deprecated in 1.1 and will be removed in 1.3. To keep the past behaviour, explicitly set `max_features=1.0` or remove this parameter as it is also the default value for RandomForestRegressors and ExtraTreesRegressors.\n",
      "  warn(\n",
      "/Users/m22/conda/envs/env_pylab/lib/python3.9/site-packages/sklearn/ensemble/_forest.py:413: FutureWarning: `max_features='auto'` has been deprecated in 1.1 and will be removed in 1.3. To keep the past behaviour, explicitly set `max_features=1.0` or remove this parameter as it is also the default value for RandomForestRegressors and ExtraTreesRegressors.\n",
      "  warn(\n"
     ]
    },
    {
     "name": "stdout",
     "output_type": "stream",
     "text": [
      "[CV] END bootstrap=False, max_depth=80, max_features=sqrt, min_samples_leaf=1, min_samples_split=10, n_estimators=800; total time=   7.0s\n"
     ]
    },
    {
     "name": "stderr",
     "output_type": "stream",
     "text": [
      "/Users/m22/conda/envs/env_pylab/lib/python3.9/site-packages/sklearn/ensemble/_forest.py:413: FutureWarning: `max_features='auto'` has been deprecated in 1.1 and will be removed in 1.3. To keep the past behaviour, explicitly set `max_features=1.0` or remove this parameter as it is also the default value for RandomForestRegressors and ExtraTreesRegressors.\n",
      "  warn(\n"
     ]
    },
    {
     "name": "stdout",
     "output_type": "stream",
     "text": [
      "[CV] END bootstrap=True, max_depth=40, max_features=auto, min_samples_leaf=4, min_samples_split=10, n_estimators=700; total time=   6.4s\n",
      "[CV] END bootstrap=False, max_depth=50, max_features=auto, min_samples_leaf=4, min_samples_split=5, n_estimators=1000; total time=  14.5s\n",
      "[CV] END bootstrap=False, max_depth=50, max_features=auto, min_samples_leaf=4, min_samples_split=5, n_estimators=1000; total time=  14.3s\n",
      "[CV] END bootstrap=False, max_depth=50, max_features=auto, min_samples_leaf=4, min_samples_split=5, n_estimators=1000; total time=  14.2s\n"
     ]
    },
    {
     "name": "stderr",
     "output_type": "stream",
     "text": [
      "/Users/m22/conda/envs/env_pylab/lib/python3.9/site-packages/sklearn/ensemble/_forest.py:413: FutureWarning: `max_features='auto'` has been deprecated in 1.1 and will be removed in 1.3. To keep the past behaviour, explicitly set `max_features=1.0` or remove this parameter as it is also the default value for RandomForestRegressors and ExtraTreesRegressors.\n",
      "  warn(\n",
      "/Users/m22/conda/envs/env_pylab/lib/python3.9/site-packages/sklearn/ensemble/_forest.py:413: FutureWarning: `max_features='auto'` has been deprecated in 1.1 and will be removed in 1.3. To keep the past behaviour, explicitly set `max_features=1.0` or remove this parameter as it is also the default value for RandomForestRegressors and ExtraTreesRegressors.\n",
      "  warn(\n"
     ]
    },
    {
     "name": "stdout",
     "output_type": "stream",
     "text": [
      "[CV] END bootstrap=True, max_depth=140, max_features=auto, min_samples_leaf=4, min_samples_split=2, n_estimators=300; total time=   2.8s\n",
      "[CV] END bootstrap=True, max_depth=140, max_features=auto, min_samples_leaf=4, min_samples_split=2, n_estimators=300; total time=   2.8s\n",
      "[CV] END bootstrap=True, max_depth=140, max_features=auto, min_samples_leaf=4, min_samples_split=2, n_estimators=300; total time=   2.6s\n"
     ]
    },
    {
     "name": "stderr",
     "output_type": "stream",
     "text": [
      "/Users/m22/conda/envs/env_pylab/lib/python3.9/site-packages/sklearn/ensemble/_forest.py:413: FutureWarning: `max_features='auto'` has been deprecated in 1.1 and will be removed in 1.3. To keep the past behaviour, explicitly set `max_features=1.0` or remove this parameter as it is also the default value for RandomForestRegressors and ExtraTreesRegressors.\n",
      "  warn(\n",
      "/Users/m22/conda/envs/env_pylab/lib/python3.9/site-packages/sklearn/ensemble/_forest.py:413: FutureWarning: `max_features='auto'` has been deprecated in 1.1 and will be removed in 1.3. To keep the past behaviour, explicitly set `max_features=1.0` or remove this parameter as it is also the default value for RandomForestRegressors and ExtraTreesRegressors.\n",
      "  warn(\n"
     ]
    },
    {
     "name": "stdout",
     "output_type": "stream",
     "text": [
      "[CV] END bootstrap=True, max_depth=110, max_features=sqrt, min_samples_leaf=2, min_samples_split=10, n_estimators=600; total time=   3.5s\n"
     ]
    },
    {
     "name": "stderr",
     "output_type": "stream",
     "text": [
      "/Users/m22/conda/envs/env_pylab/lib/python3.9/site-packages/sklearn/ensemble/_forest.py:413: FutureWarning: `max_features='auto'` has been deprecated in 1.1 and will be removed in 1.3. To keep the past behaviour, explicitly set `max_features=1.0` or remove this parameter as it is also the default value for RandomForestRegressors and ExtraTreesRegressors.\n",
      "  warn(\n"
     ]
    },
    {
     "name": "stdout",
     "output_type": "stream",
     "text": [
      "[CV] END bootstrap=False, max_depth=150, max_features=auto, min_samples_leaf=4, min_samples_split=2, n_estimators=100; total time=   1.6s\n",
      "[CV] END bootstrap=False, max_depth=150, max_features=auto, min_samples_leaf=4, min_samples_split=2, n_estimators=100; total time=   1.5s\n",
      "[CV] END bootstrap=False, max_depth=150, max_features=auto, min_samples_leaf=4, min_samples_split=2, n_estimators=100; total time=   1.5s\n"
     ]
    },
    {
     "name": "stderr",
     "output_type": "stream",
     "text": [
      "/Users/m22/conda/envs/env_pylab/lib/python3.9/site-packages/sklearn/ensemble/_forest.py:413: FutureWarning: `max_features='auto'` has been deprecated in 1.1 and will be removed in 1.3. To keep the past behaviour, explicitly set `max_features=1.0` or remove this parameter as it is also the default value for RandomForestRegressors and ExtraTreesRegressors.\n",
      "  warn(\n"
     ]
    },
    {
     "name": "stdout",
     "output_type": "stream",
     "text": [
      "[CV] END bootstrap=True, max_depth=110, max_features=sqrt, min_samples_leaf=2, min_samples_split=10, n_estimators=600; total time=   3.5s\n",
      "[CV] END bootstrap=True, max_depth=110, max_features=sqrt, min_samples_leaf=2, min_samples_split=10, n_estimators=600; total time=   3.6s\n"
     ]
    },
    {
     "name": "stderr",
     "output_type": "stream",
     "text": [
      "/Users/m22/conda/envs/env_pylab/lib/python3.9/site-packages/sklearn/ensemble/_forest.py:413: FutureWarning: `max_features='auto'` has been deprecated in 1.1 and will be removed in 1.3. To keep the past behaviour, explicitly set `max_features=1.0` or remove this parameter as it is also the default value for RandomForestRegressors and ExtraTreesRegressors.\n",
      "  warn(\n"
     ]
    },
    {
     "name": "stdout",
     "output_type": "stream",
     "text": [
      "[CV] END bootstrap=True, max_depth=40, max_features=auto, min_samples_leaf=4, min_samples_split=10, n_estimators=700; total time=   6.7s\n"
     ]
    },
    {
     "name": "stderr",
     "output_type": "stream",
     "text": [
      "/Users/m22/conda/envs/env_pylab/lib/python3.9/site-packages/sklearn/ensemble/_forest.py:413: FutureWarning: `max_features='auto'` has been deprecated in 1.1 and will be removed in 1.3. To keep the past behaviour, explicitly set `max_features=1.0` or remove this parameter as it is also the default value for RandomForestRegressors and ExtraTreesRegressors.\n",
      "  warn(\n"
     ]
    },
    {
     "name": "stdout",
     "output_type": "stream",
     "text": [
      "[CV] END bootstrap=True, max_depth=70, max_features=sqrt, min_samples_leaf=2, min_samples_split=10, n_estimators=400; total time=   2.2s\n"
     ]
    },
    {
     "name": "stderr",
     "output_type": "stream",
     "text": [
      "/Users/m22/conda/envs/env_pylab/lib/python3.9/site-packages/sklearn/ensemble/_forest.py:413: FutureWarning: `max_features='auto'` has been deprecated in 1.1 and will be removed in 1.3. To keep the past behaviour, explicitly set `max_features=1.0` or remove this parameter as it is also the default value for RandomForestRegressors and ExtraTreesRegressors.\n",
      "  warn(\n"
     ]
    },
    {
     "name": "stdout",
     "output_type": "stream",
     "text": [
      "[CV] END bootstrap=True, max_depth=70, max_features=sqrt, min_samples_leaf=2, min_samples_split=10, n_estimators=400; total time=   2.4s\n"
     ]
    },
    {
     "name": "stderr",
     "output_type": "stream",
     "text": [
      "/Users/m22/conda/envs/env_pylab/lib/python3.9/site-packages/sklearn/ensemble/_forest.py:413: FutureWarning: `max_features='auto'` has been deprecated in 1.1 and will be removed in 1.3. To keep the past behaviour, explicitly set `max_features=1.0` or remove this parameter as it is also the default value for RandomForestRegressors and ExtraTreesRegressors.\n",
      "  warn(\n"
     ]
    },
    {
     "name": "stdout",
     "output_type": "stream",
     "text": [
      "[CV] END bootstrap=False, max_depth=30, max_features=auto, min_samples_leaf=1, min_samples_split=5, n_estimators=300; total time=   5.2s\n"
     ]
    },
    {
     "name": "stderr",
     "output_type": "stream",
     "text": [
      "/Users/m22/conda/envs/env_pylab/lib/python3.9/site-packages/sklearn/ensemble/_forest.py:413: FutureWarning: `max_features='auto'` has been deprecated in 1.1 and will be removed in 1.3. To keep the past behaviour, explicitly set `max_features=1.0` or remove this parameter as it is also the default value for RandomForestRegressors and ExtraTreesRegressors.\n",
      "  warn(\n"
     ]
    },
    {
     "name": "stdout",
     "output_type": "stream",
     "text": [
      "[CV] END bootstrap=True, max_depth=70, max_features=sqrt, min_samples_leaf=2, min_samples_split=10, n_estimators=400; total time=   2.5s\n"
     ]
    },
    {
     "name": "stderr",
     "output_type": "stream",
     "text": [
      "/Users/m22/conda/envs/env_pylab/lib/python3.9/site-packages/sklearn/ensemble/_forest.py:413: FutureWarning: `max_features='auto'` has been deprecated in 1.1 and will be removed in 1.3. To keep the past behaviour, explicitly set `max_features=1.0` or remove this parameter as it is also the default value for RandomForestRegressors and ExtraTreesRegressors.\n",
      "  warn(\n"
     ]
    },
    {
     "name": "stdout",
     "output_type": "stream",
     "text": [
      "[CV] END bootstrap=False, max_depth=30, max_features=auto, min_samples_leaf=1, min_samples_split=5, n_estimators=300; total time=   4.9s\n"
     ]
    },
    {
     "name": "stderr",
     "output_type": "stream",
     "text": [
      "/Users/m22/conda/envs/env_pylab/lib/python3.9/site-packages/sklearn/ensemble/_forest.py:413: FutureWarning: `max_features='auto'` has been deprecated in 1.1 and will be removed in 1.3. To keep the past behaviour, explicitly set `max_features=1.0` or remove this parameter as it is also the default value for RandomForestRegressors and ExtraTreesRegressors.\n",
      "  warn(\n"
     ]
    },
    {
     "name": "stdout",
     "output_type": "stream",
     "text": [
      "[CV] END bootstrap=False, max_depth=30, max_features=auto, min_samples_leaf=1, min_samples_split=5, n_estimators=300; total time=   5.3s\n"
     ]
    },
    {
     "name": "stderr",
     "output_type": "stream",
     "text": [
      "/Users/m22/conda/envs/env_pylab/lib/python3.9/site-packages/sklearn/ensemble/_forest.py:413: FutureWarning: `max_features='auto'` has been deprecated in 1.1 and will be removed in 1.3. To keep the past behaviour, explicitly set `max_features=1.0` or remove this parameter as it is also the default value for RandomForestRegressors and ExtraTreesRegressors.\n",
      "  warn(\n"
     ]
    },
    {
     "name": "stdout",
     "output_type": "stream",
     "text": [
      "[CV] END bootstrap=False, max_depth=60, max_features=auto, min_samples_leaf=4, min_samples_split=5, n_estimators=300; total time=   4.6s\n"
     ]
    },
    {
     "name": "stderr",
     "output_type": "stream",
     "text": [
      "/Users/m22/conda/envs/env_pylab/lib/python3.9/site-packages/sklearn/ensemble/_forest.py:413: FutureWarning: `max_features='auto'` has been deprecated in 1.1 and will be removed in 1.3. To keep the past behaviour, explicitly set `max_features=1.0` or remove this parameter as it is also the default value for RandomForestRegressors and ExtraTreesRegressors.\n",
      "  warn(\n"
     ]
    },
    {
     "name": "stdout",
     "output_type": "stream",
     "text": [
      "[CV] END bootstrap=False, max_depth=60, max_features=auto, min_samples_leaf=4, min_samples_split=5, n_estimators=300; total time=   4.6s\n",
      "[CV] END bootstrap=False, max_depth=60, max_features=auto, min_samples_leaf=4, min_samples_split=5, n_estimators=300; total time=   4.3s\n"
     ]
    },
    {
     "name": "stderr",
     "output_type": "stream",
     "text": [
      "/Users/m22/conda/envs/env_pylab/lib/python3.9/site-packages/sklearn/ensemble/_forest.py:413: FutureWarning: `max_features='auto'` has been deprecated in 1.1 and will be removed in 1.3. To keep the past behaviour, explicitly set `max_features=1.0` or remove this parameter as it is also the default value for RandomForestRegressors and ExtraTreesRegressors.\n",
      "  warn(\n",
      "/Users/m22/conda/envs/env_pylab/lib/python3.9/site-packages/sklearn/ensemble/_forest.py:413: FutureWarning: `max_features='auto'` has been deprecated in 1.1 and will be removed in 1.3. To keep the past behaviour, explicitly set `max_features=1.0` or remove this parameter as it is also the default value for RandomForestRegressors and ExtraTreesRegressors.\n",
      "  warn(\n"
     ]
    },
    {
     "name": "stdout",
     "output_type": "stream",
     "text": [
      "[CV] END bootstrap=True, max_depth=90, max_features=auto, min_samples_leaf=4, min_samples_split=2, n_estimators=600; total time=   6.0s\n",
      "[CV] END bootstrap=True, max_depth=90, max_features=auto, min_samples_leaf=4, min_samples_split=2, n_estimators=600; total time=   6.0s\n"
     ]
    },
    {
     "name": "stderr",
     "output_type": "stream",
     "text": [
      "/Users/m22/conda/envs/env_pylab/lib/python3.9/site-packages/sklearn/ensemble/_forest.py:413: FutureWarning: `max_features='auto'` has been deprecated in 1.1 and will be removed in 1.3. To keep the past behaviour, explicitly set `max_features=1.0` or remove this parameter as it is also the default value for RandomForestRegressors and ExtraTreesRegressors.\n",
      "  warn(\n"
     ]
    },
    {
     "name": "stdout",
     "output_type": "stream",
     "text": [
      "[CV] END bootstrap=False, max_depth=30, max_features=auto, min_samples_leaf=2, min_samples_split=10, n_estimators=700; total time=  10.6s\n",
      "[CV] END bootstrap=True, max_depth=120, max_features=sqrt, min_samples_leaf=2, min_samples_split=10, n_estimators=200; total time=   1.4s\n",
      "[CV] END bootstrap=True, max_depth=120, max_features=sqrt, min_samples_leaf=2, min_samples_split=10, n_estimators=200; total time=   1.2s\n",
      "[CV] END bootstrap=False, max_depth=30, max_features=auto, min_samples_leaf=2, min_samples_split=10, n_estimators=700; total time=  10.9s\n",
      "[CV] END bootstrap=True, max_depth=120, max_features=sqrt, min_samples_leaf=2, min_samples_split=10, n_estimators=200; total time=   1.2s\n",
      "[CV] END bootstrap=False, max_depth=30, max_features=auto, min_samples_leaf=2, min_samples_split=10, n_estimators=700; total time=  11.5s\n"
     ]
    },
    {
     "name": "stderr",
     "output_type": "stream",
     "text": [
      "/Users/m22/conda/envs/env_pylab/lib/python3.9/site-packages/sklearn/ensemble/_forest.py:413: FutureWarning: `max_features='auto'` has been deprecated in 1.1 and will be removed in 1.3. To keep the past behaviour, explicitly set `max_features=1.0` or remove this parameter as it is also the default value for RandomForestRegressors and ExtraTreesRegressors.\n",
      "  warn(\n"
     ]
    },
    {
     "name": "stdout",
     "output_type": "stream",
     "text": [
      "[CV] END bootstrap=True, max_depth=None, max_features=auto, min_samples_leaf=1, min_samples_split=10, n_estimators=200; total time=   2.0s\n"
     ]
    },
    {
     "name": "stderr",
     "output_type": "stream",
     "text": [
      "/Users/m22/conda/envs/env_pylab/lib/python3.9/site-packages/sklearn/ensemble/_forest.py:413: FutureWarning: `max_features='auto'` has been deprecated in 1.1 and will be removed in 1.3. To keep the past behaviour, explicitly set `max_features=1.0` or remove this parameter as it is also the default value for RandomForestRegressors and ExtraTreesRegressors.\n",
      "  warn(\n"
     ]
    },
    {
     "name": "stdout",
     "output_type": "stream",
     "text": [
      "[CV] END bootstrap=True, max_depth=90, max_features=auto, min_samples_leaf=4, min_samples_split=2, n_estimators=600; total time=   5.8s\n",
      "[CV] END bootstrap=False, max_depth=90, max_features=auto, min_samples_leaf=4, min_samples_split=5, n_estimators=900; total time=  13.8s\n"
     ]
    },
    {
     "name": "stderr",
     "output_type": "stream",
     "text": [
      "/Users/m22/conda/envs/env_pylab/lib/python3.9/site-packages/sklearn/ensemble/_forest.py:413: FutureWarning: `max_features='auto'` has been deprecated in 1.1 and will be removed in 1.3. To keep the past behaviour, explicitly set `max_features=1.0` or remove this parameter as it is also the default value for RandomForestRegressors and ExtraTreesRegressors.\n",
      "  warn(\n"
     ]
    },
    {
     "name": "stdout",
     "output_type": "stream",
     "text": [
      "[CV] END bootstrap=False, max_depth=90, max_features=auto, min_samples_leaf=4, min_samples_split=5, n_estimators=900; total time=  14.2s\n",
      "[CV] END bootstrap=False, max_depth=90, max_features=auto, min_samples_leaf=4, min_samples_split=5, n_estimators=900; total time=  13.8s\n",
      "[CV] END bootstrap=False, max_depth=40, max_features=sqrt, min_samples_leaf=2, min_samples_split=5, n_estimators=600; total time=   5.9s\n"
     ]
    },
    {
     "name": "stderr",
     "output_type": "stream",
     "text": [
      "/Users/m22/conda/envs/env_pylab/lib/python3.9/site-packages/sklearn/ensemble/_forest.py:413: FutureWarning: `max_features='auto'` has been deprecated in 1.1 and will be removed in 1.3. To keep the past behaviour, explicitly set `max_features=1.0` or remove this parameter as it is also the default value for RandomForestRegressors and ExtraTreesRegressors.\n",
      "  warn(\n",
      "/Users/m22/conda/envs/env_pylab/lib/python3.9/site-packages/sklearn/ensemble/_forest.py:413: FutureWarning: `max_features='auto'` has been deprecated in 1.1 and will be removed in 1.3. To keep the past behaviour, explicitly set `max_features=1.0` or remove this parameter as it is also the default value for RandomForestRegressors and ExtraTreesRegressors.\n",
      "  warn(\n"
     ]
    },
    {
     "name": "stdout",
     "output_type": "stream",
     "text": [
      "[CV] END bootstrap=True, max_depth=None, max_features=auto, min_samples_leaf=1, min_samples_split=10, n_estimators=200; total time=   2.5s\n",
      "[CV] END bootstrap=True, max_depth=None, max_features=auto, min_samples_leaf=1, min_samples_split=10, n_estimators=200; total time=   2.4s\n",
      "[CV] END bootstrap=False, max_depth=40, max_features=sqrt, min_samples_leaf=2, min_samples_split=5, n_estimators=600; total time=   6.2s\n"
     ]
    },
    {
     "name": "stderr",
     "output_type": "stream",
     "text": [
      "/Users/m22/conda/envs/env_pylab/lib/python3.9/site-packages/sklearn/ensemble/_forest.py:413: FutureWarning: `max_features='auto'` has been deprecated in 1.1 and will be removed in 1.3. To keep the past behaviour, explicitly set `max_features=1.0` or remove this parameter as it is also the default value for RandomForestRegressors and ExtraTreesRegressors.\n",
      "  warn(\n"
     ]
    },
    {
     "name": "stdout",
     "output_type": "stream",
     "text": [
      "[CV] END bootstrap=False, max_depth=40, max_features=sqrt, min_samples_leaf=2, min_samples_split=5, n_estimators=600; total time=   6.1s\n",
      "[CV] END bootstrap=True, max_depth=80, max_features=auto, min_samples_leaf=1, min_samples_split=5, n_estimators=300; total time=   3.5s\n",
      "[CV] END bootstrap=True, max_depth=80, max_features=auto, min_samples_leaf=1, min_samples_split=5, n_estimators=300; total time=   3.7s\n"
     ]
    },
    {
     "name": "stderr",
     "output_type": "stream",
     "text": [
      "/Users/m22/conda/envs/env_pylab/lib/python3.9/site-packages/sklearn/ensemble/_forest.py:413: FutureWarning: `max_features='auto'` has been deprecated in 1.1 and will be removed in 1.3. To keep the past behaviour, explicitly set `max_features=1.0` or remove this parameter as it is also the default value for RandomForestRegressors and ExtraTreesRegressors.\n",
      "  warn(\n"
     ]
    },
    {
     "name": "stdout",
     "output_type": "stream",
     "text": [
      "[CV] END bootstrap=True, max_depth=80, max_features=auto, min_samples_leaf=1, min_samples_split=5, n_estimators=300; total time=   3.3s\n"
     ]
    },
    {
     "name": "stderr",
     "output_type": "stream",
     "text": [
      "/Users/m22/conda/envs/env_pylab/lib/python3.9/site-packages/sklearn/ensemble/_forest.py:413: FutureWarning: `max_features='auto'` has been deprecated in 1.1 and will be removed in 1.3. To keep the past behaviour, explicitly set `max_features=1.0` or remove this parameter as it is also the default value for RandomForestRegressors and ExtraTreesRegressors.\n",
      "  warn(\n"
     ]
    },
    {
     "name": "stdout",
     "output_type": "stream",
     "text": [
      "[CV] END bootstrap=False, max_depth=None, max_features=sqrt, min_samples_leaf=2, min_samples_split=2, n_estimators=900; total time=   8.9s\n"
     ]
    },
    {
     "name": "stderr",
     "output_type": "stream",
     "text": [
      "/Users/m22/conda/envs/env_pylab/lib/python3.9/site-packages/sklearn/ensemble/_forest.py:413: FutureWarning: `max_features='auto'` has been deprecated in 1.1 and will be removed in 1.3. To keep the past behaviour, explicitly set `max_features=1.0` or remove this parameter as it is also the default value for RandomForestRegressors and ExtraTreesRegressors.\n",
      "  warn(\n"
     ]
    },
    {
     "name": "stdout",
     "output_type": "stream",
     "text": [
      "[CV] END bootstrap=False, max_depth=20, max_features=sqrt, min_samples_leaf=1, min_samples_split=5, n_estimators=800; total time=   6.8s\n"
     ]
    },
    {
     "name": "stderr",
     "output_type": "stream",
     "text": [
      "/Users/m22/conda/envs/env_pylab/lib/python3.9/site-packages/sklearn/ensemble/_forest.py:413: FutureWarning: `max_features='auto'` has been deprecated in 1.1 and will be removed in 1.3. To keep the past behaviour, explicitly set `max_features=1.0` or remove this parameter as it is also the default value for RandomForestRegressors and ExtraTreesRegressors.\n",
      "  warn(\n"
     ]
    },
    {
     "name": "stdout",
     "output_type": "stream",
     "text": [
      "[CV] END bootstrap=False, max_depth=20, max_features=sqrt, min_samples_leaf=1, min_samples_split=5, n_estimators=800; total time=   6.9s\n",
      "[CV] END bootstrap=False, max_depth=None, max_features=sqrt, min_samples_leaf=2, min_samples_split=2, n_estimators=900; total time=   8.8s\n"
     ]
    },
    {
     "name": "stderr",
     "output_type": "stream",
     "text": [
      "/Users/m22/conda/envs/env_pylab/lib/python3.9/site-packages/sklearn/ensemble/_forest.py:413: FutureWarning: `max_features='auto'` has been deprecated in 1.1 and will be removed in 1.3. To keep the past behaviour, explicitly set `max_features=1.0` or remove this parameter as it is also the default value for RandomForestRegressors and ExtraTreesRegressors.\n",
      "  warn(\n",
      "/Users/m22/conda/envs/env_pylab/lib/python3.9/site-packages/sklearn/ensemble/_forest.py:413: FutureWarning: `max_features='auto'` has been deprecated in 1.1 and will be removed in 1.3. To keep the past behaviour, explicitly set `max_features=1.0` or remove this parameter as it is also the default value for RandomForestRegressors and ExtraTreesRegressors.\n",
      "  warn(\n"
     ]
    },
    {
     "name": "stdout",
     "output_type": "stream",
     "text": [
      "[CV] END bootstrap=False, max_depth=None, max_features=sqrt, min_samples_leaf=2, min_samples_split=2, n_estimators=900; total time=   8.8s\n",
      "[CV] END bootstrap=False, max_depth=20, max_features=sqrt, min_samples_leaf=1, min_samples_split=5, n_estimators=800; total time=   7.0s\n",
      "[CV] END bootstrap=False, max_depth=20, max_features=auto, min_samples_leaf=1, min_samples_split=5, n_estimators=700; total time=  10.6s\n",
      "[CV] END bootstrap=False, max_depth=20, max_features=auto, min_samples_leaf=1, min_samples_split=5, n_estimators=700; total time=  10.7s\n",
      "[CV] END bootstrap=True, max_depth=60, max_features=auto, min_samples_leaf=4, min_samples_split=5, n_estimators=800; total time=   8.0s\n",
      "[CV] END bootstrap=True, max_depth=60, max_features=auto, min_samples_leaf=4, min_samples_split=5, n_estimators=800; total time=   8.3s\n",
      "[CV] END bootstrap=True, max_depth=60, max_features=auto, min_samples_leaf=4, min_samples_split=5, n_estimators=800; total time=   8.2s\n"
     ]
    },
    {
     "name": "stderr",
     "output_type": "stream",
     "text": [
      "/Users/m22/conda/envs/env_pylab/lib/python3.9/site-packages/sklearn/ensemble/_forest.py:413: FutureWarning: `max_features='auto'` has been deprecated in 1.1 and will be removed in 1.3. To keep the past behaviour, explicitly set `max_features=1.0` or remove this parameter as it is also the default value for RandomForestRegressors and ExtraTreesRegressors.\n",
      "  warn(\n",
      "/Users/m22/conda/envs/env_pylab/lib/python3.9/site-packages/sklearn/ensemble/_forest.py:413: FutureWarning: `max_features='auto'` has been deprecated in 1.1 and will be removed in 1.3. To keep the past behaviour, explicitly set `max_features=1.0` or remove this parameter as it is also the default value for RandomForestRegressors and ExtraTreesRegressors.\n",
      "  warn(\n"
     ]
    },
    {
     "name": "stdout",
     "output_type": "stream",
     "text": [
      "[CV] END bootstrap=True, max_depth=60, max_features=sqrt, min_samples_leaf=1, min_samples_split=5, n_estimators=300; total time=   1.8s\n",
      "[CV] END bootstrap=False, max_depth=150, max_features=sqrt, min_samples_leaf=1, min_samples_split=2, n_estimators=600; total time=   6.6s\n"
     ]
    },
    {
     "name": "stderr",
     "output_type": "stream",
     "text": [
      "/Users/m22/conda/envs/env_pylab/lib/python3.9/site-packages/sklearn/ensemble/_forest.py:413: FutureWarning: `max_features='auto'` has been deprecated in 1.1 and will be removed in 1.3. To keep the past behaviour, explicitly set `max_features=1.0` or remove this parameter as it is also the default value for RandomForestRegressors and ExtraTreesRegressors.\n",
      "  warn(\n"
     ]
    },
    {
     "name": "stdout",
     "output_type": "stream",
     "text": [
      "[CV] END bootstrap=False, max_depth=150, max_features=sqrt, min_samples_leaf=1, min_samples_split=2, n_estimators=600; total time=   6.4s\n",
      "[CV] END bootstrap=True, max_depth=60, max_features=sqrt, min_samples_leaf=1, min_samples_split=5, n_estimators=300; total time=   1.9s\n",
      "[CV] END bootstrap=False, max_depth=20, max_features=auto, min_samples_leaf=1, min_samples_split=5, n_estimators=700; total time=  10.5s\n",
      "[CV] END bootstrap=True, max_depth=60, max_features=sqrt, min_samples_leaf=1, min_samples_split=5, n_estimators=300; total time=   2.1s\n"
     ]
    },
    {
     "name": "stderr",
     "output_type": "stream",
     "text": [
      "/Users/m22/conda/envs/env_pylab/lib/python3.9/site-packages/sklearn/ensemble/_forest.py:413: FutureWarning: `max_features='auto'` has been deprecated in 1.1 and will be removed in 1.3. To keep the past behaviour, explicitly set `max_features=1.0` or remove this parameter as it is also the default value for RandomForestRegressors and ExtraTreesRegressors.\n",
      "  warn(\n"
     ]
    },
    {
     "name": "stdout",
     "output_type": "stream",
     "text": [
      "[CV] END bootstrap=False, max_depth=150, max_features=sqrt, min_samples_leaf=1, min_samples_split=2, n_estimators=600; total time=   6.6s\n"
     ]
    },
    {
     "name": "stderr",
     "output_type": "stream",
     "text": [
      "/Users/m22/conda/envs/env_pylab/lib/python3.9/site-packages/sklearn/ensemble/_forest.py:413: FutureWarning: `max_features='auto'` has been deprecated in 1.1 and will be removed in 1.3. To keep the past behaviour, explicitly set `max_features=1.0` or remove this parameter as it is also the default value for RandomForestRegressors and ExtraTreesRegressors.\n",
      "  warn(\n"
     ]
    },
    {
     "name": "stdout",
     "output_type": "stream",
     "text": [
      "[CV] END bootstrap=False, max_depth=40, max_features=sqrt, min_samples_leaf=2, min_samples_split=5, n_estimators=1000; total time=   8.9s\n",
      "[CV] END bootstrap=False, max_depth=40, max_features=sqrt, min_samples_leaf=2, min_samples_split=5, n_estimators=1000; total time=   9.4s\n"
     ]
    },
    {
     "name": "stderr",
     "output_type": "stream",
     "text": [
      "/Users/m22/conda/envs/env_pylab/lib/python3.9/site-packages/sklearn/ensemble/_forest.py:413: FutureWarning: `max_features='auto'` has been deprecated in 1.1 and will be removed in 1.3. To keep the past behaviour, explicitly set `max_features=1.0` or remove this parameter as it is also the default value for RandomForestRegressors and ExtraTreesRegressors.\n",
      "  warn(\n",
      "/Users/m22/conda/envs/env_pylab/lib/python3.9/site-packages/sklearn/ensemble/_forest.py:413: FutureWarning: `max_features='auto'` has been deprecated in 1.1 and will be removed in 1.3. To keep the past behaviour, explicitly set `max_features=1.0` or remove this parameter as it is also the default value for RandomForestRegressors and ExtraTreesRegressors.\n",
      "  warn(\n"
     ]
    },
    {
     "name": "stdout",
     "output_type": "stream",
     "text": [
      "[CV] END bootstrap=False, max_depth=40, max_features=sqrt, min_samples_leaf=2, min_samples_split=5, n_estimators=1000; total time=   9.3s\n"
     ]
    },
    {
     "name": "stderr",
     "output_type": "stream",
     "text": [
      "/Users/m22/conda/envs/env_pylab/lib/python3.9/site-packages/sklearn/ensemble/_forest.py:413: FutureWarning: `max_features='auto'` has been deprecated in 1.1 and will be removed in 1.3. To keep the past behaviour, explicitly set `max_features=1.0` or remove this parameter as it is also the default value for RandomForestRegressors and ExtraTreesRegressors.\n",
      "  warn(\n"
     ]
    },
    {
     "name": "stdout",
     "output_type": "stream",
     "text": [
      "[CV] END bootstrap=False, max_depth=120, max_features=auto, min_samples_leaf=4, min_samples_split=10, n_estimators=800; total time=  12.1s\n"
     ]
    },
    {
     "name": "stderr",
     "output_type": "stream",
     "text": [
      "/Users/m22/conda/envs/env_pylab/lib/python3.9/site-packages/sklearn/ensemble/_forest.py:413: FutureWarning: `max_features='auto'` has been deprecated in 1.1 and will be removed in 1.3. To keep the past behaviour, explicitly set `max_features=1.0` or remove this parameter as it is also the default value for RandomForestRegressors and ExtraTreesRegressors.\n",
      "  warn(\n",
      "/Users/m22/conda/envs/env_pylab/lib/python3.9/site-packages/sklearn/ensemble/_forest.py:413: FutureWarning: `max_features='auto'` has been deprecated in 1.1 and will be removed in 1.3. To keep the past behaviour, explicitly set `max_features=1.0` or remove this parameter as it is also the default value for RandomForestRegressors and ExtraTreesRegressors.\n",
      "  warn(\n"
     ]
    },
    {
     "name": "stdout",
     "output_type": "stream",
     "text": [
      "[CV] END bootstrap=False, max_depth=120, max_features=auto, min_samples_leaf=4, min_samples_split=10, n_estimators=800; total time=  12.1s\n",
      "[CV] END bootstrap=False, max_depth=120, max_features=auto, min_samples_leaf=4, min_samples_split=10, n_estimators=800; total time=  12.2s\n"
     ]
    },
    {
     "name": "stderr",
     "output_type": "stream",
     "text": [
      "/Users/m22/conda/envs/env_pylab/lib/python3.9/site-packages/sklearn/ensemble/_forest.py:413: FutureWarning: `max_features='auto'` has been deprecated in 1.1 and will be removed in 1.3. To keep the past behaviour, explicitly set `max_features=1.0` or remove this parameter as it is also the default value for RandomForestRegressors and ExtraTreesRegressors.\n",
      "  warn(\n"
     ]
    },
    {
     "name": "stdout",
     "output_type": "stream",
     "text": [
      "[CV] END bootstrap=True, max_depth=70, max_features=auto, min_samples_leaf=4, min_samples_split=10, n_estimators=400; total time=   3.5s\n",
      "[CV] END bootstrap=True, max_depth=70, max_features=auto, min_samples_leaf=4, min_samples_split=10, n_estimators=400; total time=   3.5s\n"
     ]
    },
    {
     "name": "stderr",
     "output_type": "stream",
     "text": [
      "/Users/m22/conda/envs/env_pylab/lib/python3.9/site-packages/sklearn/ensemble/_forest.py:413: FutureWarning: `max_features='auto'` has been deprecated in 1.1 and will be removed in 1.3. To keep the past behaviour, explicitly set `max_features=1.0` or remove this parameter as it is also the default value for RandomForestRegressors and ExtraTreesRegressors.\n",
      "  warn(\n"
     ]
    },
    {
     "name": "stdout",
     "output_type": "stream",
     "text": [
      "[CV] END bootstrap=True, max_depth=30, max_features=auto, min_samples_leaf=2, min_samples_split=5, n_estimators=200; total time=   2.2s\n",
      "[CV] END bootstrap=True, max_depth=30, max_features=auto, min_samples_leaf=2, min_samples_split=5, n_estimators=200; total time=   2.0s\n",
      "[CV] END bootstrap=True, max_depth=70, max_features=auto, min_samples_leaf=4, min_samples_split=10, n_estimators=400; total time=   3.6s\n"
     ]
    },
    {
     "name": "stderr",
     "output_type": "stream",
     "text": [
      "/Users/m22/conda/envs/env_pylab/lib/python3.9/site-packages/sklearn/ensemble/_forest.py:413: FutureWarning: `max_features='auto'` has been deprecated in 1.1 and will be removed in 1.3. To keep the past behaviour, explicitly set `max_features=1.0` or remove this parameter as it is also the default value for RandomForestRegressors and ExtraTreesRegressors.\n",
      "  warn(\n"
     ]
    },
    {
     "name": "stdout",
     "output_type": "stream",
     "text": [
      "[CV] END bootstrap=True, max_depth=30, max_features=auto, min_samples_leaf=2, min_samples_split=5, n_estimators=200; total time=   2.0s\n"
     ]
    },
    {
     "name": "stderr",
     "output_type": "stream",
     "text": [
      "/Users/m22/conda/envs/env_pylab/lib/python3.9/site-packages/sklearn/ensemble/_forest.py:413: FutureWarning: `max_features='auto'` has been deprecated in 1.1 and will be removed in 1.3. To keep the past behaviour, explicitly set `max_features=1.0` or remove this parameter as it is also the default value for RandomForestRegressors and ExtraTreesRegressors.\n",
      "  warn(\n"
     ]
    },
    {
     "name": "stdout",
     "output_type": "stream",
     "text": [
      "[CV] END bootstrap=True, max_depth=100, max_features=sqrt, min_samples_leaf=2, min_samples_split=2, n_estimators=600; total time=   3.7s\n"
     ]
    },
    {
     "name": "stderr",
     "output_type": "stream",
     "text": [
      "/Users/m22/conda/envs/env_pylab/lib/python3.9/site-packages/sklearn/ensemble/_forest.py:413: FutureWarning: `max_features='auto'` has been deprecated in 1.1 and will be removed in 1.3. To keep the past behaviour, explicitly set `max_features=1.0` or remove this parameter as it is also the default value for RandomForestRegressors and ExtraTreesRegressors.\n",
      "  warn(\n"
     ]
    },
    {
     "name": "stdout",
     "output_type": "stream",
     "text": [
      "[CV] END bootstrap=True, max_depth=100, max_features=sqrt, min_samples_leaf=2, min_samples_split=2, n_estimators=600; total time=   3.6s\n",
      "[CV] END bootstrap=True, max_depth=100, max_features=sqrt, min_samples_leaf=2, min_samples_split=2, n_estimators=600; total time=   3.7s\n",
      "[CV] END bootstrap=False, max_depth=140, max_features=auto, min_samples_leaf=2, min_samples_split=2, n_estimators=1000; total time=  16.7s\n",
      "[CV] END bootstrap=False, max_depth=150, max_features=sqrt, min_samples_leaf=4, min_samples_split=10, n_estimators=200; total time=   1.5s\n",
      "[CV] END bootstrap=False, max_depth=150, max_features=sqrt, min_samples_leaf=4, min_samples_split=10, n_estimators=200; total time=   1.7s\n"
     ]
    },
    {
     "name": "stderr",
     "output_type": "stream",
     "text": [
      "/Users/m22/conda/envs/env_pylab/lib/python3.9/site-packages/sklearn/ensemble/_forest.py:413: FutureWarning: `max_features='auto'` has been deprecated in 1.1 and will be removed in 1.3. To keep the past behaviour, explicitly set `max_features=1.0` or remove this parameter as it is also the default value for RandomForestRegressors and ExtraTreesRegressors.\n",
      "  warn(\n",
      "/Users/m22/conda/envs/env_pylab/lib/python3.9/site-packages/sklearn/ensemble/_forest.py:413: FutureWarning: `max_features='auto'` has been deprecated in 1.1 and will be removed in 1.3. To keep the past behaviour, explicitly set `max_features=1.0` or remove this parameter as it is also the default value for RandomForestRegressors and ExtraTreesRegressors.\n",
      "  warn(\n"
     ]
    },
    {
     "name": "stdout",
     "output_type": "stream",
     "text": [
      "[CV] END bootstrap=False, max_depth=150, max_features=sqrt, min_samples_leaf=4, min_samples_split=10, n_estimators=200; total time=   1.6s\n"
     ]
    },
    {
     "name": "stderr",
     "output_type": "stream",
     "text": [
      "/Users/m22/conda/envs/env_pylab/lib/python3.9/site-packages/sklearn/ensemble/_forest.py:413: FutureWarning: `max_features='auto'` has been deprecated in 1.1 and will be removed in 1.3. To keep the past behaviour, explicitly set `max_features=1.0` or remove this parameter as it is also the default value for RandomForestRegressors and ExtraTreesRegressors.\n",
      "  warn(\n"
     ]
    },
    {
     "name": "stdout",
     "output_type": "stream",
     "text": [
      "[CV] END bootstrap=True, max_depth=150, max_features=auto, min_samples_leaf=4, min_samples_split=5, n_estimators=300; total time=   2.9s\n",
      "[CV] END bootstrap=True, max_depth=150, max_features=auto, min_samples_leaf=4, min_samples_split=5, n_estimators=300; total time=   2.8s\n",
      "[CV] END bootstrap=False, max_depth=140, max_features=auto, min_samples_leaf=2, min_samples_split=2, n_estimators=1000; total time=  17.4s\n",
      "[CV] END bootstrap=True, max_depth=150, max_features=auto, min_samples_leaf=4, min_samples_split=5, n_estimators=300; total time=   2.8s\n"
     ]
    },
    {
     "name": "stderr",
     "output_type": "stream",
     "text": [
      "/Users/m22/conda/envs/env_pylab/lib/python3.9/site-packages/sklearn/ensemble/_forest.py:413: FutureWarning: `max_features='auto'` has been deprecated in 1.1 and will be removed in 1.3. To keep the past behaviour, explicitly set `max_features=1.0` or remove this parameter as it is also the default value for RandomForestRegressors and ExtraTreesRegressors.\n",
      "  warn(\n"
     ]
    },
    {
     "name": "stdout",
     "output_type": "stream",
     "text": [
      "[CV] END bootstrap=False, max_depth=140, max_features=auto, min_samples_leaf=2, min_samples_split=2, n_estimators=1000; total time=  16.1s\n"
     ]
    },
    {
     "name": "stderr",
     "output_type": "stream",
     "text": [
      "/Users/m22/conda/envs/env_pylab/lib/python3.9/site-packages/sklearn/ensemble/_forest.py:413: FutureWarning: `max_features='auto'` has been deprecated in 1.1 and will be removed in 1.3. To keep the past behaviour, explicitly set `max_features=1.0` or remove this parameter as it is also the default value for RandomForestRegressors and ExtraTreesRegressors.\n",
      "  warn(\n"
     ]
    },
    {
     "name": "stdout",
     "output_type": "stream",
     "text": [
      "[CV] END bootstrap=False, max_depth=100, max_features=sqrt, min_samples_leaf=2, min_samples_split=5, n_estimators=500; total time=   4.4s\n",
      "[CV] END bootstrap=False, max_depth=100, max_features=sqrt, min_samples_leaf=2, min_samples_split=5, n_estimators=500; total time=   4.5s\n"
     ]
    },
    {
     "name": "stderr",
     "output_type": "stream",
     "text": [
      "/Users/m22/conda/envs/env_pylab/lib/python3.9/site-packages/sklearn/ensemble/_forest.py:413: FutureWarning: `max_features='auto'` has been deprecated in 1.1 and will be removed in 1.3. To keep the past behaviour, explicitly set `max_features=1.0` or remove this parameter as it is also the default value for RandomForestRegressors and ExtraTreesRegressors.\n",
      "  warn(\n",
      "/Users/m22/conda/envs/env_pylab/lib/python3.9/site-packages/sklearn/ensemble/_forest.py:413: FutureWarning: `max_features='auto'` has been deprecated in 1.1 and will be removed in 1.3. To keep the past behaviour, explicitly set `max_features=1.0` or remove this parameter as it is also the default value for RandomForestRegressors and ExtraTreesRegressors.\n",
      "  warn(\n"
     ]
    },
    {
     "name": "stdout",
     "output_type": "stream",
     "text": [
      "[CV] END bootstrap=False, max_depth=100, max_features=sqrt, min_samples_leaf=2, min_samples_split=5, n_estimators=500; total time=   4.4s\n"
     ]
    },
    {
     "name": "stderr",
     "output_type": "stream",
     "text": [
      "/Users/m22/conda/envs/env_pylab/lib/python3.9/site-packages/sklearn/ensemble/_forest.py:413: FutureWarning: `max_features='auto'` has been deprecated in 1.1 and will be removed in 1.3. To keep the past behaviour, explicitly set `max_features=1.0` or remove this parameter as it is also the default value for RandomForestRegressors and ExtraTreesRegressors.\n",
      "  warn(\n"
     ]
    },
    {
     "name": "stdout",
     "output_type": "stream",
     "text": [
      "[CV] END bootstrap=False, max_depth=80, max_features=auto, min_samples_leaf=1, min_samples_split=5, n_estimators=400; total time=   6.8s\n",
      "[CV] END bootstrap=True, max_depth=130, max_features=auto, min_samples_leaf=4, min_samples_split=2, n_estimators=300; total time=   2.8s\n"
     ]
    },
    {
     "name": "stderr",
     "output_type": "stream",
     "text": [
      "/Users/m22/conda/envs/env_pylab/lib/python3.9/site-packages/sklearn/ensemble/_forest.py:413: FutureWarning: `max_features='auto'` has been deprecated in 1.1 and will be removed in 1.3. To keep the past behaviour, explicitly set `max_features=1.0` or remove this parameter as it is also the default value for RandomForestRegressors and ExtraTreesRegressors.\n",
      "  warn(\n",
      "/Users/m22/conda/envs/env_pylab/lib/python3.9/site-packages/sklearn/ensemble/_forest.py:413: FutureWarning: `max_features='auto'` has been deprecated in 1.1 and will be removed in 1.3. To keep the past behaviour, explicitly set `max_features=1.0` or remove this parameter as it is also the default value for RandomForestRegressors and ExtraTreesRegressors.\n",
      "  warn(\n"
     ]
    },
    {
     "name": "stdout",
     "output_type": "stream",
     "text": [
      "[CV] END bootstrap=True, max_depth=130, max_features=auto, min_samples_leaf=4, min_samples_split=2, n_estimators=300; total time=   2.9s\n"
     ]
    },
    {
     "name": "stderr",
     "output_type": "stream",
     "text": [
      "/Users/m22/conda/envs/env_pylab/lib/python3.9/site-packages/sklearn/ensemble/_forest.py:413: FutureWarning: `max_features='auto'` has been deprecated in 1.1 and will be removed in 1.3. To keep the past behaviour, explicitly set `max_features=1.0` or remove this parameter as it is also the default value for RandomForestRegressors and ExtraTreesRegressors.\n",
      "  warn(\n"
     ]
    },
    {
     "name": "stdout",
     "output_type": "stream",
     "text": [
      "[CV] END bootstrap=False, max_depth=100, max_features=auto, min_samples_leaf=1, min_samples_split=5, n_estimators=900; total time=  14.9s\n"
     ]
    },
    {
     "name": "stderr",
     "output_type": "stream",
     "text": [
      "/Users/m22/conda/envs/env_pylab/lib/python3.9/site-packages/sklearn/ensemble/_forest.py:413: FutureWarning: `max_features='auto'` has been deprecated in 1.1 and will be removed in 1.3. To keep the past behaviour, explicitly set `max_features=1.0` or remove this parameter as it is also the default value for RandomForestRegressors and ExtraTreesRegressors.\n",
      "  warn(\n"
     ]
    },
    {
     "name": "stdout",
     "output_type": "stream",
     "text": [
      "[CV] END bootstrap=False, max_depth=100, max_features=auto, min_samples_leaf=1, min_samples_split=5, n_estimators=900; total time=  15.1s\n",
      "[CV] END bootstrap=False, max_depth=120, max_features=sqrt, min_samples_leaf=1, min_samples_split=5, n_estimators=100; total time=   0.9s\n",
      "[CV] END bootstrap=False, max_depth=100, max_features=auto, min_samples_leaf=1, min_samples_split=5, n_estimators=900; total time=  14.4s\n",
      "[CV] END bootstrap=True, max_depth=130, max_features=auto, min_samples_leaf=4, min_samples_split=2, n_estimators=300; total time=   2.9s\n",
      "[CV] END bootstrap=False, max_depth=120, max_features=sqrt, min_samples_leaf=1, min_samples_split=5, n_estimators=100; total time=   0.9s\n",
      "[CV] END bootstrap=False, max_depth=80, max_features=auto, min_samples_leaf=1, min_samples_split=5, n_estimators=400; total time=   6.9s\n",
      "[CV] END bootstrap=False, max_depth=80, max_features=auto, min_samples_leaf=1, min_samples_split=5, n_estimators=400; total time=   6.6s\n",
      "[CV] END bootstrap=False, max_depth=120, max_features=sqrt, min_samples_leaf=1, min_samples_split=5, n_estimators=100; total time=   0.9s\n"
     ]
    },
    {
     "name": "stderr",
     "output_type": "stream",
     "text": [
      "/Users/m22/conda/envs/env_pylab/lib/python3.9/site-packages/sklearn/ensemble/_forest.py:413: FutureWarning: `max_features='auto'` has been deprecated in 1.1 and will be removed in 1.3. To keep the past behaviour, explicitly set `max_features=1.0` or remove this parameter as it is also the default value for RandomForestRegressors and ExtraTreesRegressors.\n",
      "  warn(\n",
      "/Users/m22/conda/envs/env_pylab/lib/python3.9/site-packages/sklearn/ensemble/_forest.py:413: FutureWarning: `max_features='auto'` has been deprecated in 1.1 and will be removed in 1.3. To keep the past behaviour, explicitly set `max_features=1.0` or remove this parameter as it is also the default value for RandomForestRegressors and ExtraTreesRegressors.\n",
      "  warn(\n"
     ]
    },
    {
     "name": "stdout",
     "output_type": "stream",
     "text": [
      "[CV] END bootstrap=False, max_depth=140, max_features=sqrt, min_samples_leaf=2, min_samples_split=2, n_estimators=400; total time=   3.7s\n",
      "[CV] END bootstrap=False, max_depth=140, max_features=sqrt, min_samples_leaf=2, min_samples_split=2, n_estimators=400; total time=   3.6s\n"
     ]
    },
    {
     "name": "stderr",
     "output_type": "stream",
     "text": [
      "/Users/m22/conda/envs/env_pylab/lib/python3.9/site-packages/sklearn/ensemble/_forest.py:413: FutureWarning: `max_features='auto'` has been deprecated in 1.1 and will be removed in 1.3. To keep the past behaviour, explicitly set `max_features=1.0` or remove this parameter as it is also the default value for RandomForestRegressors and ExtraTreesRegressors.\n",
      "  warn(\n",
      "/Users/m22/conda/envs/env_pylab/lib/python3.9/site-packages/sklearn/ensemble/_forest.py:413: FutureWarning: `max_features='auto'` has been deprecated in 1.1 and will be removed in 1.3. To keep the past behaviour, explicitly set `max_features=1.0` or remove this parameter as it is also the default value for RandomForestRegressors and ExtraTreesRegressors.\n",
      "  warn(\n"
     ]
    },
    {
     "name": "stdout",
     "output_type": "stream",
     "text": [
      "[CV] END bootstrap=False, max_depth=140, max_features=sqrt, min_samples_leaf=2, min_samples_split=2, n_estimators=400; total time=   3.6s\n"
     ]
    },
    {
     "name": "stderr",
     "output_type": "stream",
     "text": [
      "/Users/m22/conda/envs/env_pylab/lib/python3.9/site-packages/sklearn/ensemble/_forest.py:413: FutureWarning: `max_features='auto'` has been deprecated in 1.1 and will be removed in 1.3. To keep the past behaviour, explicitly set `max_features=1.0` or remove this parameter as it is also the default value for RandomForestRegressors and ExtraTreesRegressors.\n",
      "  warn(\n"
     ]
    },
    {
     "name": "stdout",
     "output_type": "stream",
     "text": [
      "[CV] END bootstrap=False, max_depth=40, max_features=auto, min_samples_leaf=4, min_samples_split=5, n_estimators=500; total time=   7.4s\n"
     ]
    },
    {
     "name": "stderr",
     "output_type": "stream",
     "text": [
      "/Users/m22/conda/envs/env_pylab/lib/python3.9/site-packages/sklearn/ensemble/_forest.py:413: FutureWarning: `max_features='auto'` has been deprecated in 1.1 and will be removed in 1.3. To keep the past behaviour, explicitly set `max_features=1.0` or remove this parameter as it is also the default value for RandomForestRegressors and ExtraTreesRegressors.\n",
      "  warn(\n"
     ]
    },
    {
     "name": "stdout",
     "output_type": "stream",
     "text": [
      "[CV] END bootstrap=False, max_depth=40, max_features=auto, min_samples_leaf=4, min_samples_split=5, n_estimators=500; total time=   7.5s\n"
     ]
    },
    {
     "name": "stderr",
     "output_type": "stream",
     "text": [
      "/Users/m22/conda/envs/env_pylab/lib/python3.9/site-packages/sklearn/ensemble/_forest.py:413: FutureWarning: `max_features='auto'` has been deprecated in 1.1 and will be removed in 1.3. To keep the past behaviour, explicitly set `max_features=1.0` or remove this parameter as it is also the default value for RandomForestRegressors and ExtraTreesRegressors.\n",
      "  warn(\n"
     ]
    },
    {
     "name": "stdout",
     "output_type": "stream",
     "text": [
      "[CV] END bootstrap=False, max_depth=40, max_features=auto, min_samples_leaf=4, min_samples_split=5, n_estimators=500; total time=   7.4s\n"
     ]
    },
    {
     "name": "stderr",
     "output_type": "stream",
     "text": [
      "/Users/m22/conda/envs/env_pylab/lib/python3.9/site-packages/sklearn/ensemble/_forest.py:413: FutureWarning: `max_features='auto'` has been deprecated in 1.1 and will be removed in 1.3. To keep the past behaviour, explicitly set `max_features=1.0` or remove this parameter as it is also the default value for RandomForestRegressors and ExtraTreesRegressors.\n",
      "  warn(\n"
     ]
    },
    {
     "name": "stdout",
     "output_type": "stream",
     "text": [
      "[CV] END bootstrap=False, max_depth=50, max_features=auto, min_samples_leaf=4, min_samples_split=2, n_estimators=300; total time=   4.3s\n"
     ]
    },
    {
     "name": "stderr",
     "output_type": "stream",
     "text": [
      "/Users/m22/conda/envs/env_pylab/lib/python3.9/site-packages/sklearn/ensemble/_forest.py:413: FutureWarning: `max_features='auto'` has been deprecated in 1.1 and will be removed in 1.3. To keep the past behaviour, explicitly set `max_features=1.0` or remove this parameter as it is also the default value for RandomForestRegressors and ExtraTreesRegressors.\n",
      "  warn(\n"
     ]
    },
    {
     "name": "stdout",
     "output_type": "stream",
     "text": [
      "[CV] END bootstrap=False, max_depth=50, max_features=auto, min_samples_leaf=4, min_samples_split=2, n_estimators=300; total time=   4.4s\n",
      "[CV] END bootstrap=False, max_depth=50, max_features=auto, min_samples_leaf=4, min_samples_split=2, n_estimators=300; total time=   4.6s\n"
     ]
    },
    {
     "name": "stderr",
     "output_type": "stream",
     "text": [
      "/Users/m22/conda/envs/env_pylab/lib/python3.9/site-packages/sklearn/ensemble/_forest.py:413: FutureWarning: `max_features='auto'` has been deprecated in 1.1 and will be removed in 1.3. To keep the past behaviour, explicitly set `max_features=1.0` or remove this parameter as it is also the default value for RandomForestRegressors and ExtraTreesRegressors.\n",
      "  warn(\n",
      "/Users/m22/conda/envs/env_pylab/lib/python3.9/site-packages/sklearn/ensemble/_forest.py:413: FutureWarning: `max_features='auto'` has been deprecated in 1.1 and will be removed in 1.3. To keep the past behaviour, explicitly set `max_features=1.0` or remove this parameter as it is also the default value for RandomForestRegressors and ExtraTreesRegressors.\n",
      "  warn(\n"
     ]
    },
    {
     "name": "stdout",
     "output_type": "stream",
     "text": [
      "[CV] END bootstrap=False, max_depth=60, max_features=auto, min_samples_leaf=2, min_samples_split=10, n_estimators=600; total time=   9.0s\n"
     ]
    },
    {
     "name": "stderr",
     "output_type": "stream",
     "text": [
      "/Users/m22/conda/envs/env_pylab/lib/python3.9/site-packages/sklearn/ensemble/_forest.py:413: FutureWarning: `max_features='auto'` has been deprecated in 1.1 and will be removed in 1.3. To keep the past behaviour, explicitly set `max_features=1.0` or remove this parameter as it is also the default value for RandomForestRegressors and ExtraTreesRegressors.\n",
      "  warn(\n"
     ]
    },
    {
     "name": "stdout",
     "output_type": "stream",
     "text": [
      "[CV] END bootstrap=False, max_depth=60, max_features=auto, min_samples_leaf=2, min_samples_split=10, n_estimators=600; total time=   9.3s\n",
      "[CV] END bootstrap=False, max_depth=50, max_features=auto, min_samples_leaf=4, min_samples_split=2, n_estimators=200; total time=   2.7s\n",
      "[CV] END bootstrap=True, max_depth=None, max_features=auto, min_samples_leaf=1, min_samples_split=2, n_estimators=600; total time=   6.6s\n",
      "[CV] END bootstrap=True, max_depth=None, max_features=auto, min_samples_leaf=1, min_samples_split=2, n_estimators=600; total time=   6.8s\n"
     ]
    },
    {
     "name": "stderr",
     "output_type": "stream",
     "text": [
      "/Users/m22/conda/envs/env_pylab/lib/python3.9/site-packages/sklearn/ensemble/_forest.py:413: FutureWarning: `max_features='auto'` has been deprecated in 1.1 and will be removed in 1.3. To keep the past behaviour, explicitly set `max_features=1.0` or remove this parameter as it is also the default value for RandomForestRegressors and ExtraTreesRegressors.\n",
      "  warn(\n"
     ]
    },
    {
     "name": "stdout",
     "output_type": "stream",
     "text": [
      "[CV] END bootstrap=False, max_depth=50, max_features=auto, min_samples_leaf=4, min_samples_split=2, n_estimators=200; total time=   3.2s\n"
     ]
    },
    {
     "name": "stderr",
     "output_type": "stream",
     "text": [
      "/Users/m22/conda/envs/env_pylab/lib/python3.9/site-packages/sklearn/ensemble/_forest.py:413: FutureWarning: `max_features='auto'` has been deprecated in 1.1 and will be removed in 1.3. To keep the past behaviour, explicitly set `max_features=1.0` or remove this parameter as it is also the default value for RandomForestRegressors and ExtraTreesRegressors.\n",
      "  warn(\n"
     ]
    },
    {
     "name": "stdout",
     "output_type": "stream",
     "text": [
      "[CV] END bootstrap=False, max_depth=50, max_features=auto, min_samples_leaf=4, min_samples_split=2, n_estimators=200; total time=   2.9s\n",
      "[CV] END bootstrap=False, max_depth=60, max_features=auto, min_samples_leaf=2, min_samples_split=10, n_estimators=600; total time=   8.8s\n"
     ]
    },
    {
     "name": "stderr",
     "output_type": "stream",
     "text": [
      "/Users/m22/conda/envs/env_pylab/lib/python3.9/site-packages/sklearn/ensemble/_forest.py:413: FutureWarning: `max_features='auto'` has been deprecated in 1.1 and will be removed in 1.3. To keep the past behaviour, explicitly set `max_features=1.0` or remove this parameter as it is also the default value for RandomForestRegressors and ExtraTreesRegressors.\n",
      "  warn(\n",
      "/Users/m22/conda/envs/env_pylab/lib/python3.9/site-packages/sklearn/ensemble/_forest.py:413: FutureWarning: `max_features='auto'` has been deprecated in 1.1 and will be removed in 1.3. To keep the past behaviour, explicitly set `max_features=1.0` or remove this parameter as it is also the default value for RandomForestRegressors and ExtraTreesRegressors.\n",
      "  warn(\n"
     ]
    },
    {
     "name": "stdout",
     "output_type": "stream",
     "text": [
      "[CV] END bootstrap=True, max_depth=30, max_features=sqrt, min_samples_leaf=1, min_samples_split=5, n_estimators=600; total time=   3.7s\n"
     ]
    },
    {
     "name": "stderr",
     "output_type": "stream",
     "text": [
      "/Users/m22/conda/envs/env_pylab/lib/python3.9/site-packages/sklearn/ensemble/_forest.py:413: FutureWarning: `max_features='auto'` has been deprecated in 1.1 and will be removed in 1.3. To keep the past behaviour, explicitly set `max_features=1.0` or remove this parameter as it is also the default value for RandomForestRegressors and ExtraTreesRegressors.\n",
      "  warn(\n"
     ]
    },
    {
     "name": "stdout",
     "output_type": "stream",
     "text": [
      "[CV] END bootstrap=True, max_depth=30, max_features=sqrt, min_samples_leaf=1, min_samples_split=5, n_estimators=600; total time=   3.6s\n",
      "[CV] END bootstrap=True, max_depth=None, max_features=auto, min_samples_leaf=1, min_samples_split=2, n_estimators=600; total time=   6.8s\n"
     ]
    },
    {
     "name": "stderr",
     "output_type": "stream",
     "text": [
      "/Users/m22/conda/envs/env_pylab/lib/python3.9/site-packages/sklearn/ensemble/_forest.py:413: FutureWarning: `max_features='auto'` has been deprecated in 1.1 and will be removed in 1.3. To keep the past behaviour, explicitly set `max_features=1.0` or remove this parameter as it is also the default value for RandomForestRegressors and ExtraTreesRegressors.\n",
      "  warn(\n",
      "/Users/m22/conda/envs/env_pylab/lib/python3.9/site-packages/sklearn/ensemble/_forest.py:413: FutureWarning: `max_features='auto'` has been deprecated in 1.1 and will be removed in 1.3. To keep the past behaviour, explicitly set `max_features=1.0` or remove this parameter as it is also the default value for RandomForestRegressors and ExtraTreesRegressors.\n",
      "  warn(\n"
     ]
    },
    {
     "name": "stdout",
     "output_type": "stream",
     "text": [
      "[CV] END bootstrap=False, max_depth=10, max_features=auto, min_samples_leaf=4, min_samples_split=10, n_estimators=400; total time=   3.6s\n"
     ]
    },
    {
     "name": "stderr",
     "output_type": "stream",
     "text": [
      "/Users/m22/conda/envs/env_pylab/lib/python3.9/site-packages/sklearn/ensemble/_forest.py:413: FutureWarning: `max_features='auto'` has been deprecated in 1.1 and will be removed in 1.3. To keep the past behaviour, explicitly set `max_features=1.0` or remove this parameter as it is also the default value for RandomForestRegressors and ExtraTreesRegressors.\n",
      "  warn(\n"
     ]
    },
    {
     "name": "stdout",
     "output_type": "stream",
     "text": [
      "[CV] END bootstrap=True, max_depth=30, max_features=sqrt, min_samples_leaf=1, min_samples_split=5, n_estimators=600; total time=   3.9s\n",
      "[CV] END bootstrap=False, max_depth=10, max_features=auto, min_samples_leaf=4, min_samples_split=10, n_estimators=400; total time=   3.5s\n"
     ]
    },
    {
     "name": "stderr",
     "output_type": "stream",
     "text": [
      "/Users/m22/conda/envs/env_pylab/lib/python3.9/site-packages/sklearn/ensemble/_forest.py:413: FutureWarning: `max_features='auto'` has been deprecated in 1.1 and will be removed in 1.3. To keep the past behaviour, explicitly set `max_features=1.0` or remove this parameter as it is also the default value for RandomForestRegressors and ExtraTreesRegressors.\n",
      "  warn(\n",
      "/Users/m22/conda/envs/env_pylab/lib/python3.9/site-packages/sklearn/ensemble/_forest.py:413: FutureWarning: `max_features='auto'` has been deprecated in 1.1 and will be removed in 1.3. To keep the past behaviour, explicitly set `max_features=1.0` or remove this parameter as it is also the default value for RandomForestRegressors and ExtraTreesRegressors.\n",
      "  warn(\n"
     ]
    },
    {
     "name": "stdout",
     "output_type": "stream",
     "text": [
      "[CV] END bootstrap=False, max_depth=10, max_features=auto, min_samples_leaf=4, min_samples_split=10, n_estimators=400; total time=   3.7s\n"
     ]
    },
    {
     "name": "stderr",
     "output_type": "stream",
     "text": [
      "/Users/m22/conda/envs/env_pylab/lib/python3.9/site-packages/sklearn/ensemble/_forest.py:413: FutureWarning: `max_features='auto'` has been deprecated in 1.1 and will be removed in 1.3. To keep the past behaviour, explicitly set `max_features=1.0` or remove this parameter as it is also the default value for RandomForestRegressors and ExtraTreesRegressors.\n",
      "  warn(\n"
     ]
    },
    {
     "name": "stdout",
     "output_type": "stream",
     "text": [
      "[CV] END bootstrap=True, max_depth=130, max_features=auto, min_samples_leaf=2, min_samples_split=2, n_estimators=800; total time=   8.0s\n"
     ]
    },
    {
     "name": "stderr",
     "output_type": "stream",
     "text": [
      "/Users/m22/conda/envs/env_pylab/lib/python3.9/site-packages/sklearn/ensemble/_forest.py:413: FutureWarning: `max_features='auto'` has been deprecated in 1.1 and will be removed in 1.3. To keep the past behaviour, explicitly set `max_features=1.0` or remove this parameter as it is also the default value for RandomForestRegressors and ExtraTreesRegressors.\n",
      "  warn(\n"
     ]
    },
    {
     "name": "stdout",
     "output_type": "stream",
     "text": [
      "[CV] END bootstrap=False, max_depth=120, max_features=auto, min_samples_leaf=1, min_samples_split=5, n_estimators=400; total time=   6.4s\n"
     ]
    },
    {
     "name": "stderr",
     "output_type": "stream",
     "text": [
      "/Users/m22/conda/envs/env_pylab/lib/python3.9/site-packages/sklearn/ensemble/_forest.py:413: FutureWarning: `max_features='auto'` has been deprecated in 1.1 and will be removed in 1.3. To keep the past behaviour, explicitly set `max_features=1.0` or remove this parameter as it is also the default value for RandomForestRegressors and ExtraTreesRegressors.\n",
      "  warn(\n"
     ]
    },
    {
     "name": "stdout",
     "output_type": "stream",
     "text": [
      "[CV] END bootstrap=False, max_depth=120, max_features=auto, min_samples_leaf=1, min_samples_split=5, n_estimators=400; total time=   6.4s\n",
      "[CV] END bootstrap=False, max_depth=120, max_features=auto, min_samples_leaf=1, min_samples_split=5, n_estimators=400; total time=   6.8s\n"
     ]
    },
    {
     "name": "stderr",
     "output_type": "stream",
     "text": [
      "/Users/m22/conda/envs/env_pylab/lib/python3.9/site-packages/sklearn/ensemble/_forest.py:413: FutureWarning: `max_features='auto'` has been deprecated in 1.1 and will be removed in 1.3. To keep the past behaviour, explicitly set `max_features=1.0` or remove this parameter as it is also the default value for RandomForestRegressors and ExtraTreesRegressors.\n",
      "  warn(\n",
      "/Users/m22/conda/envs/env_pylab/lib/python3.9/site-packages/sklearn/ensemble/_forest.py:413: FutureWarning: `max_features='auto'` has been deprecated in 1.1 and will be removed in 1.3. To keep the past behaviour, explicitly set `max_features=1.0` or remove this parameter as it is also the default value for RandomForestRegressors and ExtraTreesRegressors.\n",
      "  warn(\n"
     ]
    },
    {
     "name": "stdout",
     "output_type": "stream",
     "text": [
      "[CV] END bootstrap=True, max_depth=130, max_features=auto, min_samples_leaf=2, min_samples_split=2, n_estimators=800; total time=   8.5s\n",
      "[CV] END bootstrap=True, max_depth=130, max_features=auto, min_samples_leaf=2, min_samples_split=2, n_estimators=800; total time=   8.1s\n",
      "[CV] END bootstrap=False, max_depth=80, max_features=auto, min_samples_leaf=2, min_samples_split=10, n_estimators=500; total time=   7.6s\n",
      "[CV] END bootstrap=False, max_depth=80, max_features=auto, min_samples_leaf=2, min_samples_split=10, n_estimators=500; total time=   7.7s\n",
      "[CV] END bootstrap=True, max_depth=70, max_features=auto, min_samples_leaf=4, min_samples_split=2, n_estimators=500; total time=   4.7s\n",
      "[CV] END bootstrap=True, max_depth=70, max_features=auto, min_samples_leaf=4, min_samples_split=2, n_estimators=500; total time=   4.9s\n",
      "[CV] END bootstrap=True, max_depth=70, max_features=auto, min_samples_leaf=4, min_samples_split=2, n_estimators=500; total time=   4.9s\n"
     ]
    },
    {
     "name": "stderr",
     "output_type": "stream",
     "text": [
      "/Users/m22/conda/envs/env_pylab/lib/python3.9/site-packages/sklearn/ensemble/_forest.py:413: FutureWarning: `max_features='auto'` has been deprecated in 1.1 and will be removed in 1.3. To keep the past behaviour, explicitly set `max_features=1.0` or remove this parameter as it is also the default value for RandomForestRegressors and ExtraTreesRegressors.\n",
      "  warn(\n"
     ]
    },
    {
     "name": "stdout",
     "output_type": "stream",
     "text": [
      "[CV] END bootstrap=False, max_depth=80, max_features=auto, min_samples_leaf=2, min_samples_split=10, n_estimators=500; total time=   7.5s\n"
     ]
    },
    {
     "name": "stderr",
     "output_type": "stream",
     "text": [
      "/Users/m22/conda/envs/env_pylab/lib/python3.9/site-packages/sklearn/ensemble/_forest.py:413: FutureWarning: `max_features='auto'` has been deprecated in 1.1 and will be removed in 1.3. To keep the past behaviour, explicitly set `max_features=1.0` or remove this parameter as it is also the default value for RandomForestRegressors and ExtraTreesRegressors.\n",
      "  warn(\n"
     ]
    },
    {
     "name": "stdout",
     "output_type": "stream",
     "text": [
      "[CV] END bootstrap=False, max_depth=None, max_features=sqrt, min_samples_leaf=1, min_samples_split=10, n_estimators=800; total time=   6.9s\n"
     ]
    },
    {
     "name": "stderr",
     "output_type": "stream",
     "text": [
      "/Users/m22/conda/envs/env_pylab/lib/python3.9/site-packages/sklearn/ensemble/_forest.py:413: FutureWarning: `max_features='auto'` has been deprecated in 1.1 and will be removed in 1.3. To keep the past behaviour, explicitly set `max_features=1.0` or remove this parameter as it is also the default value for RandomForestRegressors and ExtraTreesRegressors.\n",
      "  warn(\n"
     ]
    },
    {
     "name": "stdout",
     "output_type": "stream",
     "text": [
      "[CV] END bootstrap=False, max_depth=None, max_features=sqrt, min_samples_leaf=1, min_samples_split=10, n_estimators=800; total time=   6.6s\n",
      "[CV] END bootstrap=False, max_depth=None, max_features=sqrt, min_samples_leaf=1, min_samples_split=10, n_estimators=800; total time=   6.8s\n"
     ]
    },
    {
     "name": "stderr",
     "output_type": "stream",
     "text": [
      "/Users/m22/conda/envs/env_pylab/lib/python3.9/site-packages/sklearn/ensemble/_forest.py:413: FutureWarning: `max_features='auto'` has been deprecated in 1.1 and will be removed in 1.3. To keep the past behaviour, explicitly set `max_features=1.0` or remove this parameter as it is also the default value for RandomForestRegressors and ExtraTreesRegressors.\n",
      "  warn(\n",
      "/Users/m22/conda/envs/env_pylab/lib/python3.9/site-packages/sklearn/ensemble/_forest.py:413: FutureWarning: `max_features='auto'` has been deprecated in 1.1 and will be removed in 1.3. To keep the past behaviour, explicitly set `max_features=1.0` or remove this parameter as it is also the default value for RandomForestRegressors and ExtraTreesRegressors.\n",
      "  warn(\n"
     ]
    },
    {
     "name": "stdout",
     "output_type": "stream",
     "text": [
      "[CV] END bootstrap=True, max_depth=150, max_features=auto, min_samples_leaf=2, min_samples_split=2, n_estimators=500; total time=   5.2s\n"
     ]
    },
    {
     "name": "stderr",
     "output_type": "stream",
     "text": [
      "/Users/m22/conda/envs/env_pylab/lib/python3.9/site-packages/sklearn/ensemble/_forest.py:413: FutureWarning: `max_features='auto'` has been deprecated in 1.1 and will be removed in 1.3. To keep the past behaviour, explicitly set `max_features=1.0` or remove this parameter as it is also the default value for RandomForestRegressors and ExtraTreesRegressors.\n",
      "  warn(\n"
     ]
    },
    {
     "name": "stdout",
     "output_type": "stream",
     "text": [
      "[CV] END bootstrap=False, max_depth=50, max_features=sqrt, min_samples_leaf=2, min_samples_split=5, n_estimators=1000; total time=   8.9s\n"
     ]
    },
    {
     "name": "stderr",
     "output_type": "stream",
     "text": [
      "/Users/m22/conda/envs/env_pylab/lib/python3.9/site-packages/sklearn/ensemble/_forest.py:413: FutureWarning: `max_features='auto'` has been deprecated in 1.1 and will be removed in 1.3. To keep the past behaviour, explicitly set `max_features=1.0` or remove this parameter as it is also the default value for RandomForestRegressors and ExtraTreesRegressors.\n",
      "  warn(\n"
     ]
    },
    {
     "name": "stdout",
     "output_type": "stream",
     "text": [
      "[CV] END bootstrap=True, max_depth=150, max_features=auto, min_samples_leaf=2, min_samples_split=2, n_estimators=500; total time=   5.3s\n"
     ]
    },
    {
     "name": "stderr",
     "output_type": "stream",
     "text": [
      "/Users/m22/conda/envs/env_pylab/lib/python3.9/site-packages/sklearn/ensemble/_forest.py:413: FutureWarning: `max_features='auto'` has been deprecated in 1.1 and will be removed in 1.3. To keep the past behaviour, explicitly set `max_features=1.0` or remove this parameter as it is also the default value for RandomForestRegressors and ExtraTreesRegressors.\n",
      "  warn(\n"
     ]
    },
    {
     "name": "stdout",
     "output_type": "stream",
     "text": [
      "[CV] END bootstrap=True, max_depth=150, max_features=auto, min_samples_leaf=2, min_samples_split=2, n_estimators=500; total time=   5.5s\n"
     ]
    },
    {
     "name": "stderr",
     "output_type": "stream",
     "text": [
      "/Users/m22/conda/envs/env_pylab/lib/python3.9/site-packages/sklearn/ensemble/_forest.py:413: FutureWarning: `max_features='auto'` has been deprecated in 1.1 and will be removed in 1.3. To keep the past behaviour, explicitly set `max_features=1.0` or remove this parameter as it is also the default value for RandomForestRegressors and ExtraTreesRegressors.\n",
      "  warn(\n"
     ]
    },
    {
     "name": "stdout",
     "output_type": "stream",
     "text": [
      "[CV] END bootstrap=False, max_depth=50, max_features=sqrt, min_samples_leaf=2, min_samples_split=5, n_estimators=1000; total time=   9.0s\n",
      "[CV] END bootstrap=False, max_depth=50, max_features=sqrt, min_samples_leaf=2, min_samples_split=5, n_estimators=1000; total time=   8.9s\n",
      "[CV] END bootstrap=False, max_depth=70, max_features=auto, min_samples_leaf=4, min_samples_split=10, n_estimators=200; total time=   3.1s\n",
      "[CV] END bootstrap=True, max_depth=150, max_features=sqrt, min_samples_leaf=4, min_samples_split=5, n_estimators=100; total time=   0.6s\n",
      "[CV] END bootstrap=True, max_depth=150, max_features=sqrt, min_samples_leaf=4, min_samples_split=5, n_estimators=100; total time=   0.5s\n",
      "[CV] END bootstrap=False, max_depth=70, max_features=auto, min_samples_leaf=4, min_samples_split=10, n_estimators=200; total time=   3.3s\n",
      "[CV] END bootstrap=True, max_depth=150, max_features=sqrt, min_samples_leaf=4, min_samples_split=5, n_estimators=100; total time=   0.6s\n",
      "[CV] END bootstrap=False, max_depth=70, max_features=auto, min_samples_leaf=4, min_samples_split=10, n_estimators=200; total time=   3.0s\n",
      "[CV] END bootstrap=True, max_depth=None, max_features=sqrt, min_samples_leaf=2, min_samples_split=10, n_estimators=200; total time=   1.1s\n",
      "[CV] END bootstrap=True, max_depth=None, max_features=sqrt, min_samples_leaf=2, min_samples_split=10, n_estimators=200; total time=   1.2s\n",
      "[CV] END bootstrap=False, max_depth=120, max_features=sqrt, min_samples_leaf=1, min_samples_split=5, n_estimators=300; total time=   2.8s\n",
      "[CV] END bootstrap=True, max_depth=None, max_features=sqrt, min_samples_leaf=2, min_samples_split=10, n_estimators=200; total time=   1.2s\n",
      "[CV] END bootstrap=False, max_depth=120, max_features=sqrt, min_samples_leaf=1, min_samples_split=5, n_estimators=300; total time=   2.8s\n",
      "[CV] END bootstrap=False, max_depth=120, max_features=sqrt, min_samples_leaf=1, min_samples_split=5, n_estimators=300; total time=   2.8s\n",
      "[CV] END bootstrap=True, max_depth=80, max_features=sqrt, min_samples_leaf=4, min_samples_split=5, n_estimators=200; total time=   1.1s\n",
      "[CV] END bootstrap=True, max_depth=80, max_features=sqrt, min_samples_leaf=4, min_samples_split=5, n_estimators=200; total time=   1.1s\n",
      "[CV] END bootstrap=True, max_depth=60, max_features=sqrt, min_samples_leaf=2, min_samples_split=5, n_estimators=400; total time=   2.4s\n",
      "[CV] END bootstrap=True, max_depth=60, max_features=sqrt, min_samples_leaf=2, min_samples_split=5, n_estimators=400; total time=   2.4s\n",
      "[CV] END bootstrap=True, max_depth=80, max_features=sqrt, min_samples_leaf=4, min_samples_split=5, n_estimators=200; total time=   1.0s\n",
      "[CV] END bootstrap=True, max_depth=60, max_features=sqrt, min_samples_leaf=2, min_samples_split=5, n_estimators=400; total time=   2.4s\n"
     ]
    },
    {
     "name": "stderr",
     "output_type": "stream",
     "text": [
      "/Users/m22/conda/envs/env_pylab/lib/python3.9/site-packages/sklearn/ensemble/_forest.py:413: FutureWarning: `max_features='auto'` has been deprecated in 1.1 and will be removed in 1.3. To keep the past behaviour, explicitly set `max_features=1.0` or remove this parameter as it is also the default value for RandomForestRegressors and ExtraTreesRegressors.\n",
      "  warn(\n",
      "/Users/m22/conda/envs/env_pylab/lib/python3.9/site-packages/sklearn/ensemble/_forest.py:413: FutureWarning: `max_features='auto'` has been deprecated in 1.1 and will be removed in 1.3. To keep the past behaviour, explicitly set `max_features=1.0` or remove this parameter as it is also the default value for RandomForestRegressors and ExtraTreesRegressors.\n",
      "  warn(\n"
     ]
    },
    {
     "name": "stdout",
     "output_type": "stream",
     "text": [
      "[CV] END bootstrap=True, max_depth=50, max_features=auto, min_samples_leaf=2, min_samples_split=2, n_estimators=200; total time=   2.1s\n",
      "[CV] END bootstrap=True, max_depth=50, max_features=auto, min_samples_leaf=2, min_samples_split=2, n_estimators=200; total time=   2.0s\n"
     ]
    },
    {
     "name": "stderr",
     "output_type": "stream",
     "text": [
      "/Users/m22/conda/envs/env_pylab/lib/python3.9/site-packages/sklearn/ensemble/_forest.py:413: FutureWarning: `max_features='auto'` has been deprecated in 1.1 and will be removed in 1.3. To keep the past behaviour, explicitly set `max_features=1.0` or remove this parameter as it is also the default value for RandomForestRegressors and ExtraTreesRegressors.\n",
      "  warn(\n",
      "/Users/m22/conda/envs/env_pylab/lib/python3.9/site-packages/sklearn/ensemble/_forest.py:413: FutureWarning: `max_features='auto'` has been deprecated in 1.1 and will be removed in 1.3. To keep the past behaviour, explicitly set `max_features=1.0` or remove this parameter as it is also the default value for RandomForestRegressors and ExtraTreesRegressors.\n",
      "  warn(\n"
     ]
    },
    {
     "name": "stdout",
     "output_type": "stream",
     "text": [
      "[CV] END bootstrap=False, max_depth=80, max_features=auto, min_samples_leaf=4, min_samples_split=5, n_estimators=1000; total time=  14.5s\n"
     ]
    },
    {
     "name": "stderr",
     "output_type": "stream",
     "text": [
      "/Users/m22/conda/envs/env_pylab/lib/python3.9/site-packages/sklearn/ensemble/_forest.py:413: FutureWarning: `max_features='auto'` has been deprecated in 1.1 and will be removed in 1.3. To keep the past behaviour, explicitly set `max_features=1.0` or remove this parameter as it is also the default value for RandomForestRegressors and ExtraTreesRegressors.\n",
      "  warn(\n"
     ]
    },
    {
     "name": "stdout",
     "output_type": "stream",
     "text": [
      "[CV] END bootstrap=False, max_depth=80, max_features=auto, min_samples_leaf=4, min_samples_split=5, n_estimators=1000; total time=  14.9s\n"
     ]
    },
    {
     "name": "stderr",
     "output_type": "stream",
     "text": [
      "/Users/m22/conda/envs/env_pylab/lib/python3.9/site-packages/sklearn/ensemble/_forest.py:413: FutureWarning: `max_features='auto'` has been deprecated in 1.1 and will be removed in 1.3. To keep the past behaviour, explicitly set `max_features=1.0` or remove this parameter as it is also the default value for RandomForestRegressors and ExtraTreesRegressors.\n",
      "  warn(\n"
     ]
    },
    {
     "name": "stdout",
     "output_type": "stream",
     "text": [
      "[CV] END bootstrap=True, max_depth=50, max_features=auto, min_samples_leaf=2, min_samples_split=2, n_estimators=200; total time=   2.0s\n"
     ]
    },
    {
     "name": "stderr",
     "output_type": "stream",
     "text": [
      "/Users/m22/conda/envs/env_pylab/lib/python3.9/site-packages/sklearn/ensemble/_forest.py:413: FutureWarning: `max_features='auto'` has been deprecated in 1.1 and will be removed in 1.3. To keep the past behaviour, explicitly set `max_features=1.0` or remove this parameter as it is also the default value for RandomForestRegressors and ExtraTreesRegressors.\n",
      "  warn(\n"
     ]
    },
    {
     "name": "stdout",
     "output_type": "stream",
     "text": [
      "[CV] END bootstrap=True, max_depth=110, max_features=sqrt, min_samples_leaf=1, min_samples_split=10, n_estimators=1000; total time=   5.8s\n",
      "[CV] END bootstrap=False, max_depth=80, max_features=auto, min_samples_leaf=4, min_samples_split=5, n_estimators=1000; total time=  14.6s\n"
     ]
    },
    {
     "name": "stderr",
     "output_type": "stream",
     "text": [
      "/Users/m22/conda/envs/env_pylab/lib/python3.9/site-packages/sklearn/ensemble/_forest.py:413: FutureWarning: `max_features='auto'` has been deprecated in 1.1 and will be removed in 1.3. To keep the past behaviour, explicitly set `max_features=1.0` or remove this parameter as it is also the default value for RandomForestRegressors and ExtraTreesRegressors.\n",
      "  warn(\n",
      "/Users/m22/conda/envs/env_pylab/lib/python3.9/site-packages/sklearn/ensemble/_forest.py:413: FutureWarning: `max_features='auto'` has been deprecated in 1.1 and will be removed in 1.3. To keep the past behaviour, explicitly set `max_features=1.0` or remove this parameter as it is also the default value for RandomForestRegressors and ExtraTreesRegressors.\n",
      "  warn(\n"
     ]
    },
    {
     "name": "stdout",
     "output_type": "stream",
     "text": [
      "[CV] END bootstrap=True, max_depth=110, max_features=sqrt, min_samples_leaf=1, min_samples_split=10, n_estimators=1000; total time=   5.9s\n"
     ]
    },
    {
     "name": "stderr",
     "output_type": "stream",
     "text": [
      "/Users/m22/conda/envs/env_pylab/lib/python3.9/site-packages/sklearn/ensemble/_forest.py:413: FutureWarning: `max_features='auto'` has been deprecated in 1.1 and will be removed in 1.3. To keep the past behaviour, explicitly set `max_features=1.0` or remove this parameter as it is also the default value for RandomForestRegressors and ExtraTreesRegressors.\n",
      "  warn(\n"
     ]
    },
    {
     "name": "stdout",
     "output_type": "stream",
     "text": [
      "[CV] END bootstrap=True, max_depth=110, max_features=sqrt, min_samples_leaf=1, min_samples_split=10, n_estimators=1000; total time=   6.1s\n"
     ]
    },
    {
     "name": "stderr",
     "output_type": "stream",
     "text": [
      "/Users/m22/conda/envs/env_pylab/lib/python3.9/site-packages/sklearn/ensemble/_forest.py:413: FutureWarning: `max_features='auto'` has been deprecated in 1.1 and will be removed in 1.3. To keep the past behaviour, explicitly set `max_features=1.0` or remove this parameter as it is also the default value for RandomForestRegressors and ExtraTreesRegressors.\n",
      "  warn(\n"
     ]
    },
    {
     "name": "stdout",
     "output_type": "stream",
     "text": [
      "[CV] END bootstrap=True, max_depth=110, max_features=auto, min_samples_leaf=4, min_samples_split=2, n_estimators=100; total time=   0.9s\n",
      "[CV] END bootstrap=False, max_depth=50, max_features=auto, min_samples_leaf=2, min_samples_split=10, n_estimators=300; total time=   4.4s\n"
     ]
    },
    {
     "name": "stderr",
     "output_type": "stream",
     "text": [
      "/Users/m22/conda/envs/env_pylab/lib/python3.9/site-packages/sklearn/ensemble/_forest.py:413: FutureWarning: `max_features='auto'` has been deprecated in 1.1 and will be removed in 1.3. To keep the past behaviour, explicitly set `max_features=1.0` or remove this parameter as it is also the default value for RandomForestRegressors and ExtraTreesRegressors.\n",
      "  warn(\n",
      "/Users/m22/conda/envs/env_pylab/lib/python3.9/site-packages/sklearn/ensemble/_forest.py:413: FutureWarning: `max_features='auto'` has been deprecated in 1.1 and will be removed in 1.3. To keep the past behaviour, explicitly set `max_features=1.0` or remove this parameter as it is also the default value for RandomForestRegressors and ExtraTreesRegressors.\n",
      "  warn(\n"
     ]
    },
    {
     "name": "stdout",
     "output_type": "stream",
     "text": [
      "[CV] END bootstrap=True, max_depth=110, max_features=auto, min_samples_leaf=4, min_samples_split=2, n_estimators=100; total time=   1.0s\n",
      "[CV] END bootstrap=False, max_depth=50, max_features=auto, min_samples_leaf=2, min_samples_split=10, n_estimators=300; total time=   4.5s\n"
     ]
    },
    {
     "name": "stderr",
     "output_type": "stream",
     "text": [
      "/Users/m22/conda/envs/env_pylab/lib/python3.9/site-packages/sklearn/ensemble/_forest.py:413: FutureWarning: `max_features='auto'` has been deprecated in 1.1 and will be removed in 1.3. To keep the past behaviour, explicitly set `max_features=1.0` or remove this parameter as it is also the default value for RandomForestRegressors and ExtraTreesRegressors.\n",
      "  warn(\n",
      "/Users/m22/conda/envs/env_pylab/lib/python3.9/site-packages/sklearn/ensemble/_forest.py:413: FutureWarning: `max_features='auto'` has been deprecated in 1.1 and will be removed in 1.3. To keep the past behaviour, explicitly set `max_features=1.0` or remove this parameter as it is also the default value for RandomForestRegressors and ExtraTreesRegressors.\n",
      "  warn(\n"
     ]
    },
    {
     "name": "stdout",
     "output_type": "stream",
     "text": [
      "[CV] END bootstrap=True, max_depth=110, max_features=auto, min_samples_leaf=4, min_samples_split=2, n_estimators=100; total time=   0.9s\n"
     ]
    },
    {
     "name": "stderr",
     "output_type": "stream",
     "text": [
      "/Users/m22/conda/envs/env_pylab/lib/python3.9/site-packages/sklearn/ensemble/_forest.py:413: FutureWarning: `max_features='auto'` has been deprecated in 1.1 and will be removed in 1.3. To keep the past behaviour, explicitly set `max_features=1.0` or remove this parameter as it is also the default value for RandomForestRegressors and ExtraTreesRegressors.\n",
      "  warn(\n"
     ]
    },
    {
     "name": "stdout",
     "output_type": "stream",
     "text": [
      "[CV] END bootstrap=False, max_depth=50, max_features=auto, min_samples_leaf=2, min_samples_split=10, n_estimators=300; total time=   4.6s\n"
     ]
    },
    {
     "name": "stderr",
     "output_type": "stream",
     "text": [
      "/Users/m22/conda/envs/env_pylab/lib/python3.9/site-packages/sklearn/ensemble/_forest.py:413: FutureWarning: `max_features='auto'` has been deprecated in 1.1 and will be removed in 1.3. To keep the past behaviour, explicitly set `max_features=1.0` or remove this parameter as it is also the default value for RandomForestRegressors and ExtraTreesRegressors.\n",
      "  warn(\n"
     ]
    },
    {
     "name": "stdout",
     "output_type": "stream",
     "text": [
      "[CV] END bootstrap=False, max_depth=110, max_features=auto, min_samples_leaf=4, min_samples_split=5, n_estimators=800; total time=  11.8s\n"
     ]
    },
    {
     "name": "stderr",
     "output_type": "stream",
     "text": [
      "/Users/m22/conda/envs/env_pylab/lib/python3.9/site-packages/sklearn/ensemble/_forest.py:413: FutureWarning: `max_features='auto'` has been deprecated in 1.1 and will be removed in 1.3. To keep the past behaviour, explicitly set `max_features=1.0` or remove this parameter as it is also the default value for RandomForestRegressors and ExtraTreesRegressors.\n",
      "  warn(\n"
     ]
    },
    {
     "name": "stdout",
     "output_type": "stream",
     "text": [
      "[CV] END bootstrap=False, max_depth=110, max_features=auto, min_samples_leaf=4, min_samples_split=5, n_estimators=800; total time=  11.5s\n",
      "[CV] END bootstrap=False, max_depth=110, max_features=auto, min_samples_leaf=4, min_samples_split=5, n_estimators=800; total time=  12.2s\n",
      "[CV] END bootstrap=False, max_depth=30, max_features=auto, min_samples_leaf=4, min_samples_split=2, n_estimators=700; total time=  10.0s\n",
      "[CV] END bootstrap=False, max_depth=30, max_features=auto, min_samples_leaf=4, min_samples_split=2, n_estimators=700; total time=  10.4s\n"
     ]
    },
    {
     "name": "stderr",
     "output_type": "stream",
     "text": [
      "/Users/m22/conda/envs/env_pylab/lib/python3.9/site-packages/sklearn/ensemble/_forest.py:413: FutureWarning: `max_features='auto'` has been deprecated in 1.1 and will be removed in 1.3. To keep the past behaviour, explicitly set `max_features=1.0` or remove this parameter as it is also the default value for RandomForestRegressors and ExtraTreesRegressors.\n",
      "  warn(\n"
     ]
    },
    {
     "name": "stdout",
     "output_type": "stream",
     "text": [
      "[CV] END bootstrap=False, max_depth=30, max_features=sqrt, min_samples_leaf=4, min_samples_split=2, n_estimators=300; total time=   2.3s\n"
     ]
    },
    {
     "name": "stderr",
     "output_type": "stream",
     "text": [
      "/Users/m22/conda/envs/env_pylab/lib/python3.9/site-packages/sklearn/ensemble/_forest.py:413: FutureWarning: `max_features='auto'` has been deprecated in 1.1 and will be removed in 1.3. To keep the past behaviour, explicitly set `max_features=1.0` or remove this parameter as it is also the default value for RandomForestRegressors and ExtraTreesRegressors.\n",
      "  warn(\n"
     ]
    },
    {
     "name": "stdout",
     "output_type": "stream",
     "text": [
      "[CV] END bootstrap=False, max_depth=30, max_features=sqrt, min_samples_leaf=4, min_samples_split=2, n_estimators=300; total time=   2.4s\n",
      "[CV] END bootstrap=False, max_depth=30, max_features=sqrt, min_samples_leaf=4, min_samples_split=2, n_estimators=300; total time=   2.3s\n"
     ]
    },
    {
     "name": "stderr",
     "output_type": "stream",
     "text": [
      "/Users/m22/conda/envs/env_pylab/lib/python3.9/site-packages/sklearn/ensemble/_forest.py:413: FutureWarning: `max_features='auto'` has been deprecated in 1.1 and will be removed in 1.3. To keep the past behaviour, explicitly set `max_features=1.0` or remove this parameter as it is also the default value for RandomForestRegressors and ExtraTreesRegressors.\n",
      "  warn(\n"
     ]
    },
    {
     "name": "stdout",
     "output_type": "stream",
     "text": [
      "[CV] END bootstrap=False, max_depth=20, max_features=auto, min_samples_leaf=4, min_samples_split=2, n_estimators=1000; total time=  13.4s\n",
      "[CV] END bootstrap=False, max_depth=20, max_features=auto, min_samples_leaf=4, min_samples_split=2, n_estimators=1000; total time=  13.0s\n",
      "[CV] END bootstrap=False, max_depth=20, max_features=auto, min_samples_leaf=4, min_samples_split=2, n_estimators=1000; total time=  13.4s\n",
      "[CV] END bootstrap=False, max_depth=30, max_features=auto, min_samples_leaf=4, min_samples_split=2, n_estimators=700; total time=   8.8s\n",
      "[CV] END bootstrap=True, max_depth=150, max_features=auto, min_samples_leaf=2, min_samples_split=10, n_estimators=1000; total time=   7.8s\n",
      "[CV] END bootstrap=True, max_depth=150, max_features=auto, min_samples_leaf=2, min_samples_split=10, n_estimators=1000; total time=   7.6s\n",
      "[CV] END bootstrap=True, max_depth=150, max_features=auto, min_samples_leaf=2, min_samples_split=10, n_estimators=1000; total time=   7.5s\n"
     ]
    },
    {
     "data": {
      "text/plain": [
       "{'n_estimators': 800, 'min_samples_split': 10, 'min_samples_leaf': 4, 'max_features': 'sqrt', 'max_depth': 10, 'bootstrap': True}"
      ]
     },
     "execution_count": 129,
     "metadata": {},
     "output_type": "execute_result"
    }
   ],
   "source": [
    "hyper_tune_rf(df3_11, random_grid_1)"
   ]
  },
  {
   "cell_type": "code",
   "execution_count": 93,
   "metadata": {},
   "outputs": [
    {
     "name": "stdout",
     "output_type": "stream",
     "text": [
      "Fitting 3 folds for each of 100 candidates, totalling 300 fits\n",
      "[CV] END ....bootstrap=False, max_depth=80, n_estimators=100; total time=   1.9s\n",
      "[CV] END ....bootstrap=False, max_depth=80, n_estimators=100; total time=   2.2s\n",
      "[CV] END ....bootstrap=False, max_depth=80, n_estimators=100; total time=   2.2s\n",
      "[CV] END .....bootstrap=True, max_depth=70, n_estimators=400; total time=   5.3s\n",
      "[CV] END .....bootstrap=True, max_depth=30, n_estimators=600; total time=   7.8s\n",
      "[CV] END .....bootstrap=True, max_depth=70, n_estimators=400; total time=   5.5s\n",
      "[CV] END .....bootstrap=True, max_depth=30, n_estimators=600; total time=   7.8s\n",
      "[CV] END ....bootstrap=False, max_depth=10, n_estimators=800; total time=   8.2s\n",
      "[CV] END ....bootstrap=False, max_depth=10, n_estimators=800; total time=   8.3s\n",
      "[CV] END ....bootstrap=False, max_depth=10, n_estimators=800; total time=   8.4s\n",
      "[CV] END ....bootstrap=True, max_depth=120, n_estimators=100; total time=   1.1s\n",
      "[CV] END ....bootstrap=True, max_depth=120, n_estimators=100; total time=   1.2s\n",
      "[CV] END ....bootstrap=True, max_depth=120, n_estimators=100; total time=   1.1s\n",
      "[CV] END .....bootstrap=True, max_depth=30, n_estimators=600; total time=   7.8s\n",
      "[CV] END .....bootstrap=True, max_depth=70, n_estimators=400; total time=   4.6s\n",
      "[CV] END ....bootstrap=True, max_depth=10, n_estimators=1000; total time=   6.4s\n",
      "[CV] END ....bootstrap=True, max_depth=150, n_estimators=400; total time=   4.5s\n",
      "[CV] END ....bootstrap=True, max_depth=10, n_estimators=1000; total time=   6.6s\n",
      "[CV] END ....bootstrap=True, max_depth=10, n_estimators=1000; total time=   6.9s\n",
      "[CV] END ....bootstrap=True, max_depth=150, n_estimators=400; total time=   4.5s\n",
      "[CV] END ....bootstrap=True, max_depth=150, n_estimators=400; total time=   4.5s\n",
      "[CV] END ....bootstrap=False, max_depth=30, n_estimators=700; total time=  12.1s\n"
     ]
    },
    {
     "name": "stderr",
     "output_type": "stream",
     "text": [
      "/Users/m22/conda/envs/env_pylab/lib/python3.9/site-packages/joblib/externals/loky/process_executor.py:700: UserWarning: A worker stopped while some jobs were given to the executor. This can be caused by a too short worker timeout or by a memory leak.\n",
      "  warnings.warn(\n"
     ]
    },
    {
     "name": "stdout",
     "output_type": "stream",
     "text": [
      "[CV] END ....bootstrap=False, max_depth=30, n_estimators=700; total time=  12.2s\n",
      "[CV] END ....bootstrap=False, max_depth=30, n_estimators=700; total time=  12.4s\n",
      "[CV] END ....bootstrap=False, max_depth=90, n_estimators=500; total time=   8.8s\n",
      "[CV] END ....bootstrap=False, max_depth=90, n_estimators=500; total time=   8.5s\n",
      "[CV] END ....bootstrap=False, max_depth=90, n_estimators=500; total time=   9.3s\n",
      "[CV] END ....bootstrap=True, max_depth=100, n_estimators=100; total time=   1.2s\n",
      "[CV] END ....bootstrap=True, max_depth=100, n_estimators=100; total time=   1.3s\n",
      "[CV] END ....bootstrap=True, max_depth=100, n_estimators=100; total time=   1.3s\n",
      "[CV] END ....bootstrap=False, max_depth=70, n_estimators=500; total time=   9.0s\n",
      "[CV] END .....bootstrap=True, max_depth=90, n_estimators=300; total time=   4.2s\n",
      "[CV] END .....bootstrap=True, max_depth=90, n_estimators=300; total time=   4.4s\n",
      "[CV] END ....bootstrap=False, max_depth=70, n_estimators=500; total time=  10.4s\n",
      "[CV] END .....bootstrap=True, max_depth=90, n_estimators=300; total time=   4.4s\n",
      "[CV] END ....bootstrap=False, max_depth=90, n_estimators=100; total time=   2.2s\n",
      "[CV] END ....bootstrap=False, max_depth=90, n_estimators=100; total time=   2.2s\n",
      "[CV] END ....bootstrap=False, max_depth=90, n_estimators=100; total time=   2.2s\n",
      "[CV] END .....bootstrap=True, max_depth=80, n_estimators=700; total time=   9.8s\n",
      "[CV] END ....bootstrap=False, max_depth=70, n_estimators=500; total time=  10.6s\n",
      "[CV] END .....bootstrap=True, max_depth=80, n_estimators=700; total time=   9.8s\n",
      "[CV] END .....bootstrap=True, max_depth=80, n_estimators=700; total time=  10.1s\n",
      "[CV] END ....bootstrap=False, max_depth=20, n_estimators=300; total time=   5.3s\n",
      "[CV] END ....bootstrap=False, max_depth=20, n_estimators=300; total time=   5.2s\n",
      "[CV] END ....bootstrap=False, max_depth=20, n_estimators=300; total time=   5.3s\n",
      "[CV] END ....bootstrap=False, max_depth=50, n_estimators=300; total time=   6.2s\n",
      "[CV] END ....bootstrap=False, max_depth=50, n_estimators=300; total time=   5.8s\n",
      "[CV] END ....bootstrap=False, max_depth=50, n_estimators=300; total time=   5.7s\n",
      "[CV] END ...bootstrap=True, max_depth=120, n_estimators=1000; total time=  13.2s\n",
      "[CV] END ...bootstrap=True, max_depth=120, n_estimators=1000; total time=  13.1s\n",
      "[CV] END .....bootstrap=True, max_depth=80, n_estimators=800; total time=   9.9s\n",
      "[CV] END ...bootstrap=True, max_depth=120, n_estimators=1000; total time=  13.2s\n",
      "[CV] END .....bootstrap=True, max_depth=80, n_estimators=800; total time=  10.6s\n",
      "[CV] END .....bootstrap=True, max_depth=60, n_estimators=600; total time=   7.7s\n",
      "[CV] END .....bootstrap=True, max_depth=60, n_estimators=600; total time=   7.8s\n",
      "[CV] END .....bootstrap=True, max_depth=80, n_estimators=800; total time=  10.7s\n",
      "[CV] END ....bootstrap=True, max_depth=110, n_estimators=500; total time=   6.0s\n",
      "[CV] END ....bootstrap=True, max_depth=110, n_estimators=500; total time=   6.4s\n",
      "[CV] END .....bootstrap=True, max_depth=60, n_estimators=600; total time=   8.1s\n",
      "[CV] END ....bootstrap=True, max_depth=110, n_estimators=500; total time=   6.6s\n",
      "[CV] END ....bootstrap=False, max_depth=50, n_estimators=400; total time=   7.3s\n",
      "[CV] END ....bootstrap=False, max_depth=60, n_estimators=200; total time=   3.5s\n",
      "[CV] END ....bootstrap=False, max_depth=60, n_estimators=200; total time=   3.6s\n",
      "[CV] END ....bootstrap=False, max_depth=60, n_estimators=200; total time=   3.5s\n",
      "[CV] END ....bootstrap=False, max_depth=50, n_estimators=400; total time=   8.1s\n",
      "[CV] END ....bootstrap=False, max_depth=50, n_estimators=400; total time=   7.6s\n",
      "[CV] END .....bootstrap=True, max_depth=50, n_estimators=300; total time=   3.5s\n",
      "[CV] END .....bootstrap=True, max_depth=50, n_estimators=300; total time=   3.6s\n",
      "[CV] END .....bootstrap=True, max_depth=50, n_estimators=300; total time=   3.5s\n",
      "[CV] END ...bootstrap=True, max_depth=140, n_estimators=1000; total time=  11.9s\n",
      "[CV] END ...bootstrap=True, max_depth=140, n_estimators=1000; total time=  11.5s\n",
      "[CV] END ....bootstrap=False, max_depth=60, n_estimators=400; total time=   7.5s\n",
      "[CV] END ...bootstrap=True, max_depth=140, n_estimators=1000; total time=  11.9s\n",
      "[CV] END ....bootstrap=False, max_depth=40, n_estimators=900; total time=  16.1s\n",
      "[CV] END ....bootstrap=False, max_depth=40, n_estimators=900; total time=  16.8s\n",
      "[CV] END ....bootstrap=False, max_depth=60, n_estimators=400; total time=   7.3s\n",
      "[CV] END ....bootstrap=False, max_depth=40, n_estimators=900; total time=  16.5s\n",
      "[CV] END .....bootstrap=True, max_depth=40, n_estimators=400; total time=   4.7s\n",
      "[CV] END ....bootstrap=False, max_depth=60, n_estimators=400; total time=   7.1s\n",
      "[CV] END .....bootstrap=True, max_depth=40, n_estimators=400; total time=   5.0s\n",
      "[CV] END .....bootstrap=True, max_depth=40, n_estimators=400; total time=   4.9s\n",
      "[CV] END .....bootstrap=True, max_depth=80, n_estimators=400; total time=   4.9s\n",
      "[CV] END .....bootstrap=True, max_depth=80, n_estimators=400; total time=   5.4s\n",
      "[CV] END .....bootstrap=True, max_depth=80, n_estimators=400; total time=   5.5s\n",
      "[CV] END ...bootstrap=False, max_depth=140, n_estimators=800; total time=  15.2s\n",
      "[CV] END ...bootstrap=False, max_depth=140, n_estimators=800; total time=  16.0s\n",
      "[CV] END ....bootstrap=False, max_depth=30, n_estimators=400; total time=   8.3s\n",
      "[CV] END ...bootstrap=False, max_depth=140, n_estimators=800; total time=  15.8s\n",
      "[CV] END ....bootstrap=False, max_depth=30, n_estimators=400; total time=   8.4s\n",
      "[CV] END ....bootstrap=False, max_depth=30, n_estimators=400; total time=   8.4s\n",
      "[CV] END .....bootstrap=True, max_depth=80, n_estimators=600; total time=   7.9s\n",
      "[CV] END .....bootstrap=True, max_depth=80, n_estimators=600; total time=   8.1s\n",
      "[CV] END .....bootstrap=True, max_depth=10, n_estimators=600; total time=   4.4s\n",
      "[CV] END .....bootstrap=True, max_depth=10, n_estimators=600; total time=   4.7s\n",
      "[CV] END .....bootstrap=True, max_depth=10, n_estimators=600; total time=   4.4s\n",
      "[CV] END ...bootstrap=False, max_depth=150, n_estimators=100; total time=   2.1s\n",
      "[CV] END .....bootstrap=True, max_depth=80, n_estimators=600; total time=   8.3s\n",
      "[CV] END ...bootstrap=False, max_depth=150, n_estimators=100; total time=   1.8s\n",
      "[CV] END ....bootstrap=False, max_depth=10, n_estimators=900; total time=   9.1s\n",
      "[CV] END ...bootstrap=False, max_depth=150, n_estimators=100; total time=   1.9s\n",
      "[CV] END ....bootstrap=False, max_depth=10, n_estimators=900; total time=   9.3s\n",
      "[CV] END ....bootstrap=False, max_depth=10, n_estimators=900; total time=   8.4s\n",
      "[CV] END ...bootstrap=True, max_depth=None, n_estimators=800; total time=   9.5s\n",
      "[CV] END ...bootstrap=True, max_depth=None, n_estimators=800; total time=   9.7s\n",
      "[CV] END ...bootstrap=True, max_depth=None, n_estimators=800; total time=   9.8s\n",
      "[CV] END .....bootstrap=True, max_depth=80, n_estimators=900; total time=  10.8s\n",
      "[CV] END .....bootstrap=True, max_depth=80, n_estimators=900; total time=  10.9s\n",
      "[CV] END .....bootstrap=True, max_depth=80, n_estimators=900; total time=  11.0s\n",
      "[CV] END ....bootstrap=False, max_depth=20, n_estimators=700; total time=  11.5s\n",
      "[CV] END ....bootstrap=False, max_depth=20, n_estimators=700; total time=  11.8s\n",
      "[CV] END ...bootstrap=False, max_depth=130, n_estimators=500; total time=   9.9s\n",
      "[CV] END ...bootstrap=False, max_depth=130, n_estimators=500; total time=  10.1s\n",
      "[CV] END ....bootstrap=False, max_depth=20, n_estimators=700; total time=  11.8s\n",
      "[CV] END ....bootstrap=False, max_depth=70, n_estimators=300; total time=   6.0s\n",
      "[CV] END ....bootstrap=False, max_depth=70, n_estimators=300; total time=   6.3s\n",
      "[CV] END ....bootstrap=False, max_depth=70, n_estimators=300; total time=   6.1s\n",
      "[CV] END .....bootstrap=True, max_depth=90, n_estimators=500; total time=   6.8s\n",
      "[CV] END ...bootstrap=False, max_depth=130, n_estimators=500; total time=  10.2s\n",
      "[CV] END .....bootstrap=True, max_depth=90, n_estimators=500; total time=   7.0s\n",
      "[CV] END .....bootstrap=True, max_depth=10, n_estimators=800; total time=   6.3s\n",
      "[CV] END .....bootstrap=True, max_depth=90, n_estimators=500; total time=   6.5s\n",
      "[CV] END .....bootstrap=True, max_depth=10, n_estimators=800; total time=   6.2s\n",
      "[CV] END .....bootstrap=True, max_depth=10, n_estimators=800; total time=   6.3s\n",
      "[CV] END ....bootstrap=False, max_depth=40, n_estimators=400; total time=   7.9s\n",
      "[CV] END ...bootstrap=False, max_depth=130, n_estimators=200; total time=   4.0s\n",
      "[CV] END ...bootstrap=False, max_depth=130, n_estimators=200; total time=   4.0s\n",
      "[CV] END ....bootstrap=False, max_depth=40, n_estimators=400; total time=   7.5s\n",
      "[CV] END ....bootstrap=False, max_depth=40, n_estimators=400; total time=   8.4s\n",
      "[CV] END ...bootstrap=False, max_depth=130, n_estimators=200; total time=   3.9s\n",
      "[CV] END .....bootstrap=True, max_depth=10, n_estimators=400; total time=   3.0s\n",
      "[CV] END ...bootstrap=False, max_depth=130, n_estimators=600; total time=  11.6s\n",
      "[CV] END ...bootstrap=False, max_depth=130, n_estimators=600; total time=  12.0s\n",
      "[CV] END ...bootstrap=False, max_depth=130, n_estimators=600; total time=  11.7s\n",
      "[CV] END .....bootstrap=True, max_depth=10, n_estimators=400; total time=   2.9s\n",
      "[CV] END ...bootstrap=False, max_depth=110, n_estimators=100; total time=   2.1s\n",
      "[CV] END .....bootstrap=True, max_depth=10, n_estimators=400; total time=   3.0s\n",
      "[CV] END ...bootstrap=False, max_depth=110, n_estimators=100; total time=   1.8s\n",
      "[CV] END ...bootstrap=False, max_depth=110, n_estimators=100; total time=   2.1s\n",
      "[CV] END .....bootstrap=True, max_depth=50, n_estimators=700; total time=   8.9s\n",
      "[CV] END .....bootstrap=True, max_depth=50, n_estimators=700; total time=   9.0s\n",
      "[CV] END .....bootstrap=True, max_depth=50, n_estimators=700; total time=   9.1s\n",
      "[CV] END ....bootstrap=False, max_depth=40, n_estimators=500; total time=   9.8s\n",
      "[CV] END ....bootstrap=False, max_depth=40, n_estimators=500; total time=   9.9s\n",
      "[CV] END ....bootstrap=False, max_depth=40, n_estimators=500; total time=   9.7s\n",
      "[CV] END ....bootstrap=False, max_depth=70, n_estimators=700; total time=  13.6s\n",
      "[CV] END ....bootstrap=False, max_depth=70, n_estimators=700; total time=  14.0s\n",
      "[CV] END ....bootstrap=False, max_depth=20, n_estimators=800; total time=  13.3s\n",
      "[CV] END ....bootstrap=False, max_depth=70, n_estimators=700; total time=  14.1s\n",
      "[CV] END ....bootstrap=False, max_depth=20, n_estimators=800; total time=  13.3s\n",
      "[CV] END .....bootstrap=True, max_depth=60, n_estimators=800; total time=  10.5s\n",
      "[CV] END .....bootstrap=True, max_depth=60, n_estimators=800; total time=  10.6s\n",
      "[CV] END ....bootstrap=True, max_depth=100, n_estimators=500; total time=   6.5s\n",
      "[CV] END ....bootstrap=True, max_depth=100, n_estimators=500; total time=   6.6s\n",
      "[CV] END ....bootstrap=True, max_depth=100, n_estimators=500; total time=   6.6s\n",
      "[CV] END ....bootstrap=False, max_depth=20, n_estimators=800; total time=  14.0s\n",
      "[CV] END .....bootstrap=True, max_depth=60, n_estimators=800; total time=  10.5s\n",
      "[CV] END .....bootstrap=True, max_depth=50, n_estimators=600; total time=   7.7s\n",
      "[CV] END .....bootstrap=True, max_depth=50, n_estimators=600; total time=   7.9s\n",
      "[CV] END .....bootstrap=True, max_depth=50, n_estimators=600; total time=   7.7s\n",
      "[CV] END .....bootstrap=True, max_depth=20, n_estimators=800; total time=   9.6s\n",
      "[CV] END .....bootstrap=True, max_depth=20, n_estimators=800; total time=   9.2s\n",
      "[CV] END ..bootstrap=False, max_depth=130, n_estimators=1000; total time=  19.8s\n",
      "[CV] END .....bootstrap=True, max_depth=20, n_estimators=800; total time=   8.6s\n",
      "[CV] END ..bootstrap=False, max_depth=130, n_estimators=1000; total time=  18.8s\n",
      "[CV] END ....bootstrap=False, max_depth=30, n_estimators=600; total time=  10.6s\n",
      "[CV] END ..bootstrap=False, max_depth=130, n_estimators=1000; total time=  19.6s\n",
      "[CV] END ....bootstrap=False, max_depth=30, n_estimators=600; total time=  11.2s\n",
      "[CV] END .....bootstrap=True, max_depth=70, n_estimators=100; total time=   1.2s\n",
      "[CV] END .....bootstrap=True, max_depth=70, n_estimators=100; total time=   1.1s\n",
      "[CV] END .....bootstrap=True, max_depth=70, n_estimators=100; total time=   1.1s\n",
      "[CV] END ....bootstrap=False, max_depth=30, n_estimators=600; total time=  10.8s\n",
      "[CV] END .....bootstrap=True, max_depth=30, n_estimators=500; total time=   5.5s\n",
      "[CV] END .....bootstrap=True, max_depth=30, n_estimators=500; total time=   5.7s\n",
      "[CV] END .....bootstrap=True, max_depth=30, n_estimators=500; total time=   5.5s\n",
      "[CV] END ....bootstrap=True, max_depth=120, n_estimators=500; total time=   5.7s\n",
      "[CV] END ....bootstrap=False, max_depth=60, n_estimators=100; total time=   1.7s\n",
      "[CV] END ....bootstrap=False, max_depth=60, n_estimators=100; total time=   1.9s\n",
      "[CV] END ....bootstrap=False, max_depth=60, n_estimators=100; total time=   1.7s\n",
      "[CV] END ....bootstrap=True, max_depth=120, n_estimators=500; total time=   5.6s\n",
      "[CV] END ....bootstrap=True, max_depth=120, n_estimators=500; total time=   5.5s\n",
      "[CV] END ...bootstrap=False, max_depth=110, n_estimators=900; total time=  16.2s\n",
      "[CV] END ...bootstrap=False, max_depth=110, n_estimators=900; total time=  16.9s\n",
      "[CV] END ...bootstrap=False, max_depth=110, n_estimators=900; total time=  16.3s\n",
      "[CV] END ....bootstrap=True, max_depth=150, n_estimators=900; total time=  11.1s\n",
      "[CV] END ....bootstrap=True, max_depth=150, n_estimators=900; total time=  10.6s\n",
      "[CV] END ....bootstrap=True, max_depth=150, n_estimators=900; total time=  11.2s\n",
      "[CV] END ....bootstrap=True, max_depth=140, n_estimators=300; total time=   3.7s\n",
      "[CV] END ....bootstrap=True, max_depth=140, n_estimators=300; total time=   3.8s\n",
      "[CV] END ..bootstrap=False, max_depth=150, n_estimators=1000; total time=  17.8s\n",
      "[CV] END ....bootstrap=True, max_depth=140, n_estimators=300; total time=   3.6s\n",
      "[CV] END ...bootstrap=False, max_depth=100, n_estimators=900; total time=  16.5s\n",
      "[CV] END ..bootstrap=False, max_depth=150, n_estimators=1000; total time=  19.1s\n",
      "[CV] END ..bootstrap=False, max_depth=150, n_estimators=1000; total time=  18.7s\n",
      "[CV] END ...bootstrap=False, max_depth=100, n_estimators=900; total time=  17.7s\n",
      "[CV] END ...bootstrap=False, max_depth=100, n_estimators=900; total time=  17.0s\n",
      "[CV] END ..bootstrap=False, max_depth=None, n_estimators=300; total time=   5.6s\n",
      "[CV] END ....bootstrap=False, max_depth=80, n_estimators=500; total time=   9.7s\n",
      "[CV] END ....bootstrap=False, max_depth=80, n_estimators=500; total time=   9.6s\n",
      "[CV] END ....bootstrap=False, max_depth=80, n_estimators=500; total time=  10.3s\n",
      "[CV] END ..bootstrap=False, max_depth=None, n_estimators=800; total time=  15.4s\n",
      "[CV] END ..bootstrap=False, max_depth=None, n_estimators=300; total time=   6.1s\n",
      "[CV] END ..bootstrap=False, max_depth=None, n_estimators=800; total time=  15.6s\n",
      "[CV] END ..bootstrap=False, max_depth=None, n_estimators=800; total time=  15.4s\n",
      "[CV] END ..bootstrap=False, max_depth=None, n_estimators=300; total time=   6.2s\n",
      "[CV] END ....bootstrap=False, max_depth=80, n_estimators=300; total time=   6.3s\n",
      "[CV] END ....bootstrap=False, max_depth=80, n_estimators=300; total time=   5.9s\n",
      "[CV] END ....bootstrap=True, max_depth=110, n_estimators=200; total time=   2.5s\n",
      "[CV] END ....bootstrap=False, max_depth=80, n_estimators=300; total time=   6.1s\n",
      "[CV] END ....bootstrap=True, max_depth=110, n_estimators=200; total time=   2.4s\n",
      "[CV] END ....bootstrap=True, max_depth=130, n_estimators=500; total time=   5.9s\n",
      "[CV] END ....bootstrap=True, max_depth=130, n_estimators=500; total time=   5.9s\n",
      "[CV] END ....bootstrap=True, max_depth=110, n_estimators=200; total time=   2.2s\n",
      "[CV] END ....bootstrap=True, max_depth=130, n_estimators=500; total time=   5.8s\n",
      "[CV] END ...bootstrap=False, max_depth=100, n_estimators=500; total time=   9.2s\n",
      "[CV] END ...bootstrap=False, max_depth=100, n_estimators=500; total time=   8.7s\n",
      "[CV] END ...bootstrap=False, max_depth=100, n_estimators=500; total time=   9.3s\n",
      "[CV] END ...bootstrap=True, max_depth=110, n_estimators=1000; total time=  11.7s\n",
      "[CV] END ...bootstrap=True, max_depth=110, n_estimators=1000; total time=  12.1s\n",
      "[CV] END ...bootstrap=False, max_depth=130, n_estimators=100; total time=   2.1s\n",
      "[CV] END ...bootstrap=True, max_depth=None, n_estimators=900; total time=  10.9s\n",
      "[CV] END ...bootstrap=True, max_depth=110, n_estimators=1000; total time=  12.7s\n",
      "[CV] END ...bootstrap=False, max_depth=130, n_estimators=100; total time=   2.1s\n",
      "[CV] END ...bootstrap=False, max_depth=130, n_estimators=100; total time=   2.3s\n",
      "[CV] END ...bootstrap=True, max_depth=None, n_estimators=900; total time=  11.3s\n",
      "[CV] END .....bootstrap=True, max_depth=40, n_estimators=200; total time=   2.3s\n",
      "[CV] END .....bootstrap=True, max_depth=40, n_estimators=200; total time=   2.9s\n",
      "[CV] END .....bootstrap=True, max_depth=40, n_estimators=200; total time=   2.8s\n",
      "[CV] END ...bootstrap=False, max_depth=110, n_estimators=300; total time=   5.5s\n",
      "[CV] END ...bootstrap=False, max_depth=110, n_estimators=300; total time=   6.2s\n",
      "[CV] END ...bootstrap=False, max_depth=110, n_estimators=300; total time=   5.5s\n",
      "[CV] END ...bootstrap=True, max_depth=None, n_estimators=900; total time=  11.5s\n",
      "[CV] END ....bootstrap=True, max_depth=150, n_estimators=700; total time=   8.9s\n",
      "[CV] END ....bootstrap=False, max_depth=40, n_estimators=600; total time=  11.5s\n",
      "[CV] END ....bootstrap=False, max_depth=40, n_estimators=600; total time=  11.7s\n",
      "[CV] END ....bootstrap=False, max_depth=40, n_estimators=600; total time=  11.7s\n",
      "[CV] END ....bootstrap=True, max_depth=150, n_estimators=700; total time=   9.6s\n",
      "[CV] END ....bootstrap=True, max_depth=150, n_estimators=700; total time=   9.2s\n",
      "[CV] END ....bootstrap=True, max_depth=100, n_estimators=400; total time=   5.3s\n",
      "[CV] END ....bootstrap=True, max_depth=100, n_estimators=400; total time=   5.2s\n",
      "[CV] END ....bootstrap=True, max_depth=100, n_estimators=400; total time=   4.9s\n",
      "[CV] END ....bootstrap=False, max_depth=60, n_estimators=900; total time=  18.5s\n",
      "[CV] END ....bootstrap=True, max_depth=140, n_estimators=800; total time=  10.0s\n",
      "[CV] END ....bootstrap=True, max_depth=140, n_estimators=800; total time=   9.8s\n",
      "[CV] END ....bootstrap=False, max_depth=60, n_estimators=900; total time=  18.2s\n",
      "[CV] END ....bootstrap=True, max_depth=140, n_estimators=800; total time=   9.5s\n",
      "[CV] END ....bootstrap=False, max_depth=60, n_estimators=900; total time=  17.0s\n",
      "[CV] END ....bootstrap=True, max_depth=60, n_estimators=1000; total time=  11.9s\n",
      "[CV] END ....bootstrap=True, max_depth=60, n_estimators=1000; total time=  11.6s\n",
      "[CV] END .....bootstrap=True, max_depth=10, n_estimators=700; total time=   4.6s\n",
      "[CV] END .....bootstrap=True, max_depth=10, n_estimators=700; total time=   4.6s\n",
      "[CV] END ....bootstrap=True, max_depth=120, n_estimators=700; total time=   7.9s\n",
      "[CV] END ....bootstrap=True, max_depth=120, n_estimators=700; total time=   8.3s\n",
      "[CV] END .....bootstrap=True, max_depth=40, n_estimators=100; total time=   1.2s\n",
      "[CV] END .....bootstrap=True, max_depth=40, n_estimators=100; total time=   1.2s\n",
      "[CV] END .....bootstrap=True, max_depth=10, n_estimators=700; total time=   5.2s\n",
      "[CV] END .....bootstrap=True, max_depth=40, n_estimators=100; total time=   1.3s\n",
      "[CV] END ....bootstrap=True, max_depth=120, n_estimators=700; total time=   8.2s\n",
      "[CV] END ....bootstrap=True, max_depth=60, n_estimators=1000; total time=  12.0s\n",
      "[CV] END .....bootstrap=True, max_depth=30, n_estimators=300; total time=   3.8s\n",
      "[CV] END .....bootstrap=True, max_depth=30, n_estimators=300; total time=   4.0s\n",
      "[CV] END .....bootstrap=True, max_depth=30, n_estimators=300; total time=   4.1s\n",
      "[CV] END ...bootstrap=False, max_depth=120, n_estimators=300; total time=   6.2s\n",
      "[CV] END ...bootstrap=False, max_depth=120, n_estimators=300; total time=   6.0s\n",
      "[CV] END ...bootstrap=False, max_depth=120, n_estimators=300; total time=   5.7s\n",
      "[CV] END ....bootstrap=False, max_depth=40, n_estimators=700; total time=  13.6s\n",
      "[CV] END ....bootstrap=False, max_depth=40, n_estimators=700; total time=  14.1s\n",
      "[CV] END ....bootstrap=False, max_depth=40, n_estimators=700; total time=  13.9s\n",
      "[CV] END .....bootstrap=True, max_depth=60, n_estimators=700; total time=   9.0s\n",
      "[CV] END ....bootstrap=False, max_depth=10, n_estimators=600; total time=   6.2s\n",
      "[CV] END ....bootstrap=False, max_depth=10, n_estimators=600; total time=   6.2s\n",
      "[CV] END .....bootstrap=True, max_depth=60, n_estimators=700; total time=   9.3s\n",
      "[CV] END .....bootstrap=True, max_depth=60, n_estimators=700; total time=   9.1s\n",
      "[CV] END ...bootstrap=False, max_depth=130, n_estimators=900; total time=  17.3s\n",
      "[CV] END ...bootstrap=False, max_depth=130, n_estimators=900; total time=  18.1s\n",
      "[CV] END ....bootstrap=False, max_depth=10, n_estimators=600; total time=   6.1s\n",
      "[CV] END ...bootstrap=False, max_depth=130, n_estimators=900; total time=  18.1s\n",
      "[CV] END .....bootstrap=True, max_depth=90, n_estimators=200; total time=   2.4s\n",
      "[CV] END .....bootstrap=True, max_depth=90, n_estimators=200; total time=   2.5s\n",
      "[CV] END ....bootstrap=False, max_depth=50, n_estimators=500; total time=   9.8s\n",
      "[CV] END ....bootstrap=True, max_depth=120, n_estimators=900; total time=  11.5s\n",
      "[CV] END .....bootstrap=True, max_depth=90, n_estimators=200; total time=   2.4s\n",
      "[CV] END ....bootstrap=True, max_depth=120, n_estimators=900; total time=  11.9s\n",
      "[CV] END ....bootstrap=True, max_depth=120, n_estimators=900; total time=  11.5s\n",
      "[CV] END ....bootstrap=False, max_depth=50, n_estimators=500; total time=  10.3s\n",
      "[CV] END ....bootstrap=False, max_depth=50, n_estimators=500; total time=   9.5s\n",
      "[CV] END ....bootstrap=True, max_depth=150, n_estimators=600; total time=   7.4s\n",
      "[CV] END ....bootstrap=True, max_depth=150, n_estimators=600; total time=   7.2s\n",
      "[CV] END ....bootstrap=True, max_depth=150, n_estimators=600; total time=   7.4s\n",
      "[CV] END ....bootstrap=True, max_depth=40, n_estimators=1000; total time=  12.2s\n",
      "[CV] END ....bootstrap=True, max_depth=40, n_estimators=1000; total time=  12.2s\n",
      "[CV] END ....bootstrap=True, max_depth=40, n_estimators=1000; total time=  12.7s\n",
      "[CV] END ....bootstrap=True, max_depth=150, n_estimators=800; total time=   9.7s\n",
      "[CV] END ....bootstrap=False, max_depth=30, n_estimators=200; total time=   3.8s\n",
      "[CV] END ....bootstrap=True, max_depth=150, n_estimators=800; total time=   9.9s\n",
      "[CV] END ....bootstrap=False, max_depth=30, n_estimators=200; total time=   3.7s\n",
      "[CV] END ....bootstrap=False, max_depth=30, n_estimators=200; total time=   2.9s\n",
      "[CV] END ...bootstrap=False, max_depth=60, n_estimators=1000; total time=  17.5s\n",
      "[CV] END ...bootstrap=False, max_depth=60, n_estimators=1000; total time=  17.3s\n",
      "[CV] END ....bootstrap=True, max_depth=150, n_estimators=800; total time=   8.2s\n",
      "[CV] END ...bootstrap=False, max_depth=60, n_estimators=1000; total time=  17.0s\n"
     ]
    },
    {
     "data": {
      "text/plain": [
       "{'n_estimators': 1000, 'max_depth': 10, 'bootstrap': True}"
      ]
     },
     "execution_count": 93,
     "metadata": {},
     "output_type": "execute_result"
    }
   ],
   "source": [
    "hyper_tune_rf(df3_11, random_grid_2)"
   ]
  },
  {
   "cell_type": "code",
   "execution_count": 70,
   "metadata": {},
   "outputs": [],
   "source": [
    "train0, test = train_test_split(df3_11, test_size=20, random_state=42)\n",
    "\n",
    "# split train0 in train and valid\n",
    "train, valid = train_test_split(train0, test_size=40, random_state=42)\n",
    "\n",
    "# subsetting\n",
    "# train0\n",
    "X_train0 = train0.drop(\"average_rating\", axis = 1)\n",
    "y_train0 = train0.average_rating\n",
    "\n",
    "# train\n",
    "X_train = train.drop(\"average_rating\", axis = 1)\n",
    "y_train = train.average_rating\n",
    "\n",
    "# valid\n",
    "X_valid = valid.drop(\"average_rating\", axis = 1)\n",
    "y_valid = valid.average_rating\n",
    "\n",
    "# test\n",
    "X_test = test.drop(\"average_rating\", axis = 1)\n",
    "y_test = test.average_rating"
   ]
  },
  {
   "attachments": {},
   "cell_type": "markdown",
   "metadata": {},
   "source": [
    "### 5.4 generating R2 and RMSE by using the best parameter outcome back to the rf model"
   ]
  },
  {
   "cell_type": "code",
   "execution_count": 71,
   "metadata": {},
   "outputs": [],
   "source": [
    "rf = RandomForestRegressor(n_estimators= 3000, min_samples_split= 2, min_samples_leaf= 4, max_features= 'sqrt', max_depth= 10, bootstrap= True)"
   ]
  },
  {
   "cell_type": "code",
   "execution_count": 75,
   "metadata": {},
   "outputs": [],
   "source": [
    "rf = RandomForestRegressor(n_estimators= 400, min_samples_split= 2, min_samples_leaf= 4, max_features= 'sqrt', max_depth= 10, bootstrap= True)"
   ]
  },
  {
   "cell_type": "code",
   "execution_count": 89,
   "metadata": {},
   "outputs": [],
   "source": [
    "rf = RandomForestRegressor(n_estimators= 800, min_samples_split= 10, min_samples_leaf= 4, max_features= 'sqrt', max_depth= 10, bootstrap= True)"
   ]
  },
  {
   "cell_type": "code",
   "execution_count": 94,
   "metadata": {},
   "outputs": [],
   "source": [
    "rf = RandomForestRegressor(n_estimators= 1000, max_depth= 10, bootstrap= True)"
   ]
  },
  {
   "cell_type": "code",
   "execution_count": 81,
   "metadata": {},
   "outputs": [],
   "source": [
    "# the origin parameter setting\n",
    "rf = RandomForestRegressor(n_estimators = 100, random_state = 42)"
   ]
  },
  {
   "cell_type": "code",
   "execution_count": 95,
   "metadata": {},
   "outputs": [
    {
     "data": {
      "text/html": [
       "<style>#sk-container-id-6 {color: black;background-color: white;}#sk-container-id-6 pre{padding: 0;}#sk-container-id-6 div.sk-toggleable {background-color: white;}#sk-container-id-6 label.sk-toggleable__label {cursor: pointer;display: block;width: 100%;margin-bottom: 0;padding: 0.3em;box-sizing: border-box;text-align: center;}#sk-container-id-6 label.sk-toggleable__label-arrow:before {content: \"▸\";float: left;margin-right: 0.25em;color: #696969;}#sk-container-id-6 label.sk-toggleable__label-arrow:hover:before {color: black;}#sk-container-id-6 div.sk-estimator:hover label.sk-toggleable__label-arrow:before {color: black;}#sk-container-id-6 div.sk-toggleable__content {max-height: 0;max-width: 0;overflow: hidden;text-align: left;background-color: #f0f8ff;}#sk-container-id-6 div.sk-toggleable__content pre {margin: 0.2em;color: black;border-radius: 0.25em;background-color: #f0f8ff;}#sk-container-id-6 input.sk-toggleable__control:checked~div.sk-toggleable__content {max-height: 200px;max-width: 100%;overflow: auto;}#sk-container-id-6 input.sk-toggleable__control:checked~label.sk-toggleable__label-arrow:before {content: \"▾\";}#sk-container-id-6 div.sk-estimator input.sk-toggleable__control:checked~label.sk-toggleable__label {background-color: #d4ebff;}#sk-container-id-6 div.sk-label input.sk-toggleable__control:checked~label.sk-toggleable__label {background-color: #d4ebff;}#sk-container-id-6 input.sk-hidden--visually {border: 0;clip: rect(1px 1px 1px 1px);clip: rect(1px, 1px, 1px, 1px);height: 1px;margin: -1px;overflow: hidden;padding: 0;position: absolute;width: 1px;}#sk-container-id-6 div.sk-estimator {font-family: monospace;background-color: #f0f8ff;border: 1px dotted black;border-radius: 0.25em;box-sizing: border-box;margin-bottom: 0.5em;}#sk-container-id-6 div.sk-estimator:hover {background-color: #d4ebff;}#sk-container-id-6 div.sk-parallel-item::after {content: \"\";width: 100%;border-bottom: 1px solid gray;flex-grow: 1;}#sk-container-id-6 div.sk-label:hover label.sk-toggleable__label {background-color: #d4ebff;}#sk-container-id-6 div.sk-serial::before {content: \"\";position: absolute;border-left: 1px solid gray;box-sizing: border-box;top: 0;bottom: 0;left: 50%;z-index: 0;}#sk-container-id-6 div.sk-serial {display: flex;flex-direction: column;align-items: center;background-color: white;padding-right: 0.2em;padding-left: 0.2em;position: relative;}#sk-container-id-6 div.sk-item {position: relative;z-index: 1;}#sk-container-id-6 div.sk-parallel {display: flex;align-items: stretch;justify-content: center;background-color: white;position: relative;}#sk-container-id-6 div.sk-item::before, #sk-container-id-6 div.sk-parallel-item::before {content: \"\";position: absolute;border-left: 1px solid gray;box-sizing: border-box;top: 0;bottom: 0;left: 50%;z-index: -1;}#sk-container-id-6 div.sk-parallel-item {display: flex;flex-direction: column;z-index: 1;position: relative;background-color: white;}#sk-container-id-6 div.sk-parallel-item:first-child::after {align-self: flex-end;width: 50%;}#sk-container-id-6 div.sk-parallel-item:last-child::after {align-self: flex-start;width: 50%;}#sk-container-id-6 div.sk-parallel-item:only-child::after {width: 0;}#sk-container-id-6 div.sk-dashed-wrapped {border: 1px dashed gray;margin: 0 0.4em 0.5em 0.4em;box-sizing: border-box;padding-bottom: 0.4em;background-color: white;}#sk-container-id-6 div.sk-label label {font-family: monospace;font-weight: bold;display: inline-block;line-height: 1.2em;}#sk-container-id-6 div.sk-label-container {text-align: center;}#sk-container-id-6 div.sk-container {/* jupyter's `normalize.less` sets `[hidden] { display: none; }` but bootstrap.min.css set `[hidden] { display: none !important; }` so we also need the `!important` here to be able to override the default hidden behavior on the sphinx rendered scikit-learn.org. See: https://github.com/scikit-learn/scikit-learn/issues/21755 */display: inline-block !important;position: relative;}#sk-container-id-6 div.sk-text-repr-fallback {display: none;}</style><div id=\"sk-container-id-6\" class=\"sk-top-container\"><div class=\"sk-text-repr-fallback\"><pre>RandomForestRegressor(max_depth=10, n_estimators=1000)</pre><b>In a Jupyter environment, please rerun this cell to show the HTML representation or trust the notebook. <br />On GitHub, the HTML representation is unable to render, please try loading this page with nbviewer.org.</b></div><div class=\"sk-container\" hidden><div class=\"sk-item\"><div class=\"sk-estimator sk-toggleable\"><input class=\"sk-toggleable__control sk-hidden--visually\" id=\"sk-estimator-id-6\" type=\"checkbox\" checked><label for=\"sk-estimator-id-6\" class=\"sk-toggleable__label sk-toggleable__label-arrow\">RandomForestRegressor</label><div class=\"sk-toggleable__content\"><pre>RandomForestRegressor(max_depth=10, n_estimators=1000)</pre></div></div></div></div></div>"
      ],
      "text/plain": [
       "RandomForestRegressor(max_depth=10, n_estimators=1000)"
      ]
     },
     "execution_count": 95,
     "metadata": {},
     "output_type": "execute_result"
    }
   ],
   "source": [
    "rf.fit(X_train,y_train)"
   ]
  },
  {
   "cell_type": "code",
   "execution_count": 96,
   "metadata": {},
   "outputs": [
    {
     "name": "stdout",
     "output_type": "stream",
     "text": [
      "         r2  neg_root_mean_squared_error\n",
      "0  0.105363                     0.165971\n"
     ]
    }
   ],
   "source": [
    "scoring_method = ('r2', 'neg_root_mean_squared_error')\n",
    "\n",
    "table = {\"r2\": [], \"neg_root_mean_squared_error\": []}\n",
    "\n",
    "\n",
    "for sco in scoring_method:\n",
    "    score = cross_val_score(rf, X_test, y_test, cv=10, scoring=sco).mean()\n",
    "    if sco == 'r2':\n",
    "        table[sco].append(score)\n",
    "    else:\n",
    "        table[sco].append(abs(score))\n",
    "\n",
    "print(\n",
    "    pd.DataFrame(data = table, columns=table.keys())\n",
    "    .sort_values(by=list(table.keys())[0], ascending=False)\n",
    ")"
   ]
  },
  {
   "attachments": {},
   "cell_type": "markdown",
   "metadata": {},
   "source": [
    "# the outcome is not promising by using hyperparameter tuning\n",
    "            r2      neg_root_mean_squared_error\n",
    "100   0.113731                       0.166174\n",
    "3000 -0.068277                       0.177725\n",
    "400  -0.07045                        0.178091\n",
    "800  -0.087129                       0.178527\n",
    "\n",
    "1000  0.105363                       0.165971"
   ]
  },
  {
   "cell_type": "code",
   "execution_count": 130,
   "metadata": {},
   "outputs": [],
   "source": [
    "def remove_outliers(X,bins = 50, plot = \"bool\"):\n",
    "    # q1 and q3 quantiles\n",
    "    q1,q3 = X.quantile([0.25,0.75])\n",
    "\n",
    "    #interquatile range \n",
    "    iqr = q3 - q1\n",
    "   \n",
    "\n",
    "    # remove  q1 - 1.5*iqr or  q3 + 1.5*iqr:\n",
    "    X =  X[X.between(q1 - 1.5*iqr, q3 + 1.5*iqr,inclusive = \"both\")]\n",
    "       \n",
    "\n",
    "    # histogram\n",
    "    if plot :\n",
    "          X.hist( bins = bins,legend = {\"\"})\n",
    "    return X"
   ]
  }
 ],
 "metadata": {
  "kernelspec": {
   "display_name": "Python 3 (ipykernel)",
   "language": "python",
   "name": "python3"
  },
  "language_info": {
   "codemirror_mode": {
    "name": "ipython",
    "version": 3
   },
   "file_extension": ".py",
   "mimetype": "text/x-python",
   "name": "python",
   "nbconvert_exporter": "python",
   "pygments_lexer": "ipython3",
   "version": "3.9.13"
  }
 },
 "nbformat": 4,
 "nbformat_minor": 2
}
