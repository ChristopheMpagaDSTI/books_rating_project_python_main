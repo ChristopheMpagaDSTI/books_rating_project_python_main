{
 "cells": [
  {
   "cell_type": "code",
   "execution_count": 64,
   "metadata": {},
   "outputs": [],
   "source": [
    "import pandas as pd\n",
    "import numpy as np\n",
    "import seaborn as sns\n",
    "import matplotlib as plt\n",
    "import plotly as ply\n",
    "import sklearn as skl\n",
    "import datetime as dt \n",
    "import math\n",
    "import random\n",
    "\n",
    "from sklearn.model_selection import train_test_split\n",
    "from sklearn import linear_model\n",
    "from sklearn.ensemble import RandomForestRegressor \n",
    "from sklearn.model_selection import cross_val_score\n",
    "from sklearn.model_selection import RandomizedSearchCV\n",
    "from sklearn.neural_network import MLPClassifier"
   ]
  },
  {
   "cell_type": "code",
   "execution_count": 6,
   "metadata": {},
   "outputs": [],
   "source": [
    "# load data \n",
    "df = pd.read_csv(\"books.csv\")"
   ]
  },
  {
   "cell_type": "markdown",
   "metadata": {},
   "source": [
    "# 1. data processing\n",
    "- 'num_pages' spaces eliminated\n",
    "- insert 'english' dummy feature, generated from 'language_code', represents by english or other languages"
   ]
  },
  {
   "cell_type": "code",
   "execution_count": 7,
   "metadata": {},
   "outputs": [],
   "source": [
    "# num_pages space canceled\n",
    "df = df.rename(columns= {\"  num_pages\": \"num_pages\"})"
   ]
  },
  {
   "cell_type": "code",
   "execution_count": 8,
   "metadata": {},
   "outputs": [],
   "source": [
    "# English dummies\n",
    "df['english'] = np.where(df['language_code'].str[0:2] == 'en', 1, 0)"
   ]
  },
  {
   "cell_type": "code",
   "execution_count": 9,
   "metadata": {},
   "outputs": [
    {
     "data": {
      "text/plain": [
       "['bookID',\n",
       " 'title',\n",
       " 'authors',\n",
       " 'average_rating',\n",
       " 'isbn',\n",
       " 'isbn13',\n",
       " 'language_code',\n",
       " 'num_pages',\n",
       " 'ratings_count',\n",
       " 'text_reviews_count',\n",
       " 'publication_date',\n",
       " 'publisher',\n",
       " 'english']"
      ]
     },
     "execution_count": 9,
     "metadata": {},
     "output_type": "execute_result"
    }
   ],
   "source": [
    "cols_adjust = df.columns.tolist()\n",
    "cols_adjust"
   ]
  },
  {
   "cell_type": "code",
   "execution_count": 10,
   "metadata": {},
   "outputs": [
    {
     "name": "stderr",
     "output_type": "stream",
     "text": [
      "/var/folders/dz/3jfgccdn52ggwvy9spwly7y00000gn/T/ipykernel_23970/682619250.py:1: UserWarning: \n",
      "\n",
      "`distplot` is a deprecated function and will be removed in seaborn v0.14.0.\n",
      "\n",
      "Please adapt your code to use either `displot` (a figure-level function with\n",
      "similar flexibility) or `histplot` (an axes-level function for histograms).\n",
      "\n",
      "For a guide to updating your code to use the new functions, please see\n",
      "https://gist.github.com/mwaskom/de44147ed2974457ad6372750bbe5751\n",
      "\n",
      "  sns.distplot(df['average_rating'],bins=20, color='red')\n"
     ]
    },
    {
     "ename": "AttributeError",
     "evalue": "module 'matplotlib' has no attribute 'title'",
     "output_type": "error",
     "traceback": [
      "\u001b[0;31m---------------------------------------------------------------------------\u001b[0m",
      "\u001b[0;31mAttributeError\u001b[0m                            Traceback (most recent call last)",
      "Cell \u001b[0;32mIn[10], line 2\u001b[0m\n\u001b[1;32m      1\u001b[0m sns\u001b[39m.\u001b[39mdistplot(df[\u001b[39m'\u001b[39m\u001b[39maverage_rating\u001b[39m\u001b[39m'\u001b[39m],bins\u001b[39m=\u001b[39m\u001b[39m20\u001b[39m, color\u001b[39m=\u001b[39m\u001b[39m'\u001b[39m\u001b[39mred\u001b[39m\u001b[39m'\u001b[39m)\n\u001b[0;32m----> 2\u001b[0m plt\u001b[39m.\u001b[39;49mtitle(\u001b[39m'\u001b[39m\u001b[39mDistribution of Average Ratings\u001b[39m\u001b[39m'\u001b[39m)\n\u001b[1;32m      3\u001b[0m plt\u001b[39m.\u001b[39mxlabel(\u001b[39m'\u001b[39m\u001b[39mAverage Rating\u001b[39m\u001b[39m'\u001b[39m)\n\u001b[1;32m      4\u001b[0m plt\u001b[39m.\u001b[39mshow()\n",
      "File \u001b[0;32m~/conda/envs/env_pylab/lib/python3.9/site-packages/matplotlib/_api/__init__.py:224\u001b[0m, in \u001b[0;36mcaching_module_getattr.<locals>.__getattr__\u001b[0;34m(name)\u001b[0m\n\u001b[1;32m    222\u001b[0m \u001b[39mif\u001b[39;00m name \u001b[39min\u001b[39;00m props:\n\u001b[1;32m    223\u001b[0m     \u001b[39mreturn\u001b[39;00m props[name]\u001b[39m.\u001b[39m\u001b[39m__get__\u001b[39m(instance)\n\u001b[0;32m--> 224\u001b[0m \u001b[39mraise\u001b[39;00m \u001b[39mAttributeError\u001b[39;00m(\n\u001b[1;32m    225\u001b[0m     \u001b[39mf\u001b[39m\u001b[39m\"\u001b[39m\u001b[39mmodule \u001b[39m\u001b[39m{\u001b[39;00m\u001b[39mcls\u001b[39m\u001b[39m.\u001b[39m\u001b[39m__module__\u001b[39m\u001b[39m!r}\u001b[39;00m\u001b[39m has no attribute \u001b[39m\u001b[39m{\u001b[39;00mname\u001b[39m!r}\u001b[39;00m\u001b[39m\"\u001b[39m)\n",
      "\u001b[0;31mAttributeError\u001b[0m: module 'matplotlib' has no attribute 'title'"
     ]
    },
    {
     "data": {
      "image/png": "[encoded data removed]",
      "text/plain": [
       "<Figure size 640x480 with 1 Axes>"
      ]
     },
     "metadata": {},
     "output_type": "display_data"
    }
   ],
   "source": [
    "sns.distplot(df['average_rating'],bins=20, color='red')\n",
    "plt.title('Distribution of Average Ratings')\n",
    "plt.xlabel('Average Rating')\n",
    "plt.show()"
   ]
  },
  {
   "cell_type": "markdown",
   "metadata": {},
   "source": [
    "# 2. round the value of 'average_rating' into quartile and decile \n",
    "### 2.1. generate two functions"
   ]
  },
  {
   "cell_type": "code",
   "execution_count": 11,
   "metadata": {},
   "outputs": [],
   "source": [
    "# having discrete number of ratings \n",
    "def round_to_increment_25(number):\n",
    "    '''Return the string version of the target rounded in .25% increments'''\n",
    "    rounded_number = round(number / 0.25) * 0.25\n",
    "    if 3.5 <= rounded_number and rounded_number <= 4.5:\n",
    "        return str(rounded_number)\n",
    "    else:\n",
    "        if rounded_number > 4.5:\n",
    "            return str(4.5)\n",
    "        else:\n",
    "            return str(1)\n",
    "        \n",
    "def round_to_increment_10(number):\n",
    "    '''Return the string version of the target rounded in .1% increments'''\n",
    "    rounded_number = round(number, 1)\n",
    "    if 3.5 <= rounded_number and rounded_number <= 4.5:\n",
    "        return str(rounded_number)\n",
    "    else:\n",
    "        if rounded_number > 4.5:\n",
    "            return str(4.5)\n",
    "        else:\n",
    "            return str(1)"
   ]
  },
  {
   "cell_type": "markdown",
   "metadata": {},
   "source": [
    "### 2.2. duplicate 2 dfs to adopt the changes"
   ]
  },
  {
   "cell_type": "code",
   "execution_count": 12,
   "metadata": {},
   "outputs": [
    {
     "data": {
      "text/plain": [
       "4.00    219\n",
       "3.96    195\n",
       "4.02    178\n",
       "3.94    176\n",
       "4.07    172\n",
       "       ... \n",
       "4.91      1\n",
       "3.10      1\n",
       "3.03      1\n",
       "2.99      1\n",
       "2.33      1\n",
       "Name: average_rating, Length: 209, dtype: int64"
      ]
     },
     "execution_count": 12,
     "metadata": {},
     "output_type": "execute_result"
    }
   ],
   "source": [
    "# original distribution of 'average_rating'\n",
    "df['average_rating'].value_counts()"
   ]
  },
  {
   "cell_type": "code",
   "execution_count": 13,
   "metadata": {},
   "outputs": [],
   "source": [
    "df_a = df.copy()\n",
    "df_b = df.copy()"
   ]
  },
  {
   "cell_type": "code",
   "execution_count": 14,
   "metadata": {},
   "outputs": [],
   "source": [
    "df_a['average_rating'] = df_a['average_rating'].apply(round_to_increment_25) # [1, 3.5, 3.75, 4, 4.25, 4.5]\n"
   ]
  },
  {
   "cell_type": "code",
   "execution_count": 15,
   "metadata": {},
   "outputs": [],
   "source": [
    "df_b['average_rating'] = df_b['average_rating'].apply(round_to_increment_10) # [1, 3.5, 3.6, 3.7, 3.8, 3.9, 4.0, 4.1, 4.2, 4.3, 4.4, 4.5]"
   ]
  },
  {
   "cell_type": "code",
   "execution_count": 16,
   "metadata": {},
   "outputs": [
    {
     "data": {
      "text/plain": [
       "4.0     4000\n",
       "3.75    2792\n",
       "4.25    2336\n",
       "3.5     1022\n",
       "4.5      589\n",
       "1        388\n",
       "Name: average_rating, dtype: int64"
      ]
     },
     "execution_count": 16,
     "metadata": {},
     "output_type": "execute_result"
    }
   ],
   "source": [
    "df_a['average_rating'].value_counts()"
   ]
  },
  {
   "cell_type": "code",
   "execution_count": 17,
   "metadata": {},
   "outputs": [
    {
     "data": {
      "text/plain": [
       "4.0    1824\n",
       "3.9    1573\n",
       "3.8    1329\n",
       "4.1    1318\n",
       "4.2    1249\n",
       "3.7     826\n",
       "4.3     704\n",
       "3.6     609\n",
       "1       578\n",
       "3.5     428\n",
       "4.4     355\n",
       "4.5     334\n",
       "Name: average_rating, dtype: int64"
      ]
     },
     "execution_count": 17,
     "metadata": {},
     "output_type": "execute_result"
    }
   ],
   "source": [
    "df_b['average_rating'].value_counts()"
   ]
  },
  {
   "cell_type": "markdown",
   "metadata": {},
   "source": [
    "# 3. model testing preparation\n",
    "### 3.1. setting up R-squared and RMSE indices generating function"
   ]
  },
  {
   "cell_type": "code",
   "execution_count": 18,
   "metadata": {},
   "outputs": [],
   "source": [
    "def model_cross_val(models={}, X_test=None, y_test=None, cv=None, scoring=()):\n",
    "    scoring_method = ('r2', 'neg_root_mean_squared_error')\n",
    "\n",
    "    table = {\"r2\": [], \"neg_root_mean_squared_error\": []}\n",
    "\n",
    "    for mod in models:\n",
    "        for sco in scoring_method:\n",
    "            score = cross_val_score(models[mod], X_test, y_test, cv=cv, scoring=sco).mean()\n",
    "            if sco == 'r2':\n",
    "                table[sco].append(score)\n",
    "            else:\n",
    "                table[sco].append(abs(score))\n",
    "\n",
    "    print(\n",
    "        pd.DataFrame(data = table, index = models, columns=table.keys())\n",
    "        .sort_values(by=list(table.keys())[0], ascending=False)\n",
    "    )"
   ]
  },
  {
   "cell_type": "markdown",
   "metadata": {},
   "source": [
    "### 3.2. setting up model selecting generator function"
   ]
  },
  {
   "cell_type": "code",
   "execution_count": 19,
   "metadata": {},
   "outputs": [],
   "source": [
    "def model_selecting_generator(df=None):\n",
    "    train0, test = train_test_split(df, test_size=20, random_state=42)\n",
    "\n",
    "    # split train0 in train and valid\n",
    "    train, valid = train_test_split(train0, test_size=40, random_state=42)\n",
    "\n",
    "    # subsetting\n",
    "    # train0\n",
    "    X_train0 = train0.drop(\"average_rating\", axis = 1)\n",
    "    y_train0 = train0.average_rating\n",
    "\n",
    "    # train\n",
    "    X_train = train.drop(\"average_rating\", axis = 1)\n",
    "    y_train = train.average_rating\n",
    "\n",
    "    # valid\n",
    "    X_valid = valid.drop(\"average_rating\", axis = 1)\n",
    "    y_valid = valid.average_rating\n",
    "\n",
    "    # test\n",
    "    X_test = test.drop(\"average_rating\", axis = 1)\n",
    "    y_test = test.average_rating\n",
    "\n",
    "\n",
    "    ## model selection process\n",
    "    # Linear Regression\n",
    "    reg = linear_model.LinearRegression()\n",
    "    reg.fit(X_train, y_train)\n",
    "\n",
    "    # ridge model\n",
    "    reg_ridge = linear_model.Ridge(alpha=0.01)\n",
    "    reg_ridge.fit(X_train,y_train)\n",
    "\n",
    "    # ridge CV\n",
    "    reg_ridge_CV = linear_model.RidgeCV(alphas=[0.001,0.01,0.1,1,10],cv=5)\n",
    "    reg_ridge_CV.fit(X_train0,y_train0)\n",
    "\n",
    "    # lasso model\n",
    "    reg_lasso = linear_model.Lasso(alpha=0.5)\n",
    "    reg_lasso.fit(X_train,y_train)\n",
    "\n",
    "    # random forest\n",
    "    rf = RandomForestRegressor(n_estimators = 100, random_state = 42)\n",
    "    rf.fit(X_train, y_train)\n",
    "\n",
    "    ## R2 + RMSE table\n",
    "    models = {\n",
    "        'linear reg': reg, \n",
    "        'ridge model': reg_ridge,\n",
    "        'lasso model': reg_lasso,\n",
    "        'ridge CV': reg_ridge_CV,\n",
    "        'random forest': rf\n",
    "    }\n",
    "\n",
    "    return model_cross_val(models, X_test, y_test, cv=10)"
   ]
  },
  {
   "attachments": {},
   "cell_type": "markdown",
   "metadata": {},
   "source": [
    "### 3.3. setting data frame input automates"
   ]
  },
  {
   "cell_type": "code",
   "execution_count": 20,
   "metadata": {},
   "outputs": [],
   "source": [
    "'''def many_df(df_list):\n",
    "    for i in range(len(df_list)):\n",
    "        print(df_list[i].columns.tolist())\n",
    "        model_selecting_generator(df_list[i])\n",
    "        print(\"--- \\n\")\n",
    "'''"
   ]
  },
  {
   "cell_type": "code",
   "execution_count": 51,
   "metadata": {},
   "outputs": [],
   "source": [
    "def many_df(df_list):\n",
    "    for i in df_list:\n",
    "        print(f\"{i}: {df_list[i].columns.tolist()} \\n\")\n",
    "        model_selecting_generator(df_list[i])\n",
    "        print(\"--- \\n\")"
   ]
  },
  {
   "attachments": {},
   "cell_type": "markdown",
   "metadata": {},
   "source": [
    "### 3.4. index of data frames - part 2"
   ]
  },
  {
   "cell_type": "code",
   "execution_count": 42,
   "metadata": {},
   "outputs": [],
   "source": [
    "# 4.1. feature engineering: none\n",
    "df2_0 = df[['average_rating', 'num_pages', 'text_reviews_count', 'ratings_count']]\n",
    "\n",
    "df2_1 = df[['average_rating', 'num_pages', 'text_reviews_count']]\n",
    "df2_2 = df[['average_rating', 'num_pages', 'ratings_count']]\n",
    "df2_3 = df[['average_rating', 'ratings_count', 'text_reviews_count']]\n",
    "\n",
    "df2_4 = df[['average_rating', 'num_pages']]\n",
    "df2_5 = df[['average_rating', 'text_reviews_count']]\n",
    "df2_6 = df[['average_rating', 'ratings_count']]\n",
    "#df2_x = [df2_0, df2_1, df2_2, df2_3, df2_4, df2_5, df2_6]\n",
    "df2_x = {\"df2_0\": df2_0, \"df2_1\": df2_1, \"df2_2\":df2_2, \"df2_3\":df2_3, \"df2_4\":df2_4, \"df2_5\":df2_5, \"df2_6\":df2_6}\n",
    "\n",
    "\n",
    "# 4.2. feature engineering: english dummies\n",
    "df2_10 = df[['average_rating', 'num_pages', 'text_reviews_count', 'ratings_count', 'english']]\n",
    "\n",
    "df2_11 = df[['average_rating', 'num_pages', 'text_reviews_count', 'english']]\n",
    "df2_12 = df[['average_rating', 'ratings_count', 'num_pages', 'english']]\n",
    "df2_13 = df[['average_rating', 'ratings_count', 'text_reviews_count', 'english']]\n",
    "\n",
    "df2_14 = df[['average_rating', 'num_pages', 'english']]\n",
    "df2_15 = df[['average_rating', 'text_reviews_count', 'english']]\n",
    "df2_16 = df[['average_rating', 'ratings_count', 'english']]\n",
    "#df2_1x = [df2_10, df2_11, df2_12, df2_13, df2_14, df2_15, df2_16]\n",
    "df2_1x = {\"df2_10\":df2_10, \"df2_11\":df2_11, \"df2_12\":df2_12, \"df2_13\":df2_13, \"df2_14\":df2_14, \"df2_15\":df2_15, \"df2_16\":df2_16}\n",
    "\n",
    "\n",
    "# 4.3. feature engineering: quartile 'average_rating'\n",
    "df3_0 = df_a[['average_rating', 'num_pages', 'text_reviews_count', 'ratings_count']]\n",
    "\n",
    "df3_1 = df_a[['average_rating', 'num_pages', 'text_reviews_count']]\n",
    "df3_2 = df_a[['average_rating', 'num_pages', 'ratings_count']]\n",
    "df3_3 = df_a[['average_rating', 'ratings_count', 'text_reviews_count']]\n",
    "\n",
    "df3_4 = df_a[['average_rating', 'num_pages']]\n",
    "df3_5 = df_a[['average_rating', 'text_reviews_count']]\n",
    "df3_6 = df_a[['average_rating', 'ratings_count']]\n",
    "#df3_x = [df3_0, df3_1, df3_2, df3_3, df3_4, df3_5, df3_6]\n",
    "df3_x = {\"df3_0\":df3_0, \"df3_1\":df3_1, \"df3_2\":df3_2, \"df3_3\":df3_3, \"df3_4\":df3_4, \"df3_5\":df3_5, \"df3_6\":df3_6}\n",
    "\n",
    "\n",
    "# 4.4. feature engineering: english dummies, quartile 'average_rating'\n",
    "df3_10 = df_a[['average_rating', 'num_pages', 'text_reviews_count', 'ratings_count', 'english']]\n",
    "\n",
    "df3_11 = df_a[['average_rating', 'num_pages', 'text_reviews_count', 'english']]\n",
    "df3_12 = df_a[['average_rating', 'ratings_count', 'num_pages', 'english']]\n",
    "df3_13 = df_a[['average_rating', 'ratings_count', 'text_reviews_count', 'english']]\n",
    "\n",
    "df3_14 = df_a[['average_rating', 'num_pages', 'english']]\n",
    "df3_15 = df_a[['average_rating', 'text_reviews_count', 'english']]\n",
    "df3_16 = df_a[['average_rating', 'ratings_count', 'english']]\n",
    "#df3_1x = [df3_10, df3_11, df3_12, df3_13, df3_14, df3_15, df3_16]\n",
    "df3_1x = {\"df3_10\":df3_10, \"df3_11\":df3_11, \"df3_12\":df3_12, \"df3_13\":df3_13, \"df3_14\":df3_14, \"df3_15\":df3_15, \"df3_16\":df3_16}\n",
    "\n",
    "\n",
    "# 4.5. feature engineering: decile 'average_rating'\n",
    "df4_0 = df_b[['average_rating', 'num_pages', 'text_reviews_count', 'ratings_count']]\n",
    "\n",
    "df4_1 = df_b[['average_rating', 'num_pages', 'text_reviews_count']]\n",
    "df4_2 = df_b[['average_rating', 'num_pages', 'ratings_count']]\n",
    "df4_3 = df_b[['average_rating', 'ratings_count', 'text_reviews_count']]\n",
    "\n",
    "df4_4 = df_b[['average_rating', 'num_pages']]\n",
    "df4_5 = df_b[['average_rating', 'text_reviews_count']]\n",
    "df4_6 = df_b[['average_rating', 'ratings_count']]\n",
    "#df4_x = [df4_0, df4_1, df4_2, df4_3, df4_4, df4_5, df4_6]\n",
    "df4_x = {\"df4_0\":df4_0, \"df4_1\":df4_1, \"df4_2\":df4_2, \"df4_3\":df4_3, \"df4_4\":df4_4, \"df4_5\":df4_5, \"df4_6\":df4_6}\n",
    "\n",
    "\n",
    "# 4.6. feature engineering: english dummies, decile 'average_rating'\n",
    "df4_10 = df_b[['average_rating', 'num_pages', 'text_reviews_count', 'ratings_count', 'english']]\n",
    "\n",
    "df4_11 = df_b[['average_rating', 'num_pages', 'text_reviews_count', 'english']]\n",
    "df4_12 = df_b[['average_rating', 'ratings_count', 'num_pages', 'english']]\n",
    "df4_13 = df_b[['average_rating', 'ratings_count', 'text_reviews_count', 'english']]\n",
    "\n",
    "df4_14 = df_b[['average_rating', 'num_pages', 'english']]\n",
    "df4_15 = df_b[['average_rating', 'text_reviews_count', 'english']]\n",
    "df4_16 = df_b[['average_rating', 'ratings_count', 'english']]\n",
    "#df4_1x = [df4_10, df4_11, df4_12, df4_13, df4_14, df4_15, df4_16]\n",
    "df4_1x = {\"df4_10\":df4_10, \"df4_11\":df4_11, \"df4_12\":df4_12, \"df4_13\":df4_13, \"df4_14\":df4_14, \"df4_15\":df4_15, \"df4_16\":df4_16}\n",
    "\n"
   ]
  },
  {
   "cell_type": "markdown",
   "metadata": {},
   "source": [
    "# 4. model testing - numeric variables"
   ]
  },
  {
   "cell_type": "markdown",
   "metadata": {},
   "source": [
    "### 4.1. feature engineering: none\n",
    "df2_0 - df2_6"
   ]
  },
  {
   "cell_type": "code",
   "execution_count": 356,
   "metadata": {},
   "outputs": [
    {
     "name": "stdout",
     "output_type": "stream",
     "text": [
      "['average_rating', 'num_pages', 'text_reviews_count', 'ratings_count']\n",
      "                     r2  neg_root_mean_squared_error\n",
      "lasso model   -1.368071                     0.169600\n",
      "ridge CV      -2.063746                     0.181474\n",
      "ridge model   -2.066523                     0.181517\n",
      "linear reg    -2.066526                     0.181517\n",
      "random forest -4.580882                     0.184104\n",
      "---\n",
      " \n",
      "['average_rating', 'num_pages', 'text_reviews_count']\n",
      "                     r2  neg_root_mean_squared_error\n",
      "random forest -1.610271                     0.166806\n",
      "lasso model   -2.502406                     0.180121\n",
      "ridge CV      -2.591104                     0.181346\n",
      "ridge model   -2.591114                     0.181346\n",
      "linear reg    -2.591114                     0.181346\n",
      "---\n",
      " \n",
      "['average_rating', 'num_pages', 'ratings_count']\n",
      "                     r2  neg_root_mean_squared_error\n",
      "linear reg    -2.613689                     0.180322\n",
      "ridge model   -2.613689                     0.180322\n",
      "ridge CV      -2.613691                     0.180322\n",
      "lasso model   -2.622429                     0.180983\n",
      "random forest -6.087708                     0.192125\n",
      "---\n",
      " \n",
      "['average_rating', 'ratings_count', 'text_reviews_count']\n",
      "                     r2  neg_root_mean_squared_error\n",
      "lasso model   -1.327372                     0.172451\n",
      "ridge CV      -2.269475                     0.185311\n",
      "ridge model   -2.273257                     0.185362\n",
      "linear reg    -2.273261                     0.185363\n",
      "random forest -8.370762                     0.216634\n",
      "---\n",
      " \n",
      "['average_rating', 'num_pages']\n",
      "                     r2  neg_root_mean_squared_error\n",
      "lasso model   -1.902108                     0.168400\n",
      "ridge CV      -1.924998                     0.168308\n",
      "ridge model   -1.925007                     0.168308\n",
      "linear reg    -1.925007                     0.168308\n",
      "random forest -5.498188                     0.210366\n",
      "---\n",
      " \n",
      "['average_rating', 'text_reviews_count']\n",
      "                     r2  neg_root_mean_squared_error\n",
      "lasso model   -3.106730                     0.199547\n",
      "ridge CV      -3.231326                     0.201672\n",
      "ridge model   -3.231354                     0.201672\n",
      "linear reg    -3.231354                     0.201672\n",
      "random forest -7.967233                     0.211748\n",
      "---\n",
      " \n",
      "['average_rating', 'ratings_count']\n",
      "                     r2  neg_root_mean_squared_error\n",
      "lasso model   -3.055845                     0.196249\n",
      "ridge CV      -3.059901                     0.196359\n",
      "ridge model   -3.059901                     0.196359\n",
      "linear reg    -3.059901                     0.196359\n",
      "random forest -5.305446                     0.211069\n",
      "---\n",
      " \n"
     ]
    }
   ],
   "source": [
    "many_df(df2_x)"
   ]
  },
  {
   "cell_type": "code",
   "execution_count": null,
   "metadata": {},
   "outputs": [],
   "source": []
  },
  {
   "cell_type": "markdown",
   "metadata": {},
   "source": [
    "### 4.2. feature engineering: english dummies\n",
    "df2_10 - df2_16"
   ]
  },
  {
   "cell_type": "code",
   "execution_count": 351,
   "metadata": {},
   "outputs": [
    {
     "name": "stdout",
     "output_type": "stream",
     "text": [
      "['average_rating', 'num_pages', 'text_reviews_count', 'ratings_count', 'english']\n",
      "                     r2  neg_root_mean_squared_error\n",
      "lasso model   -1.368071                     0.169600\n",
      "ridge model   -3.422697                     0.178487\n",
      "linear reg    -3.434876                     0.178518\n",
      "ridge CV      -3.482528                     0.179340\n",
      "random forest -4.609585                     0.180090\n",
      "---\n",
      " \n",
      "['average_rating', 'num_pages', 'text_reviews_count', 'english']\n",
      "                     r2  neg_root_mean_squared_error\n",
      "random forest -2.259819                     0.172226\n",
      "lasso model   -2.502406                     0.180121\n",
      "ridge CV      -2.888840                     0.175594\n",
      "ridge model   -4.392116                     0.178037\n",
      "linear reg    -4.405216                     0.178066\n",
      "---\n",
      " \n",
      "['average_rating', 'ratings_count', 'num_pages', 'english']\n",
      "                     r2  neg_root_mean_squared_error\n",
      "lasso model   -2.622480                     0.180983\n",
      "ridge CV      -2.966749                     0.179707\n",
      "ridge model   -4.242889                     0.176619\n",
      "linear reg    -4.255240                     0.176644\n",
      "random forest -5.930726                     0.184772\n",
      "---\n",
      " \n",
      "['average_rating', 'ratings_count', 'text_reviews_count', 'english']\n",
      "                     r2  neg_root_mean_squared_error\n",
      "lasso model   -1.327372                     0.172451\n",
      "ridge model   -3.005581                     0.177017\n",
      "linear reg    -3.013765                     0.177008\n",
      "ridge CV      -3.366750                     0.183778\n",
      "random forest -8.076784                     0.214455\n",
      "---\n",
      " \n",
      "['average_rating', 'num_pages', 'english']\n",
      "                     r2  neg_root_mean_squared_error\n",
      "lasso model   -1.902108                     0.168400\n",
      "ridge CV      -2.056476                     0.165841\n",
      "ridge model   -3.337234                     0.162727\n",
      "linear reg    -3.348148                     0.162740\n",
      "random forest -6.381610                     0.194501\n",
      "---\n",
      " \n",
      "['average_rating', 'text_reviews_count', 'english']\n",
      "                     r2  neg_root_mean_squared_error\n",
      "lasso model   -3.106730                     0.199547\n",
      "ridge CV      -3.362473                     0.194362\n",
      "ridge model   -4.674702                     0.193726\n",
      "linear reg    -4.685481                     0.193729\n",
      "random forest -8.243794                     0.215569\n",
      "---\n",
      " \n",
      "['average_rating', 'ratings_count', 'english']\n",
      "                     r2  neg_root_mean_squared_error\n",
      "lasso model   -3.055845                     0.196249\n",
      "ridge CV      -3.212549                     0.192624\n",
      "ridge model   -4.285479                     0.186940\n",
      "linear reg    -4.295301                     0.186936\n",
      "random forest -5.300748                     0.206228\n",
      "---\n",
      " \n"
     ]
    }
   ],
   "source": [
    "many_df(df2_1x)"
   ]
  },
  {
   "cell_type": "code",
   "execution_count": null,
   "metadata": {},
   "outputs": [],
   "source": []
  },
  {
   "cell_type": "markdown",
   "metadata": {},
   "source": [
    "### 4.3. feature engineering: quartile 'average_rating'\n",
    "df3_0 - df3_6"
   ]
  },
  {
   "cell_type": "code",
   "execution_count": 54,
   "metadata": {},
   "outputs": [
    {
     "name": "stdout",
     "output_type": "stream",
     "text": [
      "df3_0: ['average_rating', 'num_pages', 'text_reviews_count', 'ratings_count'] \n",
      "\n",
      "                     r2  neg_root_mean_squared_error\n",
      "lasso model    0.000836                     0.181932\n",
      "random forest -0.045738                     0.180565\n",
      "ridge CV      -0.052686                     0.194029\n",
      "ridge model   -0.052973                     0.194074\n",
      "linear reg    -0.052973                     0.194074\n",
      "--- \n",
      "\n",
      "df3_1: ['average_rating', 'num_pages', 'text_reviews_count'] \n",
      "\n",
      "                     r2  neg_root_mean_squared_error\n",
      "random forest  0.096277                     0.173498\n",
      "lasso model   -0.001450                     0.175210\n",
      "ridge CV      -0.004228                     0.175907\n",
      "ridge model   -0.004230                     0.175908\n",
      "linear reg    -0.004230                     0.175908\n",
      "--- \n",
      "\n",
      "df3_2: ['average_rating', 'num_pages', 'ratings_count'] \n",
      "\n",
      "                     r2  neg_root_mean_squared_error\n",
      "ridge CV       0.011479                     0.174266\n",
      "linear reg     0.011479                     0.174266\n",
      "ridge model    0.011479                     0.174266\n",
      "lasso model    0.006307                     0.174751\n",
      "random forest -0.193976                     0.187035\n",
      "--- \n",
      "\n",
      "df3_3: ['average_rating', 'ratings_count', 'text_reviews_count'] \n",
      "\n",
      "                     r2  neg_root_mean_squared_error\n",
      "lasso model   -0.331639                     0.200717\n",
      "ridge CV      -0.379626                     0.214784\n",
      "ridge model   -0.379983                     0.214831\n",
      "linear reg    -0.379983                     0.214831\n",
      "random forest -0.389024                     0.220083\n",
      "--- \n",
      "\n",
      "df3_4: ['average_rating', 'num_pages'] \n",
      "\n",
      "                     r2  neg_root_mean_squared_error\n",
      "lasso model    0.029643                     0.169054\n",
      "ridge model    0.029183                     0.168953\n",
      "linear reg     0.029183                     0.168953\n",
      "ridge CV       0.029182                     0.168953\n",
      "random forest -0.471054                     0.195285\n",
      "--- \n",
      "\n",
      "df3_5: ['average_rating', 'text_reviews_count'] \n",
      "\n",
      "                     r2  neg_root_mean_squared_error\n",
      "lasso model   -0.480440                     0.204432\n",
      "ridge CV      -0.491240                     0.206314\n",
      "ridge model   -0.491242                     0.206314\n",
      "linear reg    -0.491242                     0.206314\n",
      "random forest -0.709062                     0.227997\n",
      "--- \n",
      "\n",
      "df3_6: ['average_rating', 'ratings_count'] \n",
      "\n",
      "                     r2  neg_root_mean_squared_error\n",
      "lasso model   -0.429480                     0.198228\n",
      "ridge CV      -0.429934                     0.198314\n",
      "ridge model   -0.429934                     0.198314\n",
      "linear reg    -0.429934                     0.198314\n",
      "random forest -0.544424                     0.220588\n",
      "--- \n",
      "\n"
     ]
    }
   ],
   "source": [
    "many_df(df3_x)"
   ]
  },
  {
   "cell_type": "code",
   "execution_count": null,
   "metadata": {},
   "outputs": [],
   "source": []
  },
  {
   "cell_type": "markdown",
   "metadata": {},
   "source": [
    "### 4.4. feature engineering: english dummies, quartile 'average_rating'\n",
    "df3_10 - df3_16"
   ]
  },
  {
   "cell_type": "code",
   "execution_count": 53,
   "metadata": {},
   "outputs": [
    {
     "name": "stdout",
     "output_type": "stream",
     "text": [
      "df3_10: ['average_rating', 'num_pages', 'text_reviews_count', 'ratings_count', 'english'] \n",
      "\n",
      "                     r2  neg_root_mean_squared_error\n",
      "lasso model    0.000836                     0.181932\n",
      "random forest -0.006503                     0.178703\n",
      "ridge model   -0.250995                     0.184141\n",
      "linear reg    -0.254517                     0.184155\n",
      "ridge CV      -0.289427                     0.200537\n",
      "--- \n",
      "\n",
      "df3_11: ['average_rating', 'num_pages', 'text_reviews_count', 'english'] \n",
      "\n",
      "                     r2  neg_root_mean_squared_error\n",
      "random forest  0.113731                     0.169613\n",
      "lasso model   -0.001450                     0.175210\n",
      "ridge CV      -0.133596                     0.170872\n",
      "ridge model   -0.186217                     0.172713\n",
      "linear reg    -0.189962                     0.172763\n",
      "--- \n",
      "\n",
      "df3_12: ['average_rating', 'ratings_count', 'num_pages', 'english'] \n",
      "\n",
      "                     r2  neg_root_mean_squared_error\n",
      "lasso model    0.006304                     0.174751\n",
      "ridge CV      -0.092212                     0.167522\n",
      "random forest -0.148479                     0.181203\n",
      "ridge model   -0.184958                     0.171134\n",
      "linear reg    -0.188724                     0.171180\n",
      "--- \n",
      "\n",
      "df3_13: ['average_rating', 'ratings_count', 'text_reviews_count', 'english'] \n",
      "\n",
      "                     r2  neg_root_mean_squared_error\n",
      "lasso model   -0.331639                     0.200717\n",
      "random forest -0.347181                     0.217823\n",
      "ridge model   -0.497992                     0.196978\n",
      "linear reg    -0.500438                     0.196958\n",
      "ridge CV      -0.571325                     0.213848\n",
      "--- \n",
      "\n",
      "df3_14: ['average_rating', 'num_pages', 'english'] \n",
      "\n",
      "                     r2  neg_root_mean_squared_error\n",
      "lasso model    0.029643                     0.169054\n",
      "ridge model   -0.096019                     0.163241\n",
      "linear reg    -0.099115                     0.163262\n",
      "ridge CV      -0.134246                     0.164850\n",
      "random forest -0.181654                     0.182094\n",
      "--- \n",
      "\n",
      "df3_15: ['average_rating', 'text_reviews_count', 'english'] \n",
      "\n",
      "                     r2  neg_root_mean_squared_error\n",
      "lasso model   -0.480440                     0.204432\n",
      "ridge CV      -0.540580                     0.195018\n",
      "ridge model   -0.573117                     0.194373\n",
      "linear reg    -0.575773                     0.194392\n",
      "random forest -0.808268                     0.230579\n",
      "--- \n",
      "\n",
      "df3_16: ['average_rating', 'ratings_count', 'english'] \n",
      "\n",
      "                     r2  neg_root_mean_squared_error\n",
      "lasso model   -0.429480                     0.198228\n",
      "ridge CV      -0.485505                     0.186973\n",
      "ridge model   -0.514481                     0.185711\n",
      "linear reg    -0.517105                     0.185725\n",
      "random forest -0.529809                     0.216728\n",
      "--- \n",
      "\n"
     ]
    }
   ],
   "source": [
    "many_df(df3_1x)"
   ]
  },
  {
   "cell_type": "markdown",
   "metadata": {},
   "source": []
  },
  {
   "cell_type": "markdown",
   "metadata": {},
   "source": [
    "### 4.5. feature engineering: decile 'average_rating'\n",
    "df4_0 - df4_6"
   ]
  },
  {
   "cell_type": "code",
   "execution_count": 354,
   "metadata": {},
   "outputs": [
    {
     "name": "stdout",
     "output_type": "stream",
     "text": [
      "['average_rating', 'num_pages', 'text_reviews_count', 'ratings_count']\n",
      "                     r2  neg_root_mean_squared_error\n",
      "lasso model   -0.709093                     0.172719\n",
      "ridge CV      -0.909006                     0.183515\n",
      "ridge model   -0.910009                     0.183561\n",
      "linear reg    -0.910010                     0.183561\n",
      "random forest -2.260407                     0.191791\n",
      "---\n",
      " \n",
      "['average_rating', 'num_pages', 'text_reviews_count']\n",
      "                     r2  neg_root_mean_squared_error\n",
      "random forest -0.664561                     0.166913\n",
      "lasso model   -1.251133                     0.186016\n",
      "ridge CV      -1.287192                     0.187257\n",
      "ridge model   -1.287198                     0.187257\n",
      "linear reg    -1.287198                     0.187257\n",
      "---\n",
      " \n",
      "['average_rating', 'num_pages', 'ratings_count']\n",
      "                     r2  neg_root_mean_squared_error\n",
      "linear reg    -1.299269                     0.187038\n",
      "ridge model   -1.299269                     0.187038\n",
      "ridge CV      -1.299271                     0.187038\n",
      "lasso model   -1.306546                     0.187830\n",
      "random forest -3.524592                     0.198068\n",
      "---\n",
      " \n",
      "['average_rating', 'ratings_count', 'text_reviews_count']\n",
      "                     r2  neg_root_mean_squared_error\n",
      "lasso model   -0.733520                     0.175753\n",
      "ridge CV      -1.013918                     0.187823\n",
      "ridge model   -1.015259                     0.187878\n",
      "linear reg    -1.015260                     0.187878\n",
      "random forest -3.240379                     0.220850\n",
      "---\n",
      " \n",
      "['average_rating', 'num_pages']\n",
      "                     r2  neg_root_mean_squared_error\n",
      "lasso model   -1.002661                     0.172773\n",
      "ridge model   -1.010547                     0.172545\n",
      "linear reg    -1.010547                     0.172545\n",
      "ridge CV      -1.010547                     0.172545\n",
      "random forest -3.510805                     0.217011\n",
      "---\n",
      " \n",
      "['average_rating', 'text_reviews_count']\n",
      "                     r2  neg_root_mean_squared_error\n",
      "lasso model   -1.649735                     0.209841\n",
      "ridge CV      -1.702383                     0.212052\n",
      "ridge model   -1.702396                     0.212053\n",
      "linear reg    -1.702396                     0.212053\n",
      "random forest -2.976853                     0.215501\n",
      "---\n",
      " \n",
      "['average_rating', 'ratings_count']\n",
      "                     r2  neg_root_mean_squared_error\n",
      "lasso model   -1.615431                     0.206849\n",
      "ridge CV      -1.617443                     0.206966\n",
      "ridge model   -1.617443                     0.206966\n",
      "linear reg    -1.617443                     0.206966\n",
      "random forest -3.045596                     0.218802\n",
      "---\n",
      " \n"
     ]
    }
   ],
   "source": [
    "many_df(df4_x)"
   ]
  },
  {
   "cell_type": "code",
   "execution_count": null,
   "metadata": {},
   "outputs": [],
   "source": []
  },
  {
   "cell_type": "markdown",
   "metadata": {},
   "source": [
    "### 4.6. feature engineering: english dummies, decile 'average_rating'\n",
    "df4_10 - df4_16"
   ]
  },
  {
   "cell_type": "code",
   "execution_count": 52,
   "metadata": {},
   "outputs": [
    {
     "name": "stdout",
     "output_type": "stream",
     "text": [
      "df4_10: ['average_rating', 'num_pages', 'text_reviews_count', 'ratings_count', 'english'] \n",
      "\n",
      "                     r2  neg_root_mean_squared_error\n",
      "lasso model   -0.709093                     0.172719\n",
      "ridge CV      -1.828784                     0.184050\n",
      "ridge model   -1.971790                     0.185630\n",
      "linear reg    -1.980606                     0.185683\n",
      "random forest -2.109921                     0.185436\n",
      "--- \n",
      "\n",
      "df4_11: ['average_rating', 'num_pages', 'text_reviews_count', 'english'] \n",
      "\n",
      "                     r2  neg_root_mean_squared_error\n",
      "random forest -0.898742                     0.169568\n",
      "lasso model   -1.251133                     0.186016\n",
      "ridge CV      -1.429753                     0.182945\n",
      "ridge model   -2.478949                     0.188858\n",
      "linear reg    -2.488458                     0.188909\n",
      "--- \n",
      "\n",
      "df4_12: ['average_rating', 'ratings_count', 'num_pages', 'english'] \n",
      "\n",
      "                     r2  neg_root_mean_squared_error\n",
      "lasso model   -1.306566                     0.187830\n",
      "ridge CV      -1.647349                     0.187730\n",
      "ridge model   -2.445822                     0.187969\n",
      "linear reg    -2.455117                     0.188015\n",
      "random forest -3.509062                     0.193747\n",
      "--- \n",
      "\n",
      "df4_13: ['average_rating', 'ratings_count', 'text_reviews_count', 'english'] \n",
      "\n",
      "                     r2  neg_root_mean_squared_error\n",
      "lasso model   -0.733520                     0.175753\n",
      "ridge model   -1.724071                     0.183922\n",
      "linear reg    -1.730413                     0.183932\n",
      "ridge CV      -1.772785                     0.188040\n",
      "random forest -3.171732                     0.219928\n",
      "--- \n",
      "\n",
      "df4_14: ['average_rating', 'num_pages', 'english'] \n",
      "\n",
      "                     r2  neg_root_mean_squared_error\n",
      "lasso model   -1.002661                     0.172773\n",
      "ridge CV      -1.374641                     0.176959\n",
      "ridge model   -2.013434                     0.171435\n",
      "linear reg    -2.021727                     0.171468\n",
      "random forest -3.912232                     0.203307\n",
      "--- \n",
      "\n",
      "df4_15: ['average_rating', 'text_reviews_count', 'english'] \n",
      "\n",
      "                     r2  neg_root_mean_squared_error\n",
      "lasso model   -1.649735                     0.209841\n",
      "ridge CV      -1.973697                     0.210309\n",
      "ridge model   -2.654465                     0.208131\n",
      "linear reg    -2.662185                     0.208152\n",
      "random forest -3.224859                     0.219938\n",
      "--- \n",
      "\n",
      "df4_16: ['average_rating', 'ratings_count', 'english'] \n",
      "\n",
      "                     r2  neg_root_mean_squared_error\n",
      "lasso model   -1.615431                     0.206849\n",
      "ridge CV      -1.843084                     0.204491\n",
      "ridge model   -2.495591                     0.201509\n",
      "linear reg    -2.502966                     0.201522\n",
      "random forest -3.065059                     0.214116\n",
      "--- \n",
      "\n"
     ]
    }
   ],
   "source": [
    "many_df(df4_1x)"
   ]
  },
  {
   "attachments": {},
   "cell_type": "markdown",
   "metadata": {},
   "source": [
    "# 5. hyperparameter\n",
    "in the above result table we could see that adopting df3_11 (['average_rating', 'num_pages', 'text_reviews_count', 'english']) in Random Forest model owns the best model performance with the r2 value being 0.11 and RMSE value 0.169."
   ]
  },
  {
   "attachments": {},
   "cell_type": "markdown",
   "metadata": {},
   "source": [
    "df3_11: ['average_rating', 'num_pages', 'text_reviews_count', 'english'] \n",
    "\n",
    "                     r2  neg_root_mean_squared_error\n",
    "random forest  0.113731                     0.169613\n",
    "lasso model   -0.001450                     0.175210\n",
    "ridge CV      -0.133596                     0.170872\n",
    "ridge model   -0.186217                     0.172713\n",
    "linear reg    -0.189962                     0.172763"
   ]
  },
  {
   "attachments": {},
   "cell_type": "markdown",
   "metadata": {},
   "source": [
    "df3_4: ['average_rating', 'num_pages'] \n",
    "\n",
    "                     r2  neg_root_mean_squared_error\n",
    "lasso model    0.029643                     0.169054\n",
    "ridge model    0.029183                     0.168953\n",
    "linear reg     0.029183                     0.168953\n",
    "ridge CV       0.029182                     0.168953\n",
    "random forest -0.471054                     0.195285"
   ]
  },
  {
   "attachments": {},
   "cell_type": "markdown",
   "metadata": {},
   "source": [
    "### 5.1 setting up random parameters grid - random forest"
   ]
  },
  {
   "cell_type": "code",
   "execution_count": 84,
   "metadata": {},
   "outputs": [],
   "source": [
    "# Number of trees in random forest\n",
    "n_estimators = [int(x) for x in np.linspace(start = 100, stop = 1000, num = 10)]\n",
    "# Number of features to consider at every split\n",
    "max_features = ['auto', 'sqrt']\n",
    "# Maximum number of levels in tree\n",
    "max_depth = [int(x) for x in np.linspace(10, 150, num = 15)]\n",
    "max_depth.append(None)\n",
    "# Minimum number of samples required to split a node\n",
    "min_samples_split = [2, 5, 10]\n",
    "# Minimum number of samples required at each leaf node\n",
    "min_samples_leaf = [1, 2, 4]\n",
    "# Method of selecting samples for training each tree\n",
    "bootstrap = [True, False]"
   ]
  },
  {
   "cell_type": "code",
   "execution_count": 85,
   "metadata": {},
   "outputs": [],
   "source": [
    "# Create the random grid\n",
    "random_grid = {'n_estimators': n_estimators,\n",
    "               'max_features': max_features,\n",
    "               'max_depth': max_depth,\n",
    "               'min_samples_split': min_samples_split,\n",
    "               'min_samples_leaf': min_samples_leaf,\n",
    "               'bootstrap': bootstrap}"
   ]
  },
  {
   "cell_type": "code",
   "execution_count": 86,
   "metadata": {},
   "outputs": [
    {
     "name": "stdout",
     "output_type": "stream",
     "text": [
      "{'n_estimators': [100, 200, 300, 400, 500, 600, 700, 800, 900, 1000], 'max_features': ['auto', 'sqrt'], 'max_depth': [10, 20, 30, 40, 50, 60, 70, 80, 90, 100, 110, 120, 130, 140, 150, None], 'min_samples_split': [2, 5, 10], 'min_samples_leaf': [1, 2, 4], 'bootstrap': [True, False]}\n"
     ]
    }
   ],
   "source": [
    "print(random_grid)"
   ]
  },
  {
   "attachments": {},
   "cell_type": "markdown",
   "metadata": {},
   "source": [
    "### 5.2 setting up hyperparameter tuning function - random forest"
   ]
  },
  {
   "cell_type": "code",
   "execution_count": 87,
   "metadata": {},
   "outputs": [],
   "source": [
    "def hyper_tune_rf(df=None, rand_grid=None):\n",
    "    train0, test = train_test_split(df, test_size=20, random_state=42)\n",
    "\n",
    "    # split train0 in train and valid\n",
    "    train, valid = train_test_split(train0, test_size=40, random_state=42)\n",
    "\n",
    "    # subsetting\n",
    "    # train0\n",
    "    X_train0 = train0.drop(\"average_rating\", axis = 1)\n",
    "    y_train0 = train0.average_rating\n",
    "\n",
    "    # train\n",
    "    X_train = train.drop(\"average_rating\", axis = 1)\n",
    "    y_train = train.average_rating\n",
    "\n",
    "    # valid\n",
    "    X_valid = valid.drop(\"average_rating\", axis = 1)\n",
    "    y_valid = valid.average_rating\n",
    "\n",
    "    # test\n",
    "    X_test = test.drop(\"average_rating\", axis = 1)\n",
    "    y_test = test.average_rating\n",
    "\n",
    "\n",
    "    # Use the random grid to search for best hyperparameters\n",
    "    # First create the base model to tune\n",
    "    rf = RandomForestRegressor()\n",
    "    # Random search of parameters, using 3 fold cross validation, \n",
    "    # search across 100 different combinations, and use all available cores\n",
    "    rf_random = RandomizedSearchCV(estimator = rf, param_distributions = rand_grid, n_iter = 100, cv = 3, verbose=2, random_state=42, n_jobs = -1)\n",
    "    # Fit the random search model\n",
    "    rf_random.fit(X_train, y_train)\n",
    "        \n",
    "    return rf_random.best_params_"
   ]
  },
  {
   "attachments": {},
   "cell_type": "markdown",
   "metadata": {},
   "source": [
    "### 5.3 adopting at the best df: df_11"
   ]
  },
  {
   "cell_type": "code",
   "execution_count": null,
   "metadata": {},
   "outputs": [],
   "source": [
    "hyper_tune_rf(df3_11, random_grid)"
   ]
  },
  {
   "cell_type": "code",
   "execution_count": 70,
   "metadata": {},
   "outputs": [],
   "source": [
    "train0, test = train_test_split(df3_11, test_size=20, random_state=42)\n",
    "\n",
    "# split train0 in train and valid\n",
    "train, valid = train_test_split(train0, test_size=40, random_state=42)\n",
    "\n",
    "# subsetting\n",
    "# train0\n",
    "X_train0 = train0.drop(\"average_rating\", axis = 1)\n",
    "y_train0 = train0.average_rating\n",
    "\n",
    "# train\n",
    "X_train = train.drop(\"average_rating\", axis = 1)\n",
    "y_train = train.average_rating\n",
    "\n",
    "# valid\n",
    "X_valid = valid.drop(\"average_rating\", axis = 1)\n",
    "y_valid = valid.average_rating\n",
    "\n",
    "# test\n",
    "X_test = test.drop(\"average_rating\", axis = 1)\n",
    "y_test = test.average_rating"
   ]
  },
  {
   "attachments": {},
   "cell_type": "markdown",
   "metadata": {},
   "source": [
    "### 5.4 generating R2 and RMSE by using the best parameter outcome back to the rf model"
   ]
  },
  {
   "cell_type": "code",
   "execution_count": 71,
   "metadata": {},
   "outputs": [],
   "source": [
    "rf = RandomForestRegressor(n_estimators= 3000, min_samples_split= 2, min_samples_leaf= 4, max_features= 'sqrt', max_depth= 10, bootstrap= True)"
   ]
  },
  {
   "cell_type": "code",
   "execution_count": 75,
   "metadata": {},
   "outputs": [],
   "source": [
    "rf = RandomForestRegressor(n_estimators= 400, min_samples_split= 2, min_samples_leaf= 4, max_features= 'sqrt', max_depth= 10, bootstrap= True)"
   ]
  },
  {
   "cell_type": "code",
   "execution_count": 89,
   "metadata": {},
   "outputs": [],
   "source": [
    "rf = RandomForestRegressor(n_estimators= 800, min_samples_split= 10, min_samples_leaf= 4, max_features= 'sqrt', max_depth= 10, bootstrap= True)"
   ]
  },
  {
   "cell_type": "code",
   "execution_count": 81,
   "metadata": {},
   "outputs": [],
   "source": [
    "# the origin parameter setting\n",
    "rf = RandomForestRegressor(n_estimators = 100, random_state = 42)"
   ]
  },
  {
   "cell_type": "code",
   "execution_count": 90,
   "metadata": {},
   "outputs": [
    {
     "data": {
      "text/html": [
       "<style>#sk-container-id-5 {color: black;background-color: white;}#sk-container-id-5 pre{padding: 0;}#sk-container-id-5 div.sk-toggleable {background-color: white;}#sk-container-id-5 label.sk-toggleable__label {cursor: pointer;display: block;width: 100%;margin-bottom: 0;padding: 0.3em;box-sizing: border-box;text-align: center;}#sk-container-id-5 label.sk-toggleable__label-arrow:before {content: \"▸\";float: left;margin-right: 0.25em;color: #696969;}#sk-container-id-5 label.sk-toggleable__label-arrow:hover:before {color: black;}#sk-container-id-5 div.sk-estimator:hover label.sk-toggleable__label-arrow:before {color: black;}#sk-container-id-5 div.sk-toggleable__content {max-height: 0;max-width: 0;overflow: hidden;text-align: left;background-color: #f0f8ff;}#sk-container-id-5 div.sk-toggleable__content pre {margin: 0.2em;color: black;border-radius: 0.25em;background-color: #f0f8ff;}#sk-container-id-5 input.sk-toggleable__control:checked~div.sk-toggleable__content {max-height: 200px;max-width: 100%;overflow: auto;}#sk-container-id-5 input.sk-toggleable__control:checked~label.sk-toggleable__label-arrow:before {content: \"▾\";}#sk-container-id-5 div.sk-estimator input.sk-toggleable__control:checked~label.sk-toggleable__label {background-color: #d4ebff;}#sk-container-id-5 div.sk-label input.sk-toggleable__control:checked~label.sk-toggleable__label {background-color: #d4ebff;}#sk-container-id-5 input.sk-hidden--visually {border: 0;clip: rect(1px 1px 1px 1px);clip: rect(1px, 1px, 1px, 1px);height: 1px;margin: -1px;overflow: hidden;padding: 0;position: absolute;width: 1px;}#sk-container-id-5 div.sk-estimator {font-family: monospace;background-color: #f0f8ff;border: 1px dotted black;border-radius: 0.25em;box-sizing: border-box;margin-bottom: 0.5em;}#sk-container-id-5 div.sk-estimator:hover {background-color: #d4ebff;}#sk-container-id-5 div.sk-parallel-item::after {content: \"\";width: 100%;border-bottom: 1px solid gray;flex-grow: 1;}#sk-container-id-5 div.sk-label:hover label.sk-toggleable__label {background-color: #d4ebff;}#sk-container-id-5 div.sk-serial::before {content: \"\";position: absolute;border-left: 1px solid gray;box-sizing: border-box;top: 0;bottom: 0;left: 50%;z-index: 0;}#sk-container-id-5 div.sk-serial {display: flex;flex-direction: column;align-items: center;background-color: white;padding-right: 0.2em;padding-left: 0.2em;position: relative;}#sk-container-id-5 div.sk-item {position: relative;z-index: 1;}#sk-container-id-5 div.sk-parallel {display: flex;align-items: stretch;justify-content: center;background-color: white;position: relative;}#sk-container-id-5 div.sk-item::before, #sk-container-id-5 div.sk-parallel-item::before {content: \"\";position: absolute;border-left: 1px solid gray;box-sizing: border-box;top: 0;bottom: 0;left: 50%;z-index: -1;}#sk-container-id-5 div.sk-parallel-item {display: flex;flex-direction: column;z-index: 1;position: relative;background-color: white;}#sk-container-id-5 div.sk-parallel-item:first-child::after {align-self: flex-end;width: 50%;}#sk-container-id-5 div.sk-parallel-item:last-child::after {align-self: flex-start;width: 50%;}#sk-container-id-5 div.sk-parallel-item:only-child::after {width: 0;}#sk-container-id-5 div.sk-dashed-wrapped {border: 1px dashed gray;margin: 0 0.4em 0.5em 0.4em;box-sizing: border-box;padding-bottom: 0.4em;background-color: white;}#sk-container-id-5 div.sk-label label {font-family: monospace;font-weight: bold;display: inline-block;line-height: 1.2em;}#sk-container-id-5 div.sk-label-container {text-align: center;}#sk-container-id-5 div.sk-container {/* jupyter's `normalize.less` sets `[hidden] { display: none; }` but bootstrap.min.css set `[hidden] { display: none !important; }` so we also need the `!important` here to be able to override the default hidden behavior on the sphinx rendered scikit-learn.org. See: https://github.com/scikit-learn/scikit-learn/issues/21755 */display: inline-block !important;position: relative;}#sk-container-id-5 div.sk-text-repr-fallback {display: none;}</style><div id=\"sk-container-id-5\" class=\"sk-top-container\"><div class=\"sk-text-repr-fallback\"><pre>RandomForestRegressor(max_depth=10, max_features=&#x27;sqrt&#x27;, min_samples_leaf=4,\n",
       "                      min_samples_split=10, n_estimators=800)</pre><b>In a Jupyter environment, please rerun this cell to show the HTML representation or trust the notebook. <br />On GitHub, the HTML representation is unable to render, please try loading this page with nbviewer.org.</b></div><div class=\"sk-container\" hidden><div class=\"sk-item\"><div class=\"sk-estimator sk-toggleable\"><input class=\"sk-toggleable__control sk-hidden--visually\" id=\"sk-estimator-id-5\" type=\"checkbox\" checked><label for=\"sk-estimator-id-5\" class=\"sk-toggleable__label sk-toggleable__label-arrow\">RandomForestRegressor</label><div class=\"sk-toggleable__content\"><pre>RandomForestRegressor(max_depth=10, max_features=&#x27;sqrt&#x27;, min_samples_leaf=4,\n",
       "                      min_samples_split=10, n_estimators=800)</pre></div></div></div></div></div>"
      ],
      "text/plain": [
       "RandomForestRegressor(max_depth=10, max_features='sqrt', min_samples_leaf=4,\n",
       "                      min_samples_split=10, n_estimators=800)"
      ]
     },
     "execution_count": 90,
     "metadata": {},
     "output_type": "execute_result"
    }
   ],
   "source": [
    "rf.fit(X_train,y_train)"
   ]
  },
  {
   "cell_type": "code",
   "execution_count": 91,
   "metadata": {},
   "outputs": [
    {
     "name": "stdout",
     "output_type": "stream",
     "text": [
      "         r2  neg_root_mean_squared_error\n",
      "0 -0.087129                     0.178527\n"
     ]
    }
   ],
   "source": [
    "scoring_method = ('r2', 'neg_root_mean_squared_error')\n",
    "\n",
    "table = {\"r2\": [], \"neg_root_mean_squared_error\": []}\n",
    "\n",
    "\n",
    "for sco in scoring_method:\n",
    "    score = cross_val_score(rf, X_test, y_test, cv=10, scoring=sco).mean()\n",
    "    if sco == 'r2':\n",
    "        table[sco].append(score)\n",
    "    else:\n",
    "        table[sco].append(abs(score))\n",
    "\n",
    "print(\n",
    "    pd.DataFrame(data = table, columns=table.keys())\n",
    "    .sort_values(by=list(table.keys())[0], ascending=False)\n",
    ")"
   ]
  },
  {
   "attachments": {},
   "cell_type": "markdown",
   "metadata": {},
   "source": [
    "# the outcome is not promising by using hyperparameter tuning\n",
    "            r2      neg_root_mean_squared_error\n",
    "100   0.113731                       0.166174\n",
    "3000 -0.068277                       0.177725\n",
    "400  -0.07045                        0.178091\n",
    "800  -0.087129                       0.178527\n"
   ]
  }
 ],
 "metadata": {
  "kernelspec": {
   "display_name": "Python 3 (ipykernel)",
   "language": "python",
   "name": "python3"
  },
  "language_info": {
   "codemirror_mode": {
    "name": "ipython",
    "version": 3
   },
   "file_extension": ".py",
   "mimetype": "text/x-python",
   "name": "python",
   "nbconvert_exporter": "python",
   "pygments_lexer": "ipython3",
   "version": "3.9.13"
  }
 },
 "nbformat": 4,
 "nbformat_minor": 2
}
