{
 "cells": [
  {
   "cell_type": "code",
   "execution_count": 1,
   "id": "01e33c4f",
   "metadata": {},
   "outputs": [],
   "source": [
    "import os\n",
    "import pandas as pd\n",
    "import numpy as np\n",
    "import matplotlib.pyplot as plt"
   ]
  },
  {
   "cell_type": "code",
   "execution_count": 2,
   "id": "401ae7b5",
   "metadata": {},
   "outputs": [],
   "source": [
    "from sklearn.linear_model import LogisticRegression\n",
    "from sklearn.ensemble import RandomForestRegressor\n",
    "from sklearn.ensemble import RandomForestClassifier\n",
    "from sklearn.model_selection import train_test_split\n",
    "\n",
    "from sklearn.feature_extraction.text import HashingVectorizer"
   ]
  },
  {
   "cell_type": "code",
   "execution_count": 3,
   "id": "a2dd9382",
   "metadata": {},
   "outputs": [],
   "source": [
    "from sklearn.metrics import ConfusionMatrixDisplay, confusion_matrix\n",
    "from sklearn. metrics import classification_report\n",
    "from sklearn.model_selection import cross_val_score\n",
    "from sklearn.metrics import precision_recall_fscore_support\n",
    "from sklearn.metrics import f1_score"
   ]
  },
  {
   "cell_type": "markdown",
   "id": "2668b40f",
   "metadata": {},
   "source": [
    "###### Custom functions to transform the target into different buckets"
   ]
  },
  {
   "cell_type": "code",
   "execution_count": 8,
   "id": "d49867ec",
   "metadata": {},
   "outputs": [],
   "source": [
    "def round_to_increment_25(number):\n",
    "    '''Return the string version of the target rounded in .25% increments'''\n",
    "    rounded_number = round(number / 0.25) * 0.25\n",
    "    if 1 <= rounded_number <= 5:\n",
    "        return str(rounded_number)\n",
    "    else:\n",
    "        if rounded_number > 5:\n",
    "            return str(5.0)\n",
    "        else:\n",
    "            return str(0)\n",
    "        \n",
    "def round_to_increment_5(number):\n",
    "    '''Return the string version of the target rounded in .5% increments'''\n",
    "    rounded_number = round(number / 0.5) * 0.5\n",
    "    if 1 <= rounded_number <= 5:\n",
    "        return str(rounded_number)\n",
    "    else:\n",
    "        if rounded_number > 5:\n",
    "            return str(5.0)\n",
    "        else:\n",
    "            return str(0)\n",
    "        \n",
    "def str_buckets(num: float) -> str:\n",
    "    '''Group ratings roughly by the standard deviation coupled with human\n",
    "       reasoning'''\n",
    "    if num < 3.0:\n",
    "        return 'not my favorite'\n",
    "    if num >= 3.0 and num < 3.6:\n",
    "        return 'fine'\n",
    "    if num >= 3.6 and num < 4.3:\n",
    "        return 'good'\n",
    "    if num >= 4.3 and num < 4.6:\n",
    "        return 'very good'\n",
    "    if num >= 4.6:\n",
    "        return 'excelent'\n"
   ]
  },
  {
   "cell_type": "code",
   "execution_count": null,
   "id": "375cf7f6",
   "metadata": {},
   "outputs": [],
   "source": []
  },
  {
   "cell_type": "code",
   "execution_count": 4,
   "id": "a85b0514",
   "metadata": {},
   "outputs": [
    {
     "data": {
      "text/plain": [
       "['.DS_Store',\n",
       " '.git',\n",
       " '.github',\n",
       " '.ipynb_checkpoints',\n",
       " '.Rhistory',\n",
       " 'books.csv',\n",
       " 'Books_Ratings_Prediction.ipynb',\n",
       " 'Classification_Experiments.ipynb',\n",
       " 'Project_Description_ML_2023.docx.pdf',\n",
       " 'Python_labs_project.ipynb',\n",
       " 'README.md']"
      ]
     },
     "execution_count": 4,
     "metadata": {},
     "output_type": "execute_result"
    }
   ],
   "source": [
    "os.listdir()"
   ]
  },
  {
   "cell_type": "code",
   "execution_count": 5,
   "id": "efad2a0b",
   "metadata": {},
   "outputs": [],
   "source": [
    "data = 'books.csv'"
   ]
  },
  {
   "cell_type": "code",
   "execution_count": 6,
   "id": "7a833b73",
   "metadata": {},
   "outputs": [
    {
     "data": {
      "text/html": [
       "<div>\n",
       "<style scoped>\n",
       "    .dataframe tbody tr th:only-of-type {\n",
       "        vertical-align: middle;\n",
       "    }\n",
       "\n",
       "    .dataframe tbody tr th {\n",
       "        vertical-align: top;\n",
       "    }\n",
       "\n",
       "    .dataframe thead th {\n",
       "        text-align: right;\n",
       "    }\n",
       "</style>\n",
       "<table border=\"1\" class=\"dataframe\">\n",
       "  <thead>\n",
       "    <tr style=\"text-align: right;\">\n",
       "      <th></th>\n",
       "      <th>bookID</th>\n",
       "      <th>title</th>\n",
       "      <th>authors</th>\n",
       "      <th>average_rating</th>\n",
       "      <th>isbn</th>\n",
       "      <th>isbn13</th>\n",
       "      <th>language_code</th>\n",
       "      <th>num_pages</th>\n",
       "      <th>ratings_count</th>\n",
       "      <th>text_reviews_count</th>\n",
       "      <th>publication_date</th>\n",
       "      <th>publisher</th>\n",
       "    </tr>\n",
       "  </thead>\n",
       "  <tbody>\n",
       "    <tr>\n",
       "      <th>0</th>\n",
       "      <td>1</td>\n",
       "      <td>Harry Potter and the Half-Blood Prince (Harry ...</td>\n",
       "      <td>J.K. Rowling/Mary GrandPré</td>\n",
       "      <td>4.57</td>\n",
       "      <td>0439785960</td>\n",
       "      <td>9780439785969</td>\n",
       "      <td>eng</td>\n",
       "      <td>652</td>\n",
       "      <td>2095690</td>\n",
       "      <td>27591</td>\n",
       "      <td>9/16/2006</td>\n",
       "      <td>Scholastic Inc.</td>\n",
       "    </tr>\n",
       "    <tr>\n",
       "      <th>1</th>\n",
       "      <td>2</td>\n",
       "      <td>Harry Potter and the Order of the Phoenix (Har...</td>\n",
       "      <td>J.K. Rowling/Mary GrandPré</td>\n",
       "      <td>4.49</td>\n",
       "      <td>0439358078</td>\n",
       "      <td>9780439358071</td>\n",
       "      <td>eng</td>\n",
       "      <td>870</td>\n",
       "      <td>2153167</td>\n",
       "      <td>29221</td>\n",
       "      <td>9/1/2004</td>\n",
       "      <td>Scholastic Inc.</td>\n",
       "    </tr>\n",
       "    <tr>\n",
       "      <th>2</th>\n",
       "      <td>4</td>\n",
       "      <td>Harry Potter and the Chamber of Secrets (Harry...</td>\n",
       "      <td>J.K. Rowling</td>\n",
       "      <td>4.42</td>\n",
       "      <td>0439554896</td>\n",
       "      <td>9780439554893</td>\n",
       "      <td>eng</td>\n",
       "      <td>352</td>\n",
       "      <td>6333</td>\n",
       "      <td>244</td>\n",
       "      <td>11/1/2003</td>\n",
       "      <td>Scholastic</td>\n",
       "    </tr>\n",
       "    <tr>\n",
       "      <th>3</th>\n",
       "      <td>5</td>\n",
       "      <td>Harry Potter and the Prisoner of Azkaban (Harr...</td>\n",
       "      <td>J.K. Rowling/Mary GrandPré</td>\n",
       "      <td>4.56</td>\n",
       "      <td>043965548X</td>\n",
       "      <td>9780439655484</td>\n",
       "      <td>eng</td>\n",
       "      <td>435</td>\n",
       "      <td>2339585</td>\n",
       "      <td>36325</td>\n",
       "      <td>5/1/2004</td>\n",
       "      <td>Scholastic Inc.</td>\n",
       "    </tr>\n",
       "    <tr>\n",
       "      <th>4</th>\n",
       "      <td>8</td>\n",
       "      <td>Harry Potter Boxed Set  Books 1-5 (Harry Potte...</td>\n",
       "      <td>J.K. Rowling/Mary GrandPré</td>\n",
       "      <td>4.78</td>\n",
       "      <td>0439682584</td>\n",
       "      <td>9780439682589</td>\n",
       "      <td>eng</td>\n",
       "      <td>2690</td>\n",
       "      <td>41428</td>\n",
       "      <td>164</td>\n",
       "      <td>9/13/2004</td>\n",
       "      <td>Scholastic</td>\n",
       "    </tr>\n",
       "  </tbody>\n",
       "</table>\n",
       "</div>"
      ],
      "text/plain": [
       "   bookID                                              title  \\\n",
       "0       1  Harry Potter and the Half-Blood Prince (Harry ...   \n",
       "1       2  Harry Potter and the Order of the Phoenix (Har...   \n",
       "2       4  Harry Potter and the Chamber of Secrets (Harry...   \n",
       "3       5  Harry Potter and the Prisoner of Azkaban (Harr...   \n",
       "4       8  Harry Potter Boxed Set  Books 1-5 (Harry Potte...   \n",
       "\n",
       "                      authors  average_rating        isbn         isbn13  \\\n",
       "0  J.K. Rowling/Mary GrandPré            4.57  0439785960  9780439785969   \n",
       "1  J.K. Rowling/Mary GrandPré            4.49  0439358078  9780439358071   \n",
       "2                J.K. Rowling            4.42  0439554896  9780439554893   \n",
       "3  J.K. Rowling/Mary GrandPré            4.56  043965548X  9780439655484   \n",
       "4  J.K. Rowling/Mary GrandPré            4.78  0439682584  9780439682589   \n",
       "\n",
       "  language_code    num_pages  ratings_count  text_reviews_count  \\\n",
       "0           eng          652        2095690               27591   \n",
       "1           eng          870        2153167               29221   \n",
       "2           eng          352           6333                 244   \n",
       "3           eng          435        2339585               36325   \n",
       "4           eng         2690          41428                 164   \n",
       "\n",
       "  publication_date        publisher  \n",
       "0        9/16/2006  Scholastic Inc.  \n",
       "1         9/1/2004  Scholastic Inc.  \n",
       "2        11/1/2003       Scholastic  \n",
       "3         5/1/2004  Scholastic Inc.  \n",
       "4        9/13/2004       Scholastic  "
      ]
     },
     "execution_count": 6,
     "metadata": {},
     "output_type": "execute_result"
    }
   ],
   "source": [
    "df_ratings = pd.read_csv(data)\n",
    "df_ratings.head()"
   ]
  },
  {
   "cell_type": "markdown",
   "id": "b791d62a",
   "metadata": {},
   "source": [
    "###### Add the new targets to the end of the table"
   ]
  },
  {
   "cell_type": "code",
   "execution_count": 14,
   "id": "63b0f7c9",
   "metadata": {},
   "outputs": [],
   "source": [
    "df_ratings['target_10'] = df_ratings['average_rating'].round(decimals=1)\n",
    "df_ratings['target_25'] = df_ratings['average_rating'].apply(round_to_increment_25)\n",
    "df_ratings['target_50'] = df_ratings['average_rating'].apply(round_to_increment_5)\n",
    "df_ratings['target_1'] = df_ratings['average_rating'].round(decimals=0)\n",
    "df_ratings['target_str'] = df_ratings['average_rating'].apply(str_buckets)"
   ]
  },
  {
   "cell_type": "code",
   "execution_count": 15,
   "id": "48751952",
   "metadata": {},
   "outputs": [
    {
     "data": {
      "text/plain": [
       "['bookID',\n",
       " 'title',\n",
       " 'authors',\n",
       " 'average_rating',\n",
       " 'isbn',\n",
       " 'isbn13',\n",
       " 'language_code',\n",
       " '  num_pages',\n",
       " 'ratings_count',\n",
       " 'text_reviews_count',\n",
       " 'publication_date',\n",
       " 'publisher',\n",
       " 'target_10',\n",
       " 'target_25',\n",
       " 'target_50',\n",
       " 'target_1',\n",
       " 'target_str']"
      ]
     },
     "execution_count": 15,
     "metadata": {},
     "output_type": "execute_result"
    }
   ],
   "source": [
    "list(df_ratings.columns)"
   ]
  },
  {
   "cell_type": "markdown",
   "id": "dbac2ada",
   "metadata": {},
   "source": [
    "###### Looking at the columns and looking ahead, we can safely guess we can drop the bookID column from consideration as a feature. We might be able to do something interesting with the title, if we were to do some extra nlp processing on the title, but that is beyond the scope of this iteration of the project. We might be able to make use of the author(s). There is currently some debate as to what affect the author of the book will have on the rating. isbn and isbn13 at first glance do not provide any information and will not be used in the current inquiry (as a side note, if we were to take the time to parse the isbn numbers, they actually provide interesting infromation such as the publisher, langauge published in, issuing agengy of the publication code, etc. but, much like the NLP work needed to parse the title, the parsing of isbn codes is beyond the scope of the current project. We might be able to do some work with language, ratings_count and text_reviews count and will be keeping those for the time being. publication date code be an interesting feature, but we would need more information (such as snapshots in time from publication date, whether a book is a reprint of a classic, if a new introduction from another author boosted popularity and therefore perception and sentiment, etc) so we will not be working with publication date during this project. Publisher could have something to do with average rating (again thinking along the lines of how marketing affects percepton of a book, or the cover of a book, etc)"
   ]
  },
  {
   "cell_type": "code",
   "execution_count": 16,
   "id": "b04854e7",
   "metadata": {},
   "outputs": [
    {
     "data": {
      "text/html": [
       "<div>\n",
       "<style scoped>\n",
       "    .dataframe tbody tr th:only-of-type {\n",
       "        vertical-align: middle;\n",
       "    }\n",
       "\n",
       "    .dataframe tbody tr th {\n",
       "        vertical-align: top;\n",
       "    }\n",
       "\n",
       "    .dataframe thead th {\n",
       "        text-align: right;\n",
       "    }\n",
       "</style>\n",
       "<table border=\"1\" class=\"dataframe\">\n",
       "  <thead>\n",
       "    <tr style=\"text-align: right;\">\n",
       "      <th></th>\n",
       "      <th>authors</th>\n",
       "      <th>language_code</th>\n",
       "      <th>num_pages</th>\n",
       "      <th>ratings_count</th>\n",
       "      <th>text_reviews_count</th>\n",
       "      <th>publisher</th>\n",
       "      <th>average_rating</th>\n",
       "      <th>target_10</th>\n",
       "      <th>target_25</th>\n",
       "      <th>target_50</th>\n",
       "      <th>target_1</th>\n",
       "      <th>target_str</th>\n",
       "    </tr>\n",
       "  </thead>\n",
       "  <tbody>\n",
       "    <tr>\n",
       "      <th>0</th>\n",
       "      <td>J.K. Rowling/Mary GrandPré</td>\n",
       "      <td>eng</td>\n",
       "      <td>652</td>\n",
       "      <td>2095690</td>\n",
       "      <td>27591</td>\n",
       "      <td>Scholastic Inc.</td>\n",
       "      <td>4.57</td>\n",
       "      <td>4.6</td>\n",
       "      <td>4.5</td>\n",
       "      <td>4.5</td>\n",
       "      <td>5.0</td>\n",
       "      <td>very good</td>\n",
       "    </tr>\n",
       "    <tr>\n",
       "      <th>1</th>\n",
       "      <td>J.K. Rowling/Mary GrandPré</td>\n",
       "      <td>eng</td>\n",
       "      <td>870</td>\n",
       "      <td>2153167</td>\n",
       "      <td>29221</td>\n",
       "      <td>Scholastic Inc.</td>\n",
       "      <td>4.49</td>\n",
       "      <td>4.5</td>\n",
       "      <td>4.5</td>\n",
       "      <td>4.5</td>\n",
       "      <td>4.0</td>\n",
       "      <td>very good</td>\n",
       "    </tr>\n",
       "    <tr>\n",
       "      <th>2</th>\n",
       "      <td>J.K. Rowling</td>\n",
       "      <td>eng</td>\n",
       "      <td>352</td>\n",
       "      <td>6333</td>\n",
       "      <td>244</td>\n",
       "      <td>Scholastic</td>\n",
       "      <td>4.42</td>\n",
       "      <td>4.4</td>\n",
       "      <td>4.5</td>\n",
       "      <td>4.5</td>\n",
       "      <td>4.0</td>\n",
       "      <td>very good</td>\n",
       "    </tr>\n",
       "    <tr>\n",
       "      <th>3</th>\n",
       "      <td>J.K. Rowling/Mary GrandPré</td>\n",
       "      <td>eng</td>\n",
       "      <td>435</td>\n",
       "      <td>2339585</td>\n",
       "      <td>36325</td>\n",
       "      <td>Scholastic Inc.</td>\n",
       "      <td>4.56</td>\n",
       "      <td>4.6</td>\n",
       "      <td>4.5</td>\n",
       "      <td>4.5</td>\n",
       "      <td>5.0</td>\n",
       "      <td>very good</td>\n",
       "    </tr>\n",
       "    <tr>\n",
       "      <th>4</th>\n",
       "      <td>J.K. Rowling/Mary GrandPré</td>\n",
       "      <td>eng</td>\n",
       "      <td>2690</td>\n",
       "      <td>41428</td>\n",
       "      <td>164</td>\n",
       "      <td>Scholastic</td>\n",
       "      <td>4.78</td>\n",
       "      <td>4.8</td>\n",
       "      <td>4.75</td>\n",
       "      <td>5.0</td>\n",
       "      <td>5.0</td>\n",
       "      <td>excelent</td>\n",
       "    </tr>\n",
       "  </tbody>\n",
       "</table>\n",
       "</div>"
      ],
      "text/plain": [
       "                      authors language_code    num_pages  ratings_count  \\\n",
       "0  J.K. Rowling/Mary GrandPré           eng          652        2095690   \n",
       "1  J.K. Rowling/Mary GrandPré           eng          870        2153167   \n",
       "2                J.K. Rowling           eng          352           6333   \n",
       "3  J.K. Rowling/Mary GrandPré           eng          435        2339585   \n",
       "4  J.K. Rowling/Mary GrandPré           eng         2690          41428   \n",
       "\n",
       "   text_reviews_count        publisher  average_rating  target_10 target_25  \\\n",
       "0               27591  Scholastic Inc.            4.57        4.6       4.5   \n",
       "1               29221  Scholastic Inc.            4.49        4.5       4.5   \n",
       "2                 244       Scholastic            4.42        4.4       4.5   \n",
       "3               36325  Scholastic Inc.            4.56        4.6       4.5   \n",
       "4                 164       Scholastic            4.78        4.8      4.75   \n",
       "\n",
       "  target_50  target_1 target_str  \n",
       "0       4.5       5.0  very good  \n",
       "1       4.5       4.0  very good  \n",
       "2       4.5       4.0  very good  \n",
       "3       4.5       5.0  very good  \n",
       "4       5.0       5.0   excelent  "
      ]
     },
     "execution_count": 16,
     "metadata": {},
     "output_type": "execute_result"
    }
   ],
   "source": [
    "keep_cols = ['authors',  'language_code', '  num_pages','ratings_count','text_reviews_count', \n",
    "             'publisher','average_rating', 'target_10','target_25','target_50','target_1','target_str']\n",
    "df_ratings_keep = df_ratings[keep_cols]\n",
    "df_ratings_keep.head()"
   ]
  },
  {
   "cell_type": "code",
   "execution_count": 17,
   "id": "6d4a821a",
   "metadata": {},
   "outputs": [],
   "source": [
    "### Testing to see if model learns better when the outlier (in this case an outlier is considered a book with 0 ratings.\n",
    "### We know that a book with 0 ratings will be the only books rated below a 1.0, but we don't know if these books share other\n",
    "### features with more highly rated books)\n",
    "df_ratings_drop_0 = df_ratings_keep.drop(df_ratings_keep[\n",
    "    df_ratings_keep[\"ratings_count\"] == 0].index, inplace=False)"
   ]
  },
  {
   "cell_type": "code",
   "execution_count": 18,
   "id": "47f2dbae",
   "metadata": {},
   "outputs": [],
   "source": [
    "buckets_10_num = ['  num_pages', 'ratings_count', 'text_reviews_count', 'target_10']"
   ]
  },
  {
   "cell_type": "code",
   "execution_count": 20,
   "id": "f432c222",
   "metadata": {},
   "outputs": [],
   "source": [
    "df_ratings_10 = df_ratings_keep[buckets_10_num]"
   ]
  },
  {
   "cell_type": "code",
   "execution_count": 21,
   "id": "321f5937",
   "metadata": {},
   "outputs": [],
   "source": [
    "y = df_ratings_10['target_10'].astype(str)\n",
    "x = df_ratings_10[df_ratings_10.columns.difference(['target_10'])]"
   ]
  },
  {
   "cell_type": "code",
   "execution_count": 22,
   "id": "dcb1da63",
   "metadata": {},
   "outputs": [],
   "source": [
    "x_train, x_test, y_train, y_test = train_test_split(x, y, test_size=0.3, random_state=42)"
   ]
  },
  {
   "cell_type": "code",
   "execution_count": 23,
   "id": "805b8baf",
   "metadata": {},
   "outputs": [],
   "source": [
    "clf = RandomForestClassifier(n_estimators=100)"
   ]
  },
  {
   "cell_type": "code",
   "execution_count": 24,
   "id": "8abd7af7",
   "metadata": {},
   "outputs": [
    {
     "name": "stderr",
     "output_type": "stream",
     "text": [
      "C:\\Anaconda3\\envs\\env_book_project\\lib\\site-packages\\sklearn\\model_selection\\_split.py:700: UserWarning: The least populated class in y has only 1 members, which is less than n_splits=5.\n",
      "  warnings.warn(\n"
     ]
    },
    {
     "data": {
      "text/plain": [
       "array([0.12901155, 0.13543004, 0.14890886, 0.1374438 , 0.13230572])"
      ]
     },
     "execution_count": 24,
     "metadata": {},
     "output_type": "execute_result"
    }
   ],
   "source": [
    "scores = cross_val_score(clf, x_train, y_train, cv = 5)\n",
    "scores"
   ]
  },
  {
   "cell_type": "code",
   "execution_count": 25,
   "id": "1b7c601c",
   "metadata": {},
   "outputs": [
    {
     "data": {
      "text/html": [
       "<style>#sk-container-id-1 {color: black;background-color: white;}#sk-container-id-1 pre{padding: 0;}#sk-container-id-1 div.sk-toggleable {background-color: white;}#sk-container-id-1 label.sk-toggleable__label {cursor: pointer;display: block;width: 100%;margin-bottom: 0;padding: 0.3em;box-sizing: border-box;text-align: center;}#sk-container-id-1 label.sk-toggleable__label-arrow:before {content: \"▸\";float: left;margin-right: 0.25em;color: #696969;}#sk-container-id-1 label.sk-toggleable__label-arrow:hover:before {color: black;}#sk-container-id-1 div.sk-estimator:hover label.sk-toggleable__label-arrow:before {color: black;}#sk-container-id-1 div.sk-toggleable__content {max-height: 0;max-width: 0;overflow: hidden;text-align: left;background-color: #f0f8ff;}#sk-container-id-1 div.sk-toggleable__content pre {margin: 0.2em;color: black;border-radius: 0.25em;background-color: #f0f8ff;}#sk-container-id-1 input.sk-toggleable__control:checked~div.sk-toggleable__content {max-height: 200px;max-width: 100%;overflow: auto;}#sk-container-id-1 input.sk-toggleable__control:checked~label.sk-toggleable__label-arrow:before {content: \"▾\";}#sk-container-id-1 div.sk-estimator input.sk-toggleable__control:checked~label.sk-toggleable__label {background-color: #d4ebff;}#sk-container-id-1 div.sk-label input.sk-toggleable__control:checked~label.sk-toggleable__label {background-color: #d4ebff;}#sk-container-id-1 input.sk-hidden--visually {border: 0;clip: rect(1px 1px 1px 1px);clip: rect(1px, 1px, 1px, 1px);height: 1px;margin: -1px;overflow: hidden;padding: 0;position: absolute;width: 1px;}#sk-container-id-1 div.sk-estimator {font-family: monospace;background-color: #f0f8ff;border: 1px dotted black;border-radius: 0.25em;box-sizing: border-box;margin-bottom: 0.5em;}#sk-container-id-1 div.sk-estimator:hover {background-color: #d4ebff;}#sk-container-id-1 div.sk-parallel-item::after {content: \"\";width: 100%;border-bottom: 1px solid gray;flex-grow: 1;}#sk-container-id-1 div.sk-label:hover label.sk-toggleable__label {background-color: #d4ebff;}#sk-container-id-1 div.sk-serial::before {content: \"\";position: absolute;border-left: 1px solid gray;box-sizing: border-box;top: 0;bottom: 0;left: 50%;z-index: 0;}#sk-container-id-1 div.sk-serial {display: flex;flex-direction: column;align-items: center;background-color: white;padding-right: 0.2em;padding-left: 0.2em;position: relative;}#sk-container-id-1 div.sk-item {position: relative;z-index: 1;}#sk-container-id-1 div.sk-parallel {display: flex;align-items: stretch;justify-content: center;background-color: white;position: relative;}#sk-container-id-1 div.sk-item::before, #sk-container-id-1 div.sk-parallel-item::before {content: \"\";position: absolute;border-left: 1px solid gray;box-sizing: border-box;top: 0;bottom: 0;left: 50%;z-index: -1;}#sk-container-id-1 div.sk-parallel-item {display: flex;flex-direction: column;z-index: 1;position: relative;background-color: white;}#sk-container-id-1 div.sk-parallel-item:first-child::after {align-self: flex-end;width: 50%;}#sk-container-id-1 div.sk-parallel-item:last-child::after {align-self: flex-start;width: 50%;}#sk-container-id-1 div.sk-parallel-item:only-child::after {width: 0;}#sk-container-id-1 div.sk-dashed-wrapped {border: 1px dashed gray;margin: 0 0.4em 0.5em 0.4em;box-sizing: border-box;padding-bottom: 0.4em;background-color: white;}#sk-container-id-1 div.sk-label label {font-family: monospace;font-weight: bold;display: inline-block;line-height: 1.2em;}#sk-container-id-1 div.sk-label-container {text-align: center;}#sk-container-id-1 div.sk-container {/* jupyter's `normalize.less` sets `[hidden] { display: none; }` but bootstrap.min.css set `[hidden] { display: none !important; }` so we also need the `!important` here to be able to override the default hidden behavior on the sphinx rendered scikit-learn.org. See: https://github.com/scikit-learn/scikit-learn/issues/21755 */display: inline-block !important;position: relative;}#sk-container-id-1 div.sk-text-repr-fallback {display: none;}</style><div id=\"sk-container-id-1\" class=\"sk-top-container\"><div class=\"sk-text-repr-fallback\"><pre>RandomForestClassifier()</pre><b>In a Jupyter environment, please rerun this cell to show the HTML representation or trust the notebook. <br />On GitHub, the HTML representation is unable to render, please try loading this page with nbviewer.org.</b></div><div class=\"sk-container\" hidden><div class=\"sk-item\"><div class=\"sk-estimator sk-toggleable\"><input class=\"sk-toggleable__control sk-hidden--visually\" id=\"sk-estimator-id-1\" type=\"checkbox\" checked><label for=\"sk-estimator-id-1\" class=\"sk-toggleable__label sk-toggleable__label-arrow\">RandomForestClassifier</label><div class=\"sk-toggleable__content\"><pre>RandomForestClassifier()</pre></div></div></div></div></div>"
      ],
      "text/plain": [
       "RandomForestClassifier()"
      ]
     },
     "execution_count": 25,
     "metadata": {},
     "output_type": "execute_result"
    }
   ],
   "source": [
    "clf.fit(x_train, y_train)"
   ]
  },
  {
   "cell_type": "code",
   "execution_count": 26,
   "id": "a98dad14",
   "metadata": {},
   "outputs": [],
   "source": [
    "predictions = clf.predict(x_test)"
   ]
  },
  {
   "cell_type": "code",
   "execution_count": 34,
   "id": "0271704a",
   "metadata": {},
   "outputs": [
    {
     "name": "stdout",
     "output_type": "stream",
     "text": [
      "Accuracy: 0.132\n",
      "F1: 0.128\n"
     ]
    }
   ],
   "source": [
    "acc= round(clf.score(x_test, y_test), 3)\n",
    "f1 = round(f1_score(y_test, predictions, average='weighted'), 3)\n",
    "print(f'Accuracy: {acc}')\n",
    "print(f'F1: {f1}')"
   ]
  },
  {
   "cell_type": "code",
   "execution_count": 28,
   "id": "ff223267",
   "metadata": {},
   "outputs": [
    {
     "data": {
      "image/png": "[encoded data removed]",
      "text/plain": [
       "<Figure size 640x480 with 2 Axes>"
      ]
     },
     "metadata": {},
     "output_type": "display_data"
    }
   ],
   "source": [
    "disp = ConfusionMatrixDisplay.from_predictions(y_test,\n",
    "                   predictions, xticks_rotation=90)"
   ]
  },
  {
   "cell_type": "code",
   "execution_count": 29,
   "id": "492837f6",
   "metadata": {},
   "outputs": [
    {
     "name": "stdout",
     "output_type": "stream",
     "text": [
      "              precision    recall  f1-score   support\n",
      "\n",
      "         0.0       0.50      0.33      0.40         6\n",
      "         1.0       0.00      0.00      0.00         1\n",
      "         1.7       0.00      0.00      0.00         1\n",
      "         2.0       0.00      0.00      0.00         1\n",
      "         2.5       0.00      0.00      0.00         1\n",
      "         2.6       0.00      0.00      0.00         3\n",
      "         2.7       0.00      0.00      0.00         1\n",
      "         2.8       0.00      0.00      0.00         4\n",
      "         2.9       0.00      0.00      0.00         4\n",
      "         3.0       0.00      0.00      0.00        10\n",
      "         3.1       0.00      0.00      0.00        10\n",
      "         3.2       0.00      0.00      0.00        22\n",
      "         3.3       0.00      0.00      0.00        38\n",
      "         3.4       0.07      0.04      0.05        69\n",
      "         3.5       0.05      0.03      0.03       110\n",
      "         3.6       0.10      0.10      0.10       183\n",
      "         3.7       0.10      0.07      0.08       257\n",
      "         3.8       0.15      0.18      0.16       440\n",
      "         3.9       0.13      0.15      0.14       434\n",
      "         4.0       0.16      0.20      0.18       567\n",
      "         4.1       0.12      0.13      0.12       393\n",
      "         4.2       0.14      0.13      0.14       376\n",
      "         4.3       0.12      0.11      0.11       179\n",
      "         4.4       0.17      0.12      0.14       138\n",
      "         4.5       0.06      0.02      0.03        43\n",
      "         4.6       0.11      0.07      0.09        29\n",
      "         4.7       0.00      0.00      0.00         8\n",
      "         4.8       0.00      0.00      0.00         2\n",
      "         4.9       0.00      0.00      0.00         1\n",
      "         5.0       0.20      0.12      0.15         8\n",
      "\n",
      "    accuracy                           0.13      3339\n",
      "   macro avg       0.07      0.06      0.06      3339\n",
      "weighted avg       0.13      0.13      0.13      3339\n",
      "\n"
     ]
    },
    {
     "name": "stderr",
     "output_type": "stream",
     "text": [
      "C:\\Anaconda3\\envs\\env_book_project\\lib\\site-packages\\sklearn\\metrics\\_classification.py:1344: UndefinedMetricWarning: Precision and F-score are ill-defined and being set to 0.0 in labels with no predicted samples. Use `zero_division` parameter to control this behavior.\n",
      "  _warn_prf(average, modifier, msg_start, len(result))\n",
      "C:\\Anaconda3\\envs\\env_book_project\\lib\\site-packages\\sklearn\\metrics\\_classification.py:1344: UndefinedMetricWarning: Precision and F-score are ill-defined and being set to 0.0 in labels with no predicted samples. Use `zero_division` parameter to control this behavior.\n",
      "  _warn_prf(average, modifier, msg_start, len(result))\n",
      "C:\\Anaconda3\\envs\\env_book_project\\lib\\site-packages\\sklearn\\metrics\\_classification.py:1344: UndefinedMetricWarning: Precision and F-score are ill-defined and being set to 0.0 in labels with no predicted samples. Use `zero_division` parameter to control this behavior.\n",
      "  _warn_prf(average, modifier, msg_start, len(result))\n"
     ]
    }
   ],
   "source": [
    "print(classification_report(y_test, predictions))"
   ]
  },
  {
   "cell_type": "code",
   "execution_count": null,
   "id": "ebbdf8d8",
   "metadata": {},
   "outputs": [],
   "source": []
  },
  {
   "cell_type": "code",
   "execution_count": 35,
   "id": "76303296",
   "metadata": {},
   "outputs": [],
   "source": [
    "buckets_10 = ['authors', 'language_code', '  num_pages', 'ratings_count', 'text_reviews_count', \n",
    "             'publisher', 'target_10']"
   ]
  },
  {
   "cell_type": "code",
   "execution_count": 36,
   "id": "2bc70719",
   "metadata": {},
   "outputs": [],
   "source": [
    "df_ratings_10 = df_ratings_keep[buckets_10]"
   ]
  },
  {
   "cell_type": "code",
   "execution_count": 37,
   "id": "dea71147",
   "metadata": {},
   "outputs": [],
   "source": [
    "y = df_ratings_10['target_10'].astype(str)\n",
    "x = df_ratings_10[df_ratings_10.columns.difference(['target_10'])]"
   ]
  },
  {
   "cell_type": "code",
   "execution_count": 38,
   "id": "720d66dd",
   "metadata": {},
   "outputs": [],
   "source": [
    "x_train, x_test, y_train, y_test = train_test_split(x, y, test_size=0.3, random_state=42)"
   ]
  },
  {
   "cell_type": "code",
   "execution_count": 39,
   "id": "2ff627ab",
   "metadata": {},
   "outputs": [],
   "source": [
    "auths_train = x_train['authors']\n",
    "langs_train = x_train['language_code']\n",
    "pubs_train = x_train['publisher']\n",
    "\n",
    "auths_test = x_test['authors']\n",
    "langs_test = x_test['language_code']\n",
    "pubs_test = x_test['publisher']"
   ]
  },
  {
   "cell_type": "code",
   "execution_count": 40,
   "id": "fc6043f5",
   "metadata": {},
   "outputs": [],
   "source": [
    "vectorizer_auth =HashingVectorizer(n_features=1000)\n",
    "vectorizer_pub = HashingVectorizer(n_features=1000)\n",
    "vectorizer_lang = HashingVectorizer(n_features=1000)"
   ]
  },
  {
   "cell_type": "code",
   "execution_count": 41,
   "id": "6a0041c1",
   "metadata": {},
   "outputs": [],
   "source": [
    "auths_trans_train = vectorizer_auth.transform(auths_train)\n",
    "auths_train_arr = auths_trans_train.toarray()\n",
    "\n",
    "pubs_trans_train = vectorizer_pub.transform(pubs_train)\n",
    "pubs_train_arr = pubs_trans_train.toarray()\n",
    "\n",
    "langs_trans_ = vectorizer_lang.transform(langs_train)\n",
    "langs_train_arr = langs_trans_.toarray()"
   ]
  },
  {
   "cell_type": "code",
   "execution_count": 42,
   "id": "955919b6",
   "metadata": {},
   "outputs": [],
   "source": [
    "auths_trans_test = vectorizer_auth.transform(auths_test)\n",
    "auths_test_arr = auths_trans_test.toarray()\n",
    "\n",
    "pubs_trans_test = vectorizer_pub.transform(pubs_test)\n",
    "pubs_test_arr = pubs_trans_test.toarray()\n",
    "\n",
    "langs_trans_test = vectorizer_lang.transform(langs_test)\n",
    "langs_test_arr = langs_trans_test.toarray()"
   ]
  },
  {
   "cell_type": "code",
   "execution_count": 43,
   "id": "b0de70fb",
   "metadata": {},
   "outputs": [],
   "source": [
    "num_feats_0 = ['  num_pages']"
   ]
  },
  {
   "cell_type": "code",
   "execution_count": 44,
   "id": "02b1b34d",
   "metadata": {},
   "outputs": [],
   "source": [
    "train_feats = np.concatenate([auths_train_arr, x_train[num_feats_0].values], axis = 1)\n",
    "test_feats = np.concatenate([auths_test_arr, x_test[num_feats_0].values], axis = 1)"
   ]
  },
  {
   "cell_type": "code",
   "execution_count": 45,
   "id": "f22d80a2",
   "metadata": {},
   "outputs": [
    {
     "name": "stderr",
     "output_type": "stream",
     "text": [
      "C:\\Anaconda3\\envs\\env_book_project\\lib\\site-packages\\sklearn\\model_selection\\_split.py:700: UserWarning: The least populated class in y has only 1 members, which is less than n_splits=5.\n",
      "  warnings.warn(\n"
     ]
    },
    {
     "data": {
      "text/plain": [
       "array([0.21052632, 0.23748395, 0.22657253, 0.21708414, 0.238921  ])"
      ]
     },
     "execution_count": 45,
     "metadata": {},
     "output_type": "execute_result"
    }
   ],
   "source": [
    "clf = RandomForestClassifier(n_estimators=100, warm_start=True)\n",
    "scores = cross_val_score(clf, train_feats, y_train, cv = 5)\n",
    "scores"
   ]
  },
  {
   "cell_type": "code",
   "execution_count": 46,
   "id": "9eb733d3",
   "metadata": {},
   "outputs": [],
   "source": [
    "clf.fit(train_feats, y_train)\n",
    "predictions = clf.predict(test_feats)"
   ]
  },
  {
   "cell_type": "code",
   "execution_count": 48,
   "id": "55f27bc5",
   "metadata": {},
   "outputs": [
    {
     "name": "stdout",
     "output_type": "stream",
     "text": [
      "Accuracy: 0.246\n",
      "F1: 0.24\n"
     ]
    }
   ],
   "source": [
    "acc= round(clf.score(test_feats, y_test), 3)\n",
    "f1 = round(f1_score(y_test, predictions, average='weighted'), 3)\n",
    "print(f'Accuracy: {acc}')\n",
    "print(f'F1: {f1}')"
   ]
  },
  {
   "cell_type": "code",
   "execution_count": 49,
   "id": "a34c2341",
   "metadata": {},
   "outputs": [
    {
     "data": {
      "image/png": "[encoded data removed]",
      "text/plain": [
       "<Figure size 640x480 with 2 Axes>"
      ]
     },
     "metadata": {},
     "output_type": "display_data"
    }
   ],
   "source": [
    "disp = ConfusionMatrixDisplay.from_predictions(y_test,\n",
    "                   predictions, xticks_rotation=90)"
   ]
  },
  {
   "cell_type": "code",
   "execution_count": 50,
   "id": "ad5415cf",
   "metadata": {},
   "outputs": [
    {
     "name": "stdout",
     "output_type": "stream",
     "text": [
      "              precision    recall  f1-score   support\n",
      "\n",
      "         0.0       0.00      0.00      0.00         6\n",
      "         1.0       0.00      0.00      0.00         1\n",
      "         1.7       0.00      0.00      0.00         1\n",
      "         2.0       0.00      0.00      0.00         1\n",
      "         2.3       0.00      0.00      0.00         0\n",
      "         2.4       0.00      0.00      0.00         0\n",
      "         2.5       0.00      0.00      0.00         1\n",
      "         2.6       0.00      0.00      0.00         3\n",
      "         2.7       0.00      0.00      0.00         1\n",
      "         2.8       0.00      0.00      0.00         4\n",
      "         2.9       0.00      0.00      0.00         4\n",
      "         3.0       0.00      0.00      0.00        10\n",
      "         3.1       0.18      0.20      0.19        10\n",
      "         3.2       0.10      0.05      0.06        22\n",
      "         3.3       0.00      0.00      0.00        38\n",
      "         3.4       0.24      0.16      0.19        69\n",
      "         3.5       0.21      0.07      0.11       110\n",
      "         3.6       0.20      0.17      0.18       183\n",
      "         3.7       0.19      0.15      0.17       257\n",
      "         3.8       0.24      0.28      0.26       440\n",
      "         3.9       0.23      0.26      0.24       434\n",
      "         4.0       0.25      0.37      0.30       567\n",
      "         4.1       0.24      0.23      0.24       393\n",
      "         4.2       0.26      0.27      0.27       376\n",
      "         4.3       0.35      0.26      0.30       179\n",
      "         4.4       0.40      0.21      0.28       138\n",
      "         4.5       0.25      0.14      0.18        43\n",
      "         4.6       0.67      0.28      0.39        29\n",
      "         4.7       0.25      0.12      0.17         8\n",
      "         4.8       0.00      0.00      0.00         2\n",
      "         4.9       0.00      0.00      0.00         1\n",
      "         5.0       0.00      0.00      0.00         8\n",
      "\n",
      "    accuracy                           0.25      3339\n",
      "   macro avg       0.13      0.10      0.11      3339\n",
      "weighted avg       0.25      0.25      0.24      3339\n",
      "\n"
     ]
    },
    {
     "name": "stderr",
     "output_type": "stream",
     "text": [
      "C:\\Anaconda3\\envs\\env_book_project\\lib\\site-packages\\sklearn\\metrics\\_classification.py:1344: UndefinedMetricWarning: Precision and F-score are ill-defined and being set to 0.0 in labels with no predicted samples. Use `zero_division` parameter to control this behavior.\n",
      "  _warn_prf(average, modifier, msg_start, len(result))\n",
      "C:\\Anaconda3\\envs\\env_book_project\\lib\\site-packages\\sklearn\\metrics\\_classification.py:1344: UndefinedMetricWarning: Recall and F-score are ill-defined and being set to 0.0 in labels with no true samples. Use `zero_division` parameter to control this behavior.\n",
      "  _warn_prf(average, modifier, msg_start, len(result))\n",
      "C:\\Anaconda3\\envs\\env_book_project\\lib\\site-packages\\sklearn\\metrics\\_classification.py:1344: UndefinedMetricWarning: Precision and F-score are ill-defined and being set to 0.0 in labels with no predicted samples. Use `zero_division` parameter to control this behavior.\n",
      "  _warn_prf(average, modifier, msg_start, len(result))\n",
      "C:\\Anaconda3\\envs\\env_book_project\\lib\\site-packages\\sklearn\\metrics\\_classification.py:1344: UndefinedMetricWarning: Recall and F-score are ill-defined and being set to 0.0 in labels with no true samples. Use `zero_division` parameter to control this behavior.\n",
      "  _warn_prf(average, modifier, msg_start, len(result))\n",
      "C:\\Anaconda3\\envs\\env_book_project\\lib\\site-packages\\sklearn\\metrics\\_classification.py:1344: UndefinedMetricWarning: Precision and F-score are ill-defined and being set to 0.0 in labels with no predicted samples. Use `zero_division` parameter to control this behavior.\n",
      "  _warn_prf(average, modifier, msg_start, len(result))\n",
      "C:\\Anaconda3\\envs\\env_book_project\\lib\\site-packages\\sklearn\\metrics\\_classification.py:1344: UndefinedMetricWarning: Recall and F-score are ill-defined and being set to 0.0 in labels with no true samples. Use `zero_division` parameter to control this behavior.\n",
      "  _warn_prf(average, modifier, msg_start, len(result))\n"
     ]
    }
   ],
   "source": [
    "print(classification_report(y_test, predictions))"
   ]
  },
  {
   "cell_type": "code",
   "execution_count": 51,
   "id": "a8d106ce",
   "metadata": {},
   "outputs": [],
   "source": [
    "buckets_custom_num = ['  num_pages', 'ratings_count', 'text_reviews_count', 'target_str']"
   ]
  },
  {
   "cell_type": "code",
   "execution_count": 53,
   "id": "6480d513",
   "metadata": {},
   "outputs": [],
   "source": [
    "df_ratings_custom = df_ratings_keep[buckets_custom_num]"
   ]
  },
  {
   "cell_type": "code",
   "execution_count": null,
   "id": "4e7e1da9",
   "metadata": {},
   "outputs": [],
   "source": []
  }
 ],
 "metadata": {
  "kernelspec": {
   "display_name": "Python 3 (ipykernel)",
   "language": "python",
   "name": "python3"
  },
  "language_info": {
   "codemirror_mode": {
    "name": "ipython",
    "version": 3
   },
   "file_extension": ".py",
   "mimetype": "text/x-python",
   "name": "python",
   "nbconvert_exporter": "python",
   "pygments_lexer": "ipython3",
   "version": "3.10.9"
  }
 },
 "nbformat": 4,
 "nbformat_minor": 5
}
