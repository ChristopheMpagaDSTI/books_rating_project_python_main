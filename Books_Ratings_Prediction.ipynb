{
 "cells": [
  {
   "cell_type": "code",
   "execution_count": 1,
   "id": "1f741330",
   "metadata": {},
   "outputs": [],
   "source": [
    "# First things first, we have to install some python libraries so that our program works\n",
    "\n",
    "import numpy as np\n",
    "import pandas as pd\n",
    "import matplotlib.pyplot as plt\n",
    "import seaborn as sns\n",
    "import plotly.express as px\n",
    "import plotly.graph_objects as go\n",
    "from plotly.subplots import make_subplots\n",
    "import csv"
   ]
  },
  {
   "cell_type": "markdown",
   "id": "02f8a8ee",
   "metadata": {},
   "source": [
    "To meet our need, we have to go through different steps:\n",
    "\n",
    "---> Data analysis: data processing, data cleaning, exploratory analysis and relevant graphics\n",
    "---> \"Feature selection\": \n",
    "Engineering of characteristics, pruning of characteristics and justification of choices;\n",
    "---> \"Model Training\": Model selection and justification and comparison with other models;\n",
    "---> \"Model evaluation\": Measurement and interpretation of results;\n",
    "---> Project Report"
   ]
  },
  {
   "cell_type": "markdown",
   "id": "bd46686c",
   "metadata": {},
   "source": [
    "Looading the database : \n",
    "\n",
    "Our data is available in a tabular format of CSV files. we'll use the convert it to a pandas DataFrame using the read_csv function."
   ]
  },
  {
   "cell_type": "code",
   "execution_count": 2,
   "id": "b629e206",
   "metadata": {},
   "outputs": [
    {
     "name": "stderr",
     "output_type": "stream",
     "text": [
      "b'Skipping line 3350: expected 12 fields, saw 13\\nSkipping line 4704: expected 12 fields, saw 13\\nSkipping line 5879: expected 12 fields, saw 13\\nSkipping line 8981: expected 12 fields, saw 13\\n'\n"
     ]
    }
   ],
   "source": [
    "data = 'C:/Users/selfe/Documents/DSTI/machine_learning/Project-20221116/books.csv'\n",
    "\n",
    "books = pd.read_csv(data, sep=\",\",index_col=\"bookID\", skipinitialspace=True, on_bad_lines='warn')"
   ]
  },
  {
   "cell_type": "code",
   "execution_count": 3,
   "id": "089d7a8e",
   "metadata": {},
   "outputs": [
    {
     "data": {
      "text/plain": [
       "title                                                         Pygmalion\n",
       "authors               George Bernard Shaw/Dan H. Laurence/Nicholas G...\n",
       "average_rating                                                      3.9\n",
       "isbn                                                         0141439505\n",
       "isbn13                                                    9780141439501\n",
       "language_code                                                       eng\n",
       "num_pages                                                           122\n",
       "ratings_count                                                      2085\n",
       "text_reviews_count                                                  179\n",
       "publication_date                                              1/30/2003\n",
       "publisher                                                 Penguin Books\n",
       "Name: 12230, dtype: object"
      ]
     },
     "execution_count": 3,
     "metadata": {},
     "output_type": "execute_result"
    }
   ],
   "source": [
    "# extract a row 3350 from the data\n",
    "books.iloc[3350]"
   ]
  },
  {
   "cell_type": "code",
   "execution_count": 4,
   "id": "707a981e",
   "metadata": {},
   "outputs": [
    {
     "data": {
      "text/plain": [
       "title                 Homepage Usability: 50 Websites Deconstructed\n",
       "authors                                   Jakob Nielsen/Marie Tahir\n",
       "average_rating                                                 3.74\n",
       "isbn                                                     073571102X\n",
       "isbn13                                                9780735711020\n",
       "language_code                                                   eng\n",
       "num_pages                                                       336\n",
       "ratings_count                                                   341\n",
       "text_reviews_count                                               12\n",
       "publication_date                                         11/15/2001\n",
       "publisher                                     New Riders Publishing\n",
       "Name: 22148, dtype: object"
      ]
     },
     "execution_count": 4,
     "metadata": {},
     "output_type": "execute_result"
    }
   ],
   "source": [
    "# extract a row 5879 from the data\n",
    "books.iloc[5879]"
   ]
  },
  {
   "cell_type": "code",
   "execution_count": 5,
   "id": "c14ee73a",
   "metadata": {},
   "outputs": [
    {
     "data": {
      "text/plain": [
       "title                 Must Love Dragons (Immortally Sexy  #2)\n",
       "authors                                        Stephanie Rowe\n",
       "average_rating                                           3.98\n",
       "isbn                                               0446617679\n",
       "isbn13                                          9780446617673\n",
       "language_code                                           en-US\n",
       "num_pages                                                 342\n",
       "ratings_count                                            1740\n",
       "text_reviews_count                                         77\n",
       "publication_date                                    11/1/2006\n",
       "publisher                                      Warner Forever\n",
       "Name: 34901, dtype: object"
      ]
     },
     "execution_count": 5,
     "metadata": {},
     "output_type": "execute_result"
    }
   ],
   "source": [
    "# extract a row 8981 from the data\n",
    "books.iloc[8981]"
   ]
  },
  {
   "cell_type": "markdown",
   "id": "9631dba2",
   "metadata": {},
   "source": [
    "1. The dataset contains some rows with more columns than expected\n",
    "2. we noticed that in the dataset, there were books with authors splited into 2 columns\n",
    "3. We make some reseach and find a script to resolve this."
   ]
  },
  {
   "cell_type": "code",
   "execution_count": 6,
   "id": "7ab75b7d",
   "metadata": {},
   "outputs": [
    {
     "name": "stderr",
     "output_type": "stream",
     "text": [
      "C:\\Users\\selfe\\AppData\\Local\\Temp\\ipykernel_24356\\3923865578.py:1: FutureWarning: The error_bad_lines argument has been deprecated and will be removed in a future version. Use on_bad_lines in the future.\n",
      "\n",
      "\n",
      "  books = pd.read_csv(data, index_col=\"bookID\", warn_bad_lines=True, error_bad_lines=False, encoding='utf-8')\n",
      "C:\\Users\\selfe\\AppData\\Local\\Temp\\ipykernel_24356\\3923865578.py:1: FutureWarning: The warn_bad_lines argument has been deprecated and will be removed in a future version. Use on_bad_lines in the future.\n",
      "\n",
      "\n",
      "  books = pd.read_csv(data, index_col=\"bookID\", warn_bad_lines=True, error_bad_lines=False, encoding='utf-8')\n",
      "b'Skipping line 3350: expected 12 fields, saw 13\\nSkipping line 4704: expected 12 fields, saw 13\\nSkipping line 5879: expected 12 fields, saw 13\\nSkipping line 8981: expected 12 fields, saw 13\\n'\n"
     ]
    }
   ],
   "source": [
    "      \n",
    "\n",
    "\n",
    "books = pd.read_csv(data, index_col=\"bookID\", warn_bad_lines=True, error_bad_lines=False, encoding='utf-8')\n"
   ]
  },
  {
   "cell_type": "code",
   "execution_count": 7,
   "id": "54e175f6",
   "metadata": {},
   "outputs": [
    {
     "data": {
      "text/html": [
       "<div>\n",
       "<style scoped>\n",
       "    .dataframe tbody tr th:only-of-type {\n",
       "        vertical-align: middle;\n",
       "    }\n",
       "\n",
       "    .dataframe tbody tr th {\n",
       "        vertical-align: top;\n",
       "    }\n",
       "\n",
       "    .dataframe thead th {\n",
       "        text-align: right;\n",
       "    }\n",
       "</style>\n",
       "<table border=\"1\" class=\"dataframe\">\n",
       "  <thead>\n",
       "    <tr style=\"text-align: right;\">\n",
       "      <th></th>\n",
       "      <th>title</th>\n",
       "      <th>authors</th>\n",
       "      <th>average_rating</th>\n",
       "      <th>isbn</th>\n",
       "      <th>isbn13</th>\n",
       "      <th>language_code</th>\n",
       "      <th>num_pages</th>\n",
       "      <th>ratings_count</th>\n",
       "      <th>text_reviews_count</th>\n",
       "      <th>publication_date</th>\n",
       "      <th>publisher</th>\n",
       "    </tr>\n",
       "    <tr>\n",
       "      <th>bookID</th>\n",
       "      <th></th>\n",
       "      <th></th>\n",
       "      <th></th>\n",
       "      <th></th>\n",
       "      <th></th>\n",
       "      <th></th>\n",
       "      <th></th>\n",
       "      <th></th>\n",
       "      <th></th>\n",
       "      <th></th>\n",
       "      <th></th>\n",
       "    </tr>\n",
       "  </thead>\n",
       "  <tbody>\n",
       "    <tr>\n",
       "      <th>1</th>\n",
       "      <td>Harry Potter and the Half-Blood Prince (Harry ...</td>\n",
       "      <td>J.K. Rowling/Mary GrandPré</td>\n",
       "      <td>4.57</td>\n",
       "      <td>0439785960</td>\n",
       "      <td>9780439785969</td>\n",
       "      <td>eng</td>\n",
       "      <td>652</td>\n",
       "      <td>2095690</td>\n",
       "      <td>27591</td>\n",
       "      <td>9/16/2006</td>\n",
       "      <td>Scholastic Inc.</td>\n",
       "    </tr>\n",
       "    <tr>\n",
       "      <th>2</th>\n",
       "      <td>Harry Potter and the Order of the Phoenix (Har...</td>\n",
       "      <td>J.K. Rowling/Mary GrandPré</td>\n",
       "      <td>4.49</td>\n",
       "      <td>0439358078</td>\n",
       "      <td>9780439358071</td>\n",
       "      <td>eng</td>\n",
       "      <td>870</td>\n",
       "      <td>2153167</td>\n",
       "      <td>29221</td>\n",
       "      <td>9/1/2004</td>\n",
       "      <td>Scholastic Inc.</td>\n",
       "    </tr>\n",
       "    <tr>\n",
       "      <th>4</th>\n",
       "      <td>Harry Potter and the Chamber of Secrets (Harry...</td>\n",
       "      <td>J.K. Rowling</td>\n",
       "      <td>4.42</td>\n",
       "      <td>0439554896</td>\n",
       "      <td>9780439554893</td>\n",
       "      <td>eng</td>\n",
       "      <td>352</td>\n",
       "      <td>6333</td>\n",
       "      <td>244</td>\n",
       "      <td>11/1/2003</td>\n",
       "      <td>Scholastic</td>\n",
       "    </tr>\n",
       "    <tr>\n",
       "      <th>5</th>\n",
       "      <td>Harry Potter and the Prisoner of Azkaban (Harr...</td>\n",
       "      <td>J.K. Rowling/Mary GrandPré</td>\n",
       "      <td>4.56</td>\n",
       "      <td>043965548X</td>\n",
       "      <td>9780439655484</td>\n",
       "      <td>eng</td>\n",
       "      <td>435</td>\n",
       "      <td>2339585</td>\n",
       "      <td>36325</td>\n",
       "      <td>5/1/2004</td>\n",
       "      <td>Scholastic Inc.</td>\n",
       "    </tr>\n",
       "    <tr>\n",
       "      <th>8</th>\n",
       "      <td>Harry Potter Boxed Set  Books 1-5 (Harry Potte...</td>\n",
       "      <td>J.K. Rowling/Mary GrandPré</td>\n",
       "      <td>4.78</td>\n",
       "      <td>0439682584</td>\n",
       "      <td>9780439682589</td>\n",
       "      <td>eng</td>\n",
       "      <td>2690</td>\n",
       "      <td>41428</td>\n",
       "      <td>164</td>\n",
       "      <td>9/13/2004</td>\n",
       "      <td>Scholastic</td>\n",
       "    </tr>\n",
       "    <tr>\n",
       "      <th>9</th>\n",
       "      <td>Unauthorized Harry Potter Book Seven News: \"Ha...</td>\n",
       "      <td>W. Frederick Zimmerman</td>\n",
       "      <td>3.74</td>\n",
       "      <td>0976540606</td>\n",
       "      <td>9780976540601</td>\n",
       "      <td>en-US</td>\n",
       "      <td>152</td>\n",
       "      <td>19</td>\n",
       "      <td>1</td>\n",
       "      <td>4/26/2005</td>\n",
       "      <td>Nimble Books</td>\n",
       "    </tr>\n",
       "    <tr>\n",
       "      <th>10</th>\n",
       "      <td>Harry Potter Collection (Harry Potter  #1-6)</td>\n",
       "      <td>J.K. Rowling</td>\n",
       "      <td>4.73</td>\n",
       "      <td>0439827604</td>\n",
       "      <td>9780439827607</td>\n",
       "      <td>eng</td>\n",
       "      <td>3342</td>\n",
       "      <td>28242</td>\n",
       "      <td>808</td>\n",
       "      <td>9/12/2005</td>\n",
       "      <td>Scholastic</td>\n",
       "    </tr>\n",
       "    <tr>\n",
       "      <th>12</th>\n",
       "      <td>The Ultimate Hitchhiker's Guide: Five Complete...</td>\n",
       "      <td>Douglas Adams</td>\n",
       "      <td>4.38</td>\n",
       "      <td>0517226952</td>\n",
       "      <td>9780517226957</td>\n",
       "      <td>eng</td>\n",
       "      <td>815</td>\n",
       "      <td>3628</td>\n",
       "      <td>254</td>\n",
       "      <td>11/1/2005</td>\n",
       "      <td>Gramercy Books</td>\n",
       "    </tr>\n",
       "    <tr>\n",
       "      <th>13</th>\n",
       "      <td>The Ultimate Hitchhiker's Guide to the Galaxy ...</td>\n",
       "      <td>Douglas Adams</td>\n",
       "      <td>4.38</td>\n",
       "      <td>0345453743</td>\n",
       "      <td>9780345453747</td>\n",
       "      <td>eng</td>\n",
       "      <td>815</td>\n",
       "      <td>249558</td>\n",
       "      <td>4080</td>\n",
       "      <td>4/30/2002</td>\n",
       "      <td>Del Rey Books</td>\n",
       "    </tr>\n",
       "    <tr>\n",
       "      <th>14</th>\n",
       "      <td>The Hitchhiker's Guide to the Galaxy (Hitchhik...</td>\n",
       "      <td>Douglas Adams</td>\n",
       "      <td>4.22</td>\n",
       "      <td>1400052920</td>\n",
       "      <td>9781400052929</td>\n",
       "      <td>eng</td>\n",
       "      <td>215</td>\n",
       "      <td>4930</td>\n",
       "      <td>460</td>\n",
       "      <td>8/3/2004</td>\n",
       "      <td>Crown</td>\n",
       "    </tr>\n",
       "    <tr>\n",
       "      <th>16</th>\n",
       "      <td>The Hitchhiker's Guide to the Galaxy (Hitchhik...</td>\n",
       "      <td>Douglas Adams/Stephen Fry</td>\n",
       "      <td>4.22</td>\n",
       "      <td>0739322206</td>\n",
       "      <td>9780739322208</td>\n",
       "      <td>eng</td>\n",
       "      <td>6</td>\n",
       "      <td>1266</td>\n",
       "      <td>253</td>\n",
       "      <td>3/23/2005</td>\n",
       "      <td>Random House Audio</td>\n",
       "    </tr>\n",
       "    <tr>\n",
       "      <th>18</th>\n",
       "      <td>The Ultimate Hitchhiker's Guide (Hitchhiker's ...</td>\n",
       "      <td>Douglas Adams</td>\n",
       "      <td>4.38</td>\n",
       "      <td>0517149257</td>\n",
       "      <td>9780517149256</td>\n",
       "      <td>eng</td>\n",
       "      <td>815</td>\n",
       "      <td>2877</td>\n",
       "      <td>195</td>\n",
       "      <td>1/17/1996</td>\n",
       "      <td>Wings Books</td>\n",
       "    </tr>\n",
       "  </tbody>\n",
       "</table>\n",
       "</div>"
      ],
      "text/plain": [
       "                                                    title  \\\n",
       "bookID                                                      \n",
       "1       Harry Potter and the Half-Blood Prince (Harry ...   \n",
       "2       Harry Potter and the Order of the Phoenix (Har...   \n",
       "4       Harry Potter and the Chamber of Secrets (Harry...   \n",
       "5       Harry Potter and the Prisoner of Azkaban (Harr...   \n",
       "8       Harry Potter Boxed Set  Books 1-5 (Harry Potte...   \n",
       "9       Unauthorized Harry Potter Book Seven News: \"Ha...   \n",
       "10           Harry Potter Collection (Harry Potter  #1-6)   \n",
       "12      The Ultimate Hitchhiker's Guide: Five Complete...   \n",
       "13      The Ultimate Hitchhiker's Guide to the Galaxy ...   \n",
       "14      The Hitchhiker's Guide to the Galaxy (Hitchhik...   \n",
       "16      The Hitchhiker's Guide to the Galaxy (Hitchhik...   \n",
       "18      The Ultimate Hitchhiker's Guide (Hitchhiker's ...   \n",
       "\n",
       "                           authors  average_rating        isbn         isbn13  \\\n",
       "bookID                                                                          \n",
       "1       J.K. Rowling/Mary GrandPré            4.57  0439785960  9780439785969   \n",
       "2       J.K. Rowling/Mary GrandPré            4.49  0439358078  9780439358071   \n",
       "4                     J.K. Rowling            4.42  0439554896  9780439554893   \n",
       "5       J.K. Rowling/Mary GrandPré            4.56  043965548X  9780439655484   \n",
       "8       J.K. Rowling/Mary GrandPré            4.78  0439682584  9780439682589   \n",
       "9           W. Frederick Zimmerman            3.74  0976540606  9780976540601   \n",
       "10                    J.K. Rowling            4.73  0439827604  9780439827607   \n",
       "12                   Douglas Adams            4.38  0517226952  9780517226957   \n",
       "13                   Douglas Adams            4.38  0345453743  9780345453747   \n",
       "14                   Douglas Adams            4.22  1400052920  9781400052929   \n",
       "16       Douglas Adams/Stephen Fry            4.22  0739322206  9780739322208   \n",
       "18                   Douglas Adams            4.38  0517149257  9780517149256   \n",
       "\n",
       "       language_code    num_pages  ratings_count  text_reviews_count  \\\n",
       "bookID                                                                 \n",
       "1                eng          652        2095690               27591   \n",
       "2                eng          870        2153167               29221   \n",
       "4                eng          352           6333                 244   \n",
       "5                eng          435        2339585               36325   \n",
       "8                eng         2690          41428                 164   \n",
       "9              en-US          152             19                   1   \n",
       "10               eng         3342          28242                 808   \n",
       "12               eng          815           3628                 254   \n",
       "13               eng          815         249558                4080   \n",
       "14               eng          215           4930                 460   \n",
       "16               eng            6           1266                 253   \n",
       "18               eng          815           2877                 195   \n",
       "\n",
       "       publication_date           publisher  \n",
       "bookID                                       \n",
       "1             9/16/2006     Scholastic Inc.  \n",
       "2              9/1/2004     Scholastic Inc.  \n",
       "4             11/1/2003          Scholastic  \n",
       "5              5/1/2004     Scholastic Inc.  \n",
       "8             9/13/2004          Scholastic  \n",
       "9             4/26/2005        Nimble Books  \n",
       "10            9/12/2005          Scholastic  \n",
       "12            11/1/2005      Gramercy Books  \n",
       "13            4/30/2002       Del Rey Books  \n",
       "14             8/3/2004               Crown  \n",
       "16            3/23/2005  Random House Audio  \n",
       "18            1/17/1996         Wings Books  "
      ]
     },
     "execution_count": 7,
     "metadata": {},
     "output_type": "execute_result"
    }
   ],
   "source": [
    "books.head(12)"
   ]
  },
  {
   "cell_type": "code",
   "execution_count": 8,
   "id": "f26a2313",
   "metadata": {},
   "outputs": [
    {
     "data": {
      "text/html": [
       "<div>\n",
       "<style scoped>\n",
       "    .dataframe tbody tr th:only-of-type {\n",
       "        vertical-align: middle;\n",
       "    }\n",
       "\n",
       "    .dataframe tbody tr th {\n",
       "        vertical-align: top;\n",
       "    }\n",
       "\n",
       "    .dataframe thead th {\n",
       "        text-align: right;\n",
       "    }\n",
       "</style>\n",
       "<table border=\"1\" class=\"dataframe\">\n",
       "  <thead>\n",
       "    <tr style=\"text-align: right;\">\n",
       "      <th></th>\n",
       "      <th>title</th>\n",
       "      <th>authors</th>\n",
       "      <th>average_rating</th>\n",
       "      <th>isbn</th>\n",
       "      <th>isbn13</th>\n",
       "      <th>language_code</th>\n",
       "      <th>num_pages</th>\n",
       "      <th>ratings_count</th>\n",
       "      <th>text_reviews_count</th>\n",
       "      <th>publication_date</th>\n",
       "      <th>publisher</th>\n",
       "    </tr>\n",
       "    <tr>\n",
       "      <th>bookID</th>\n",
       "      <th></th>\n",
       "      <th></th>\n",
       "      <th></th>\n",
       "      <th></th>\n",
       "      <th></th>\n",
       "      <th></th>\n",
       "      <th></th>\n",
       "      <th></th>\n",
       "      <th></th>\n",
       "      <th></th>\n",
       "      <th></th>\n",
       "    </tr>\n",
       "  </thead>\n",
       "  <tbody>\n",
       "    <tr>\n",
       "      <th>45617</th>\n",
       "      <td>O Cavalo e o Seu Rapaz (As Crónicas de Nárnia ...</td>\n",
       "      <td>C.S. Lewis/Pauline Baynes/Ana Falcão Bastos</td>\n",
       "      <td>3.92</td>\n",
       "      <td>9722330551</td>\n",
       "      <td>9789722330558</td>\n",
       "      <td>por</td>\n",
       "      <td>160</td>\n",
       "      <td>207</td>\n",
       "      <td>16</td>\n",
       "      <td>8/15/2003</td>\n",
       "      <td>Editorial Presença</td>\n",
       "    </tr>\n",
       "    <tr>\n",
       "      <th>45623</th>\n",
       "      <td>O Sobrinho do Mágico (As Crónicas de Nárnia  #1)</td>\n",
       "      <td>C.S. Lewis/Pauline Baynes/Ana Falcão Bastos</td>\n",
       "      <td>4.04</td>\n",
       "      <td>9722329987</td>\n",
       "      <td>9789722329989</td>\n",
       "      <td>por</td>\n",
       "      <td>147</td>\n",
       "      <td>396</td>\n",
       "      <td>37</td>\n",
       "      <td>4/8/2003</td>\n",
       "      <td>Editorial Presença</td>\n",
       "    </tr>\n",
       "    <tr>\n",
       "      <th>45625</th>\n",
       "      <td>A Viagem do Caminheiro da Alvorada (As Crónica...</td>\n",
       "      <td>C.S. Lewis/Pauline Baynes/Ana Falcão Bastos</td>\n",
       "      <td>4.09</td>\n",
       "      <td>9722331329</td>\n",
       "      <td>9789722331326</td>\n",
       "      <td>por</td>\n",
       "      <td>176</td>\n",
       "      <td>161</td>\n",
       "      <td>14</td>\n",
       "      <td>9/1/2004</td>\n",
       "      <td>Editorial Presença</td>\n",
       "    </tr>\n",
       "    <tr>\n",
       "      <th>45626</th>\n",
       "      <td>O Príncipe Caspian (As Crónicas de Nárnia  #4)</td>\n",
       "      <td>C.S. Lewis/Pauline Baynes/Ana Falcão Bastos</td>\n",
       "      <td>3.97</td>\n",
       "      <td>9722330977</td>\n",
       "      <td>9789722330978</td>\n",
       "      <td>por</td>\n",
       "      <td>160</td>\n",
       "      <td>215</td>\n",
       "      <td>11</td>\n",
       "      <td>10/11/2003</td>\n",
       "      <td>Editorial Presença</td>\n",
       "    </tr>\n",
       "    <tr>\n",
       "      <th>45630</th>\n",
       "      <td>Whores for Gloria</td>\n",
       "      <td>William T. Vollmann</td>\n",
       "      <td>3.69</td>\n",
       "      <td>0140231579</td>\n",
       "      <td>9780140231571</td>\n",
       "      <td>en-US</td>\n",
       "      <td>160</td>\n",
       "      <td>932</td>\n",
       "      <td>111</td>\n",
       "      <td>2/1/1994</td>\n",
       "      <td>Penguin Books</td>\n",
       "    </tr>\n",
       "    <tr>\n",
       "      <th>45631</th>\n",
       "      <td>Expelled from Eden: A William T. Vollmann Reader</td>\n",
       "      <td>William T. Vollmann/Larry McCaffery/Michael He...</td>\n",
       "      <td>4.06</td>\n",
       "      <td>1560254416</td>\n",
       "      <td>9781560254416</td>\n",
       "      <td>eng</td>\n",
       "      <td>512</td>\n",
       "      <td>156</td>\n",
       "      <td>20</td>\n",
       "      <td>12/21/2004</td>\n",
       "      <td>Da Capo Press</td>\n",
       "    </tr>\n",
       "    <tr>\n",
       "      <th>45633</th>\n",
       "      <td>You Bright and Risen Angels</td>\n",
       "      <td>William T. Vollmann</td>\n",
       "      <td>4.08</td>\n",
       "      <td>0140110879</td>\n",
       "      <td>9780140110876</td>\n",
       "      <td>eng</td>\n",
       "      <td>635</td>\n",
       "      <td>783</td>\n",
       "      <td>56</td>\n",
       "      <td>12/1/1988</td>\n",
       "      <td>Penguin Books</td>\n",
       "    </tr>\n",
       "    <tr>\n",
       "      <th>45634</th>\n",
       "      <td>The Ice-Shirt (Seven Dreams #1)</td>\n",
       "      <td>William T. Vollmann</td>\n",
       "      <td>3.96</td>\n",
       "      <td>0140131965</td>\n",
       "      <td>9780140131963</td>\n",
       "      <td>eng</td>\n",
       "      <td>415</td>\n",
       "      <td>820</td>\n",
       "      <td>95</td>\n",
       "      <td>8/1/1993</td>\n",
       "      <td>Penguin Books</td>\n",
       "    </tr>\n",
       "    <tr>\n",
       "      <th>45639</th>\n",
       "      <td>Poor People</td>\n",
       "      <td>William T. Vollmann</td>\n",
       "      <td>3.72</td>\n",
       "      <td>0060878827</td>\n",
       "      <td>9780060878825</td>\n",
       "      <td>eng</td>\n",
       "      <td>434</td>\n",
       "      <td>769</td>\n",
       "      <td>139</td>\n",
       "      <td>2/27/2007</td>\n",
       "      <td>Ecco</td>\n",
       "    </tr>\n",
       "    <tr>\n",
       "      <th>45641</th>\n",
       "      <td>Las aventuras de Tom Sawyer</td>\n",
       "      <td>Mark Twain</td>\n",
       "      <td>3.91</td>\n",
       "      <td>8497646983</td>\n",
       "      <td>9788497646987</td>\n",
       "      <td>spa</td>\n",
       "      <td>272</td>\n",
       "      <td>113</td>\n",
       "      <td>12</td>\n",
       "      <td>5/28/2006</td>\n",
       "      <td>Edimat Libros</td>\n",
       "    </tr>\n",
       "  </tbody>\n",
       "</table>\n",
       "</div>"
      ],
      "text/plain": [
       "                                                    title  \\\n",
       "bookID                                                      \n",
       "45617   O Cavalo e o Seu Rapaz (As Crónicas de Nárnia ...   \n",
       "45623    O Sobrinho do Mágico (As Crónicas de Nárnia  #1)   \n",
       "45625   A Viagem do Caminheiro da Alvorada (As Crónica...   \n",
       "45626      O Príncipe Caspian (As Crónicas de Nárnia  #4)   \n",
       "45630                                   Whores for Gloria   \n",
       "45631    Expelled from Eden: A William T. Vollmann Reader   \n",
       "45633                         You Bright and Risen Angels   \n",
       "45634                     The Ice-Shirt (Seven Dreams #1)   \n",
       "45639                                         Poor People   \n",
       "45641                         Las aventuras de Tom Sawyer   \n",
       "\n",
       "                                                  authors  average_rating  \\\n",
       "bookID                                                                      \n",
       "45617         C.S. Lewis/Pauline Baynes/Ana Falcão Bastos            3.92   \n",
       "45623         C.S. Lewis/Pauline Baynes/Ana Falcão Bastos            4.04   \n",
       "45625         C.S. Lewis/Pauline Baynes/Ana Falcão Bastos            4.09   \n",
       "45626         C.S. Lewis/Pauline Baynes/Ana Falcão Bastos            3.97   \n",
       "45630                                 William T. Vollmann            3.69   \n",
       "45631   William T. Vollmann/Larry McCaffery/Michael He...            4.06   \n",
       "45633                                 William T. Vollmann            4.08   \n",
       "45634                                 William T. Vollmann            3.96   \n",
       "45639                                 William T. Vollmann            3.72   \n",
       "45641                                          Mark Twain            3.91   \n",
       "\n",
       "              isbn         isbn13 language_code    num_pages  ratings_count  \\\n",
       "bookID                                                                        \n",
       "45617   9722330551  9789722330558           por          160            207   \n",
       "45623   9722329987  9789722329989           por          147            396   \n",
       "45625   9722331329  9789722331326           por          176            161   \n",
       "45626   9722330977  9789722330978           por          160            215   \n",
       "45630   0140231579  9780140231571         en-US          160            932   \n",
       "45631   1560254416  9781560254416           eng          512            156   \n",
       "45633   0140110879  9780140110876           eng          635            783   \n",
       "45634   0140131965  9780140131963           eng          415            820   \n",
       "45639   0060878827  9780060878825           eng          434            769   \n",
       "45641   8497646983  9788497646987           spa          272            113   \n",
       "\n",
       "        text_reviews_count publication_date           publisher  \n",
       "bookID                                                           \n",
       "45617                   16        8/15/2003  Editorial Presença  \n",
       "45623                   37         4/8/2003  Editorial Presença  \n",
       "45625                   14         9/1/2004  Editorial Presença  \n",
       "45626                   11       10/11/2003  Editorial Presença  \n",
       "45630                  111         2/1/1994       Penguin Books  \n",
       "45631                   20       12/21/2004       Da Capo Press  \n",
       "45633                   56        12/1/1988       Penguin Books  \n",
       "45634                   95         8/1/1993       Penguin Books  \n",
       "45639                  139        2/27/2007                Ecco  \n",
       "45641                   12        5/28/2006       Edimat Libros  "
      ]
     },
     "execution_count": 8,
     "metadata": {},
     "output_type": "execute_result"
    }
   ],
   "source": [
    "# Let's examine the last 10 entries:\n",
    "books.tail(10)"
   ]
  },
  {
   "cell_type": "code",
   "execution_count": 9,
   "id": "1628a8bc",
   "metadata": {},
   "outputs": [
    {
     "name": "stdout",
     "output_type": "stream",
     "text": [
      "<class 'pandas.core.frame.DataFrame'>\n",
      "Int64Index: 11123 entries, 1 to 45641\n",
      "Data columns (total 11 columns):\n",
      " #   Column              Non-Null Count  Dtype  \n",
      "---  ------              --------------  -----  \n",
      " 0   title               11123 non-null  object \n",
      " 1   authors             11123 non-null  object \n",
      " 2   average_rating      11123 non-null  float64\n",
      " 3   isbn                11123 non-null  object \n",
      " 4   isbn13              11123 non-null  int64  \n",
      " 5   language_code       11123 non-null  object \n",
      " 6     num_pages         11123 non-null  int64  \n",
      " 7   ratings_count       11123 non-null  int64  \n",
      " 8   text_reviews_count  11123 non-null  int64  \n",
      " 9   publication_date    11123 non-null  object \n",
      " 10  publisher           11123 non-null  object \n",
      "dtypes: float64(1), int64(4), object(6)\n",
      "memory usage: 1.0+ MB\n"
     ]
    }
   ],
   "source": [
    "# prints information about the DataFrame with Pandas DataFrame info() Method\n",
    "books.info()"
   ]
  },
  {
   "cell_type": "code",
   "execution_count": 10,
   "id": "4a926a89",
   "metadata": {},
   "outputs": [
    {
     "data": {
      "text/html": [
       "<div>\n",
       "<style scoped>\n",
       "    .dataframe tbody tr th:only-of-type {\n",
       "        vertical-align: middle;\n",
       "    }\n",
       "\n",
       "    .dataframe tbody tr th {\n",
       "        vertical-align: top;\n",
       "    }\n",
       "\n",
       "    .dataframe thead th {\n",
       "        text-align: right;\n",
       "    }\n",
       "</style>\n",
       "<table border=\"1\" class=\"dataframe\">\n",
       "  <thead>\n",
       "    <tr style=\"text-align: right;\">\n",
       "      <th></th>\n",
       "      <th>count</th>\n",
       "      <th>unique</th>\n",
       "      <th>top</th>\n",
       "      <th>freq</th>\n",
       "    </tr>\n",
       "  </thead>\n",
       "  <tbody>\n",
       "    <tr>\n",
       "      <th>title</th>\n",
       "      <td>11123</td>\n",
       "      <td>10348</td>\n",
       "      <td>The Iliad</td>\n",
       "      <td>9</td>\n",
       "    </tr>\n",
       "    <tr>\n",
       "      <th>authors</th>\n",
       "      <td>11123</td>\n",
       "      <td>6639</td>\n",
       "      <td>Stephen King</td>\n",
       "      <td>40</td>\n",
       "    </tr>\n",
       "    <tr>\n",
       "      <th>isbn</th>\n",
       "      <td>11123</td>\n",
       "      <td>11123</td>\n",
       "      <td>0439785960</td>\n",
       "      <td>1</td>\n",
       "    </tr>\n",
       "    <tr>\n",
       "      <th>language_code</th>\n",
       "      <td>11123</td>\n",
       "      <td>27</td>\n",
       "      <td>eng</td>\n",
       "      <td>8908</td>\n",
       "    </tr>\n",
       "    <tr>\n",
       "      <th>publication_date</th>\n",
       "      <td>11123</td>\n",
       "      <td>3679</td>\n",
       "      <td>10/1/2005</td>\n",
       "      <td>56</td>\n",
       "    </tr>\n",
       "    <tr>\n",
       "      <th>publisher</th>\n",
       "      <td>11123</td>\n",
       "      <td>2290</td>\n",
       "      <td>Vintage</td>\n",
       "      <td>318</td>\n",
       "    </tr>\n",
       "  </tbody>\n",
       "</table>\n",
       "</div>"
      ],
      "text/plain": [
       "                  count unique           top  freq\n",
       "title             11123  10348     The Iliad     9\n",
       "authors           11123   6639  Stephen King    40\n",
       "isbn              11123  11123    0439785960     1\n",
       "language_code     11123     27           eng  8908\n",
       "publication_date  11123   3679     10/1/2005    56\n",
       "publisher         11123   2290       Vintage   318"
      ]
     },
     "execution_count": 10,
     "metadata": {},
     "output_type": "execute_result"
    }
   ],
   "source": [
    "# The info() method allows us to learn the shape of object types of our data but we also need a summary statistics for numerical columns in our DataFrame.\n",
    "\n",
    "books.describe(include='object').T"
   ]
  },
  {
   "cell_type": "code",
   "execution_count": 11,
   "id": "caa73de2",
   "metadata": {},
   "outputs": [
    {
     "data": {
      "text/html": [
       "<div>\n",
       "<style scoped>\n",
       "    .dataframe tbody tr th:only-of-type {\n",
       "        vertical-align: middle;\n",
       "    }\n",
       "\n",
       "    .dataframe tbody tr th {\n",
       "        vertical-align: top;\n",
       "    }\n",
       "\n",
       "    .dataframe thead th {\n",
       "        text-align: right;\n",
       "    }\n",
       "</style>\n",
       "<table border=\"1\" class=\"dataframe\">\n",
       "  <thead>\n",
       "    <tr style=\"text-align: right;\">\n",
       "      <th></th>\n",
       "      <th>count</th>\n",
       "      <th>mean</th>\n",
       "      <th>std</th>\n",
       "      <th>min</th>\n",
       "      <th>25%</th>\n",
       "      <th>50%</th>\n",
       "      <th>75%</th>\n",
       "      <th>max</th>\n",
       "    </tr>\n",
       "  </thead>\n",
       "  <tbody>\n",
       "    <tr>\n",
       "      <th>average_rating</th>\n",
       "      <td>11123.0</td>\n",
       "      <td>3.934075e+00</td>\n",
       "      <td>3.504853e-01</td>\n",
       "      <td>0.000000e+00</td>\n",
       "      <td>3.770000e+00</td>\n",
       "      <td>3.960000e+00</td>\n",
       "      <td>4.140000e+00</td>\n",
       "      <td>5.000000e+00</td>\n",
       "    </tr>\n",
       "    <tr>\n",
       "      <th>isbn13</th>\n",
       "      <td>11123.0</td>\n",
       "      <td>9.759880e+12</td>\n",
       "      <td>4.429758e+11</td>\n",
       "      <td>8.987060e+09</td>\n",
       "      <td>9.780345e+12</td>\n",
       "      <td>9.780582e+12</td>\n",
       "      <td>9.780872e+12</td>\n",
       "      <td>9.790008e+12</td>\n",
       "    </tr>\n",
       "    <tr>\n",
       "      <th>num_pages</th>\n",
       "      <td>11123.0</td>\n",
       "      <td>3.364056e+02</td>\n",
       "      <td>2.411526e+02</td>\n",
       "      <td>0.000000e+00</td>\n",
       "      <td>1.920000e+02</td>\n",
       "      <td>2.990000e+02</td>\n",
       "      <td>4.160000e+02</td>\n",
       "      <td>6.576000e+03</td>\n",
       "    </tr>\n",
       "    <tr>\n",
       "      <th>ratings_count</th>\n",
       "      <td>11123.0</td>\n",
       "      <td>1.794285e+04</td>\n",
       "      <td>1.124992e+05</td>\n",
       "      <td>0.000000e+00</td>\n",
       "      <td>1.040000e+02</td>\n",
       "      <td>7.450000e+02</td>\n",
       "      <td>5.000500e+03</td>\n",
       "      <td>4.597666e+06</td>\n",
       "    </tr>\n",
       "    <tr>\n",
       "      <th>text_reviews_count</th>\n",
       "      <td>11123.0</td>\n",
       "      <td>5.420481e+02</td>\n",
       "      <td>2.576620e+03</td>\n",
       "      <td>0.000000e+00</td>\n",
       "      <td>9.000000e+00</td>\n",
       "      <td>4.700000e+01</td>\n",
       "      <td>2.380000e+02</td>\n",
       "      <td>9.426500e+04</td>\n",
       "    </tr>\n",
       "  </tbody>\n",
       "</table>\n",
       "</div>"
      ],
      "text/plain": [
       "                      count          mean           std           min  \\\n",
       "average_rating      11123.0  3.934075e+00  3.504853e-01  0.000000e+00   \n",
       "isbn13              11123.0  9.759880e+12  4.429758e+11  8.987060e+09   \n",
       "  num_pages         11123.0  3.364056e+02  2.411526e+02  0.000000e+00   \n",
       "ratings_count       11123.0  1.794285e+04  1.124992e+05  0.000000e+00   \n",
       "text_reviews_count  11123.0  5.420481e+02  2.576620e+03  0.000000e+00   \n",
       "\n",
       "                             25%           50%           75%           max  \n",
       "average_rating      3.770000e+00  3.960000e+00  4.140000e+00  5.000000e+00  \n",
       "isbn13              9.780345e+12  9.780582e+12  9.780872e+12  9.790008e+12  \n",
       "  num_pages         1.920000e+02  2.990000e+02  4.160000e+02  6.576000e+03  \n",
       "ratings_count       1.040000e+02  7.450000e+02  5.000500e+03  4.597666e+06  \n",
       "text_reviews_count  9.000000e+00  4.700000e+01  2.380000e+02  9.426500e+04  "
      ]
     },
     "execution_count": 11,
     "metadata": {},
     "output_type": "execute_result"
    }
   ],
   "source": [
    "books.describe(exclude='object').T"
   ]
  },
  {
   "cell_type": "markdown",
   "id": "98016e70",
   "metadata": {},
   "source": [
    "Average rating\n",
    "On an average, books average_rating is about 3.9. Also, Only 25 percentile of the books have ratings lower than 3.77 - a fact reflected in the standard deviation as well.\n",
    "\n",
    "Number of pages\n",
    "Roughly we could say that number of pages are increasing with the increasing book ratings. But we need to verify the trend with more scientific means.\n",
    "\n",
    "Ratings count\n",
    "It seems that less than 25 percentile books have about 100 or lesser ratings count. In general, that could be considered as good aspect of the data. Since number of ratings can affect the quality of average ratings for any book.\n",
    "\n",
    "Text Review counts\n",
    "Hypothetically, the written text reviews a book received can also be measure of confidence on the quality of ratings. Here first 25 percentile of the books have 9 or lesser text_review_counts whereas last 25 percentile of books have more than 238 text_count_reviews.\n",
    "\n"
   ]
  },
  {
   "cell_type": "code",
   "execution_count": 12,
   "id": "30f8c0b2",
   "metadata": {},
   "outputs": [
    {
     "name": "stdout",
     "output_type": "stream",
     "text": [
      "the number of rows is : 11123 and columns is : 11\n"
     ]
    }
   ],
   "source": [
    "# we also need to be aware of the dimension of our data\n",
    "\n",
    "books.shape\n",
    "print('the number of rows is :', books.shape[0] ,'and columns is :', books.shape[1])"
   ]
  },
  {
   "cell_type": "markdown",
   "id": "40b039bf",
   "metadata": {},
   "source": [
    "Data Cleaning, Exploratory Analysis and Relevant Charts:\n",
    "fixing or removing incorrect, corrupted, incorrectly formatted, duplicate, or incomplete data within our dataset."
   ]
  },
  {
   "cell_type": "code",
   "execution_count": 13,
   "id": "9c8ba405",
   "metadata": {},
   "outputs": [
    {
     "data": {
      "text/plain": [
       "title                 0\n",
       "authors               0\n",
       "average_rating        0\n",
       "isbn                  0\n",
       "isbn13                0\n",
       "language_code         0\n",
       "  num_pages           0\n",
       "ratings_count         0\n",
       "text_reviews_count    0\n",
       "publication_date      0\n",
       "publisher             0\n",
       "dtype: int64"
      ]
     },
     "execution_count": 13,
     "metadata": {},
     "output_type": "execute_result"
    }
   ],
   "source": [
    "# Detect missing data\n",
    "books.isna().sum()"
   ]
  },
  {
   "cell_type": "markdown",
   "id": "fee94574",
   "metadata": {},
   "source": [
    "Null data doesn't appear"
   ]
  },
  {
   "cell_type": "code",
   "execution_count": 14,
   "id": "ce5c6bf6",
   "metadata": {},
   "outputs": [
    {
     "data": {
      "text/plain": [
       "title                 0\n",
       "authors               0\n",
       "average_rating        0\n",
       "isbn                  0\n",
       "isbn13                0\n",
       "language_code         0\n",
       "  num_pages           0\n",
       "ratings_count         0\n",
       "text_reviews_count    0\n",
       "publication_date      0\n",
       "publisher             0\n",
       "dtype: int64"
      ]
     },
     "execution_count": 14,
     "metadata": {},
     "output_type": "execute_result"
    }
   ],
   "source": [
    "# Replace Blank values with DataFrame.replace() methods.\n",
    "books = books.replace('', np.nan, regex=True)\n",
    "books.isna().sum()"
   ]
  },
  {
   "cell_type": "code",
   "execution_count": 15,
   "id": "ae8cb8d9",
   "metadata": {},
   "outputs": [
    {
     "data": {
      "text/plain": [
       "11123"
      ]
     },
     "execution_count": 15,
     "metadata": {},
     "output_type": "execute_result"
    }
   ],
   "source": [
    "books['isbn'].nunique()"
   ]
  },
  {
   "cell_type": "code",
   "execution_count": 16,
   "id": "b7c7e86d",
   "metadata": {},
   "outputs": [
    {
     "data": {
      "text/plain": [
       "10/1/2005     56\n",
       "11/1/2005     53\n",
       "9/1/2006      51\n",
       "10/1/2006     48\n",
       "11/1/2006     40\n",
       "              ..\n",
       "11/7/1995      1\n",
       "9/28/2001      1\n",
       "9/1/1925       1\n",
       "1/3/2012       1\n",
       "10/11/2003     1\n",
       "Name: publication_date, Length: 3679, dtype: int64"
      ]
     },
     "execution_count": 16,
     "metadata": {},
     "output_type": "execute_result"
    }
   ],
   "source": [
    "books['publication_date'].value_counts()"
   ]
  },
  {
   "cell_type": "code",
   "execution_count": 17,
   "id": "85536639",
   "metadata": {},
   "outputs": [
    {
     "data": {
      "text/plain": [
       "0"
      ]
     },
     "execution_count": 17,
     "metadata": {},
     "output_type": "execute_result"
    }
   ],
   "source": [
    "books['publisher'].isnull().sum()"
   ]
  },
  {
   "cell_type": "code",
   "execution_count": 18,
   "id": "0f2e7644",
   "metadata": {},
   "outputs": [],
   "source": [
    "def statics(data):\n",
    "    stats = []\n",
    "    for col in data.columns:\n",
    "        stats.append((col, data[col].nunique(), data[col].isnull().sum() * 100 / data.shape[0],\n",
    "                      data[col].value_counts(normalize=True, dropna=False).values[0] * 100, data[col].dtype))\n",
    "\n",
    "    stats_books = pd.DataFrame(stats, columns=['Feature', 'Unique_values', 'Percentage_of_missing_values',\n",
    "                                            'Percentage_of_values_in_the_biggest category', 'type'])\n",
    "    stats_books.sort_values('Percentage_of_missing_values', ascending=False, inplace=True)\n",
    "    return stats_books"
   ]
  },
  {
   "cell_type": "code",
   "execution_count": 19,
   "id": "e8807867",
   "metadata": {},
   "outputs": [
    {
     "data": {
      "text/html": [
       "<div>\n",
       "<style scoped>\n",
       "    .dataframe tbody tr th:only-of-type {\n",
       "        vertical-align: middle;\n",
       "    }\n",
       "\n",
       "    .dataframe tbody tr th {\n",
       "        vertical-align: top;\n",
       "    }\n",
       "\n",
       "    .dataframe thead th {\n",
       "        text-align: right;\n",
       "    }\n",
       "</style>\n",
       "<table border=\"1\" class=\"dataframe\">\n",
       "  <thead>\n",
       "    <tr style=\"text-align: right;\">\n",
       "      <th></th>\n",
       "      <th>Feature</th>\n",
       "      <th>Unique_values</th>\n",
       "      <th>Percentage_of_missing_values</th>\n",
       "      <th>Percentage_of_values_in_the_biggest category</th>\n",
       "      <th>type</th>\n",
       "    </tr>\n",
       "  </thead>\n",
       "  <tbody>\n",
       "    <tr>\n",
       "      <th>0</th>\n",
       "      <td>title</td>\n",
       "      <td>10348</td>\n",
       "      <td>0.0</td>\n",
       "      <td>0.080913</td>\n",
       "      <td>object</td>\n",
       "    </tr>\n",
       "    <tr>\n",
       "      <th>1</th>\n",
       "      <td>authors</td>\n",
       "      <td>6639</td>\n",
       "      <td>0.0</td>\n",
       "      <td>0.359615</td>\n",
       "      <td>object</td>\n",
       "    </tr>\n",
       "    <tr>\n",
       "      <th>2</th>\n",
       "      <td>average_rating</td>\n",
       "      <td>209</td>\n",
       "      <td>0.0</td>\n",
       "      <td>1.968893</td>\n",
       "      <td>float64</td>\n",
       "    </tr>\n",
       "    <tr>\n",
       "      <th>3</th>\n",
       "      <td>isbn</td>\n",
       "      <td>11123</td>\n",
       "      <td>0.0</td>\n",
       "      <td>0.008990</td>\n",
       "      <td>object</td>\n",
       "    </tr>\n",
       "    <tr>\n",
       "      <th>4</th>\n",
       "      <td>isbn13</td>\n",
       "      <td>11123</td>\n",
       "      <td>0.0</td>\n",
       "      <td>0.008990</td>\n",
       "      <td>int64</td>\n",
       "    </tr>\n",
       "    <tr>\n",
       "      <th>5</th>\n",
       "      <td>language_code</td>\n",
       "      <td>27</td>\n",
       "      <td>0.0</td>\n",
       "      <td>80.086308</td>\n",
       "      <td>object</td>\n",
       "    </tr>\n",
       "    <tr>\n",
       "      <th>6</th>\n",
       "      <td>num_pages</td>\n",
       "      <td>997</td>\n",
       "      <td>0.0</td>\n",
       "      <td>2.067787</td>\n",
       "      <td>int64</td>\n",
       "    </tr>\n",
       "    <tr>\n",
       "      <th>7</th>\n",
       "      <td>ratings_count</td>\n",
       "      <td>5294</td>\n",
       "      <td>0.0</td>\n",
       "      <td>0.737211</td>\n",
       "      <td>int64</td>\n",
       "    </tr>\n",
       "    <tr>\n",
       "      <th>8</th>\n",
       "      <td>text_reviews_count</td>\n",
       "      <td>1822</td>\n",
       "      <td>0.0</td>\n",
       "      <td>5.609997</td>\n",
       "      <td>int64</td>\n",
       "    </tr>\n",
       "    <tr>\n",
       "      <th>9</th>\n",
       "      <td>publication_date</td>\n",
       "      <td>3679</td>\n",
       "      <td>0.0</td>\n",
       "      <td>0.503461</td>\n",
       "      <td>object</td>\n",
       "    </tr>\n",
       "    <tr>\n",
       "      <th>10</th>\n",
       "      <td>publisher</td>\n",
       "      <td>2290</td>\n",
       "      <td>0.0</td>\n",
       "      <td>2.858941</td>\n",
       "      <td>object</td>\n",
       "    </tr>\n",
       "  </tbody>\n",
       "</table>\n",
       "</div>"
      ],
      "text/plain": [
       "               Feature  Unique_values  Percentage_of_missing_values  \\\n",
       "0                title          10348                           0.0   \n",
       "1              authors           6639                           0.0   \n",
       "2       average_rating            209                           0.0   \n",
       "3                 isbn          11123                           0.0   \n",
       "4               isbn13          11123                           0.0   \n",
       "5        language_code             27                           0.0   \n",
       "6            num_pages            997                           0.0   \n",
       "7        ratings_count           5294                           0.0   \n",
       "8   text_reviews_count           1822                           0.0   \n",
       "9     publication_date           3679                           0.0   \n",
       "10           publisher           2290                           0.0   \n",
       "\n",
       "    Percentage_of_values_in_the_biggest category     type  \n",
       "0                                       0.080913   object  \n",
       "1                                       0.359615   object  \n",
       "2                                       1.968893  float64  \n",
       "3                                       0.008990   object  \n",
       "4                                       0.008990    int64  \n",
       "5                                      80.086308   object  \n",
       "6                                       2.067787    int64  \n",
       "7                                       0.737211    int64  \n",
       "8                                       5.609997    int64  \n",
       "9                                       0.503461   object  \n",
       "10                                      2.858941   object  "
      ]
     },
     "execution_count": 19,
     "metadata": {},
     "output_type": "execute_result"
    }
   ],
   "source": [
    "statics(books)"
   ]
  },
  {
   "cell_type": "code",
   "execution_count": 21,
   "id": "a4e1175f",
   "metadata": {},
   "outputs": [],
   "source": [
    "#books.isbn.value_counts()[:15]"
   ]
  },
  {
   "cell_type": "code",
   "execution_count": 22,
   "id": "247734a5",
   "metadata": {},
   "outputs": [],
   "source": [
    "#books['average_rating'].describe()"
   ]
  },
  {
   "cell_type": "code",
   "execution_count": 23,
   "id": "9e666adf",
   "metadata": {},
   "outputs": [],
   "source": [
    "#print('unique titles rows: ', books['title'].nunique() & books['isbn'].nunique()& books['publisher'].nunique(),'and total rows :', books.shape[0])"
   ]
  },
  {
   "cell_type": "code",
   "execution_count": 24,
   "id": "3b7f8296",
   "metadata": {},
   "outputs": [],
   "source": [
    "# look for duplicate in title \n",
    "#print('unique titles rows: ', books['title'].nunique() & books['authors'].nunique()& books['publisher'].nunique(),'and total rows :', books.shape[0])"
   ]
  },
  {
   "cell_type": "code",
   "execution_count": 25,
   "id": "de704e4e",
   "metadata": {},
   "outputs": [],
   "source": [
    "# remove duplicated rows\n",
    "#books.drop_duplicates(subset =[\"title\", \"authors\", \"publisher\"], keep = 'first', inplace=True)"
   ]
  },
  {
   "cell_type": "code",
   "execution_count": 20,
   "id": "0c88aaa8",
   "metadata": {},
   "outputs": [
    {
     "data": {
      "text/plain": [
       "(11123, 11)"
      ]
     },
     "execution_count": 20,
     "metadata": {},
     "output_type": "execute_result"
    }
   ],
   "source": [
    "books.shape"
   ]
  },
  {
   "cell_type": "code",
   "execution_count": 21,
   "id": "5a2d6ab2",
   "metadata": {},
   "outputs": [
    {
     "data": {
      "text/plain": [
       "10/1/2005     56\n",
       "11/1/2005     53\n",
       "9/1/2006      51\n",
       "10/1/2006     48\n",
       "11/1/2006     40\n",
       "              ..\n",
       "11/7/1995      1\n",
       "9/28/2001      1\n",
       "9/1/1925       1\n",
       "1/3/2012       1\n",
       "10/11/2003     1\n",
       "Name: publication_date, Length: 3679, dtype: int64"
      ]
     },
     "execution_count": 21,
     "metadata": {},
     "output_type": "execute_result"
    }
   ],
   "source": [
    "books['publication_date'].value_counts()"
   ]
  },
  {
   "cell_type": "code",
   "execution_count": 22,
   "id": "19810930",
   "metadata": {},
   "outputs": [
    {
     "data": {
      "text/plain": [
       "bookID\n",
       "1         9/16/2006\n",
       "2          9/1/2004\n",
       "4         11/1/2003\n",
       "5          5/1/2004\n",
       "8         9/13/2004\n",
       "            ...    \n",
       "45631    12/21/2004\n",
       "45633     12/1/1988\n",
       "45634      8/1/1993\n",
       "45639     2/27/2007\n",
       "45641     5/28/2006\n",
       "Name: publication_date, Length: 11123, dtype: object"
      ]
     },
     "execution_count": 22,
     "metadata": {},
     "output_type": "execute_result"
    }
   ],
   "source": [
    "books.loc[:,'publication_date']"
   ]
  },
  {
   "cell_type": "code",
   "execution_count": 23,
   "id": "55bb53a1",
   "metadata": {},
   "outputs": [
    {
     "data": {
      "text/plain": [
       "(11123, 11)"
      ]
     },
     "execution_count": 23,
     "metadata": {},
     "output_type": "execute_result"
    }
   ],
   "source": [
    "books.shape"
   ]
  },
  {
   "cell_type": "code",
   "execution_count": 24,
   "id": "61673499",
   "metadata": {},
   "outputs": [
    {
     "data": {
      "text/plain": [
       "eng      8908\n",
       "en-US    1408\n",
       "spa       218\n",
       "en-GB     214\n",
       "fre       144\n",
       "ger        99\n",
       "jpn        46\n",
       "mul        19\n",
       "zho        14\n",
       "grc        11\n",
       "por        10\n",
       "en-CA       7\n",
       "ita         5\n",
       "enm         3\n",
       "lat         3\n",
       "swe         2\n",
       "rus         2\n",
       "srp         1\n",
       "nl          1\n",
       "msa         1\n",
       "glg         1\n",
       "wel         1\n",
       "ara         1\n",
       "nor         1\n",
       "tur         1\n",
       "gla         1\n",
       "ale         1\n",
       "Name: language_code, dtype: int64"
      ]
     },
     "execution_count": 24,
     "metadata": {},
     "output_type": "execute_result"
    }
   ],
   "source": [
    "# We will extract the name of the 'language code' for further One-Hot Encoding\n",
    "\n",
    "books['language_code'].value_counts()"
   ]
  },
  {
   "cell_type": "code",
   "execution_count": 25,
   "id": "87766a77",
   "metadata": {},
   "outputs": [],
   "source": [
    "# There is comlete function for One-Hot Encoding in pandas  - get_dummies.\n",
    "# books = pd.get_dummies(dooks, columns=['language_code'], prefix='', prefix_sep='',dummy_na=False)"
   ]
  },
  {
   "cell_type": "code",
   "execution_count": 26,
   "id": "da80b3d4",
   "metadata": {},
   "outputs": [
    {
     "data": {
      "text/html": [
       "<div>\n",
       "<style scoped>\n",
       "    .dataframe tbody tr th:only-of-type {\n",
       "        vertical-align: middle;\n",
       "    }\n",
       "\n",
       "    .dataframe tbody tr th {\n",
       "        vertical-align: top;\n",
       "    }\n",
       "\n",
       "    .dataframe thead th {\n",
       "        text-align: right;\n",
       "    }\n",
       "</style>\n",
       "<table border=\"1\" class=\"dataframe\">\n",
       "  <thead>\n",
       "    <tr style=\"text-align: right;\">\n",
       "      <th></th>\n",
       "      <th>title</th>\n",
       "      <th>authors</th>\n",
       "      <th>average_rating</th>\n",
       "      <th>isbn</th>\n",
       "      <th>isbn13</th>\n",
       "      <th>language_code</th>\n",
       "      <th>num_pages</th>\n",
       "      <th>ratings_count</th>\n",
       "      <th>text_reviews_count</th>\n",
       "      <th>publisher</th>\n",
       "    </tr>\n",
       "    <tr>\n",
       "      <th>bookID</th>\n",
       "      <th></th>\n",
       "      <th></th>\n",
       "      <th></th>\n",
       "      <th></th>\n",
       "      <th></th>\n",
       "      <th></th>\n",
       "      <th></th>\n",
       "      <th></th>\n",
       "      <th></th>\n",
       "      <th></th>\n",
       "    </tr>\n",
       "  </thead>\n",
       "  <tbody>\n",
       "    <tr>\n",
       "      <th>1</th>\n",
       "      <td>Harry Potter and the Half-Blood Prince (Harry ...</td>\n",
       "      <td>J.K. Rowling/Mary GrandPré</td>\n",
       "      <td>4.57</td>\n",
       "      <td>0439785960</td>\n",
       "      <td>9780439785969</td>\n",
       "      <td>eng</td>\n",
       "      <td>652</td>\n",
       "      <td>2095690</td>\n",
       "      <td>27591</td>\n",
       "      <td>Scholastic Inc.</td>\n",
       "    </tr>\n",
       "    <tr>\n",
       "      <th>2</th>\n",
       "      <td>Harry Potter and the Order of the Phoenix (Har...</td>\n",
       "      <td>J.K. Rowling/Mary GrandPré</td>\n",
       "      <td>4.49</td>\n",
       "      <td>0439358078</td>\n",
       "      <td>9780439358071</td>\n",
       "      <td>eng</td>\n",
       "      <td>870</td>\n",
       "      <td>2153167</td>\n",
       "      <td>29221</td>\n",
       "      <td>Scholastic Inc.</td>\n",
       "    </tr>\n",
       "    <tr>\n",
       "      <th>4</th>\n",
       "      <td>Harry Potter and the Chamber of Secrets (Harry...</td>\n",
       "      <td>J.K. Rowling</td>\n",
       "      <td>4.42</td>\n",
       "      <td>0439554896</td>\n",
       "      <td>9780439554893</td>\n",
       "      <td>eng</td>\n",
       "      <td>352</td>\n",
       "      <td>6333</td>\n",
       "      <td>244</td>\n",
       "      <td>Scholastic</td>\n",
       "    </tr>\n",
       "    <tr>\n",
       "      <th>5</th>\n",
       "      <td>Harry Potter and the Prisoner of Azkaban (Harr...</td>\n",
       "      <td>J.K. Rowling/Mary GrandPré</td>\n",
       "      <td>4.56</td>\n",
       "      <td>043965548X</td>\n",
       "      <td>9780439655484</td>\n",
       "      <td>eng</td>\n",
       "      <td>435</td>\n",
       "      <td>2339585</td>\n",
       "      <td>36325</td>\n",
       "      <td>Scholastic Inc.</td>\n",
       "    </tr>\n",
       "    <tr>\n",
       "      <th>8</th>\n",
       "      <td>Harry Potter Boxed Set  Books 1-5 (Harry Potte...</td>\n",
       "      <td>J.K. Rowling/Mary GrandPré</td>\n",
       "      <td>4.78</td>\n",
       "      <td>0439682584</td>\n",
       "      <td>9780439682589</td>\n",
       "      <td>eng</td>\n",
       "      <td>2690</td>\n",
       "      <td>41428</td>\n",
       "      <td>164</td>\n",
       "      <td>Scholastic</td>\n",
       "    </tr>\n",
       "    <tr>\n",
       "      <th>...</th>\n",
       "      <td>...</td>\n",
       "      <td>...</td>\n",
       "      <td>...</td>\n",
       "      <td>...</td>\n",
       "      <td>...</td>\n",
       "      <td>...</td>\n",
       "      <td>...</td>\n",
       "      <td>...</td>\n",
       "      <td>...</td>\n",
       "      <td>...</td>\n",
       "    </tr>\n",
       "    <tr>\n",
       "      <th>45631</th>\n",
       "      <td>Expelled from Eden: A William T. Vollmann Reader</td>\n",
       "      <td>William T. Vollmann/Larry McCaffery/Michael He...</td>\n",
       "      <td>4.06</td>\n",
       "      <td>1560254416</td>\n",
       "      <td>9781560254416</td>\n",
       "      <td>eng</td>\n",
       "      <td>512</td>\n",
       "      <td>156</td>\n",
       "      <td>20</td>\n",
       "      <td>Da Capo Press</td>\n",
       "    </tr>\n",
       "    <tr>\n",
       "      <th>45633</th>\n",
       "      <td>You Bright and Risen Angels</td>\n",
       "      <td>William T. Vollmann</td>\n",
       "      <td>4.08</td>\n",
       "      <td>0140110879</td>\n",
       "      <td>9780140110876</td>\n",
       "      <td>eng</td>\n",
       "      <td>635</td>\n",
       "      <td>783</td>\n",
       "      <td>56</td>\n",
       "      <td>Penguin Books</td>\n",
       "    </tr>\n",
       "    <tr>\n",
       "      <th>45634</th>\n",
       "      <td>The Ice-Shirt (Seven Dreams #1)</td>\n",
       "      <td>William T. Vollmann</td>\n",
       "      <td>3.96</td>\n",
       "      <td>0140131965</td>\n",
       "      <td>9780140131963</td>\n",
       "      <td>eng</td>\n",
       "      <td>415</td>\n",
       "      <td>820</td>\n",
       "      <td>95</td>\n",
       "      <td>Penguin Books</td>\n",
       "    </tr>\n",
       "    <tr>\n",
       "      <th>45639</th>\n",
       "      <td>Poor People</td>\n",
       "      <td>William T. Vollmann</td>\n",
       "      <td>3.72</td>\n",
       "      <td>0060878827</td>\n",
       "      <td>9780060878825</td>\n",
       "      <td>eng</td>\n",
       "      <td>434</td>\n",
       "      <td>769</td>\n",
       "      <td>139</td>\n",
       "      <td>Ecco</td>\n",
       "    </tr>\n",
       "    <tr>\n",
       "      <th>45641</th>\n",
       "      <td>Las aventuras de Tom Sawyer</td>\n",
       "      <td>Mark Twain</td>\n",
       "      <td>3.91</td>\n",
       "      <td>8497646983</td>\n",
       "      <td>9788497646987</td>\n",
       "      <td>spa</td>\n",
       "      <td>272</td>\n",
       "      <td>113</td>\n",
       "      <td>12</td>\n",
       "      <td>Edimat Libros</td>\n",
       "    </tr>\n",
       "  </tbody>\n",
       "</table>\n",
       "<p>11123 rows × 10 columns</p>\n",
       "</div>"
      ],
      "text/plain": [
       "                                                    title  \\\n",
       "bookID                                                      \n",
       "1       Harry Potter and the Half-Blood Prince (Harry ...   \n",
       "2       Harry Potter and the Order of the Phoenix (Har...   \n",
       "4       Harry Potter and the Chamber of Secrets (Harry...   \n",
       "5       Harry Potter and the Prisoner of Azkaban (Harr...   \n",
       "8       Harry Potter Boxed Set  Books 1-5 (Harry Potte...   \n",
       "...                                                   ...   \n",
       "45631    Expelled from Eden: A William T. Vollmann Reader   \n",
       "45633                         You Bright and Risen Angels   \n",
       "45634                     The Ice-Shirt (Seven Dreams #1)   \n",
       "45639                                         Poor People   \n",
       "45641                         Las aventuras de Tom Sawyer   \n",
       "\n",
       "                                                  authors  average_rating  \\\n",
       "bookID                                                                      \n",
       "1                              J.K. Rowling/Mary GrandPré            4.57   \n",
       "2                              J.K. Rowling/Mary GrandPré            4.49   \n",
       "4                                            J.K. Rowling            4.42   \n",
       "5                              J.K. Rowling/Mary GrandPré            4.56   \n",
       "8                              J.K. Rowling/Mary GrandPré            4.78   \n",
       "...                                                   ...             ...   \n",
       "45631   William T. Vollmann/Larry McCaffery/Michael He...            4.06   \n",
       "45633                                 William T. Vollmann            4.08   \n",
       "45634                                 William T. Vollmann            3.96   \n",
       "45639                                 William T. Vollmann            3.72   \n",
       "45641                                          Mark Twain            3.91   \n",
       "\n",
       "              isbn         isbn13 language_code    num_pages  ratings_count  \\\n",
       "bookID                                                                        \n",
       "1       0439785960  9780439785969           eng          652        2095690   \n",
       "2       0439358078  9780439358071           eng          870        2153167   \n",
       "4       0439554896  9780439554893           eng          352           6333   \n",
       "5       043965548X  9780439655484           eng          435        2339585   \n",
       "8       0439682584  9780439682589           eng         2690          41428   \n",
       "...            ...            ...           ...          ...            ...   \n",
       "45631   1560254416  9781560254416           eng          512            156   \n",
       "45633   0140110879  9780140110876           eng          635            783   \n",
       "45634   0140131965  9780140131963           eng          415            820   \n",
       "45639   0060878827  9780060878825           eng          434            769   \n",
       "45641   8497646983  9788497646987           spa          272            113   \n",
       "\n",
       "        text_reviews_count        publisher  \n",
       "bookID                                       \n",
       "1                    27591  Scholastic Inc.  \n",
       "2                    29221  Scholastic Inc.  \n",
       "4                      244       Scholastic  \n",
       "5                    36325  Scholastic Inc.  \n",
       "8                      164       Scholastic  \n",
       "...                    ...              ...  \n",
       "45631                   20    Da Capo Press  \n",
       "45633                   56    Penguin Books  \n",
       "45634                   95    Penguin Books  \n",
       "45639                  139             Ecco  \n",
       "45641                   12    Edimat Libros  \n",
       "\n",
       "[11123 rows x 10 columns]"
      ]
     },
     "execution_count": 26,
     "metadata": {},
     "output_type": "execute_result"
    }
   ],
   "source": [
    "books.iloc[:,books.columns != 'publication_date']"
   ]
  },
  {
   "cell_type": "code",
   "execution_count": 27,
   "id": "fd053ab2",
   "metadata": {},
   "outputs": [],
   "source": [
    "# irrelevant features: we want to predict ratings but our dataset includes isbn, isbn13. we might remove those irrelevant observations. This can make analysis more efficient and minimize distraction from our primary target—as well as creating a more manageable and more performant dataset.\n",
    "\n",
    "books_new = books.drop(columns=[\"isbn13\", \"isbn\"])\n"
   ]
  },
  {
   "cell_type": "markdown",
   "id": "56bc9109",
   "metadata": {},
   "source": [
    "For example for the book \"Treasure Island\":"
   ]
  },
  {
   "cell_type": "code",
   "execution_count": 28,
   "id": "23cf94fc",
   "metadata": {
    "scrolled": true
   },
   "outputs": [
    {
     "data": {
      "text/html": [
       "<div>\n",
       "<style scoped>\n",
       "    .dataframe tbody tr th:only-of-type {\n",
       "        vertical-align: middle;\n",
       "    }\n",
       "\n",
       "    .dataframe tbody tr th {\n",
       "        vertical-align: top;\n",
       "    }\n",
       "\n",
       "    .dataframe thead th {\n",
       "        text-align: right;\n",
       "    }\n",
       "</style>\n",
       "<table border=\"1\" class=\"dataframe\">\n",
       "  <thead>\n",
       "    <tr style=\"text-align: right;\">\n",
       "      <th></th>\n",
       "      <th>title</th>\n",
       "      <th>authors</th>\n",
       "      <th>average_rating</th>\n",
       "      <th>language_code</th>\n",
       "      <th>num_pages</th>\n",
       "      <th>ratings_count</th>\n",
       "      <th>text_reviews_count</th>\n",
       "      <th>publication_date</th>\n",
       "      <th>publisher</th>\n",
       "    </tr>\n",
       "    <tr>\n",
       "      <th>bookID</th>\n",
       "      <th></th>\n",
       "      <th></th>\n",
       "      <th></th>\n",
       "      <th></th>\n",
       "      <th></th>\n",
       "      <th></th>\n",
       "      <th></th>\n",
       "      <th></th>\n",
       "      <th></th>\n",
       "    </tr>\n",
       "  </thead>\n",
       "  <tbody>\n",
       "    <tr>\n",
       "      <th>295</th>\n",
       "      <td>Treasure Island</td>\n",
       "      <td>Robert Louis Stevenson</td>\n",
       "      <td>3.83</td>\n",
       "      <td>eng</td>\n",
       "      <td>311</td>\n",
       "      <td>318753</td>\n",
       "      <td>6734</td>\n",
       "      <td>9/15/2001</td>\n",
       "      <td>Kingfisher</td>\n",
       "    </tr>\n",
       "    <tr>\n",
       "      <th>297</th>\n",
       "      <td>Treasure Island</td>\n",
       "      <td>Robert Louis Stevenson</td>\n",
       "      <td>3.83</td>\n",
       "      <td>eng</td>\n",
       "      <td>245</td>\n",
       "      <td>5967</td>\n",
       "      <td>276</td>\n",
       "      <td>6/1/2005</td>\n",
       "      <td>Simon &amp; Schuster</td>\n",
       "    </tr>\n",
       "  </tbody>\n",
       "</table>\n",
       "</div>"
      ],
      "text/plain": [
       "                  title                 authors  average_rating language_code  \\\n",
       "bookID                                                                          \n",
       "295     Treasure Island  Robert Louis Stevenson            3.83           eng   \n",
       "297     Treasure Island  Robert Louis Stevenson            3.83           eng   \n",
       "\n",
       "          num_pages  ratings_count  text_reviews_count publication_date  \\\n",
       "bookID                                                                    \n",
       "295             311         318753                6734        9/15/2001   \n",
       "297             245           5967                 276         6/1/2005   \n",
       "\n",
       "               publisher  \n",
       "bookID                    \n",
       "295           Kingfisher  \n",
       "297     Simon & Schuster  "
      ]
     },
     "execution_count": 28,
     "metadata": {},
     "output_type": "execute_result"
    }
   ],
   "source": [
    "books_new.loc[(books_new['title'] == \"Treasure Island\") & (books_new['language_code'] == \"eng\") & (books_new['authors'] ==  \"Robert Louis Stevenson\")]"
   ]
  },
  {
   "cell_type": "markdown",
   "id": "939a5472",
   "metadata": {},
   "source": [
    "We'll keep the book that has more ratings count so that the analysis is more reliable. To do this, we sort the dataset in ascending order (smaller to larger) according to the number of votes and then delete the first (lower)."
   ]
  },
  {
   "cell_type": "code",
   "execution_count": 29,
   "id": "aebefe51",
   "metadata": {},
   "outputs": [
    {
     "data": {
      "text/html": [
       "<div>\n",
       "<style scoped>\n",
       "    .dataframe tbody tr th:only-of-type {\n",
       "        vertical-align: middle;\n",
       "    }\n",
       "\n",
       "    .dataframe tbody tr th {\n",
       "        vertical-align: top;\n",
       "    }\n",
       "\n",
       "    .dataframe thead th {\n",
       "        text-align: right;\n",
       "    }\n",
       "</style>\n",
       "<table border=\"1\" class=\"dataframe\">\n",
       "  <thead>\n",
       "    <tr style=\"text-align: right;\">\n",
       "      <th></th>\n",
       "      <th>title</th>\n",
       "      <th>authors</th>\n",
       "      <th>average_rating</th>\n",
       "      <th>language_code</th>\n",
       "      <th>num_pages</th>\n",
       "      <th>ratings_count</th>\n",
       "      <th>text_reviews_count</th>\n",
       "      <th>publication_date</th>\n",
       "      <th>publisher</th>\n",
       "    </tr>\n",
       "    <tr>\n",
       "      <th>bookID</th>\n",
       "      <th></th>\n",
       "      <th></th>\n",
       "      <th></th>\n",
       "      <th></th>\n",
       "      <th></th>\n",
       "      <th></th>\n",
       "      <th></th>\n",
       "      <th></th>\n",
       "      <th></th>\n",
       "    </tr>\n",
       "  </thead>\n",
       "  <tbody>\n",
       "    <tr>\n",
       "      <th>21</th>\n",
       "      <td>A Short History of Nearly Everything</td>\n",
       "      <td>Bill Bryson</td>\n",
       "      <td>4.21</td>\n",
       "      <td>eng</td>\n",
       "      <td>544</td>\n",
       "      <td>248558</td>\n",
       "      <td>9396</td>\n",
       "      <td>9/14/2004</td>\n",
       "      <td>Broadway Books</td>\n",
       "    </tr>\n",
       "    <tr>\n",
       "      <th>144</th>\n",
       "      <td>Ruby Ann's Down Home Trailer Park BBQin' Cookbook</td>\n",
       "      <td>Ruby Ann Boxcar</td>\n",
       "      <td>4.08</td>\n",
       "      <td>eng</td>\n",
       "      <td>206</td>\n",
       "      <td>13</td>\n",
       "      <td>2</td>\n",
       "      <td>5/3/2005</td>\n",
       "      <td>Citadel</td>\n",
       "    </tr>\n",
       "    <tr>\n",
       "      <th>182</th>\n",
       "      <td>Literature Circle Guide: A Wrinkle in Time</td>\n",
       "      <td>Tara MacCarthy</td>\n",
       "      <td>3.60</td>\n",
       "      <td>eng</td>\n",
       "      <td>32</td>\n",
       "      <td>15</td>\n",
       "      <td>0</td>\n",
       "      <td>1/1/2002</td>\n",
       "      <td>Teaching Resources</td>\n",
       "    </tr>\n",
       "    <tr>\n",
       "      <th>247</th>\n",
       "      <td>Quiet Days in Clichy</td>\n",
       "      <td>Henry Miller</td>\n",
       "      <td>3.69</td>\n",
       "      <td>eng</td>\n",
       "      <td>154</td>\n",
       "      <td>3381</td>\n",
       "      <td>141</td>\n",
       "      <td>1/13/1994</td>\n",
       "      <td>Grove Press</td>\n",
       "    </tr>\n",
       "    <tr>\n",
       "      <th>251</th>\n",
       "      <td>Nexus (The Rosy Crucifixion  #3)</td>\n",
       "      <td>Henry Miller</td>\n",
       "      <td>4.10</td>\n",
       "      <td>eng</td>\n",
       "      <td>316</td>\n",
       "      <td>3261</td>\n",
       "      <td>58</td>\n",
       "      <td>1/13/1994</td>\n",
       "      <td>Grove Press</td>\n",
       "    </tr>\n",
       "    <tr>\n",
       "      <th>...</th>\n",
       "      <td>...</td>\n",
       "      <td>...</td>\n",
       "      <td>...</td>\n",
       "      <td>...</td>\n",
       "      <td>...</td>\n",
       "      <td>...</td>\n",
       "      <td>...</td>\n",
       "      <td>...</td>\n",
       "      <td>...</td>\n",
       "    </tr>\n",
       "    <tr>\n",
       "      <th>42359</th>\n",
       "      <td>Pinky Pye (The Pyes  #2)</td>\n",
       "      <td>Eleanor Estes/Edward Ardizzone</td>\n",
       "      <td>3.86</td>\n",
       "      <td>eng</td>\n",
       "      <td>192</td>\n",
       "      <td>1578</td>\n",
       "      <td>102</td>\n",
       "      <td>9/1/2000</td>\n",
       "      <td>HMH Books for Young Readers</td>\n",
       "    </tr>\n",
       "    <tr>\n",
       "      <th>43763</th>\n",
       "      <td>Interview with the Vampire (The Vampire Chroni...</td>\n",
       "      <td>Anne Rice</td>\n",
       "      <td>3.99</td>\n",
       "      <td>eng</td>\n",
       "      <td>342</td>\n",
       "      <td>433413</td>\n",
       "      <td>7368</td>\n",
       "      <td>8/31/2004</td>\n",
       "      <td>Ballantine Books</td>\n",
       "    </tr>\n",
       "    <tr>\n",
       "      <th>43980</th>\n",
       "      <td>A History of the World in 10½  Chapters</td>\n",
       "      <td>Julian Barnes</td>\n",
       "      <td>3.89</td>\n",
       "      <td>eng</td>\n",
       "      <td>320</td>\n",
       "      <td>10008</td>\n",
       "      <td>638</td>\n",
       "      <td>11/27/1990</td>\n",
       "      <td>Vintage</td>\n",
       "    </tr>\n",
       "    <tr>\n",
       "      <th>44045</th>\n",
       "      <td>A Universal History of Iniquity</td>\n",
       "      <td>Jorge Luis Borges/Andrew Hurley</td>\n",
       "      <td>3.97</td>\n",
       "      <td>eng</td>\n",
       "      <td>128</td>\n",
       "      <td>3101</td>\n",
       "      <td>129</td>\n",
       "      <td>7/27/2004</td>\n",
       "      <td>Penguin Classics</td>\n",
       "    </tr>\n",
       "    <tr>\n",
       "      <th>44350</th>\n",
       "      <td>Beautiful Boys (Weetzie Bat  #4-5)</td>\n",
       "      <td>Francesca Lia Block</td>\n",
       "      <td>4.43</td>\n",
       "      <td>en-US</td>\n",
       "      <td>304</td>\n",
       "      <td>413</td>\n",
       "      <td>5</td>\n",
       "      <td>7/6/2004</td>\n",
       "      <td>HarperTeen</td>\n",
       "    </tr>\n",
       "  </tbody>\n",
       "</table>\n",
       "<p>198 rows × 9 columns</p>\n",
       "</div>"
      ],
      "text/plain": [
       "                                                    title  \\\n",
       "bookID                                                      \n",
       "21                   A Short History of Nearly Everything   \n",
       "144     Ruby Ann's Down Home Trailer Park BBQin' Cookbook   \n",
       "182            Literature Circle Guide: A Wrinkle in Time   \n",
       "247                                  Quiet Days in Clichy   \n",
       "251                      Nexus (The Rosy Crucifixion  #3)   \n",
       "...                                                   ...   \n",
       "42359                            Pinky Pye (The Pyes  #2)   \n",
       "43763   Interview with the Vampire (The Vampire Chroni...   \n",
       "43980             A History of the World in 10½  Chapters   \n",
       "44045                     A Universal History of Iniquity   \n",
       "44350                  Beautiful Boys (Weetzie Bat  #4-5)   \n",
       "\n",
       "                                authors  average_rating language_code  \\\n",
       "bookID                                                                  \n",
       "21                          Bill Bryson            4.21           eng   \n",
       "144                     Ruby Ann Boxcar            4.08           eng   \n",
       "182                      Tara MacCarthy            3.60           eng   \n",
       "247                        Henry Miller            3.69           eng   \n",
       "251                        Henry Miller            4.10           eng   \n",
       "...                                 ...             ...           ...   \n",
       "42359    Eleanor Estes/Edward Ardizzone            3.86           eng   \n",
       "43763                         Anne Rice            3.99           eng   \n",
       "43980                     Julian Barnes            3.89           eng   \n",
       "44045   Jorge Luis Borges/Andrew Hurley            3.97           eng   \n",
       "44350               Francesca Lia Block            4.43         en-US   \n",
       "\n",
       "          num_pages  ratings_count  text_reviews_count publication_date  \\\n",
       "bookID                                                                    \n",
       "21              544         248558                9396        9/14/2004   \n",
       "144             206             13                   2         5/3/2005   \n",
       "182              32             15                   0         1/1/2002   \n",
       "247             154           3381                 141        1/13/1994   \n",
       "251             316           3261                  58        1/13/1994   \n",
       "...             ...            ...                 ...              ...   \n",
       "42359           192           1578                 102         9/1/2000   \n",
       "43763           342         433413                7368        8/31/2004   \n",
       "43980           320          10008                 638       11/27/1990   \n",
       "44045           128           3101                 129        7/27/2004   \n",
       "44350           304            413                   5         7/6/2004   \n",
       "\n",
       "                          publisher  \n",
       "bookID                               \n",
       "21                   Broadway Books  \n",
       "144                         Citadel  \n",
       "182              Teaching Resources  \n",
       "247                     Grove Press  \n",
       "251                     Grove Press  \n",
       "...                             ...  \n",
       "42359   HMH Books for Young Readers  \n",
       "43763              Ballantine Books  \n",
       "43980                       Vintage  \n",
       "44045              Penguin Classics  \n",
       "44350                    HarperTeen  \n",
       "\n",
       "[198 rows x 9 columns]"
      ]
     },
     "execution_count": 29,
     "metadata": {},
     "output_type": "execute_result"
    }
   ],
   "source": [
    "books_new_DuplicatesRows = books_new.loc[books_new.sort_values('title').duplicated(subset=['authors','language_code','publisher', 'publication_date'], keep='last')]\n",
    "books_new_DuplicatesRows"
   ]
  },
  {
   "cell_type": "code",
   "execution_count": 30,
   "id": "45f44c93",
   "metadata": {},
   "outputs": [
    {
     "data": {
      "text/plain": [
       "(11123, 9)"
      ]
     },
     "execution_count": 30,
     "metadata": {},
     "output_type": "execute_result"
    }
   ],
   "source": [
    "books_new.shape"
   ]
  },
  {
   "cell_type": "markdown",
   "id": "d4c3fd86",
   "metadata": {},
   "source": [
    "books_new = books_new.drop_duplicates(subset=['title','authors','language_code'])\n",
    "books_new\n",
    "\n",
    "\n",
    "A = 11123\n",
    "B = 10891\n",
    "C = A-B\n",
    "print('we dropped ',C, 'rows')"
   ]
  },
  {
   "cell_type": "code",
   "execution_count": 31,
   "id": "a3e97592",
   "metadata": {},
   "outputs": [
    {
     "data": {
      "text/html": [
       "<div>\n",
       "<style scoped>\n",
       "    .dataframe tbody tr th:only-of-type {\n",
       "        vertical-align: middle;\n",
       "    }\n",
       "\n",
       "    .dataframe tbody tr th {\n",
       "        vertical-align: top;\n",
       "    }\n",
       "\n",
       "    .dataframe thead th {\n",
       "        text-align: right;\n",
       "    }\n",
       "</style>\n",
       "<table border=\"1\" class=\"dataframe\">\n",
       "  <thead>\n",
       "    <tr style=\"text-align: right;\">\n",
       "      <th></th>\n",
       "      <th>title</th>\n",
       "      <th>authors</th>\n",
       "      <th>average_rating</th>\n",
       "      <th>language_code</th>\n",
       "      <th>num_pages</th>\n",
       "      <th>ratings_count</th>\n",
       "      <th>text_reviews_count</th>\n",
       "      <th>publication_date</th>\n",
       "      <th>publisher</th>\n",
       "    </tr>\n",
       "    <tr>\n",
       "      <th>bookID</th>\n",
       "      <th></th>\n",
       "      <th></th>\n",
       "      <th></th>\n",
       "      <th></th>\n",
       "      <th></th>\n",
       "      <th></th>\n",
       "      <th></th>\n",
       "      <th></th>\n",
       "      <th></th>\n",
       "    </tr>\n",
       "  </thead>\n",
       "  <tbody>\n",
       "    <tr>\n",
       "      <th>295</th>\n",
       "      <td>Treasure Island</td>\n",
       "      <td>Robert Louis Stevenson</td>\n",
       "      <td>3.83</td>\n",
       "      <td>eng</td>\n",
       "      <td>311</td>\n",
       "      <td>318753</td>\n",
       "      <td>6734</td>\n",
       "      <td>9/15/2001</td>\n",
       "      <td>Kingfisher</td>\n",
       "    </tr>\n",
       "    <tr>\n",
       "      <th>296</th>\n",
       "      <td>Treasure Island</td>\n",
       "      <td>Robert Louis Stevenson/Scott McKowen</td>\n",
       "      <td>3.83</td>\n",
       "      <td>en-US</td>\n",
       "      <td>213</td>\n",
       "      <td>420</td>\n",
       "      <td>42</td>\n",
       "      <td>10/1/2004</td>\n",
       "      <td>Sterling Children's Books</td>\n",
       "    </tr>\n",
       "    <tr>\n",
       "      <th>297</th>\n",
       "      <td>Treasure Island</td>\n",
       "      <td>Robert Louis Stevenson</td>\n",
       "      <td>3.83</td>\n",
       "      <td>eng</td>\n",
       "      <td>245</td>\n",
       "      <td>5967</td>\n",
       "      <td>276</td>\n",
       "      <td>6/1/2005</td>\n",
       "      <td>Simon &amp; Schuster</td>\n",
       "    </tr>\n",
       "    <tr>\n",
       "      <th>298</th>\n",
       "      <td>Treasure Island</td>\n",
       "      <td>Robert Louis Stevenson/N.C. Wyeth/Timothy Meis</td>\n",
       "      <td>3.83</td>\n",
       "      <td>eng</td>\n",
       "      <td>64</td>\n",
       "      <td>104</td>\n",
       "      <td>14</td>\n",
       "      <td>7/1/2003</td>\n",
       "      <td>Atheneum Books for Young Readers</td>\n",
       "    </tr>\n",
       "    <tr>\n",
       "      <th>299</th>\n",
       "      <td>Treasure Island</td>\n",
       "      <td>Robert Louis Stevenson/Milo Winter</td>\n",
       "      <td>3.83</td>\n",
       "      <td>en-US</td>\n",
       "      <td>272</td>\n",
       "      <td>56</td>\n",
       "      <td>4</td>\n",
       "      <td>9/3/2002</td>\n",
       "      <td>Gramercy Books</td>\n",
       "    </tr>\n",
       "    <tr>\n",
       "      <th>19347</th>\n",
       "      <td>Treasure Island</td>\n",
       "      <td>Chris Tait/Robert Louis Stevenson/Lucy Corvino...</td>\n",
       "      <td>3.83</td>\n",
       "      <td>eng</td>\n",
       "      <td>160</td>\n",
       "      <td>798</td>\n",
       "      <td>39</td>\n",
       "      <td>3/1/2005</td>\n",
       "      <td>Sterling</td>\n",
       "    </tr>\n",
       "  </tbody>\n",
       "</table>\n",
       "</div>"
      ],
      "text/plain": [
       "                  title                                            authors  \\\n",
       "bookID                                                                       \n",
       "295     Treasure Island                             Robert Louis Stevenson   \n",
       "296     Treasure Island               Robert Louis Stevenson/Scott McKowen   \n",
       "297     Treasure Island                             Robert Louis Stevenson   \n",
       "298     Treasure Island     Robert Louis Stevenson/N.C. Wyeth/Timothy Meis   \n",
       "299     Treasure Island                 Robert Louis Stevenson/Milo Winter   \n",
       "19347   Treasure Island  Chris Tait/Robert Louis Stevenson/Lucy Corvino...   \n",
       "\n",
       "        average_rating language_code    num_pages  ratings_count  \\\n",
       "bookID                                                             \n",
       "295               3.83           eng          311         318753   \n",
       "296               3.83         en-US          213            420   \n",
       "297               3.83           eng          245           5967   \n",
       "298               3.83           eng           64            104   \n",
       "299               3.83         en-US          272             56   \n",
       "19347             3.83           eng          160            798   \n",
       "\n",
       "        text_reviews_count publication_date                         publisher  \n",
       "bookID                                                                         \n",
       "295                   6734        9/15/2001                        Kingfisher  \n",
       "296                     42        10/1/2004         Sterling Children's Books  \n",
       "297                    276         6/1/2005                  Simon & Schuster  \n",
       "298                     14         7/1/2003  Atheneum Books for Young Readers  \n",
       "299                      4         9/3/2002                    Gramercy Books  \n",
       "19347                   39         3/1/2005                          Sterling  "
      ]
     },
     "execution_count": 31,
     "metadata": {},
     "output_type": "execute_result"
    }
   ],
   "source": [
    "books_new.loc[(books_new['title'] == \"Treasure Island\")]"
   ]
  },
  {
   "cell_type": "code",
   "execution_count": 32,
   "id": "9961af46",
   "metadata": {
    "scrolled": true
   },
   "outputs": [
    {
     "data": {
      "text/html": [
       "<div>\n",
       "<style scoped>\n",
       "    .dataframe tbody tr th:only-of-type {\n",
       "        vertical-align: middle;\n",
       "    }\n",
       "\n",
       "    .dataframe tbody tr th {\n",
       "        vertical-align: top;\n",
       "    }\n",
       "\n",
       "    .dataframe thead th {\n",
       "        text-align: right;\n",
       "    }\n",
       "</style>\n",
       "<table border=\"1\" class=\"dataframe\">\n",
       "  <thead>\n",
       "    <tr style=\"text-align: right;\">\n",
       "      <th></th>\n",
       "      <th>title</th>\n",
       "      <th>authors</th>\n",
       "      <th>average_rating</th>\n",
       "      <th>language_code</th>\n",
       "      <th>num_pages</th>\n",
       "      <th>ratings_count</th>\n",
       "      <th>text_reviews_count</th>\n",
       "      <th>publication_date</th>\n",
       "      <th>publisher</th>\n",
       "    </tr>\n",
       "    <tr>\n",
       "      <th>bookID</th>\n",
       "      <th></th>\n",
       "      <th></th>\n",
       "      <th></th>\n",
       "      <th></th>\n",
       "      <th></th>\n",
       "      <th></th>\n",
       "      <th></th>\n",
       "      <th></th>\n",
       "      <th></th>\n",
       "    </tr>\n",
       "  </thead>\n",
       "  <tbody>\n",
       "    <tr>\n",
       "      <th>21</th>\n",
       "      <td>A Short History of Nearly Everything</td>\n",
       "      <td>Bill Bryson</td>\n",
       "      <td>4.21</td>\n",
       "      <td>eng</td>\n",
       "      <td>544</td>\n",
       "      <td>248558</td>\n",
       "      <td>9396</td>\n",
       "      <td>9/14/2004</td>\n",
       "      <td>Broadway Books</td>\n",
       "    </tr>\n",
       "    <tr>\n",
       "      <th>144</th>\n",
       "      <td>Ruby Ann's Down Home Trailer Park BBQin' Cookbook</td>\n",
       "      <td>Ruby Ann Boxcar</td>\n",
       "      <td>4.08</td>\n",
       "      <td>eng</td>\n",
       "      <td>206</td>\n",
       "      <td>13</td>\n",
       "      <td>2</td>\n",
       "      <td>5/3/2005</td>\n",
       "      <td>Citadel</td>\n",
       "    </tr>\n",
       "    <tr>\n",
       "      <th>182</th>\n",
       "      <td>Literature Circle Guide: A Wrinkle in Time</td>\n",
       "      <td>Tara MacCarthy</td>\n",
       "      <td>3.60</td>\n",
       "      <td>eng</td>\n",
       "      <td>32</td>\n",
       "      <td>15</td>\n",
       "      <td>0</td>\n",
       "      <td>1/1/2002</td>\n",
       "      <td>Teaching Resources</td>\n",
       "    </tr>\n",
       "    <tr>\n",
       "      <th>247</th>\n",
       "      <td>Quiet Days in Clichy</td>\n",
       "      <td>Henry Miller</td>\n",
       "      <td>3.69</td>\n",
       "      <td>eng</td>\n",
       "      <td>154</td>\n",
       "      <td>3381</td>\n",
       "      <td>141</td>\n",
       "      <td>1/13/1994</td>\n",
       "      <td>Grove Press</td>\n",
       "    </tr>\n",
       "    <tr>\n",
       "      <th>251</th>\n",
       "      <td>Nexus (The Rosy Crucifixion  #3)</td>\n",
       "      <td>Henry Miller</td>\n",
       "      <td>4.10</td>\n",
       "      <td>eng</td>\n",
       "      <td>316</td>\n",
       "      <td>3261</td>\n",
       "      <td>58</td>\n",
       "      <td>1/13/1994</td>\n",
       "      <td>Grove Press</td>\n",
       "    </tr>\n",
       "    <tr>\n",
       "      <th>424</th>\n",
       "      <td>Slouching Towards Bethlehem</td>\n",
       "      <td>Joan Didion</td>\n",
       "      <td>4.21</td>\n",
       "      <td>eng</td>\n",
       "      <td>238</td>\n",
       "      <td>26934</td>\n",
       "      <td>1825</td>\n",
       "      <td>10/1/1990</td>\n",
       "      <td>Farrar Straus Giroux</td>\n",
       "    </tr>\n",
       "    <tr>\n",
       "      <th>763</th>\n",
       "      <td>Cien años de soledad</td>\n",
       "      <td>Gabriel García Márquez</td>\n",
       "      <td>4.07</td>\n",
       "      <td>spa</td>\n",
       "      <td>496</td>\n",
       "      <td>130</td>\n",
       "      <td>5</td>\n",
       "      <td>2/7/2006</td>\n",
       "      <td>Plaza y Janes</td>\n",
       "    </tr>\n",
       "    <tr>\n",
       "      <th>764</th>\n",
       "      <td>Del amor y otros demonios</td>\n",
       "      <td>Gabriel García Márquez</td>\n",
       "      <td>3.98</td>\n",
       "      <td>spa</td>\n",
       "      <td>176</td>\n",
       "      <td>4508</td>\n",
       "      <td>278</td>\n",
       "      <td>2/7/2006</td>\n",
       "      <td>Plaza y Janes</td>\n",
       "    </tr>\n",
       "    <tr>\n",
       "      <th>890</th>\n",
       "      <td>Of Mice and Men</td>\n",
       "      <td>John Steinbeck</td>\n",
       "      <td>3.87</td>\n",
       "      <td>eng</td>\n",
       "      <td>103</td>\n",
       "      <td>1755253</td>\n",
       "      <td>25554</td>\n",
       "      <td>1/8/2002</td>\n",
       "      <td>Penguin Books</td>\n",
       "    </tr>\n",
       "    <tr>\n",
       "      <th>960</th>\n",
       "      <td>Angels &amp; Demons (Robert Langdon  #1)</td>\n",
       "      <td>Dan Brown</td>\n",
       "      <td>3.89</td>\n",
       "      <td>eng</td>\n",
       "      <td>736</td>\n",
       "      <td>2418736</td>\n",
       "      <td>21303</td>\n",
       "      <td>4/1/2006</td>\n",
       "      <td>Pocket Books</td>\n",
       "    </tr>\n",
       "  </tbody>\n",
       "</table>\n",
       "</div>"
      ],
      "text/plain": [
       "                                                    title  \\\n",
       "bookID                                                      \n",
       "21                   A Short History of Nearly Everything   \n",
       "144     Ruby Ann's Down Home Trailer Park BBQin' Cookbook   \n",
       "182            Literature Circle Guide: A Wrinkle in Time   \n",
       "247                                  Quiet Days in Clichy   \n",
       "251                      Nexus (The Rosy Crucifixion  #3)   \n",
       "424                           Slouching Towards Bethlehem   \n",
       "763                                  Cien años de soledad   \n",
       "764                             Del amor y otros demonios   \n",
       "890                                       Of Mice and Men   \n",
       "960                  Angels & Demons (Robert Langdon  #1)   \n",
       "\n",
       "                       authors  average_rating language_code    num_pages  \\\n",
       "bookID                                                                      \n",
       "21                 Bill Bryson            4.21           eng          544   \n",
       "144            Ruby Ann Boxcar            4.08           eng          206   \n",
       "182             Tara MacCarthy            3.60           eng           32   \n",
       "247               Henry Miller            3.69           eng          154   \n",
       "251               Henry Miller            4.10           eng          316   \n",
       "424                Joan Didion            4.21           eng          238   \n",
       "763     Gabriel García Márquez            4.07           spa          496   \n",
       "764     Gabriel García Márquez            3.98           spa          176   \n",
       "890             John Steinbeck            3.87           eng          103   \n",
       "960                  Dan Brown            3.89           eng          736   \n",
       "\n",
       "        ratings_count  text_reviews_count publication_date  \\\n",
       "bookID                                                       \n",
       "21             248558                9396        9/14/2004   \n",
       "144                13                   2         5/3/2005   \n",
       "182                15                   0         1/1/2002   \n",
       "247              3381                 141        1/13/1994   \n",
       "251              3261                  58        1/13/1994   \n",
       "424             26934                1825        10/1/1990   \n",
       "763               130                   5         2/7/2006   \n",
       "764              4508                 278         2/7/2006   \n",
       "890           1755253               25554         1/8/2002   \n",
       "960           2418736               21303         4/1/2006   \n",
       "\n",
       "                   publisher  \n",
       "bookID                        \n",
       "21            Broadway Books  \n",
       "144                  Citadel  \n",
       "182       Teaching Resources  \n",
       "247              Grove Press  \n",
       "251              Grove Press  \n",
       "424     Farrar Straus Giroux  \n",
       "763            Plaza y Janes  \n",
       "764            Plaza y Janes  \n",
       "890            Penguin Books  \n",
       "960             Pocket Books  "
      ]
     },
     "execution_count": 32,
     "metadata": {},
     "output_type": "execute_result"
    }
   ],
   "source": [
    "books_new_DuplicatesRows.head(10)"
   ]
  },
  {
   "cell_type": "code",
   "execution_count": 33,
   "id": "7a497f39",
   "metadata": {},
   "outputs": [
    {
     "data": {
      "text/html": [
       "<div>\n",
       "<style scoped>\n",
       "    .dataframe tbody tr th:only-of-type {\n",
       "        vertical-align: middle;\n",
       "    }\n",
       "\n",
       "    .dataframe tbody tr th {\n",
       "        vertical-align: top;\n",
       "    }\n",
       "\n",
       "    .dataframe thead th {\n",
       "        text-align: right;\n",
       "    }\n",
       "</style>\n",
       "<table border=\"1\" class=\"dataframe\">\n",
       "  <thead>\n",
       "    <tr style=\"text-align: right;\">\n",
       "      <th></th>\n",
       "      <th>count</th>\n",
       "      <th>mean</th>\n",
       "      <th>std</th>\n",
       "      <th>min</th>\n",
       "      <th>25%</th>\n",
       "      <th>50%</th>\n",
       "      <th>75%</th>\n",
       "      <th>max</th>\n",
       "    </tr>\n",
       "  </thead>\n",
       "  <tbody>\n",
       "    <tr>\n",
       "      <th>average_rating</th>\n",
       "      <td>11123.0</td>\n",
       "      <td>3.934075</td>\n",
       "      <td>0.350485</td>\n",
       "      <td>0.0</td>\n",
       "      <td>3.77</td>\n",
       "      <td>3.96</td>\n",
       "      <td>4.14</td>\n",
       "      <td>5.0</td>\n",
       "    </tr>\n",
       "    <tr>\n",
       "      <th>num_pages</th>\n",
       "      <td>11123.0</td>\n",
       "      <td>336.405556</td>\n",
       "      <td>241.152626</td>\n",
       "      <td>0.0</td>\n",
       "      <td>192.00</td>\n",
       "      <td>299.00</td>\n",
       "      <td>416.00</td>\n",
       "      <td>6576.0</td>\n",
       "    </tr>\n",
       "    <tr>\n",
       "      <th>ratings_count</th>\n",
       "      <td>11123.0</td>\n",
       "      <td>17942.848063</td>\n",
       "      <td>112499.153471</td>\n",
       "      <td>0.0</td>\n",
       "      <td>104.00</td>\n",
       "      <td>745.00</td>\n",
       "      <td>5000.50</td>\n",
       "      <td>4597666.0</td>\n",
       "    </tr>\n",
       "    <tr>\n",
       "      <th>text_reviews_count</th>\n",
       "      <td>11123.0</td>\n",
       "      <td>542.048099</td>\n",
       "      <td>2576.619589</td>\n",
       "      <td>0.0</td>\n",
       "      <td>9.00</td>\n",
       "      <td>47.00</td>\n",
       "      <td>238.00</td>\n",
       "      <td>94265.0</td>\n",
       "    </tr>\n",
       "  </tbody>\n",
       "</table>\n",
       "</div>"
      ],
      "text/plain": [
       "                      count          mean            std  min     25%     50%  \\\n",
       "average_rating      11123.0      3.934075       0.350485  0.0    3.77    3.96   \n",
       "  num_pages         11123.0    336.405556     241.152626  0.0  192.00  299.00   \n",
       "ratings_count       11123.0  17942.848063  112499.153471  0.0  104.00  745.00   \n",
       "text_reviews_count  11123.0    542.048099    2576.619589  0.0    9.00   47.00   \n",
       "\n",
       "                        75%        max  \n",
       "average_rating         4.14        5.0  \n",
       "  num_pages          416.00     6576.0  \n",
       "ratings_count       5000.50  4597666.0  \n",
       "text_reviews_count   238.00    94265.0  "
      ]
     },
     "execution_count": 33,
     "metadata": {},
     "output_type": "execute_result"
    }
   ],
   "source": [
    "# finding inconsistency :  remeber previous summary statistics for numerical columns contains   data at 0 (min)\n",
    "books_new.describe(exclude=\"object\").T"
   ]
  },
  {
   "cell_type": "code",
   "execution_count": 34,
   "id": "693b9005",
   "metadata": {},
   "outputs": [
    {
     "data": {
      "text/html": [
       "<div>\n",
       "<style scoped>\n",
       "    .dataframe tbody tr th:only-of-type {\n",
       "        vertical-align: middle;\n",
       "    }\n",
       "\n",
       "    .dataframe tbody tr th {\n",
       "        vertical-align: top;\n",
       "    }\n",
       "\n",
       "    .dataframe thead th {\n",
       "        text-align: right;\n",
       "    }\n",
       "</style>\n",
       "<table border=\"1\" class=\"dataframe\">\n",
       "  <thead>\n",
       "    <tr style=\"text-align: right;\">\n",
       "      <th></th>\n",
       "      <th>count</th>\n",
       "      <th>unique</th>\n",
       "      <th>top</th>\n",
       "      <th>freq</th>\n",
       "    </tr>\n",
       "  </thead>\n",
       "  <tbody>\n",
       "    <tr>\n",
       "      <th>title</th>\n",
       "      <td>11123</td>\n",
       "      <td>10348</td>\n",
       "      <td>The Iliad</td>\n",
       "      <td>9</td>\n",
       "    </tr>\n",
       "    <tr>\n",
       "      <th>authors</th>\n",
       "      <td>11123</td>\n",
       "      <td>6639</td>\n",
       "      <td>Stephen King</td>\n",
       "      <td>40</td>\n",
       "    </tr>\n",
       "    <tr>\n",
       "      <th>language_code</th>\n",
       "      <td>11123</td>\n",
       "      <td>27</td>\n",
       "      <td>eng</td>\n",
       "      <td>8908</td>\n",
       "    </tr>\n",
       "    <tr>\n",
       "      <th>publication_date</th>\n",
       "      <td>11123</td>\n",
       "      <td>3679</td>\n",
       "      <td>10/1/2005</td>\n",
       "      <td>56</td>\n",
       "    </tr>\n",
       "    <tr>\n",
       "      <th>publisher</th>\n",
       "      <td>11123</td>\n",
       "      <td>2290</td>\n",
       "      <td>Vintage</td>\n",
       "      <td>318</td>\n",
       "    </tr>\n",
       "  </tbody>\n",
       "</table>\n",
       "</div>"
      ],
      "text/plain": [
       "                  count unique           top  freq\n",
       "title             11123  10348     The Iliad     9\n",
       "authors           11123   6639  Stephen King    40\n",
       "language_code     11123     27           eng  8908\n",
       "publication_date  11123   3679     10/1/2005    56\n",
       "publisher         11123   2290       Vintage   318"
      ]
     },
     "execution_count": 34,
     "metadata": {},
     "output_type": "execute_result"
    }
   ],
   "source": [
    "books_new.describe(include=\"object\").T"
   ]
  },
  {
   "cell_type": "code",
   "execution_count": 35,
   "id": "080d9c9d",
   "metadata": {},
   "outputs": [],
   "source": [
    "#rename columns ' num_pages'\n",
    "books_new.rename(columns={'  num_pages':'num_pages'},inplace=True)"
   ]
  },
  {
   "cell_type": "markdown",
   "id": "bea0e8a3",
   "metadata": {},
   "source": [
    "Create some basic graphs to see the relations between the attributes of the datas"
   ]
  },
  {
   "cell_type": "markdown",
   "id": "c69f7508",
   "metadata": {},
   "source": [
    "Finding insights"
   ]
  },
  {
   "cell_type": "code",
   "execution_count": 36,
   "id": "b0a0edb5",
   "metadata": {},
   "outputs": [
    {
     "name": "stdout",
     "output_type": "stream",
     "text": [
      "As confirmed earlier, about 50 percentile books have a rating close 4.0.\n"
     ]
    },
    {
     "data": {
      "image/png": "[encoded data removed]",
      "text/plain": [
       "<Figure size 640x480 with 1 Axes>"
      ]
     },
     "metadata": {},
     "output_type": "display_data"
    }
   ],
   "source": [
    "# Histogramm for average rating\n",
    "print('As confirmed earlier, about 50 percentile books have a rating close 4.0.')\n",
    "plt.hist(books_new.average_rating,bins=5)\n",
    "plt.xlabel(\"Average rating\")\n",
    "plt.ylabel(\"Number of Books\")\n",
    "plt.show()\n",
    "\n"
   ]
  },
  {
   "cell_type": "code",
   "execution_count": 37,
   "id": "49c6134a",
   "metadata": {},
   "outputs": [
    {
     "name": "stdout",
     "output_type": "stream",
     "text": [
      "It is clear that almost all books are from English language. Also, the other peaks also belong to American and British English. The fourth language in which most books are published in the list is Spanish followed by French and German.\n"
     ]
    },
    {
     "data": {
      "image/png": "[encoded data removed]",
      "text/plain": [
       "<Figure size 1500x1000 with 1 Axes>"
      ]
     },
     "metadata": {},
     "output_type": "display_data"
    }
   ],
   "source": [
    "# Number of books for languages\n",
    "\n",
    "print('It is clear that almost all books are from English language. Also, the other peaks also belong to American and British English. The fourth language in which most books are published in the list is Spanish followed by French and German.')\n",
    "\n",
    "sns.set(font_scale=1.2)\n",
    "plt.figure(figsize=(15,10))\n",
    "ax = books_new.groupby('language_code')['title'].count().plot.bar()\n",
    "plt.title('Number of books in each language')\n",
    "for p in ax.patches: ax.annotate(str(p.get_height()), (p.get_x(), p.get_height()+100))"
   ]
  },
  {
   "cell_type": "markdown",
   "id": "df94cba2",
   "metadata": {},
   "source": [
    "Highly rated authors\n",
    "Last quartile for average ratings starts at 4.14. So, any author having number of books can be called prolific. Let's explore which authors have highest number of books with more than that 4.14 rating."
   ]
  },
  {
   "cell_type": "markdown",
   "id": "1bd2bee8",
   "metadata": {},
   "source": [
    "It is clear that Rumiko Takahashi is the highest rated author since he or she has 26 books with average ratings in the last quartile."
   ]
  },
  {
   "cell_type": "code",
   "execution_count": 42,
   "id": "e0866a22",
   "metadata": {},
   "outputs": [
    {
     "data": {
      "image/png": "[encoded data removed]",
      "text/plain": [
       "<Figure size 640x480 with 1 Axes>"
      ]
     },
     "metadata": {},
     "output_type": "display_data"
    }
   ],
   "source": [
    "# Histogram for numbers pages\n",
    "\n",
    "plt.hist(books_new.num_pages,bins=10)\n",
    "plt.xlabel(\"Number of Pages\")\n",
    "plt.ylabel(\"Number of Books\")\n",
    "plt.show()"
   ]
  },
  {
   "cell_type": "markdown",
   "id": "01a46761",
   "metadata": {},
   "source": [
    "Interpretation of the \"Average Rating\" histogram:\n",
    "the average vote is between 3.5 and 4.5. do we focus the analysis based only on that range?\n",
    "the \"Average Rating\" histogram: A reader is likely to give a rating around 4.\n",
    "\n",
    "Interpretation of the \"Numbers Page\" histogram:\n",
    "books with 0 pages will be deleted for better accuracy. That is inconsistent data."
   ]
  },
  {
   "cell_type": "markdown",
   "id": "df128074",
   "metadata": {},
   "source": [
    "Study Corelation among variables"
   ]
  },
  {
   "cell_type": "code",
   "execution_count": 43,
   "id": "850a8f5e",
   "metadata": {},
   "outputs": [
    {
     "data": {
      "text/html": [
       "<div>\n",
       "<style scoped>\n",
       "    .dataframe tbody tr th:only-of-type {\n",
       "        vertical-align: middle;\n",
       "    }\n",
       "\n",
       "    .dataframe tbody tr th {\n",
       "        vertical-align: top;\n",
       "    }\n",
       "\n",
       "    .dataframe thead th {\n",
       "        text-align: right;\n",
       "    }\n",
       "</style>\n",
       "<table border=\"1\" class=\"dataframe\">\n",
       "  <thead>\n",
       "    <tr style=\"text-align: right;\">\n",
       "      <th></th>\n",
       "      <th>average_rating</th>\n",
       "      <th>num_pages</th>\n",
       "      <th>ratings_count</th>\n",
       "      <th>text_reviews_count</th>\n",
       "    </tr>\n",
       "  </thead>\n",
       "  <tbody>\n",
       "    <tr>\n",
       "      <th>average_rating</th>\n",
       "      <td>1.000000</td>\n",
       "      <td>0.150477</td>\n",
       "      <td>0.038224</td>\n",
       "      <td>0.033663</td>\n",
       "    </tr>\n",
       "    <tr>\n",
       "      <th>num_pages</th>\n",
       "      <td>0.150477</td>\n",
       "      <td>1.000000</td>\n",
       "      <td>0.034337</td>\n",
       "      <td>0.036977</td>\n",
       "    </tr>\n",
       "    <tr>\n",
       "      <th>ratings_count</th>\n",
       "      <td>0.038224</td>\n",
       "      <td>0.034337</td>\n",
       "      <td>1.000000</td>\n",
       "      <td>0.865977</td>\n",
       "    </tr>\n",
       "    <tr>\n",
       "      <th>text_reviews_count</th>\n",
       "      <td>0.033663</td>\n",
       "      <td>0.036977</td>\n",
       "      <td>0.865977</td>\n",
       "      <td>1.000000</td>\n",
       "    </tr>\n",
       "  </tbody>\n",
       "</table>\n",
       "</div>"
      ],
      "text/plain": [
       "                    average_rating  num_pages  ratings_count  \\\n",
       "average_rating            1.000000   0.150477       0.038224   \n",
       "num_pages                 0.150477   1.000000       0.034337   \n",
       "ratings_count             0.038224   0.034337       1.000000   \n",
       "text_reviews_count        0.033663   0.036977       0.865977   \n",
       "\n",
       "                    text_reviews_count  \n",
       "average_rating                0.033663  \n",
       "num_pages                     0.036977  \n",
       "ratings_count                 0.865977  \n",
       "text_reviews_count            1.000000  "
      ]
     },
     "execution_count": 43,
     "metadata": {},
     "output_type": "execute_result"
    }
   ],
   "source": [
    "books_new.corr(method='pearson')"
   ]
  },
  {
   "cell_type": "markdown",
   "id": "ccd58842",
   "metadata": {},
   "source": [
    "As such it seems that there is hardly any mentionable corelation of any variable with the books ratings. So, it is important to study the individual relation."
   ]
  },
  {
   "cell_type": "code",
   "execution_count": 44,
   "id": "010f7a8d",
   "metadata": {},
   "outputs": [
    {
     "data": {
      "image/png": "[encoded data removed]",
      "text/plain": [
       "<Figure size 2000x1000 with 1 Axes>"
      ]
     },
     "metadata": {},
     "output_type": "display_data"
    }
   ],
   "source": [
    "# Relation between number of pages and average ratings\n",
    "\n",
    "plt.figure(figsize=(20,10))\n",
    "plt.scatter(books_new.num_pages,books_new.average_rating)\n",
    "plt.title(\"Number of Pages vs Average Ratings\")\n",
    "plt.xlabel(\"Number of Pages\")\n",
    "plt.ylabel(\"Average Ratings\")\n",
    "plt.show()"
   ]
  },
  {
   "cell_type": "code",
   "execution_count": 45,
   "id": "03b71f1d",
   "metadata": {},
   "outputs": [],
   "source": [
    "books_new = books_new.drop(books_new[(books_new['num_pages'] == 0)].index)"
   ]
  },
  {
   "cell_type": "code",
   "execution_count": 48,
   "id": "f0143eb4",
   "metadata": {},
   "outputs": [
    {
     "data": {
      "text/html": [
       "<div>\n",
       "<style scoped>\n",
       "    .dataframe tbody tr th:only-of-type {\n",
       "        vertical-align: middle;\n",
       "    }\n",
       "\n",
       "    .dataframe tbody tr th {\n",
       "        vertical-align: top;\n",
       "    }\n",
       "\n",
       "    .dataframe thead th {\n",
       "        text-align: right;\n",
       "    }\n",
       "</style>\n",
       "<table border=\"1\" class=\"dataframe\">\n",
       "  <thead>\n",
       "    <tr style=\"text-align: right;\">\n",
       "      <th></th>\n",
       "      <th>average_rating</th>\n",
       "      <th>num_pages</th>\n",
       "      <th>ratings_count</th>\n",
       "      <th>text_reviews_count</th>\n",
       "    </tr>\n",
       "  </thead>\n",
       "  <tbody>\n",
       "    <tr>\n",
       "      <th>count</th>\n",
       "      <td>11047.000000</td>\n",
       "      <td>11047.000000</td>\n",
       "      <td>1.104700e+04</td>\n",
       "      <td>11047.000000</td>\n",
       "    </tr>\n",
       "    <tr>\n",
       "      <th>mean</th>\n",
       "      <td>3.934135</td>\n",
       "      <td>338.719924</td>\n",
       "      <td>1.806368e+04</td>\n",
       "      <td>545.676021</td>\n",
       "    </tr>\n",
       "    <tr>\n",
       "      <th>std</th>\n",
       "      <td>0.350276</td>\n",
       "      <td>240.355399</td>\n",
       "      <td>1.128759e+05</td>\n",
       "      <td>2585.092278</td>\n",
       "    </tr>\n",
       "    <tr>\n",
       "      <th>min</th>\n",
       "      <td>0.000000</td>\n",
       "      <td>1.000000</td>\n",
       "      <td>0.000000e+00</td>\n",
       "      <td>0.000000</td>\n",
       "    </tr>\n",
       "    <tr>\n",
       "      <th>25%</th>\n",
       "      <td>3.770000</td>\n",
       "      <td>196.000000</td>\n",
       "      <td>1.090000e+02</td>\n",
       "      <td>9.000000</td>\n",
       "    </tr>\n",
       "    <tr>\n",
       "      <th>50%</th>\n",
       "      <td>3.960000</td>\n",
       "      <td>301.000000</td>\n",
       "      <td>7.620000e+02</td>\n",
       "      <td>47.000000</td>\n",
       "    </tr>\n",
       "    <tr>\n",
       "      <th>75%</th>\n",
       "      <td>4.130000</td>\n",
       "      <td>416.000000</td>\n",
       "      <td>5.048000e+03</td>\n",
       "      <td>241.000000</td>\n",
       "    </tr>\n",
       "    <tr>\n",
       "      <th>max</th>\n",
       "      <td>5.000000</td>\n",
       "      <td>6576.000000</td>\n",
       "      <td>4.597666e+06</td>\n",
       "      <td>94265.000000</td>\n",
       "    </tr>\n",
       "  </tbody>\n",
       "</table>\n",
       "</div>"
      ],
      "text/plain": [
       "       average_rating     num_pages  ratings_count  text_reviews_count\n",
       "count    11047.000000  11047.000000   1.104700e+04        11047.000000\n",
       "mean         3.934135    338.719924   1.806368e+04          545.676021\n",
       "std          0.350276    240.355399   1.128759e+05         2585.092278\n",
       "min          0.000000      1.000000   0.000000e+00            0.000000\n",
       "25%          3.770000    196.000000   1.090000e+02            9.000000\n",
       "50%          3.960000    301.000000   7.620000e+02           47.000000\n",
       "75%          4.130000    416.000000   5.048000e+03          241.000000\n",
       "max          5.000000   6576.000000   4.597666e+06        94265.000000"
      ]
     },
     "execution_count": 48,
     "metadata": {},
     "output_type": "execute_result"
    }
   ],
   "source": [
    "books_new.describe()"
   ]
  },
  {
   "cell_type": "code",
   "execution_count": 49,
   "id": "3c7daf79",
   "metadata": {},
   "outputs": [
    {
     "name": "stdout",
     "output_type": "stream",
     "text": [
      "remaining books : (11047, 9)\n"
     ]
    }
   ],
   "source": [
    "books_new.shape\n",
    "print('remaining books :', books_new.shape)"
   ]
  },
  {
   "cell_type": "markdown",
   "id": "0298cbae",
   "metadata": {},
   "source": [
    "Prediction Model :\n",
    "Ratings are continuous values so we'll choose Regression instead of Classification reserved for categorical target\n",
    "\n"
   ]
  },
  {
   "cell_type": "markdown",
   "id": "94ad480d",
   "metadata": {},
   "source": [
    "finding correlations between numerical features"
   ]
  },
  {
   "cell_type": "code",
   "execution_count": 50,
   "id": "87ee2fd0",
   "metadata": {},
   "outputs": [
    {
     "data": {
      "text/html": [
       "<div>\n",
       "<style scoped>\n",
       "    .dataframe tbody tr th:only-of-type {\n",
       "        vertical-align: middle;\n",
       "    }\n",
       "\n",
       "    .dataframe tbody tr th {\n",
       "        vertical-align: top;\n",
       "    }\n",
       "\n",
       "    .dataframe thead th {\n",
       "        text-align: right;\n",
       "    }\n",
       "</style>\n",
       "<table border=\"1\" class=\"dataframe\">\n",
       "  <thead>\n",
       "    <tr style=\"text-align: right;\">\n",
       "      <th></th>\n",
       "      <th>average_rating</th>\n",
       "      <th>num_pages</th>\n",
       "      <th>ratings_count</th>\n",
       "      <th>text_reviews_count</th>\n",
       "    </tr>\n",
       "  </thead>\n",
       "  <tbody>\n",
       "    <tr>\n",
       "      <th>average_rating</th>\n",
       "      <td>1.000000</td>\n",
       "      <td>0.151865</td>\n",
       "      <td>0.038357</td>\n",
       "      <td>0.033773</td>\n",
       "    </tr>\n",
       "    <tr>\n",
       "      <th>num_pages</th>\n",
       "      <td>0.151865</td>\n",
       "      <td>1.000000</td>\n",
       "      <td>0.033064</td>\n",
       "      <td>0.035254</td>\n",
       "    </tr>\n",
       "    <tr>\n",
       "      <th>ratings_count</th>\n",
       "      <td>0.038357</td>\n",
       "      <td>0.033064</td>\n",
       "      <td>1.000000</td>\n",
       "      <td>0.865955</td>\n",
       "    </tr>\n",
       "    <tr>\n",
       "      <th>text_reviews_count</th>\n",
       "      <td>0.033773</td>\n",
       "      <td>0.035254</td>\n",
       "      <td>0.865955</td>\n",
       "      <td>1.000000</td>\n",
       "    </tr>\n",
       "  </tbody>\n",
       "</table>\n",
       "</div>"
      ],
      "text/plain": [
       "                    average_rating  num_pages  ratings_count  \\\n",
       "average_rating            1.000000   0.151865       0.038357   \n",
       "num_pages                 0.151865   1.000000       0.033064   \n",
       "ratings_count             0.038357   0.033064       1.000000   \n",
       "text_reviews_count        0.033773   0.035254       0.865955   \n",
       "\n",
       "                    text_reviews_count  \n",
       "average_rating                0.033773  \n",
       "num_pages                     0.035254  \n",
       "ratings_count                 0.865955  \n",
       "text_reviews_count            1.000000  "
      ]
     },
     "execution_count": 50,
     "metadata": {},
     "output_type": "execute_result"
    }
   ],
   "source": [
    "# the correlation between numerical columns\n",
    "\n",
    "books_new.corr()"
   ]
  },
  {
   "cell_type": "markdown",
   "id": "0aac2731",
   "metadata": {},
   "source": [
    "comments: \n",
    "The highest correlation exists between 'text_reviews_count' and 'ratings_count',\n",
    "while the lowest correlation is between 'average_rating' and num_pages "
   ]
  },
  {
   "cell_type": "code",
   "execution_count": 51,
   "id": "48537036",
   "metadata": {},
   "outputs": [
    {
     "data": {
      "image/png": "[encoded data removed]",
      "text/plain": [
       "<Figure size 640x480 with 1 Axes>"
      ]
     },
     "metadata": {},
     "output_type": "display_data"
    }
   ],
   "source": [
    "# Distribution Plot for the Number of Pages\n",
    "plt.hist(books_new.num_pages,bins=10)\n",
    "plt.xlabel(\"Number of Pages\")\n",
    "plt.ylabel(\"Number of Books\")\n",
    "plt.show()"
   ]
  },
  {
   "cell_type": "code",
   "execution_count": 52,
   "id": "8c50b6b2",
   "metadata": {},
   "outputs": [
    {
     "data": {
      "image/png": "[encoded data removed]",
      "text/plain": [
       "<Figure size 1500x700 with 1 Axes>"
      ]
     },
     "metadata": {},
     "output_type": "display_data"
    }
   ],
   "source": [
    "plt.figure(figsize=(15,7))\n",
    "sns.histplot(books_new['num_pages'],bins=20,color='gold')\n",
    "plt.title('Distribution of Number of Pages')\n",
    "plt.xlabel('No. of Pages')\n",
    "plt.show()"
   ]
  },
  {
   "cell_type": "markdown",
   "id": "fea8f648",
   "metadata": {},
   "source": [
    " Since we want to build a linear regression model, let's look for a few independent variables that have a significant correlation with average ratings"
   ]
  },
  {
   "cell_type": "code",
   "execution_count": 53,
   "id": "61e5c5f9",
   "metadata": {},
   "outputs": [
    {
     "data": {
      "image/png": "[encoded data removed]",
      "text/plain": [
       "<Figure size 500x500 with 1 Axes>"
      ]
     },
     "metadata": {},
     "output_type": "display_data"
    },
    {
     "data": {
      "image/png": "[encoded data removed]",
      "text/plain": [
       "<Figure size 1000x500 with 1 Axes>"
      ]
     },
     "metadata": {},
     "output_type": "display_data"
    }
   ],
   "source": [
    "# We can use the regplot() method from seaborn to see the relationship between num_pages and 'average_rating'\n",
    "sns.lmplot(x = 'num_pages', y = 'average_rating', data = books_new)\n",
    "\n",
    "plt.figure(figsize=(10,5))\n",
    "sns.regplot(data=books_new,y=\"average_rating\",x=\"num_pages\",marker='.',scatter_kws={\"color\": \"#FFC300\"}, line_kws={\"color\": \"#581845\"})\n",
    "plt.xlabel('No. of Pages')\n",
    "plt.ylabel('Average Rating')\n",
    "plt.title(\"Regression plot\")\n",
    "plt.show()"
   ]
  },
  {
   "cell_type": "markdown",
   "id": "6af3225e",
   "metadata": {},
   "source": [
    " From the preceding heatmap, num_pages ( The number of pages the book contains) has the higest positive correlation with average_rating ( The average rating of the book received in total.), so we will take num_pages as a feature (X) and average_rating as a predictor (y) for our linear regression model.\n",
    "\n"
   ]
  },
  {
   "cell_type": "markdown",
   "id": "e127e128",
   "metadata": {},
   "source": [
    "Graphic to show outliers points."
   ]
  },
  {
   "cell_type": "code",
   "execution_count": 54,
   "id": "a6a79ee9",
   "metadata": {},
   "outputs": [
    {
     "data": {
      "text/plain": [
       "<AxesSubplot: xlabel='num_pages'>"
      ]
     },
     "execution_count": 54,
     "metadata": {},
     "output_type": "execute_result"
    },
    {
     "data": {
      "image/png": "[encoded data removed]",
      "text/plain": [
       "<Figure size 640x480 with 1 Axes>"
      ]
     },
     "metadata": {},
     "output_type": "display_data"
    }
   ],
   "source": [
    "# find no. of pages outliers\n",
    "sns.boxplot(x=books_new['num_pages'])"
   ]
  },
  {
   "cell_type": "markdown",
   "id": "b8eaa5c2",
   "metadata": {},
   "source": [
    "Above plot shows points between 1,000 to 6,000, these are outliers as there are not included in the box of other observation i.e no where near the quartiles.\n"
   ]
  },
  {
   "cell_type": "code",
   "execution_count": 55,
   "id": "07172baf",
   "metadata": {},
   "outputs": [],
   "source": [
    "# remove outliers from no. of pages to have a more accurate datase\n",
    "books_new_outliers = books_new.drop(books_new.index[books_new['num_pages'] >= 1000])"
   ]
  },
  {
   "cell_type": "code",
   "execution_count": 56,
   "id": "478701b2",
   "metadata": {},
   "outputs": [
    {
     "data": {
      "image/png": "[encoded data removed]",
      "text/plain": [
       "<Figure size 1000x500 with 1 Axes>"
      ]
     },
     "metadata": {},
     "output_type": "display_data"
    }
   ],
   "source": [
    "plt.figure(figsize=(10,5))\n",
    "plt.scatter(books_new_outliers.average_rating,books_new_outliers.num_pages)\n",
    "plt.xlabel(\"Average rating\")\n",
    "plt.ylabel(\"Num of pages\")\n",
    "plt.show()"
   ]
  },
  {
   "cell_type": "markdown",
   "id": "c906c56b",
   "metadata": {},
   "source": [
    "English language is everywhere on the graph, meaning that a lot more diverse votes have been allocated for that language. But this one is concentrated on the range of 3.5 and 4.5. We clearly see that for any language, the voting range remains between 3.5 and 4.5."
   ]
  },
  {
   "cell_type": "markdown",
   "id": "6afe292a",
   "metadata": {},
   "source": [
    "the above plot is the new distribution after removing outliers"
   ]
  },
  {
   "cell_type": "code",
   "execution_count": 57,
   "id": "9dc3001a",
   "metadata": {},
   "outputs": [
    {
     "data": {
      "image/png": "[encoded data removed]",
      "text/plain": [
       "<Figure size 1000x1000 with 1 Axes>"
      ]
     },
     "metadata": {},
     "output_type": "display_data"
    }
   ],
   "source": [
    "plt.figure(figsize=(10,10))\n",
    "sns.regplot(data=books_new_outliers,y=\"average_rating\",x=\"num_pages\",marker='.',scatter_kws={\"color\": \"#FFC300\"}, line_kws={\"color\": \"#581845\"})\n",
    "plt.xlabel('No. of Pages')\n",
    "plt.ylabel('Average Rating')\n",
    "plt.title(\"Regression plot\")\n",
    "plt.show()"
   ]
  },
  {
   "cell_type": "code",
   "execution_count": 62,
   "id": "f8515dd7",
   "metadata": {},
   "outputs": [
    {
     "data": {
      "text/plain": [
       "<AxesSubplot:xlabel='ratings_count'>"
      ]
     },
     "execution_count": 62,
     "metadata": {},
     "output_type": "execute_result"
    },
    {
     "data": {
      "image/png": "[encoded data removed]",
      "text/plain": [
       "<Figure size 640x480 with 1 Axes>"
      ]
     },
     "metadata": {},
     "output_type": "display_data"
    }
   ],
   "source": [
    "# find no.from ratings_count\n",
    "sns.boxplot(x=books_new_outliers['ratings_count'])"
   ]
  },
  {
   "cell_type": "code",
   "execution_count": 58,
   "id": "e3e8a55f",
   "metadata": {},
   "outputs": [],
   "source": [
    "# remove outliers from ratings_count\n",
    "books_new_outliers2 = books_new_outliers.drop(books_new_outliers.index[books_new_outliers['ratings_count'] >= 1000000])"
   ]
  },
  {
   "cell_type": "code",
   "execution_count": 59,
   "id": "c8d32406",
   "metadata": {},
   "outputs": [
    {
     "data": {
      "text/plain": [
       "<AxesSubplot: xlabel='ratings_count'>"
      ]
     },
     "execution_count": 59,
     "metadata": {},
     "output_type": "execute_result"
    },
    {
     "data": {
      "image/png": "[encoded data removed]",
      "text/plain": [
       "<Figure size 640x480 with 1 Axes>"
      ]
     },
     "metadata": {},
     "output_type": "display_data"
    }
   ],
   "source": [
    "sns.boxplot(x=books_new_outliers2['ratings_count'])"
   ]
  },
  {
   "cell_type": "code",
   "execution_count": 60,
   "id": "d3442989",
   "metadata": {},
   "outputs": [
    {
     "data": {
      "text/plain": [
       "<AxesSubplot: xlabel='text_reviews_count'>"
      ]
     },
     "execution_count": 60,
     "metadata": {},
     "output_type": "execute_result"
    },
    {
     "data": {
      "image/png": "[encoded data removed]",
      "text/plain": [
       "<Figure size 640x480 with 1 Axes>"
      ]
     },
     "metadata": {},
     "output_type": "display_data"
    }
   ],
   "source": [
    "# find no.from text_reviews_count\n",
    "sns.boxplot(x=books_new_outliers2['text_reviews_count'])"
   ]
  },
  {
   "cell_type": "code",
   "execution_count": 61,
   "id": "d833f911",
   "metadata": {},
   "outputs": [],
   "source": [
    "# remove outliers from text_reviews_count\n",
    "books_new_outliers3 = books_new_outliers2.drop(books_new_outliers2.index[books_new_outliers2['text_reviews_count'] >= 20000])"
   ]
  },
  {
   "cell_type": "code",
   "execution_count": 62,
   "id": "69e5078d",
   "metadata": {},
   "outputs": [
    {
     "data": {
      "text/plain": [
       "average_rating        1.000000\n",
       "num_pages             0.102924\n",
       "ratings_count         0.051829\n",
       "text_reviews_count    0.039737\n",
       "Name: average_rating, dtype: float64"
      ]
     },
     "execution_count": 62,
     "metadata": {},
     "output_type": "execute_result"
    }
   ],
   "source": [
    "books_new_outliers3.corr()[\"average_rating\"]"
   ]
  },
  {
   "cell_type": "markdown",
   "id": "968cf2b2",
   "metadata": {},
   "source": [
    "The correlation with other feature is almost inexistant encoding categorical variable and formating feature may be a way to solve this issue. "
   ]
  },
  {
   "cell_type": "code",
   "execution_count": 63,
   "id": "8ecf69cb",
   "metadata": {},
   "outputs": [
    {
     "name": "stdout",
     "output_type": "stream",
     "text": [
      "<class 'pandas.core.frame.DataFrame'>\n",
      "Int64Index: 10792 entries, 4 to 45641\n",
      "Data columns (total 9 columns):\n",
      " #   Column              Non-Null Count  Dtype  \n",
      "---  ------              --------------  -----  \n",
      " 0   title               10792 non-null  object \n",
      " 1   authors             10792 non-null  object \n",
      " 2   average_rating      10792 non-null  float64\n",
      " 3   language_code       10792 non-null  object \n",
      " 4   num_pages           10792 non-null  int64  \n",
      " 5   ratings_count       10792 non-null  int64  \n",
      " 6   text_reviews_count  10792 non-null  int64  \n",
      " 7   publication_date    10792 non-null  object \n",
      " 8   publisher           10792 non-null  object \n",
      "dtypes: float64(1), int64(3), object(5)\n",
      "memory usage: 843.1+ KB\n"
     ]
    }
   ],
   "source": [
    "books_new_outliers3.info()"
   ]
  },
  {
   "cell_type": "markdown",
   "id": "cc5cb105",
   "metadata": {},
   "source": [
    "'title', 'authors' , 'publication_date', language_code', 'publisher' are categoricals variables. "
   ]
  },
  {
   "cell_type": "code",
   "execution_count": 64,
   "id": "bc7382bc",
   "metadata": {},
   "outputs": [],
   "source": [
    "books_transformation = books_new_outliers3.copy()"
   ]
  },
  {
   "cell_type": "code",
   "execution_count": 65,
   "id": "9f8967a6",
   "metadata": {},
   "outputs": [],
   "source": [
    "#Change the publication date to float\n",
    "\n",
    "books_transformation['publication_date']=pd.to_datetime(books_transformation['publication_date'],format = '%m/%d/%Y',errors='coerce')\n",
    "books_transformation['publication_date'] = pd.to_numeric(books_transformation['publication_date'])"
   ]
  },
  {
   "cell_type": "code",
   "execution_count": 66,
   "id": "f10816ca",
   "metadata": {},
   "outputs": [],
   "source": [
    "from sklearn import preprocessing\n",
    "\n",
    "le = preprocessing.LabelEncoder()\n",
    "\n",
    "books_transformation['title'] = le.fit_transform(books_transformation['title'])\n",
    "books_transformation['authors'] = le.fit_transform(books_transformation['authors'])\n",
    "books_transformation['language_code'] = le.fit_transform(books_transformation['language_code'])\n",
    "books_transformation['publisher'] = le.fit_transform(books_transformation['publisher'])"
   ]
  },
  {
   "cell_type": "code",
   "execution_count": 67,
   "id": "d2a22485",
   "metadata": {},
   "outputs": [
    {
     "data": {
      "text/plain": [
       "average_rating        1.000000\n",
       "num_pages             0.102924\n",
       "ratings_count         0.051829\n",
       "text_reviews_count    0.039737\n",
       "language_code         0.033625\n",
       "publisher             0.028266\n",
       "title                 0.021476\n",
       "authors               0.019323\n",
       "publication_date     -0.030611\n",
       "Name: average_rating, dtype: float64"
      ]
     },
     "execution_count": 67,
     "metadata": {},
     "output_type": "execute_result"
    }
   ],
   "source": [
    "books_transformation.corr()[\"average_rating\"].sort_values(ascending=False)"
   ]
  },
  {
   "cell_type": "code",
   "execution_count": 68,
   "id": "9f24bd44",
   "metadata": {
    "scrolled": true
   },
   "outputs": [
    {
     "data": {
      "text/html": [
       "<div>\n",
       "<style scoped>\n",
       "    .dataframe tbody tr th:only-of-type {\n",
       "        vertical-align: middle;\n",
       "    }\n",
       "\n",
       "    .dataframe tbody tr th {\n",
       "        vertical-align: top;\n",
       "    }\n",
       "\n",
       "    .dataframe thead th {\n",
       "        text-align: right;\n",
       "    }\n",
       "</style>\n",
       "<table border=\"1\" class=\"dataframe\">\n",
       "  <thead>\n",
       "    <tr style=\"text-align: right;\">\n",
       "      <th></th>\n",
       "      <th>title</th>\n",
       "      <th>authors</th>\n",
       "      <th>average_rating</th>\n",
       "      <th>language_code</th>\n",
       "      <th>num_pages</th>\n",
       "      <th>ratings_count</th>\n",
       "      <th>text_reviews_count</th>\n",
       "      <th>publication_date</th>\n",
       "      <th>publisher</th>\n",
       "    </tr>\n",
       "  </thead>\n",
       "  <tbody>\n",
       "    <tr>\n",
       "      <th>title</th>\n",
       "      <td>1.000000</td>\n",
       "      <td>0.028107</td>\n",
       "      <td>0.021476</td>\n",
       "      <td>-0.038840</td>\n",
       "      <td>0.004066</td>\n",
       "      <td>-0.004107</td>\n",
       "      <td>-0.008214</td>\n",
       "      <td>0.000928</td>\n",
       "      <td>0.027635</td>\n",
       "    </tr>\n",
       "    <tr>\n",
       "      <th>authors</th>\n",
       "      <td>0.028107</td>\n",
       "      <td>1.000000</td>\n",
       "      <td>0.019323</td>\n",
       "      <td>-0.001355</td>\n",
       "      <td>-0.001365</td>\n",
       "      <td>0.006417</td>\n",
       "      <td>-0.015057</td>\n",
       "      <td>0.003304</td>\n",
       "      <td>0.036574</td>\n",
       "    </tr>\n",
       "    <tr>\n",
       "      <th>average_rating</th>\n",
       "      <td>0.021476</td>\n",
       "      <td>0.019323</td>\n",
       "      <td>1.000000</td>\n",
       "      <td>0.033625</td>\n",
       "      <td>0.102924</td>\n",
       "      <td>0.051829</td>\n",
       "      <td>0.039737</td>\n",
       "      <td>-0.030611</td>\n",
       "      <td>0.028266</td>\n",
       "    </tr>\n",
       "    <tr>\n",
       "      <th>language_code</th>\n",
       "      <td>-0.038840</td>\n",
       "      <td>-0.001355</td>\n",
       "      <td>0.033625</td>\n",
       "      <td>1.000000</td>\n",
       "      <td>0.031315</td>\n",
       "      <td>-0.023347</td>\n",
       "      <td>-0.036639</td>\n",
       "      <td>0.022851</td>\n",
       "      <td>0.019572</td>\n",
       "    </tr>\n",
       "    <tr>\n",
       "      <th>num_pages</th>\n",
       "      <td>0.004066</td>\n",
       "      <td>-0.001365</td>\n",
       "      <td>0.102924</td>\n",
       "      <td>0.031315</td>\n",
       "      <td>1.000000</td>\n",
       "      <td>0.058882</td>\n",
       "      <td>0.067072</td>\n",
       "      <td>-0.013829</td>\n",
       "      <td>0.010983</td>\n",
       "    </tr>\n",
       "    <tr>\n",
       "      <th>ratings_count</th>\n",
       "      <td>-0.004107</td>\n",
       "      <td>0.006417</td>\n",
       "      <td>0.051829</td>\n",
       "      <td>-0.023347</td>\n",
       "      <td>0.058882</td>\n",
       "      <td>1.000000</td>\n",
       "      <td>0.859193</td>\n",
       "      <td>0.053337</td>\n",
       "      <td>-0.004155</td>\n",
       "    </tr>\n",
       "    <tr>\n",
       "      <th>text_reviews_count</th>\n",
       "      <td>-0.008214</td>\n",
       "      <td>-0.015057</td>\n",
       "      <td>0.039737</td>\n",
       "      <td>-0.036639</td>\n",
       "      <td>0.067072</td>\n",
       "      <td>0.859193</td>\n",
       "      <td>1.000000</td>\n",
       "      <td>0.080061</td>\n",
       "      <td>0.005162</td>\n",
       "    </tr>\n",
       "    <tr>\n",
       "      <th>publication_date</th>\n",
       "      <td>0.000928</td>\n",
       "      <td>0.003304</td>\n",
       "      <td>-0.030611</td>\n",
       "      <td>0.022851</td>\n",
       "      <td>-0.013829</td>\n",
       "      <td>0.053337</td>\n",
       "      <td>0.080061</td>\n",
       "      <td>1.000000</td>\n",
       "      <td>-0.009175</td>\n",
       "    </tr>\n",
       "    <tr>\n",
       "      <th>publisher</th>\n",
       "      <td>0.027635</td>\n",
       "      <td>0.036574</td>\n",
       "      <td>0.028266</td>\n",
       "      <td>0.019572</td>\n",
       "      <td>0.010983</td>\n",
       "      <td>-0.004155</td>\n",
       "      <td>0.005162</td>\n",
       "      <td>-0.009175</td>\n",
       "      <td>1.000000</td>\n",
       "    </tr>\n",
       "  </tbody>\n",
       "</table>\n",
       "</div>"
      ],
      "text/plain": [
       "                       title   authors  average_rating  language_code  \\\n",
       "title               1.000000  0.028107        0.021476      -0.038840   \n",
       "authors             0.028107  1.000000        0.019323      -0.001355   \n",
       "average_rating      0.021476  0.019323        1.000000       0.033625   \n",
       "language_code      -0.038840 -0.001355        0.033625       1.000000   \n",
       "num_pages           0.004066 -0.001365        0.102924       0.031315   \n",
       "ratings_count      -0.004107  0.006417        0.051829      -0.023347   \n",
       "text_reviews_count -0.008214 -0.015057        0.039737      -0.036639   \n",
       "publication_date    0.000928  0.003304       -0.030611       0.022851   \n",
       "publisher           0.027635  0.036574        0.028266       0.019572   \n",
       "\n",
       "                    num_pages  ratings_count  text_reviews_count  \\\n",
       "title                0.004066      -0.004107           -0.008214   \n",
       "authors             -0.001365       0.006417           -0.015057   \n",
       "average_rating       0.102924       0.051829            0.039737   \n",
       "language_code        0.031315      -0.023347           -0.036639   \n",
       "num_pages            1.000000       0.058882            0.067072   \n",
       "ratings_count        0.058882       1.000000            0.859193   \n",
       "text_reviews_count   0.067072       0.859193            1.000000   \n",
       "publication_date    -0.013829       0.053337            0.080061   \n",
       "publisher            0.010983      -0.004155            0.005162   \n",
       "\n",
       "                    publication_date  publisher  \n",
       "title                       0.000928   0.027635  \n",
       "authors                     0.003304   0.036574  \n",
       "average_rating             -0.030611   0.028266  \n",
       "language_code               0.022851   0.019572  \n",
       "num_pages                  -0.013829   0.010983  \n",
       "ratings_count               0.053337  -0.004155  \n",
       "text_reviews_count          0.080061   0.005162  \n",
       "publication_date            1.000000  -0.009175  \n",
       "publisher                  -0.009175   1.000000  "
      ]
     },
     "execution_count": 68,
     "metadata": {},
     "output_type": "execute_result"
    }
   ],
   "source": [
    "books_transformation.corr()"
   ]
  },
  {
   "cell_type": "code",
   "execution_count": 69,
   "id": "d555eebf",
   "metadata": {},
   "outputs": [
    {
     "data": {
      "text/html": [
       "<div>\n",
       "<style scoped>\n",
       "    .dataframe tbody tr th:only-of-type {\n",
       "        vertical-align: middle;\n",
       "    }\n",
       "\n",
       "    .dataframe tbody tr th {\n",
       "        vertical-align: top;\n",
       "    }\n",
       "\n",
       "    .dataframe thead th {\n",
       "        text-align: right;\n",
       "    }\n",
       "</style>\n",
       "<table border=\"1\" class=\"dataframe\">\n",
       "  <thead>\n",
       "    <tr style=\"text-align: right;\">\n",
       "      <th></th>\n",
       "      <th>title</th>\n",
       "      <th>authors</th>\n",
       "      <th>average_rating</th>\n",
       "      <th>language_code</th>\n",
       "      <th>num_pages</th>\n",
       "      <th>ratings_count</th>\n",
       "      <th>text_reviews_count</th>\n",
       "      <th>publication_date</th>\n",
       "      <th>publisher</th>\n",
       "    </tr>\n",
       "    <tr>\n",
       "      <th>bookID</th>\n",
       "      <th></th>\n",
       "      <th></th>\n",
       "      <th></th>\n",
       "      <th></th>\n",
       "      <th></th>\n",
       "      <th></th>\n",
       "      <th></th>\n",
       "      <th></th>\n",
       "      <th></th>\n",
       "    </tr>\n",
       "  </thead>\n",
       "  <tbody>\n",
       "    <tr>\n",
       "      <th>4</th>\n",
       "      <td>2997</td>\n",
       "      <td>2558</td>\n",
       "      <td>4.42</td>\n",
       "      <td>5</td>\n",
       "      <td>352</td>\n",
       "      <td>6333</td>\n",
       "      <td>244</td>\n",
       "      <td>1067644800000000000</td>\n",
       "      <td>1752</td>\n",
       "    </tr>\n",
       "    <tr>\n",
       "      <th>9</th>\n",
       "      <td>9444</td>\n",
       "      <td>6157</td>\n",
       "      <td>3.74</td>\n",
       "      <td>4</td>\n",
       "      <td>152</td>\n",
       "      <td>19</td>\n",
       "      <td>1</td>\n",
       "      <td>1114473600000000000</td>\n",
       "      <td>1353</td>\n",
       "    </tr>\n",
       "    <tr>\n",
       "      <th>12</th>\n",
       "      <td>8890</td>\n",
       "      <td>1438</td>\n",
       "      <td>4.38</td>\n",
       "      <td>5</td>\n",
       "      <td>815</td>\n",
       "      <td>3628</td>\n",
       "      <td>254</td>\n",
       "      <td>1130803200000000000</td>\n",
       "      <td>781</td>\n",
       "    </tr>\n",
       "    <tr>\n",
       "      <th>13</th>\n",
       "      <td>8889</td>\n",
       "      <td>1438</td>\n",
       "      <td>4.38</td>\n",
       "      <td>5</td>\n",
       "      <td>815</td>\n",
       "      <td>249558</td>\n",
       "      <td>4080</td>\n",
       "      <td>1020124800000000000</td>\n",
       "      <td>518</td>\n",
       "    </tr>\n",
       "    <tr>\n",
       "      <th>14</th>\n",
       "      <td>7616</td>\n",
       "      <td>1438</td>\n",
       "      <td>4.22</td>\n",
       "      <td>5</td>\n",
       "      <td>215</td>\n",
       "      <td>4930</td>\n",
       "      <td>460</td>\n",
       "      <td>1091491200000000000</td>\n",
       "      <td>464</td>\n",
       "    </tr>\n",
       "  </tbody>\n",
       "</table>\n",
       "</div>"
      ],
      "text/plain": [
       "        title  authors  average_rating  language_code  num_pages  \\\n",
       "bookID                                                             \n",
       "4        2997     2558            4.42              5        352   \n",
       "9        9444     6157            3.74              4        152   \n",
       "12       8890     1438            4.38              5        815   \n",
       "13       8889     1438            4.38              5        815   \n",
       "14       7616     1438            4.22              5        215   \n",
       "\n",
       "        ratings_count  text_reviews_count     publication_date  publisher  \n",
       "bookID                                                                     \n",
       "4                6333                 244  1067644800000000000       1752  \n",
       "9                  19                   1  1114473600000000000       1353  \n",
       "12               3628                 254  1130803200000000000        781  \n",
       "13             249558                4080  1020124800000000000        518  \n",
       "14               4930                 460  1091491200000000000        464  "
      ]
     },
     "execution_count": 69,
     "metadata": {},
     "output_type": "execute_result"
    }
   ],
   "source": [
    "books_transformation.head()"
   ]
  },
  {
   "cell_type": "markdown",
   "id": "61a302e6",
   "metadata": {},
   "source": [
    "there is no additional correlations"
   ]
  },
  {
   "cell_type": "code",
   "execution_count": 70,
   "id": "9a2b9ec7",
   "metadata": {},
   "outputs": [
    {
     "data": {
      "text/plain": [
       "bookID\n",
       "4          eng\n",
       "9        en-US\n",
       "12         eng\n",
       "13         eng\n",
       "14         eng\n",
       "         ...  \n",
       "45631      eng\n",
       "45633      eng\n",
       "45634      eng\n",
       "45639      eng\n",
       "45641      spa\n",
       "Name: language_code, Length: 10792, dtype: object"
      ]
     },
     "execution_count": 70,
     "metadata": {},
     "output_type": "execute_result"
    }
   ],
   "source": [
    "books_new_outliers3['language_code']"
   ]
  },
  {
   "cell_type": "code",
   "execution_count": 71,
   "id": "cb7715cb",
   "metadata": {},
   "outputs": [
    {
     "data": {
      "text/plain": [
       "0"
      ]
     },
     "execution_count": 71,
     "metadata": {},
     "output_type": "execute_result"
    }
   ],
   "source": [
    "books_new_outliers3['language_code'].isna().sum()"
   ]
  },
  {
   "cell_type": "code",
   "execution_count": 72,
   "id": "31509086",
   "metadata": {},
   "outputs": [
    {
     "data": {
      "text/plain": [
       "array(['eng', 'en-US', 'fre', 'spa', 'en-GB', 'mul', 'grc', 'en-CA',\n",
       "       'ger', 'jpn', 'ara', 'nl', 'zho', 'lat', 'por', 'srp', 'ita',\n",
       "       'rus', 'msa', 'glg', 'wel', 'swe', 'nor', 'enm', 'tur', 'gla',\n",
       "       'ale'], dtype=object)"
      ]
     },
     "execution_count": 72,
     "metadata": {},
     "output_type": "execute_result"
    }
   ],
   "source": [
    "#  list of different languages assigned to books without duplicates\n",
    "books_new_outliers3['language_code'].unique()"
   ]
  },
  {
   "cell_type": "code",
   "execution_count": 73,
   "id": "5b624f26",
   "metadata": {},
   "outputs": [
    {
     "data": {
      "text/plain": [
       "eng      8627\n",
       "en-US    1375\n",
       "spa       216\n",
       "en-GB     208\n",
       "fre       141\n",
       "ger        95\n",
       "jpn        46\n",
       "mul        19\n",
       "zho        14\n",
       "grc        11\n",
       "por        10\n",
       "en-CA       7\n",
       "ita         5\n",
       "lat         3\n",
       "rus         2\n",
       "swe         2\n",
       "nl          1\n",
       "srp         1\n",
       "ara         1\n",
       "msa         1\n",
       "glg         1\n",
       "wel         1\n",
       "nor         1\n",
       "enm         1\n",
       "tur         1\n",
       "gla         1\n",
       "ale         1\n",
       "Name: language_code, dtype: int64"
      ]
     },
     "execution_count": 73,
     "metadata": {},
     "output_type": "execute_result"
    }
   ],
   "source": [
    "# the number of books per language.\n",
    "books_new_outliers3['language_code'].value_counts()"
   ]
  },
  {
   "cell_type": "code",
   "execution_count": 74,
   "id": "bf3a58ce",
   "metadata": {},
   "outputs": [
    {
     "data": {
      "text/plain": [
       "<matplotlib.legend.Legend at 0x2848c59fd60>"
      ]
     },
     "execution_count": 74,
     "metadata": {},
     "output_type": "execute_result"
    },
    {
     "data": {
      "image/png": "[encoded data removed]",
      "text/plain": [
       "<Figure size 800x800 with 1 Axes>"
      ]
     },
     "metadata": {},
     "output_type": "display_data"
    }
   ],
   "source": [
    "books_new_outliers3['language_code'].value_counts().head(5).plot(kind = 'pie', autopct='%1.1f%%', figsize=(8, 8)).legend()\n"
   ]
  },
  {
   "cell_type": "markdown",
   "id": "428ed81c",
   "metadata": {},
   "source": [
    "Over 95% of books are in English, which means this variable is nearly constant!"
   ]
  },
  {
   "cell_type": "code",
   "execution_count": 75,
   "id": "7674c01c",
   "metadata": {},
   "outputs": [
    {
     "data": {
      "text/plain": [
       "(array([ 0,  1,  2,  3,  4,  5,  6,  7,  8,  9, 10, 11, 12, 13, 14, 15, 16,\n",
       "        17, 18, 19, 20, 21, 22, 23, 24, 25, 26]),\n",
       " [Text(0, 0, 'eng'),\n",
       "  Text(1, 0, 'en-US'),\n",
       "  Text(2, 0, 'fre'),\n",
       "  Text(3, 0, 'spa'),\n",
       "  Text(4, 0, 'en-GB'),\n",
       "  Text(5, 0, 'mul'),\n",
       "  Text(6, 0, 'grc'),\n",
       "  Text(7, 0, 'en-CA'),\n",
       "  Text(8, 0, 'ger'),\n",
       "  Text(9, 0, 'jpn'),\n",
       "  Text(10, 0, 'ara'),\n",
       "  Text(11, 0, 'nl'),\n",
       "  Text(12, 0, 'zho'),\n",
       "  Text(13, 0, 'lat'),\n",
       "  Text(14, 0, 'por'),\n",
       "  Text(15, 0, 'srp'),\n",
       "  Text(16, 0, 'ita'),\n",
       "  Text(17, 0, 'rus'),\n",
       "  Text(18, 0, 'msa'),\n",
       "  Text(19, 0, 'glg'),\n",
       "  Text(20, 0, 'wel'),\n",
       "  Text(21, 0, 'swe'),\n",
       "  Text(22, 0, 'nor'),\n",
       "  Text(23, 0, 'enm'),\n",
       "  Text(24, 0, 'tur'),\n",
       "  Text(25, 0, 'gla'),\n",
       "  Text(26, 0, 'ale')])"
      ]
     },
     "execution_count": 75,
     "metadata": {},
     "output_type": "execute_result"
    },
    {
     "data": {
      "image/png": "[encoded data removed]",
      "text/plain": [
       "<Figure size 640x480 with 1 Axes>"
      ]
     },
     "metadata": {},
     "output_type": "display_data"
    }
   ],
   "source": [
    "sns.barplot(data=books_new_outliers3 , x=\"language_code\", y=\"ratings_count\")\n",
    "plt.title('Number of Books Each Rating Received\\n')\n",
    "plt.xlabel('Ratings')\n",
    "plt.ylabel('Counts')\n",
    "plt.xticks(rotation=45)"
   ]
  },
  {
   "cell_type": "code",
   "execution_count": 76,
   "id": "4171307d",
   "metadata": {},
   "outputs": [
    {
     "data": {
      "text/plain": [
       "eng      8627\n",
       "en-US    1375\n",
       "spa       216\n",
       "en-GB     208\n",
       "fre       141\n",
       "Name: language_code, dtype: int64"
      ]
     },
     "execution_count": 76,
     "metadata": {},
     "output_type": "execute_result"
    }
   ],
   "source": [
    "# top 5 most used languages:\n",
    "books_new_outliers3['language_code'].value_counts().head()"
   ]
  },
  {
   "cell_type": "code",
   "execution_count": 77,
   "id": "1ac6e934",
   "metadata": {},
   "outputs": [
    {
     "data": {
      "text/plain": [
       "eng      0.799388\n",
       "en-US    0.127409\n",
       "spa      0.020015\n",
       "en-GB    0.019274\n",
       "fre      0.013065\n",
       "Name: language_code, dtype: float64"
      ]
     },
     "execution_count": 77,
     "metadata": {},
     "output_type": "execute_result"
    }
   ],
   "source": [
    "books_CountValueLang = books_new_outliers3['language_code'].value_counts(normalize = True).head()\n",
    "books_CountValueLang"
   ]
  },
  {
   "cell_type": "markdown",
   "id": "063a79c4",
   "metadata": {},
   "source": [
    "Model Performing\n",
    "\n",
    "we only keep columns where average_ratings is correlated: num_pages, text_review_counts, and ratings_count."
   ]
  },
  {
   "cell_type": "code",
   "execution_count": 78,
   "id": "a6fbbee9",
   "metadata": {},
   "outputs": [
    {
     "data": {
      "text/html": [
       "<div>\n",
       "<style scoped>\n",
       "    .dataframe tbody tr th:only-of-type {\n",
       "        vertical-align: middle;\n",
       "    }\n",
       "\n",
       "    .dataframe tbody tr th {\n",
       "        vertical-align: top;\n",
       "    }\n",
       "\n",
       "    .dataframe thead th {\n",
       "        text-align: right;\n",
       "    }\n",
       "</style>\n",
       "<table border=\"1\" class=\"dataframe\">\n",
       "  <thead>\n",
       "    <tr style=\"text-align: right;\">\n",
       "      <th></th>\n",
       "      <th>title</th>\n",
       "      <th>authors</th>\n",
       "      <th>average_rating</th>\n",
       "      <th>language_code</th>\n",
       "      <th>num_pages</th>\n",
       "      <th>ratings_count</th>\n",
       "      <th>text_reviews_count</th>\n",
       "      <th>publication_date</th>\n",
       "      <th>publisher</th>\n",
       "    </tr>\n",
       "    <tr>\n",
       "      <th>bookID</th>\n",
       "      <th></th>\n",
       "      <th></th>\n",
       "      <th></th>\n",
       "      <th></th>\n",
       "      <th></th>\n",
       "      <th></th>\n",
       "      <th></th>\n",
       "      <th></th>\n",
       "      <th></th>\n",
       "    </tr>\n",
       "  </thead>\n",
       "  <tbody>\n",
       "    <tr>\n",
       "      <th>4</th>\n",
       "      <td>2997</td>\n",
       "      <td>2558</td>\n",
       "      <td>4.42</td>\n",
       "      <td>5</td>\n",
       "      <td>352</td>\n",
       "      <td>6333</td>\n",
       "      <td>244</td>\n",
       "      <td>1067644800000000000</td>\n",
       "      <td>1752</td>\n",
       "    </tr>\n",
       "    <tr>\n",
       "      <th>9</th>\n",
       "      <td>9444</td>\n",
       "      <td>6157</td>\n",
       "      <td>3.74</td>\n",
       "      <td>4</td>\n",
       "      <td>152</td>\n",
       "      <td>19</td>\n",
       "      <td>1</td>\n",
       "      <td>1114473600000000000</td>\n",
       "      <td>1353</td>\n",
       "    </tr>\n",
       "    <tr>\n",
       "      <th>12</th>\n",
       "      <td>8890</td>\n",
       "      <td>1438</td>\n",
       "      <td>4.38</td>\n",
       "      <td>5</td>\n",
       "      <td>815</td>\n",
       "      <td>3628</td>\n",
       "      <td>254</td>\n",
       "      <td>1130803200000000000</td>\n",
       "      <td>781</td>\n",
       "    </tr>\n",
       "    <tr>\n",
       "      <th>13</th>\n",
       "      <td>8889</td>\n",
       "      <td>1438</td>\n",
       "      <td>4.38</td>\n",
       "      <td>5</td>\n",
       "      <td>815</td>\n",
       "      <td>249558</td>\n",
       "      <td>4080</td>\n",
       "      <td>1020124800000000000</td>\n",
       "      <td>518</td>\n",
       "    </tr>\n",
       "    <tr>\n",
       "      <th>14</th>\n",
       "      <td>7616</td>\n",
       "      <td>1438</td>\n",
       "      <td>4.22</td>\n",
       "      <td>5</td>\n",
       "      <td>215</td>\n",
       "      <td>4930</td>\n",
       "      <td>460</td>\n",
       "      <td>1091491200000000000</td>\n",
       "      <td>464</td>\n",
       "    </tr>\n",
       "  </tbody>\n",
       "</table>\n",
       "</div>"
      ],
      "text/plain": [
       "        title  authors  average_rating  language_code  num_pages  \\\n",
       "bookID                                                             \n",
       "4        2997     2558            4.42              5        352   \n",
       "9        9444     6157            3.74              4        152   \n",
       "12       8890     1438            4.38              5        815   \n",
       "13       8889     1438            4.38              5        815   \n",
       "14       7616     1438            4.22              5        215   \n",
       "\n",
       "        ratings_count  text_reviews_count     publication_date  publisher  \n",
       "bookID                                                                     \n",
       "4                6333                 244  1067644800000000000       1752  \n",
       "9                  19                   1  1114473600000000000       1353  \n",
       "12               3628                 254  1130803200000000000        781  \n",
       "13             249558                4080  1020124800000000000        518  \n",
       "14               4930                 460  1091491200000000000        464  "
      ]
     },
     "execution_count": 78,
     "metadata": {},
     "output_type": "execute_result"
    }
   ],
   "source": [
    "books_transformation.head()"
   ]
  },
  {
   "cell_type": "code",
   "execution_count": 79,
   "id": "adf96162",
   "metadata": {},
   "outputs": [],
   "source": [
    "# Copy of the data frame\n",
    "books_Model = books_transformation.copy()\n",
    "# delete unused columns \n",
    "# divide the data into attributes and labels\n",
    "X = books_Model .drop(['title', 'authors', 'language_code','publisher'],  axis = 1)\n",
    "y = books_Model ['average_rating']"
   ]
  },
  {
   "cell_type": "code",
   "execution_count": 80,
   "id": "4fe1aa26",
   "metadata": {},
   "outputs": [],
   "source": [
    "# Splitting the dataset into train and test sets\n",
    "from sklearn.model_selection import train_test_split\n",
    "X_train, X_test, y_train, y_test = train_test_split(X, y, test_size = 0.2, random_state =60)"
   ]
  },
  {
   "cell_type": "code",
   "execution_count": 81,
   "id": "961324c4",
   "metadata": {},
   "outputs": [
    {
     "data": {
      "text/plain": [
       "(8633, 5)"
      ]
     },
     "execution_count": 81,
     "metadata": {},
     "output_type": "execute_result"
    }
   ],
   "source": [
    "X_train.shape"
   ]
  },
  {
   "cell_type": "code",
   "execution_count": 82,
   "id": "4be51dc0",
   "metadata": {},
   "outputs": [
    {
     "data": {
      "text/plain": [
       "(2159, 5)"
      ]
     },
     "execution_count": 82,
     "metadata": {},
     "output_type": "execute_result"
    }
   ],
   "source": [
    "X_test.shape"
   ]
  },
  {
   "cell_type": "code",
   "execution_count": 83,
   "id": "a7e5fcc9",
   "metadata": {},
   "outputs": [
    {
     "name": "stdout",
     "output_type": "stream",
     "text": [
      "3.928132876204578\n",
      "3.926822657245459\n",
      "3.9333719314497375\n"
     ]
    }
   ],
   "source": [
    "print(books_transformation.average_rating.mean())\n",
    "print(X_train.average_rating.mean())\n",
    "print(X_test.average_rating.mean())"
   ]
  },
  {
   "cell_type": "code",
   "execution_count": 84,
   "id": "41655803",
   "metadata": {},
   "outputs": [
    {
     "name": "stdout",
     "output_type": "stream",
     "text": [
      "12701.569217939214\n",
      "12803.829143982393\n",
      "12292.671607225568\n"
     ]
    }
   ],
   "source": [
    "print(books_transformation.ratings_count.mean())\n",
    "print(X_train.ratings_count.mean())\n",
    "print(X_test.ratings_count.mean())"
   ]
  },
  {
   "cell_type": "code",
   "execution_count": 85,
   "id": "aa0cc50e",
   "metadata": {},
   "outputs": [
    {
     "name": "stdout",
     "output_type": "stream",
     "text": [
      "432.6673461823573\n",
      "438.7376346577088\n",
      "408.3946271421955\n"
     ]
    }
   ],
   "source": [
    "print(books_transformation.text_reviews_count.mean())\n",
    "print(X_train.text_reviews_count.mean())\n",
    "print(X_test.text_reviews_count.mean())"
   ]
  },
  {
   "cell_type": "code",
   "execution_count": 86,
   "id": "bf1691a9",
   "metadata": {},
   "outputs": [],
   "source": [
    "X_trainb = X_train.loc[:,['num_pages','ratings_count','text_reviews_count','publication_date']].values\n",
    "y_trainb = X_train.average_rating.values"
   ]
  },
  {
   "cell_type": "code",
   "execution_count": 87,
   "id": "9f8504aa",
   "metadata": {},
   "outputs": [],
   "source": [
    "X_testb = X_test.loc[:,['num_pages','ratings_count','text_reviews_count','publication_date']].values\n",
    "y_testb = X_test.average_rating.values"
   ]
  },
  {
   "cell_type": "markdown",
   "id": "e6e1a0c3",
   "metadata": {},
   "source": [
    "Linear Regression Model"
   ]
  },
  {
   "cell_type": "code",
   "execution_count": 88,
   "id": "fa3ddfb6",
   "metadata": {},
   "outputs": [
    {
     "data": {
      "text/html": [
       "<style>#sk-container-id-1 {color: black;background-color: white;}#sk-container-id-1 pre{padding: 0;}#sk-container-id-1 div.sk-toggleable {background-color: white;}#sk-container-id-1 label.sk-toggleable__label {cursor: pointer;display: block;width: 100%;margin-bottom: 0;padding: 0.3em;box-sizing: border-box;text-align: center;}#sk-container-id-1 label.sk-toggleable__label-arrow:before {content: \"▸\";float: left;margin-right: 0.25em;color: #696969;}#sk-container-id-1 label.sk-toggleable__label-arrow:hover:before {color: black;}#sk-container-id-1 div.sk-estimator:hover label.sk-toggleable__label-arrow:before {color: black;}#sk-container-id-1 div.sk-toggleable__content {max-height: 0;max-width: 0;overflow: hidden;text-align: left;background-color: #f0f8ff;}#sk-container-id-1 div.sk-toggleable__content pre {margin: 0.2em;color: black;border-radius: 0.25em;background-color: #f0f8ff;}#sk-container-id-1 input.sk-toggleable__control:checked~div.sk-toggleable__content {max-height: 200px;max-width: 100%;overflow: auto;}#sk-container-id-1 input.sk-toggleable__control:checked~label.sk-toggleable__label-arrow:before {content: \"▾\";}#sk-container-id-1 div.sk-estimator input.sk-toggleable__control:checked~label.sk-toggleable__label {background-color: #d4ebff;}#sk-container-id-1 div.sk-label input.sk-toggleable__control:checked~label.sk-toggleable__label {background-color: #d4ebff;}#sk-container-id-1 input.sk-hidden--visually {border: 0;clip: rect(1px 1px 1px 1px);clip: rect(1px, 1px, 1px, 1px);height: 1px;margin: -1px;overflow: hidden;padding: 0;position: absolute;width: 1px;}#sk-container-id-1 div.sk-estimator {font-family: monospace;background-color: #f0f8ff;border: 1px dotted black;border-radius: 0.25em;box-sizing: border-box;margin-bottom: 0.5em;}#sk-container-id-1 div.sk-estimator:hover {background-color: #d4ebff;}#sk-container-id-1 div.sk-parallel-item::after {content: \"\";width: 100%;border-bottom: 1px solid gray;flex-grow: 1;}#sk-container-id-1 div.sk-label:hover label.sk-toggleable__label {background-color: #d4ebff;}#sk-container-id-1 div.sk-serial::before {content: \"\";position: absolute;border-left: 1px solid gray;box-sizing: border-box;top: 0;bottom: 0;left: 50%;z-index: 0;}#sk-container-id-1 div.sk-serial {display: flex;flex-direction: column;align-items: center;background-color: white;padding-right: 0.2em;padding-left: 0.2em;position: relative;}#sk-container-id-1 div.sk-item {position: relative;z-index: 1;}#sk-container-id-1 div.sk-parallel {display: flex;align-items: stretch;justify-content: center;background-color: white;position: relative;}#sk-container-id-1 div.sk-item::before, #sk-container-id-1 div.sk-parallel-item::before {content: \"\";position: absolute;border-left: 1px solid gray;box-sizing: border-box;top: 0;bottom: 0;left: 50%;z-index: -1;}#sk-container-id-1 div.sk-parallel-item {display: flex;flex-direction: column;z-index: 1;position: relative;background-color: white;}#sk-container-id-1 div.sk-parallel-item:first-child::after {align-self: flex-end;width: 50%;}#sk-container-id-1 div.sk-parallel-item:last-child::after {align-self: flex-start;width: 50%;}#sk-container-id-1 div.sk-parallel-item:only-child::after {width: 0;}#sk-container-id-1 div.sk-dashed-wrapped {border: 1px dashed gray;margin: 0 0.4em 0.5em 0.4em;box-sizing: border-box;padding-bottom: 0.4em;background-color: white;}#sk-container-id-1 div.sk-label label {font-family: monospace;font-weight: bold;display: inline-block;line-height: 1.2em;}#sk-container-id-1 div.sk-label-container {text-align: center;}#sk-container-id-1 div.sk-container {/* jupyter's `normalize.less` sets `[hidden] { display: none; }` but bootstrap.min.css set `[hidden] { display: none !important; }` so we also need the `!important` here to be able to override the default hidden behavior on the sphinx rendered scikit-learn.org. See: https://github.com/scikit-learn/scikit-learn/issues/21755 */display: inline-block !important;position: relative;}#sk-container-id-1 div.sk-text-repr-fallback {display: none;}</style><div id=\"sk-container-id-1\" class=\"sk-top-container\"><div class=\"sk-text-repr-fallback\"><pre>LinearRegression()</pre><b>In a Jupyter environment, please rerun this cell to show the HTML representation or trust the notebook. <br />On GitHub, the HTML representation is unable to render, please try loading this page with nbviewer.org.</b></div><div class=\"sk-container\" hidden><div class=\"sk-item\"><div class=\"sk-estimator sk-toggleable\"><input class=\"sk-toggleable__control sk-hidden--visually\" id=\"sk-estimator-id-1\" type=\"checkbox\" checked><label for=\"sk-estimator-id-1\" class=\"sk-toggleable__label sk-toggleable__label-arrow\">LinearRegression</label><div class=\"sk-toggleable__content\"><pre>LinearRegression()</pre></div></div></div></div></div>"
      ],
      "text/plain": [
       "LinearRegression()"
      ]
     },
     "execution_count": 88,
     "metadata": {},
     "output_type": "execute_result"
    }
   ],
   "source": [
    "from sklearn.linear_model import LinearRegression\n",
    "\n",
    "# regression model\n",
    "lr_model = LinearRegression()\n",
    "# Fitting the training data to our model\n",
    "lr_model.fit(X_trainb,y_trainb)"
   ]
  },
  {
   "cell_type": "code",
   "execution_count": 89,
   "id": "17213b4a",
   "metadata": {},
   "outputs": [],
   "source": [
    "# prediction for the test data set.\n",
    "y_testb_predicted_lr = lr_model.predict(X_testb)"
   ]
  },
  {
   "cell_type": "markdown",
   "id": "405cd55e",
   "metadata": {},
   "source": [
    "Mean Squared Error Model"
   ]
  },
  {
   "cell_type": "code",
   "execution_count": 90,
   "id": "1d002147",
   "metadata": {},
   "outputs": [],
   "source": [
    "from sklearn.metrics import mean_absolute_error, mean_squared_error, r2_score"
   ]
  },
  {
   "cell_type": "code",
   "execution_count": 91,
   "id": "791e2a9a",
   "metadata": {},
   "outputs": [
    {
     "name": "stdout",
     "output_type": "stream",
     "text": [
      "Linear Regression Report\n",
      "MAE: 0.22093265352487723\n",
      "MSE: 0.11251287255824548\n",
      "R^2: 0.00963944812888795\n"
     ]
    }
   ],
   "source": [
    "# calculate the error between predictions values and the reals values.\n",
    "print('Linear Regression Report')\n",
    "print('MAE: ' + str(mean_absolute_error(y_testb,y_testb_predicted_lr)))\n",
    "print('MSE: ' + str(mean_squared_error(y_testb,y_testb_predicted_lr)))\n",
    "print('R^2: ' + str(r2_score(y_testb,y_testb_predicted_lr)))"
   ]
  },
  {
   "cell_type": "markdown",
   "id": "7383ac46",
   "metadata": {},
   "source": [
    "Decision Tree Model"
   ]
  },
  {
   "cell_type": "code",
   "execution_count": 93,
   "id": "b93d69df",
   "metadata": {},
   "outputs": [
    {
     "data": {
      "text/html": [
       "<style>#sk-container-id-2 {color: black;background-color: white;}#sk-container-id-2 pre{padding: 0;}#sk-container-id-2 div.sk-toggleable {background-color: white;}#sk-container-id-2 label.sk-toggleable__label {cursor: pointer;display: block;width: 100%;margin-bottom: 0;padding: 0.3em;box-sizing: border-box;text-align: center;}#sk-container-id-2 label.sk-toggleable__label-arrow:before {content: \"▸\";float: left;margin-right: 0.25em;color: #696969;}#sk-container-id-2 label.sk-toggleable__label-arrow:hover:before {color: black;}#sk-container-id-2 div.sk-estimator:hover label.sk-toggleable__label-arrow:before {color: black;}#sk-container-id-2 div.sk-toggleable__content {max-height: 0;max-width: 0;overflow: hidden;text-align: left;background-color: #f0f8ff;}#sk-container-id-2 div.sk-toggleable__content pre {margin: 0.2em;color: black;border-radius: 0.25em;background-color: #f0f8ff;}#sk-container-id-2 input.sk-toggleable__control:checked~div.sk-toggleable__content {max-height: 200px;max-width: 100%;overflow: auto;}#sk-container-id-2 input.sk-toggleable__control:checked~label.sk-toggleable__label-arrow:before {content: \"▾\";}#sk-container-id-2 div.sk-estimator input.sk-toggleable__control:checked~label.sk-toggleable__label {background-color: #d4ebff;}#sk-container-id-2 div.sk-label input.sk-toggleable__control:checked~label.sk-toggleable__label {background-color: #d4ebff;}#sk-container-id-2 input.sk-hidden--visually {border: 0;clip: rect(1px 1px 1px 1px);clip: rect(1px, 1px, 1px, 1px);height: 1px;margin: -1px;overflow: hidden;padding: 0;position: absolute;width: 1px;}#sk-container-id-2 div.sk-estimator {font-family: monospace;background-color: #f0f8ff;border: 1px dotted black;border-radius: 0.25em;box-sizing: border-box;margin-bottom: 0.5em;}#sk-container-id-2 div.sk-estimator:hover {background-color: #d4ebff;}#sk-container-id-2 div.sk-parallel-item::after {content: \"\";width: 100%;border-bottom: 1px solid gray;flex-grow: 1;}#sk-container-id-2 div.sk-label:hover label.sk-toggleable__label {background-color: #d4ebff;}#sk-container-id-2 div.sk-serial::before {content: \"\";position: absolute;border-left: 1px solid gray;box-sizing: border-box;top: 0;bottom: 0;left: 50%;z-index: 0;}#sk-container-id-2 div.sk-serial {display: flex;flex-direction: column;align-items: center;background-color: white;padding-right: 0.2em;padding-left: 0.2em;position: relative;}#sk-container-id-2 div.sk-item {position: relative;z-index: 1;}#sk-container-id-2 div.sk-parallel {display: flex;align-items: stretch;justify-content: center;background-color: white;position: relative;}#sk-container-id-2 div.sk-item::before, #sk-container-id-2 div.sk-parallel-item::before {content: \"\";position: absolute;border-left: 1px solid gray;box-sizing: border-box;top: 0;bottom: 0;left: 50%;z-index: -1;}#sk-container-id-2 div.sk-parallel-item {display: flex;flex-direction: column;z-index: 1;position: relative;background-color: white;}#sk-container-id-2 div.sk-parallel-item:first-child::after {align-self: flex-end;width: 50%;}#sk-container-id-2 div.sk-parallel-item:last-child::after {align-self: flex-start;width: 50%;}#sk-container-id-2 div.sk-parallel-item:only-child::after {width: 0;}#sk-container-id-2 div.sk-dashed-wrapped {border: 1px dashed gray;margin: 0 0.4em 0.5em 0.4em;box-sizing: border-box;padding-bottom: 0.4em;background-color: white;}#sk-container-id-2 div.sk-label label {font-family: monospace;font-weight: bold;display: inline-block;line-height: 1.2em;}#sk-container-id-2 div.sk-label-container {text-align: center;}#sk-container-id-2 div.sk-container {/* jupyter's `normalize.less` sets `[hidden] { display: none; }` but bootstrap.min.css set `[hidden] { display: none !important; }` so we also need the `!important` here to be able to override the default hidden behavior on the sphinx rendered scikit-learn.org. See: https://github.com/scikit-learn/scikit-learn/issues/21755 */display: inline-block !important;position: relative;}#sk-container-id-2 div.sk-text-repr-fallback {display: none;}</style><div id=\"sk-container-id-2\" class=\"sk-top-container\"><div class=\"sk-text-repr-fallback\"><pre>DecisionTreeRegressor()</pre><b>In a Jupyter environment, please rerun this cell to show the HTML representation or trust the notebook. <br />On GitHub, the HTML representation is unable to render, please try loading this page with nbviewer.org.</b></div><div class=\"sk-container\" hidden><div class=\"sk-item\"><div class=\"sk-estimator sk-toggleable\"><input class=\"sk-toggleable__control sk-hidden--visually\" id=\"sk-estimator-id-2\" type=\"checkbox\" checked><label for=\"sk-estimator-id-2\" class=\"sk-toggleable__label sk-toggleable__label-arrow\">DecisionTreeRegressor</label><div class=\"sk-toggleable__content\"><pre>DecisionTreeRegressor()</pre></div></div></div></div></div>"
      ],
      "text/plain": [
       "DecisionTreeRegressor()"
      ]
     },
     "execution_count": 93,
     "metadata": {},
     "output_type": "execute_result"
    }
   ],
   "source": [
    "from sklearn.tree import DecisionTreeRegressor\n",
    "\n",
    "DT_reg = DecisionTreeRegressor()\n",
    "DT_reg.fit(X_trainb,y_trainb)"
   ]
  },
  {
   "cell_type": "code",
   "execution_count": 94,
   "id": "7385f687",
   "metadata": {},
   "outputs": [],
   "source": [
    "y_testb_predicted_dt = DT_reg.predict(X_testb)"
   ]
  },
  {
   "cell_type": "code",
   "execution_count": 95,
   "id": "678f5bd2",
   "metadata": {},
   "outputs": [
    {
     "name": "stdout",
     "output_type": "stream",
     "text": [
      "Decision Tree Report\n",
      "MAE: 0.2976609541454377\n",
      "MSE: 0.17120254747568317\n",
      "R^2: -0.506958675434976\n"
     ]
    }
   ],
   "source": [
    "print('Decision Tree Report')\n",
    "print('MAE: ' + str(mean_absolute_error(y_testb,y_testb_predicted_dt)))\n",
    "print('MSE: ' + str(mean_squared_error(y_testb,y_testb_predicted_dt)))\n",
    "print('R^2: ' + str(r2_score(y_testb,y_testb_predicted_dt)))"
   ]
  },
  {
   "cell_type": "markdown",
   "id": "f577821c",
   "metadata": {},
   "source": [
    "Random Forest Regression Model"
   ]
  },
  {
   "cell_type": "code",
   "execution_count": 97,
   "id": "7b274c04",
   "metadata": {},
   "outputs": [
    {
     "data": {
      "text/html": [
       "<style>#sk-container-id-3 {color: black;background-color: white;}#sk-container-id-3 pre{padding: 0;}#sk-container-id-3 div.sk-toggleable {background-color: white;}#sk-container-id-3 label.sk-toggleable__label {cursor: pointer;display: block;width: 100%;margin-bottom: 0;padding: 0.3em;box-sizing: border-box;text-align: center;}#sk-container-id-3 label.sk-toggleable__label-arrow:before {content: \"▸\";float: left;margin-right: 0.25em;color: #696969;}#sk-container-id-3 label.sk-toggleable__label-arrow:hover:before {color: black;}#sk-container-id-3 div.sk-estimator:hover label.sk-toggleable__label-arrow:before {color: black;}#sk-container-id-3 div.sk-toggleable__content {max-height: 0;max-width: 0;overflow: hidden;text-align: left;background-color: #f0f8ff;}#sk-container-id-3 div.sk-toggleable__content pre {margin: 0.2em;color: black;border-radius: 0.25em;background-color: #f0f8ff;}#sk-container-id-3 input.sk-toggleable__control:checked~div.sk-toggleable__content {max-height: 200px;max-width: 100%;overflow: auto;}#sk-container-id-3 input.sk-toggleable__control:checked~label.sk-toggleable__label-arrow:before {content: \"▾\";}#sk-container-id-3 div.sk-estimator input.sk-toggleable__control:checked~label.sk-toggleable__label {background-color: #d4ebff;}#sk-container-id-3 div.sk-label input.sk-toggleable__control:checked~label.sk-toggleable__label {background-color: #d4ebff;}#sk-container-id-3 input.sk-hidden--visually {border: 0;clip: rect(1px 1px 1px 1px);clip: rect(1px, 1px, 1px, 1px);height: 1px;margin: -1px;overflow: hidden;padding: 0;position: absolute;width: 1px;}#sk-container-id-3 div.sk-estimator {font-family: monospace;background-color: #f0f8ff;border: 1px dotted black;border-radius: 0.25em;box-sizing: border-box;margin-bottom: 0.5em;}#sk-container-id-3 div.sk-estimator:hover {background-color: #d4ebff;}#sk-container-id-3 div.sk-parallel-item::after {content: \"\";width: 100%;border-bottom: 1px solid gray;flex-grow: 1;}#sk-container-id-3 div.sk-label:hover label.sk-toggleable__label {background-color: #d4ebff;}#sk-container-id-3 div.sk-serial::before {content: \"\";position: absolute;border-left: 1px solid gray;box-sizing: border-box;top: 0;bottom: 0;left: 50%;z-index: 0;}#sk-container-id-3 div.sk-serial {display: flex;flex-direction: column;align-items: center;background-color: white;padding-right: 0.2em;padding-left: 0.2em;position: relative;}#sk-container-id-3 div.sk-item {position: relative;z-index: 1;}#sk-container-id-3 div.sk-parallel {display: flex;align-items: stretch;justify-content: center;background-color: white;position: relative;}#sk-container-id-3 div.sk-item::before, #sk-container-id-3 div.sk-parallel-item::before {content: \"\";position: absolute;border-left: 1px solid gray;box-sizing: border-box;top: 0;bottom: 0;left: 50%;z-index: -1;}#sk-container-id-3 div.sk-parallel-item {display: flex;flex-direction: column;z-index: 1;position: relative;background-color: white;}#sk-container-id-3 div.sk-parallel-item:first-child::after {align-self: flex-end;width: 50%;}#sk-container-id-3 div.sk-parallel-item:last-child::after {align-self: flex-start;width: 50%;}#sk-container-id-3 div.sk-parallel-item:only-child::after {width: 0;}#sk-container-id-3 div.sk-dashed-wrapped {border: 1px dashed gray;margin: 0 0.4em 0.5em 0.4em;box-sizing: border-box;padding-bottom: 0.4em;background-color: white;}#sk-container-id-3 div.sk-label label {font-family: monospace;font-weight: bold;display: inline-block;line-height: 1.2em;}#sk-container-id-3 div.sk-label-container {text-align: center;}#sk-container-id-3 div.sk-container {/* jupyter's `normalize.less` sets `[hidden] { display: none; }` but bootstrap.min.css set `[hidden] { display: none !important; }` so we also need the `!important` here to be able to override the default hidden behavior on the sphinx rendered scikit-learn.org. See: https://github.com/scikit-learn/scikit-learn/issues/21755 */display: inline-block !important;position: relative;}#sk-container-id-3 div.sk-text-repr-fallback {display: none;}</style><div id=\"sk-container-id-3\" class=\"sk-top-container\"><div class=\"sk-text-repr-fallback\"><pre>RandomForestRegressor()</pre><b>In a Jupyter environment, please rerun this cell to show the HTML representation or trust the notebook. <br />On GitHub, the HTML representation is unable to render, please try loading this page with nbviewer.org.</b></div><div class=\"sk-container\" hidden><div class=\"sk-item\"><div class=\"sk-estimator sk-toggleable\"><input class=\"sk-toggleable__control sk-hidden--visually\" id=\"sk-estimator-id-3\" type=\"checkbox\" checked><label for=\"sk-estimator-id-3\" class=\"sk-toggleable__label sk-toggleable__label-arrow\">RandomForestRegressor</label><div class=\"sk-toggleable__content\"><pre>RandomForestRegressor()</pre></div></div></div></div></div>"
      ],
      "text/plain": [
       "RandomForestRegressor()"
      ]
     },
     "execution_count": 97,
     "metadata": {},
     "output_type": "execute_result"
    }
   ],
   "source": [
    "#Random Forest Regression Model\n",
    "from sklearn.ensemble import RandomForestRegressor\n",
    "\n",
    "RF_reg = RandomForestRegressor()\n",
    "RF_reg.fit(X_trainb,y_trainb)"
   ]
  },
  {
   "cell_type": "code",
   "execution_count": 98,
   "id": "33cb8bdd",
   "metadata": {},
   "outputs": [],
   "source": [
    "y_testb_predicted_rf = RF_reg.predict(X_testb)"
   ]
  },
  {
   "cell_type": "code",
   "execution_count": 99,
   "id": "9196e072",
   "metadata": {},
   "outputs": [
    {
     "name": "stdout",
     "output_type": "stream",
     "text": [
      "Random Forest Regressor Report\n",
      "MAE: 0.21829851783232979\n",
      "MSE: 0.10134869297359889\n",
      "R^2: 0.10790876437014774\n"
     ]
    }
   ],
   "source": [
    "print('Random Forest Regressor Report')\n",
    "print('MAE: ' + str(mean_absolute_error(y_testb,y_testb_predicted_rf)))\n",
    "print('MSE: ' + str(mean_squared_error(y_testb,y_testb_predicted_rf)))\n",
    "print('R^2: ' + str(r2_score(y_testb,y_testb_predicted_rf)))"
   ]
  },
  {
   "cell_type": "code",
   "execution_count": 101,
   "id": "675cc808",
   "metadata": {},
   "outputs": [
    {
     "data": {
      "text/html": [
       "<style>#sk-container-id-4 {color: black;background-color: white;}#sk-container-id-4 pre{padding: 0;}#sk-container-id-4 div.sk-toggleable {background-color: white;}#sk-container-id-4 label.sk-toggleable__label {cursor: pointer;display: block;width: 100%;margin-bottom: 0;padding: 0.3em;box-sizing: border-box;text-align: center;}#sk-container-id-4 label.sk-toggleable__label-arrow:before {content: \"▸\";float: left;margin-right: 0.25em;color: #696969;}#sk-container-id-4 label.sk-toggleable__label-arrow:hover:before {color: black;}#sk-container-id-4 div.sk-estimator:hover label.sk-toggleable__label-arrow:before {color: black;}#sk-container-id-4 div.sk-toggleable__content {max-height: 0;max-width: 0;overflow: hidden;text-align: left;background-color: #f0f8ff;}#sk-container-id-4 div.sk-toggleable__content pre {margin: 0.2em;color: black;border-radius: 0.25em;background-color: #f0f8ff;}#sk-container-id-4 input.sk-toggleable__control:checked~div.sk-toggleable__content {max-height: 200px;max-width: 100%;overflow: auto;}#sk-container-id-4 input.sk-toggleable__control:checked~label.sk-toggleable__label-arrow:before {content: \"▾\";}#sk-container-id-4 div.sk-estimator input.sk-toggleable__control:checked~label.sk-toggleable__label {background-color: #d4ebff;}#sk-container-id-4 div.sk-label input.sk-toggleable__control:checked~label.sk-toggleable__label {background-color: #d4ebff;}#sk-container-id-4 input.sk-hidden--visually {border: 0;clip: rect(1px 1px 1px 1px);clip: rect(1px, 1px, 1px, 1px);height: 1px;margin: -1px;overflow: hidden;padding: 0;position: absolute;width: 1px;}#sk-container-id-4 div.sk-estimator {font-family: monospace;background-color: #f0f8ff;border: 1px dotted black;border-radius: 0.25em;box-sizing: border-box;margin-bottom: 0.5em;}#sk-container-id-4 div.sk-estimator:hover {background-color: #d4ebff;}#sk-container-id-4 div.sk-parallel-item::after {content: \"\";width: 100%;border-bottom: 1px solid gray;flex-grow: 1;}#sk-container-id-4 div.sk-label:hover label.sk-toggleable__label {background-color: #d4ebff;}#sk-container-id-4 div.sk-serial::before {content: \"\";position: absolute;border-left: 1px solid gray;box-sizing: border-box;top: 0;bottom: 0;left: 50%;z-index: 0;}#sk-container-id-4 div.sk-serial {display: flex;flex-direction: column;align-items: center;background-color: white;padding-right: 0.2em;padding-left: 0.2em;position: relative;}#sk-container-id-4 div.sk-item {position: relative;z-index: 1;}#sk-container-id-4 div.sk-parallel {display: flex;align-items: stretch;justify-content: center;background-color: white;position: relative;}#sk-container-id-4 div.sk-item::before, #sk-container-id-4 div.sk-parallel-item::before {content: \"\";position: absolute;border-left: 1px solid gray;box-sizing: border-box;top: 0;bottom: 0;left: 50%;z-index: -1;}#sk-container-id-4 div.sk-parallel-item {display: flex;flex-direction: column;z-index: 1;position: relative;background-color: white;}#sk-container-id-4 div.sk-parallel-item:first-child::after {align-self: flex-end;width: 50%;}#sk-container-id-4 div.sk-parallel-item:last-child::after {align-self: flex-start;width: 50%;}#sk-container-id-4 div.sk-parallel-item:only-child::after {width: 0;}#sk-container-id-4 div.sk-dashed-wrapped {border: 1px dashed gray;margin: 0 0.4em 0.5em 0.4em;box-sizing: border-box;padding-bottom: 0.4em;background-color: white;}#sk-container-id-4 div.sk-label label {font-family: monospace;font-weight: bold;display: inline-block;line-height: 1.2em;}#sk-container-id-4 div.sk-label-container {text-align: center;}#sk-container-id-4 div.sk-container {/* jupyter's `normalize.less` sets `[hidden] { display: none; }` but bootstrap.min.css set `[hidden] { display: none !important; }` so we also need the `!important` here to be able to override the default hidden behavior on the sphinx rendered scikit-learn.org. See: https://github.com/scikit-learn/scikit-learn/issues/21755 */display: inline-block !important;position: relative;}#sk-container-id-4 div.sk-text-repr-fallback {display: none;}</style><div id=\"sk-container-id-4\" class=\"sk-top-container\"><div class=\"sk-text-repr-fallback\"><pre>Lasso()</pre><b>In a Jupyter environment, please rerun this cell to show the HTML representation or trust the notebook. <br />On GitHub, the HTML representation is unable to render, please try loading this page with nbviewer.org.</b></div><div class=\"sk-container\" hidden><div class=\"sk-item\"><div class=\"sk-estimator sk-toggleable\"><input class=\"sk-toggleable__control sk-hidden--visually\" id=\"sk-estimator-id-4\" type=\"checkbox\" checked><label for=\"sk-estimator-id-4\" class=\"sk-toggleable__label sk-toggleable__label-arrow\">Lasso</label><div class=\"sk-toggleable__content\"><pre>Lasso()</pre></div></div></div></div></div>"
      ],
      "text/plain": [
       "Lasso()"
      ]
     },
     "execution_count": 101,
     "metadata": {},
     "output_type": "execute_result"
    }
   ],
   "source": [
    "# Lasso Regression Model\n",
    "from sklearn.linear_model import Lasso\n",
    "\n",
    "Lasso_reg = Lasso()\n",
    "Lasso_reg.fit(X_trainb,y_trainb)"
   ]
  },
  {
   "cell_type": "code",
   "execution_count": 102,
   "id": "1959f25f",
   "metadata": {},
   "outputs": [],
   "source": [
    "y_testb_predicted_las = Lasso_reg.predict(X_testb)"
   ]
  },
  {
   "cell_type": "code",
   "execution_count": 103,
   "id": "9a2c1e71",
   "metadata": {},
   "outputs": [
    {
     "name": "stdout",
     "output_type": "stream",
     "text": [
      "Lasso Regressor Report\n",
      "MAE: 0.22110274791943965\n",
      "MSE: 0.11245198393252674\n",
      "R^2: 0.010175401852211996\n"
     ]
    }
   ],
   "source": [
    "print('Lasso Regressor Report')\n",
    "print('MAE: ' + str(mean_absolute_error(y_testb,y_testb_predicted_las)))\n",
    "print('MSE: ' + str(mean_squared_error(y_testb,y_testb_predicted_las)))\n",
    "print('R^2: ' + str(r2_score(y_testb,y_testb_predicted_las)))"
   ]
  },
  {
   "cell_type": "code",
   "execution_count": null,
   "id": "9e055c74",
   "metadata": {},
   "outputs": [],
   "source": []
  }
 ],
 "metadata": {
  "kernelspec": {
   "display_name": "Python 3 (ipykernel)",
   "language": "python",
   "name": "python3"
  },
  "language_info": {
   "codemirror_mode": {
    "name": "ipython",
    "version": 3
   },
   "file_extension": ".py",
   "mimetype": "text/x-python",
   "name": "python",
   "nbconvert_exporter": "python",
   "pygments_lexer": "ipython3",
   "version": "3.9.13"
  }
 },
 "nbformat": 4,
 "nbformat_minor": 5
}
